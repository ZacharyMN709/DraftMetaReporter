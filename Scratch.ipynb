{
 "cells": [
  {
   "cell_type": "code",
   "execution_count": null,
   "id": "06b7bf78",
   "metadata": {},
   "outputs": [],
   "source": [
    "from IPython.core.display import display, HTML\n",
    "display(HTML(\"<style>.container { width:95% !important; }</style>\"))"
   ]
  },
  {
   "cell_type": "code",
   "execution_count": null,
   "id": "64c57ea3",
   "metadata": {},
   "outputs": [],
   "source": [
    "from datetime import date, datetime\n",
    "import numpy as np\n",
    "import pandas as pd\n",
    "pd.options.display.float_format = '{:,.3f}'.format\n",
    "import matplotlib.pyplot as plt\n",
    "import matplotlib.dates as mdates\n",
    "import seaborn as sns\n",
    "sns.set_theme()\n",
    "pd.set_option('display.max_rows', 1000)\n",
    "pd.set_option('display.max_columns', 50)\n",
    "\n",
    "# column_names = ['# Seen', 'ALSA', '# Picked', 'ATA', '# GP', 'GP WR', '# OH', 'OH WR', '# GD', 'GD WR', '# GIH', 'GIH WR', '# GND', 'GND WR', 'IWD', 'Color', 'Rarity']\n",
    "\n",
    "from Logger import Logger\n",
    "from Fetcher import Fetcher\n",
    "import WUBRG\n",
    "import consts\n",
    "import settings\n",
    "from LineColors import LineColors\n",
    "\n",
    "from JSONHandler import JSONHandler\n",
    "from FormatMetadata import FormatMetadata\n",
    "from RawDataFetcher import RawDataFetcher\n",
    "from RawDataHandler import RawDataHandler\n",
    "from FramedData import FramedData\n",
    "\n",
    "from CallScryfall import CallScryfall\n",
    "from CARD import Card\n",
    "from FormatMetadata import SETS, FORMATS, SET_CONFIG, SetMetadata, FormatMetadata\n",
    "\n",
    "LOG_LEVEL = Logger.FLG.DEFAULT\n",
    "LOG_LEVEL"
   ]
  },
  {
   "cell_type": "code",
   "execution_count": null,
   "id": "04beee88",
   "metadata": {},
   "outputs": [],
   "source": [
    "settings.ROLL"
   ]
  },
  {
   "cell_type": "markdown",
   "id": "69cadfaa",
   "metadata": {},
   "source": [
    "# Objects"
   ]
  },
  {
   "cell_type": "code",
   "execution_count": null,
   "id": "068085b9",
   "metadata": {},
   "outputs": [],
   "source": [
    "class FramedDataFuncs:   \n",
    "    def __init__(self, SET, FORMAT):\n",
    "        self._DATA = FramedData(SET, FORMAT)\n",
    "        self._ARCH_FUNCS = ArchFuncs(self._DATA)\n",
    "        self._SNGL_CARD_FUNCS = SingleCardFuncs(self._DATA)\n",
    "    \n",
    "    @property\n",
    "    def SET(self):\n",
    "        \"\"\"The draft set.\"\"\"\n",
    "        return self._DATA.SET\n",
    "    \n",
    "    @property\n",
    "    def FULL_SET(self):\n",
    "        \"\"\"The full name of the draft set.\"\"\"\n",
    "        ## TODO: Have this information be pulle from somewhere\n",
    "        return self._DATA.FULL_SET\n",
    "    \n",
    "    @property\n",
    "    def FORMAT(self):\n",
    "        \"\"\"The format type.\"\"\"\n",
    "        return self._DATA.FORMAT\n",
    "    \n",
    "    @property\n",
    "    def SHORT_FORMAT(self):\n",
    "        \"\"\"The shorthand of the format type.\"\"\"\n",
    "        return self._DATA.FULL_FORMAT\n",
    "    \n",
    "    @property\n",
    "    def DATA(self):\n",
    "        \"\"\"The object which contains the data about the set and format.\"\"\"\n",
    "        return self._DATA\n",
    "        \n",
    "    def check_for_updates(self):\n",
    "        \"\"\"Populates and updates all data properties, filling in missing data.\"\"\"\n",
    "        self._DATA.check_for_updates()\n",
    "\n",
    "    def reload_data(self):\n",
    "        \"\"\"Populates and updates all data properties, reloading all data.\"\"\"\n",
    "        self._DATA.reload_data()  \n",
    "    \n",
    "    def deck_group_frame(self, name=None, date=None, summary=False):\n",
    "        \"\"\"Returns a subset of the 'GROUPED_ARCHTYPE' data as a DataFrame.\"\"\"\n",
    "        return self.DATA.deck_group_frame(name, date, summary)\n",
    "     \n",
    "    def deck_archetype_frame(self, deck_color=None, date=None, summary=False):\n",
    "        \"\"\"Returns a subset of the 'SINGLE_ARCHTYPE' data as a DataFrame.\"\"\"\n",
    "        return self.DATA.deck_archetype_frame(deck_color, date, summary)\n",
    "    \n",
    "    def card_frame(self, name=None, deck_color=None, date=None, card_color=None, card_rarity=None, summary=False):\n",
    "        \"\"\"Returns a subset of the 'CARD' data as a DataFrame.\"\"\"\n",
    "        return self.DATA.card_frame(name, deck_color, date, card_color, card_rarity, summary)\n",
    "    \n",
    "    def compress_date_range_data(self, start_date, end_date, card_name=None):\n",
    "        \"\"\"Summarizes card data over a provided set of time.\"\"\"\n",
    "        return self.DATA.compress_date_range_data(start_date, end_date, card_name)\n",
    "        \n",
    "    \n",
    "    #ArchFuncs\n",
    "    def get_games_played(self, deck_color):\n",
    "        return self._ARCH_FUNCS.get_games_played(deck_color)\n",
    "        \n",
    "    def get_avg_winrate(self, day=None, arch='All Decks'):\n",
    "        return self._ARCH_FUNCS.get_avg_winrate(day, arch)\n",
    "    \n",
    "    def get_archetype_frame(self, colors, roll=None):\n",
    "        return self._ARCH_FUNCS.get_archetype_frame(colors, roll)\n",
    "\n",
    "    def get_archetype_winrate_history(self, color_filter=None, roll=None):\n",
    "        return self._ARCH_FUNCS.get_archetype_winrate_history(color_filter, roll)\n",
    "\n",
    "    def plot_archetype_winrate_history(self, color_filter=None, roll=None):\n",
    "        return self._ARCH_FUNCS.plot_archetype_winrate_history(color_filter, roll)       \n",
    "        \n",
    "    def get_archetype_playrate_history(self, color_filter=None, roll=None):\n",
    "        return self._ARCH_FUNCS.get_archetype_playrate_history(color_filter, roll)\n",
    "\n",
    "    def plot_archetype_playrate_history(self, color_filter=None, roll=None):\n",
    "        return self._ARCH_FUNCS.plot_archetype_playrate_history(color_filter, roll)\n",
    "    \n",
    "    \n",
    "    #SingleCardFuncs\n",
    "    def get_card_summary(self, card_name, colors='', roll=None):\n",
    "        return self._SNGL_CARD_FUNCS.get_card_summary(card_name, colors, roll)\n",
    "\n",
    "    def plot_card_summary(self, card_name, colors='', roll=None):\n",
    "        return self._SNGL_CARD_FUNCS.plot_card_summary(card_name, colors, roll)\n",
    "    \n",
    "    def get_pick_stats(self, card_name, roll=None):\n",
    "        return self._SNGL_CARD_FUNCS.get_pick_stats(card_name, roll)\n",
    "    \n",
    "    def plot_pick_stats(self, card_name, roll=None):\n",
    "        return self._SNGL_CARD_FUNCS.plot_pick_stats(card_name, roll)\n",
    "    \n",
    "    def card_archetype_performance(self, card_name):\n",
    "        return self._SNGL_CARD_FUNCS.card_archetype_performance(card_name)\n",
    "    \n",
    "    def stat_archetype_performance(self, stat_name, color_cols=None, min_colors=0, max_colors=5):\n",
    "        return self._SNGL_CARD_FUNCS.stat_archetype_performance(stat_name, color_cols, min_colors, max_colors)\n",
    "\n",
    "    \n",
    "    \n",
    "    def compare_card_evaluations(self, start_date, end_date):\n",
    "        def inner_func(date):\n",
    "            df = self.card_frame(date=date, deck_color='')\n",
    "            df.index = [tup[2] for tup in df.index]\n",
    "            return df\n",
    "\n",
    "        first = inner_func(date=start_date)\n",
    "        last = inner_func(date=end_date)\n",
    "        diff = last[['ALSA', 'ATA', 'Color', 'Rarity']].copy()\n",
    "        diff['Δ ALSA'] = first['ALSA'] - last['ALSA']\n",
    "        diff['Δ ATA'] = first['ATA'] - last['ATA']\n",
    "        return diff[['ALSA', 'Δ ALSA', 'ATA', 'Δ ATA', 'Color', 'Rarity']]\n",
    "\n",
    "\n",
    "    def get_top(self, column, count=10, asc=True, card_color=None, card_rarity=None, deck_color='', play_lim=None):\n",
    "        frame = self.card_frame(deck_color=deck_color, summary=True, card_rarity=card_rarity)\n",
    "        frame = frame.sort_values(column, ascending=asc)\n",
    "\n",
    "        if card_color is not None:\n",
    "            card_color = WUBRG.get_color_identity(card_color)\n",
    "            frame = frame[frame['Color'] == card_color]\n",
    "\n",
    "        if play_lim is not None:\n",
    "            if type(play_lim) is float: play_lim *= self.get_games_played(deck_color)\n",
    "            print(f'Minimum Games played to be included: {play_lim}')\n",
    "            frame = frame[frame['# GP'] >= play_lim]\n",
    "\n",
    "        return frame.head(count)"
   ]
  },
  {
   "cell_type": "code",
   "execution_count": null,
   "id": "90965f5e",
   "metadata": {},
   "outputs": [],
   "source": [
    "class ArchFuncs:   \n",
    "    def __init__(self, DATA):\n",
    "        self._DATA = DATA\n",
    "        \n",
    "    def get_games_played(self, deck_color):\n",
    "        if deck_color: return self._DATA.deck_archetype_frame(deck_color=deck_color, summary=True)['Games'].sum()\n",
    "        else: return self._DATA.deck_group_frame(name='All Decks', summary=True)['Games']\n",
    "    \n",
    "    def get_avg_winrate(self, day=None, arch='All Decks'):\n",
    "        if day: return self._DATA.deck_group_frame(date=day, summary=False).loc[(day, arch)]['Win %']\n",
    "        else: return self._DATA.deck_group_frame(date=day, summary=True).loc[arch]['Win %']   \n",
    "    \n",
    "    def get_archetype_frame(self, colors, roll=None):\n",
    "        if roll is None: roll = settings.ROLL\n",
    "        win_rate_frame = self._DATA.deck_archetype_frame(deck_color=colors)\n",
    "        win_rate_frame.index = [tup[0] for tup in win_rate_frame.index]\n",
    "        #win_rate_frame = win_rate_frame[['Splash', 'Games', 'Win %']]\n",
    "        win_rate_frame = win_rate_frame[win_rate_frame['Splash'] == False][['Wins', 'Games']]\n",
    "        rolling = win_rate_frame.rolling(window=roll, min_periods=1, center=True).mean().round()\n",
    "        rolling['Win %'] = round((rolling['Wins'] / rolling['Games']) * 100, 2)\n",
    "        rolling['Avg. Win%'] = [self.get_avg_winrate(idx) for idx in win_rate_frame.index]\n",
    "        rolling['2C Win%'] = [self.get_avg_winrate(idx, arch='Two-color') for idx in win_rate_frame.index]\n",
    "        rolling['Win % Offset'] = rolling['Win %'] - rolling['Avg. Win%']\n",
    "        return rolling\n",
    "\n",
    "    def get_archetype_winrate_history(self, color_filter=None, roll=None):\n",
    "        if roll is None: roll = settings.ROLL\n",
    "        d = dict()\n",
    "        for col in WUBRG.COLOR_PAIRS:\n",
    "            temp_frame = self.get_archetype_frame(col)\n",
    "            d[col] = temp_frame['Win %']\n",
    "        d['AVG'] = temp_frame ['Avg. Win%']\n",
    "        d['2C'] = temp_frame ['2C Win%']\n",
    "\n",
    "        test_frame = pd.DataFrame.from_dict(d)\n",
    "        test_frame.index = [idx[5:] for idx in test_frame.index]\n",
    "        if color_filter:\n",
    "            col_filt = [col for col in WUBRG.COLOR_PAIRS if color_filter in col] + ['AVG', '2C'] \n",
    "            test_frame = test_frame[col_filt]\n",
    "\n",
    "        rolling = test_frame.rolling(window=roll, min_periods=1, center=True).mean()\n",
    "        return rolling\n",
    "\n",
    "    def plot_archetype_winrate_history(self, color_filter=None, roll=None):\n",
    "        if roll is None: \n",
    "            roll = settings.ROLL\n",
    "        test_frame = self.get_archetype_winrate_history(color_filter, roll)\n",
    "        lc = LineColors()\n",
    "        title = f\"Archetype Winrates (from 17Lands)\\n{self._DATA.SET} - {self._DATA.FORMAT}\"\n",
    "\n",
    "        col_filt = f\"Color Filter: {color_filter}\"\n",
    "        rol_filt = f\"Rolling Average: {roll} Days\"\n",
    "\n",
    "        if color_filter and roll > 1:\n",
    "            title += f\"\\n{col_filt}  -  {rol_filt}\"\n",
    "        elif color_filter:\n",
    "            title += f\"\\n{col_filt}\"\n",
    "        elif roll > 1:\n",
    "            title += f\"\\n{rol_filt}\"\n",
    "        \n",
    "        test_frame.plot(figsize=(20, 10), color=lc.get_col_array(color_filter), title=title, lw=2.5, grid=True)\n",
    "        plt.xlabel(\"Date\")\n",
    "        plt.ylabel(\"Win Percent\")\n",
    "        \n",
    "        \n",
    "    #TODO: Implement a more generic version of this that takes in a list of deck colours to include as output. \n",
    "    def get_archetype_playrate_history(self, color_filter=None, roll=None):\n",
    "        if roll is None: roll = settings.ROLL\n",
    "        d = dict()\n",
    "        for col in WUBRG.COLOR_PAIRS:\n",
    "            d[col] = self.get_archetype_frame(col)['Games']\n",
    "\n",
    "        test_frame = pd.DataFrame.from_dict(d)\n",
    "        test_frame.index = [idx[5:] for idx in test_frame.index]\n",
    "        rolling = test_frame.rolling(window=roll, min_periods=1, center=True).mean()\n",
    "        total = rolling.sum(axis=1)\n",
    "        playrate = rolling.divide(list(total),axis=0) * 100\n",
    "\n",
    "        if color_filter:\n",
    "            col_filt = [col for col in WUBRG.COLOR_PAIRS if color_filter in col]\n",
    "            playrate = playrate[col_filt]\n",
    "\n",
    "        return playrate\n",
    "\n",
    "    def plot_archetype_playrate_history(self, color_filter=None, roll=None):\n",
    "        if roll is None: roll = settings.ROLL\n",
    "        test_frame = self.get_archetype_playrate_history(color_filter, roll)\n",
    "        lc = LineColors()\n",
    "        title = f\"Archetpye Playrates (from 17Lands)\\n{self._DATA.SET} - {self._DATA.FORMAT}\"\n",
    "\n",
    "        col_filt = f\"Color Filter: {color_filter}\"\n",
    "        rol_filt = f\"Rolling Average: {roll} Days\"\n",
    "\n",
    "        if color_filter and roll > 1:\n",
    "            title += f\"\\n{col_filt}  -  {rol_filt}\"\n",
    "        elif color_filter:\n",
    "                title += f\"\\n{col_filt}\"\n",
    "        elif roll > 1:\n",
    "                title += f\"\\n{rol_filt}\"\n",
    "        test_frame.plot(figsize=(20, 10), color=lc.get_col_array(color_filter), title=title, lw=2.5, grid=True)\n",
    "        plt.xlabel(\"Date\")\n",
    "        plt.ylabel(\"Percent of Metagame\")"
   ]
  },
  {
   "cell_type": "code",
   "execution_count": null,
   "id": "e3208689",
   "metadata": {},
   "outputs": [],
   "source": [
    "import os\n",
    "import matplotlib.pyplot as plt\n",
    "import matplotlib.dates as mdates\n",
    "\n",
    "class PlotterHelper:\n",
    "    def __init__(self, DATA):\n",
    "        self._DATA = DATA\n",
    "        self._FIG = None\n",
    "        self._AX = None\n",
    "        os.makedirs(self.get_folder_path(), exist_ok=True)\n",
    "        \n",
    "    @property\n",
    "    def FIG(self):\n",
    "        return self._FIG\n",
    "    \n",
    "    @property\n",
    "    def AX(self):\n",
    "        return self._AX\n",
    "    \n",
    "    def _get_sub_ax(self, x=None, y=None):\n",
    "        if not isinstance(self.AX, np.ndarray):\n",
    "            return self.AX\n",
    "        elif self.AX.ndim == 1:\n",
    "            return self.AX[x if x is not None else y]\n",
    "        elif self.AX.ndim == 2:\n",
    "            return self.AX[x, y]\n",
    "        else:\n",
    "            raise Excpetion('Unknown axes format.')\n",
    "            \n",
    "    \n",
    "    def get_folder_path(self):\n",
    "        return os.path.join(settings.GRAPH_DIR_LOC, settings.GRAPH_DIR_NAME, self._DATA.SET, self._DATA.FORMAT)\n",
    "         \n",
    "    \n",
    "    def get_file_path(self, filename):\n",
    "        return os.path.join(self.get_folder_path(), filename)\n",
    "    \n",
    "    \n",
    "    def new_single_plot(self, title, width=8, height=6, fontsize=settings.TITLE_SIZE):\n",
    "        self._FIG, self._AX = plt.subplots(1, 1)\n",
    "        self.FIG.set_size_inches(width, height)\n",
    "        self.AX.set_title(f\"{self._DATA.SET} {self._DATA.SHORT_FORMAT}: {title}\", fontsize=fontsize)\n",
    "        self.set_x_axis_weekly()\n",
    "        return self.FIG, self.AX\n",
    "    \n",
    "    \n",
    "    def new_quad_plot(self, title, width=12, height=8, fontsize=settings.TITLE_SIZE):\n",
    "        self._FIG, self._AX = plt.subplots(2, 2)\n",
    "        self.FIG.set_size_inches(width, height)\n",
    "        plt.figtext(0.4, 0.9, f\"{self._DATA.SET} {self._DATA.SHORT_FORMAT}: {title}\", fontsize=fontsize)\n",
    "        self.set_x_axis_weekly(g_x=0, g_y=0)\n",
    "        self.set_x_axis_weekly(g_x=0, g_y=1)\n",
    "        self.set_x_axis_weekly(g_x=1, g_y=0)\n",
    "        self.set_x_axis_weekly(g_x=1, g_y=1)\n",
    "        return self.FIG, self.AX\n",
    "\n",
    "    \n",
    "    def accredit(self, y=0.01):\n",
    "        plt.figtext(0.5, y, settings.ACCREDIT_STR, **settings.ACCREDIT_KWARGS)\n",
    "        \n",
    "        \n",
    "    def desc_note(self, colors=None, roll=1, y=0.95):\n",
    "        col_filt = f\"Color Filter: {colors}\"\n",
    "        rol_filt = f\"Rolling Average: {roll} Days\"\n",
    "\n",
    "        if colors and roll > 1:\n",
    "            txt = f\"{rol_filt}\\n{col_filt}\"\n",
    "        elif colors: \n",
    "            txt = f\"\\n{col_filt}\"\n",
    "        elif roll > 1:\n",
    "            txt = f\"\\n{rol_filt}\"\n",
    "        else:\n",
    "            txt = \"\"\n",
    "            \n",
    "        plt.figtext(0.5, y, txt, **settings.FILTER_KWARGS)\n",
    "        \n",
    "    \n",
    "    def set_labels(self, x_label=\"\", y_label=\"\", fontsize=settings.LABEL_SIZE, g_x=None, g_y=None):\n",
    "        ax = self._get_sub_ax(g_x, g_y)\n",
    "        ax.set_xlabel(x_label, fontsize=fontsize)\n",
    "        ax.set_ylabel(y_label, fontsize=fontsize)\n",
    "        \n",
    "    \n",
    "    def set_data(self, data, col_list, inv_y=False, inv_x=False, g_x=None, g_y=None):\n",
    "        ax = self._get_sub_ax(g_x, g_y)\n",
    "        # TODO: Add line_colors.\n",
    "        ax.plot(data.index, data[col_list], label=col_list)\n",
    "        if inv_y: ax.invert_yaxis()\n",
    "        if inv_x: ax.invert_xaxis()\n",
    "        ax.legend()\n",
    "        \n",
    "        \n",
    "    def set_x_axis_weekly(self, g_x=None, g_y=None):\n",
    "        ax = self._get_sub_ax(g_x, g_y)\n",
    "        weeks = mdates.DayLocator(interval=7)\n",
    "        ax.xaxis.set_major_locator(weeks)\n",
    "        days = mdates.DayLocator(interval=1)\n",
    "        ax.xaxis.set_minor_locator(days)\n",
    "        \n",
    "        \n",
    "    def save_fig(self, filename, dpi=None):\n",
    "        if dpi is None: dpi = settings.DPI\n",
    "        self.FIG.savefig(self.get_file_path(filename.replace(' ', '_')), dpi=dpi)\n"
   ]
  },
  {
   "cell_type": "code",
   "execution_count": null,
   "id": "0743e0e1",
   "metadata": {},
   "outputs": [],
   "source": [
    "class SingleCardFuncs:   \n",
    "    def __init__(self, DATA):\n",
    "        self._DATA = DATA\n",
    "        os.makedirs(self.get_folder_path(), exist_ok=True)\n",
    "        \n",
    "    def get_folder_path(self):\n",
    "        return os.path.join(settings.GRAPH_DIR_LOC, settings.GRAPH_DIR_NAME, self._DATA.SET, self._DATA.FORMAT)\n",
    "         \n",
    "    def get_file_path(self, filename):\n",
    "        return os.path.join(self.get_folder_path(), filename)\n",
    "\n",
    "    def get_card_summary(self, card_name, colors='', roll=None):\n",
    "        if roll is None: roll = settings.ROLL\n",
    "        frame = self._DATA.card_frame(name=card_name, deck_color=colors)[['GIH WR', 'GND WR', 'ATA', 'ALSA', '# GP', '# GIH', '# Picked', '# Seen']]\n",
    "        frame.index = [tup[0][5:] for tup in frame.index]\n",
    "        rolling = frame.rolling(window=roll, min_periods=1, center=True).mean()\n",
    "        return rolling\n",
    "\n",
    "    def plot_card_summary(self, card_name, colors='', roll=None):\n",
    "        if roll is None: roll = settings.ROLL\n",
    "        colors = WUBRG.get_color_identity(colors)\n",
    "        rolling = self.get_card_summary(card_name, colors, roll)\n",
    "        \n",
    "        plot_help = PlotterHelper(self._DATA)\n",
    "        fig, ax = plot_help.new_quad_plot(card_name)\n",
    "        plot_help.accredit()\n",
    "        plot_help.desc_note(colors=colors, roll=roll)\n",
    "                \n",
    "        plot_help.set_labels(y_label=\"Win Percent\", g_x=0, g_y=0)\n",
    "        plot_help.set_data(rolling, ['GIH WR', 'GND WR'], g_x=0, g_y=0)\n",
    "        \n",
    "        plot_help.set_labels(y_label=\"Pick Number\", g_x=0, g_y=1)\n",
    "        plot_help.set_data(rolling, ['ATA', 'ALSA'], inv_y=True, g_x=0, g_y=1)\n",
    "        \n",
    "        plot_help.set_labels(x_label=\"Date\", y_label=\"# of Games\", g_x=1, g_y=0)\n",
    "        plot_help.set_data(rolling, ['# GP', '# GIH'], g_x=1, g_y=0)\n",
    "        \n",
    "        plot_help.set_labels(x_label=\"Date\", y_label=\"# of Cards\", g_x=1, g_y=1)\n",
    "        plot_help.set_data(rolling, ['# Picked', '# Seen'], g_x=1, g_y=1)\n",
    "        \n",
    "        \n",
    "        plot_help.save_fig(f\"pcs_{card_name}_{colors}.png\")\n",
    "      \n",
    "    \n",
    "    def get_pick_stats(self, card_name, roll=None):\n",
    "        if roll is None: roll = settings.ROLL\n",
    "        taken_data = self._DATA.card_frame(name=card_name, deck_color='')[['ALSA', 'ATA']]\n",
    "        taken_data.index = [tup[0][5:] for tup in taken_data.index]\n",
    "        taken_data = taken_data.rolling(window=roll, min_periods=1, center=True).mean()\n",
    "        return taken_data\n",
    "    \n",
    "    \n",
    "    def plot_pick_stats(self, card_name, roll=None):\n",
    "        if roll is None: roll = settings.ROLL\n",
    "        taken_data = self.get_pick_stats(card_name, roll)\n",
    "        \n",
    "        plot_help = PlotterHelper(self._DATA)\n",
    "        fig, ax = plot_help.new_single_plot(card_name)\n",
    "        plot_help.accredit()\n",
    "        plot_help.desc_note(roll=roll)\n",
    "        \n",
    "        plot_help.set_labels(x_label=\"Date\", y_label=\"Pick Number\")\n",
    "        plot_help.set_data(taken_data, ['ATA', 'ALSA'], inv_y=True)\n",
    "        \n",
    "        plot_help.save_fig(f\"pps_{card_name}.png\")\n",
    "\n",
    "\n",
    "    def card_archetype_performance(self, card_name):\n",
    "        d = dict()\n",
    "        d['AVG'] = self._DATA.card_frame(card_name, '', summary=True)\n",
    "        for col in WUBRG.COLOR_PAIRS:\n",
    "            d[col] = self._DATA.card_frame(card_name, col, summary=True)\n",
    "\n",
    "        test_frame = pd.DataFrame.from_dict(d).T\n",
    "        return test_frame\n",
    "    \n",
    "    \n",
    "    def stat_archetype_performance(self, stat_name, color_cols=None):\n",
    "        series = self._DATA.card_frame(summary=True)[stat_name]\n",
    "        frame = series.reset_index(level=0)\n",
    "        ret = pd.pivot_table(frame, index='Name', columns='Deck Colors')\n",
    "        ret.columns = ret.columns.droplevel(0)\n",
    "        ret = ret[WUBRG.COLOR_GROUPS]  #Re-orders the columns in WUBRG order\n",
    "        if color_cols is not None:\n",
    "            ret = ret[color_cols]\n",
    "        return ret"
   ]
  },
  {
   "cell_type": "code",
   "execution_count": null,
   "id": "53cab76f",
   "metadata": {},
   "outputs": [],
   "source": [
    "class SetManager:\n",
    "    def __init__(self, SET):\n",
    "        self._SET = SET\n",
    "        self._DATA = {f: FramedDataFuncs(SET, f) for f in FORMATS}\n",
    "        self._SET_METADATA = SetMetadata.get_metadata(SET)\n",
    "    \n",
    "    \n",
    "    def check_for_updates(self):\n",
    "        \"\"\"Populates and updates all data properties, filling in missing data.\"\"\"\n",
    "        self.BO1.check_for_updates()   \n",
    "        #self.BO3.check_for_updates()   \n",
    "        #self.QD.check_for_updates()\n",
    "\n",
    "    def reload_data(self):\n",
    "        \"\"\"Populates and updates all data properties, reloading all data.\"\"\"\n",
    "        self.BO1.reload_data()   \n",
    "        self.BO3.reload_data()   \n",
    "        self.QD.reload_data()  \n",
    "    \n",
    "    @property\n",
    "    def SET(self):\n",
    "        \"\"\"The draft set.\"\"\"\n",
    "        return self._SET\n",
    "            \n",
    "    @property\n",
    "    def BO1(self):\n",
    "        \"\"\"Premier Draft data.\"\"\"\n",
    "        return self._DATA['PremierDraft']\n",
    "    \n",
    "    @property\n",
    "    def BO3(self):\n",
    "        \"\"\"Traditional Draft data.\"\"\"\n",
    "        return self._DATA['TradDraft']\n",
    "    \n",
    "    @property\n",
    "    def QD(self):\n",
    "        \"\"\"Quick Draft data.\"\"\"\n",
    "        return self._DATA['QuickDraft']\n",
    "    \n",
    "    @property\n",
    "    def SET_METADATA(self):\n",
    "        \"\"\"The metadata of the set.\"\"\"\n",
    "        return self._SET_METADATA\n",
    "    \n",
    "    @property\n",
    "    def CARDS(self):\n",
    "        \"\"\"The list of cards in the set.\"\"\"\n",
    "        return self._SET_METADATA.CARD_LIST"
   ]
  },
  {
   "cell_type": "markdown",
   "id": "7ef6dfba",
   "metadata": {},
   "source": [
    "# Initialization"
   ]
  },
  {
   "cell_type": "code",
   "execution_count": null,
   "id": "ec81aa48",
   "metadata": {},
   "outputs": [],
   "source": [
    "set_data = SetManager('NEO')"
   ]
  },
  {
   "cell_type": "code",
   "execution_count": null,
   "id": "794546b8",
   "metadata": {
    "scrolled": false
   },
   "outputs": [],
   "source": [
    "set_data.check_for_updates()"
   ]
  },
  {
   "cell_type": "code",
   "execution_count": null,
   "id": "58f21fc7",
   "metadata": {},
   "outputs": [],
   "source": [
    "set_data.BO1.plot_card_summary('Imperial Oath')"
   ]
  },
  {
   "cell_type": "code",
   "execution_count": null,
   "id": "bc239fa0",
   "metadata": {},
   "outputs": [],
   "source": [
    "set_data.BO1.plot_pick_stats('Imperial Oath')"
   ]
  },
  {
   "cell_type": "code",
   "execution_count": null,
   "id": "151e3c98",
   "metadata": {},
   "outputs": [],
   "source": [
    "raise Exception('Stopping Auto-Run!')"
   ]
  },
  {
   "cell_type": "markdown",
   "id": "12a93ead",
   "metadata": {},
   "source": [
    "## Current Tests"
   ]
  },
  {
   "cell_type": "code",
   "execution_count": null,
   "id": "237971a7",
   "metadata": {},
   "outputs": [],
   "source": [
    "def gt(x, y):  #Used for function pointer shenanigans\n",
    "    return x > y\n",
    "\n",
    "def lt(x, y):  #Used for function pointer shenanigans\n",
    "    return x < y\n",
    "\n",
    "def filter_quadrant_cards_df(func1, func2, iwd_thresh=0, play_lim=0.01, card_rarity=None, deck_color=''):\n",
    "    frame = set_data.BO1.card_frame(deck_color=deck_color, summary=True, card_rarity=card_rarity)\n",
    "    \n",
    "    # TODO: Make the mean different based on card rarity so cards aren't moved into incorrect categories.\n",
    "    \n",
    "    if play_lim is not None:\n",
    "        if type(play_lim) is float: play_lim *= set_data.BO1.get_games_played(deck_color)\n",
    "        print(f'Minimum Games played to be included: {play_lim}')\n",
    "        frame = frame[frame['# GP'] >= play_lim]\n",
    "        \n",
    "    games_played_mean = frame['# GP'].mean()\n",
    "    cards = frame[func1(frame['IWD'], iwd_thresh)]\n",
    "    cards = cards[func2(cards['# GP'], games_played_mean)]\n",
    "    cards = cards.sort_values('IWD', ascending=func1==lt)\n",
    "    return cards\n",
    "\n",
    "\n",
    "def get_trap_cards(card_rarity=None, deck_color='', iwd_thresh=0, play_lim=0.01):\n",
    "    return filter_quadrant_cards_df(lt, gt, iwd_thresh, play_lim, card_rarity, deck_color)\n",
    "\n",
    "def get_niche_cards(card_rarity=None, deck_color='', iwd_thresh=0, play_lim=0.01):\n",
    "    return filter_quadrant_cards_df(gt, lt, iwd_thresh, play_lim, card_rarity, deck_color)\n",
    "\n",
    "def get_staple_cards(card_rarity=None, deck_color='', iwd_thresh=0, play_lim=0.01):\n",
    "    return filter_quadrant_cards_df(gt, gt, iwd_thresh, play_lim, card_rarity, deck_color)\n",
    "\n",
    "def get_dreg_cards(card_rarity=None, deck_color='', iwd_thresh=0, play_lim=0.01):\n",
    "    return filter_quadrant_cards_df(lt, lt, iwd_thresh, play_lim, card_rarity, deck_color)"
   ]
  },
  {
   "cell_type": "code",
   "execution_count": null,
   "id": "c8c140ac",
   "metadata": {
    "scrolled": true
   },
   "outputs": [],
   "source": [
    "get_niche_cards(deck_color='GW', card_rarity='CU')"
   ]
  },
  {
   "cell_type": "code",
   "execution_count": null,
   "id": "c5036dbe",
   "metadata": {},
   "outputs": [],
   "source": [
    "set_data.BO1.card_archetype_performance(\"Era of Enlightenment\")"
   ]
  },
  {
   "cell_type": "code",
   "execution_count": null,
   "id": "641086bd",
   "metadata": {},
   "outputs": [],
   "source": []
  },
  {
   "cell_type": "markdown",
   "id": "2afd72b9",
   "metadata": {},
   "source": [
    "# TODO"
   ]
  },
  {
   "cell_type": "markdown",
   "id": "d03c8e3e",
   "metadata": {},
   "source": [
    "- Calculate archetype openess\n",
    " - GIH WR & ALSA based\n",
    " - 2.25 of a common per draft \n",
    "- Improve graphing capabilities\n",
    " - Modify Graphs so they also save an image to a cache folder.\n",
    " - Implement better graph titles and axes\n",
    " - Update functions to be more general, and have DataFrames piped into them.\n",
    "- Move sets of files into subfolders based on functionality and relationship (DataFetch, Cards, Graphing, Utils, etc.)"
   ]
  },
  {
   "cell_type": "markdown",
   "id": "ec89cba3",
   "metadata": {},
   "source": [
    "# Data Graphing and Display"
   ]
  },
  {
   "cell_type": "markdown",
   "id": "c97c2527",
   "metadata": {},
   "source": [
    "## Card Summary"
   ]
  },
  {
   "cell_type": "code",
   "execution_count": null,
   "id": "870b8231",
   "metadata": {},
   "outputs": [],
   "source": [
    "set_data.BO1.plot_card_summary('Imperial Oath')"
   ]
  },
  {
   "cell_type": "code",
   "execution_count": null,
   "id": "e709560f",
   "metadata": {},
   "outputs": [],
   "source": [
    "set_data.BO1.plot_card_summary(\"Befriending the Moths\", roll=3)"
   ]
  },
  {
   "cell_type": "code",
   "execution_count": null,
   "id": "98462db9",
   "metadata": {},
   "outputs": [],
   "source": [
    "set_data.BO1.plot_card_summary(\"Michiko's Reign of Truth\", roll=3)"
   ]
  },
  {
   "cell_type": "code",
   "execution_count": null,
   "id": "feac13ad",
   "metadata": {},
   "outputs": [],
   "source": [
    "set_data.BO1.plot_card_summary(\"The Fall of Lord Konda\", roll=3)"
   ]
  },
  {
   "cell_type": "code",
   "execution_count": null,
   "id": "925a8e09",
   "metadata": {},
   "outputs": [],
   "source": [
    "set_data.BO1.plot_card_summary('Sunblade Samurai', roll=3)"
   ]
  },
  {
   "cell_type": "code",
   "execution_count": null,
   "id": "2e86bf18",
   "metadata": {
    "scrolled": false
   },
   "outputs": [],
   "source": [
    "set_data.BO1.get_top('GIH WR', count=25, asc=False, deck_color='', card_color=None, card_rarity='RM', play_lim=0.005)"
   ]
  },
  {
   "cell_type": "markdown",
   "id": "624e5a0f",
   "metadata": {},
   "source": [
    "## Card Pick Order Stats"
   ]
  },
  {
   "cell_type": "code",
   "execution_count": null,
   "id": "cd04179e",
   "metadata": {
    "scrolled": false
   },
   "outputs": [],
   "source": [
    "set_data.BO1.plot_pick_stats('Imperial Oath')"
   ]
  },
  {
   "cell_type": "code",
   "execution_count": null,
   "id": "8d986ea4",
   "metadata": {},
   "outputs": [],
   "source": [
    "set_data.BO1.plot_pick_stats('Behold the Unspeakable', 3)"
   ]
  },
  {
   "cell_type": "code",
   "execution_count": null,
   "id": "8e34320b",
   "metadata": {
    "scrolled": false
   },
   "outputs": [],
   "source": [
    "to_graph = ['Imperial Oath', 'Behold the Unspeakable', 'Virus Beetle', 'Network Disruptor', 'Kumano Faces Kakkazan', 'Iron Apprentice']\n",
    "for card in to_graph:\n",
    "    set_data.BO1.plot_pick_stats(card, 3)"
   ]
  },
  {
   "cell_type": "markdown",
   "id": "412af02e",
   "metadata": {},
   "source": [
    "## Archetype Winrate History"
   ]
  },
  {
   "cell_type": "code",
   "execution_count": null,
   "id": "c3c44322",
   "metadata": {
    "scrolled": false
   },
   "outputs": [],
   "source": [
    "set_data.BO1.get_archetype_winrate_history()"
   ]
  },
  {
   "cell_type": "code",
   "execution_count": null,
   "id": "51789bb4",
   "metadata": {
    "scrolled": false
   },
   "outputs": [],
   "source": [
    "set_data.BO1.plot_archetype_winrate_history('')"
   ]
  },
  {
   "cell_type": "code",
   "execution_count": null,
   "id": "797c4e10",
   "metadata": {
    "scrolled": false
   },
   "outputs": [],
   "source": [
    "set_data.BO3.plot_archetype_winrate_history('')"
   ]
  },
  {
   "cell_type": "markdown",
   "id": "0cbf46f6",
   "metadata": {},
   "source": [
    "## Archetype Playrate History"
   ]
  },
  {
   "cell_type": "code",
   "execution_count": null,
   "id": "e3e74e87",
   "metadata": {},
   "outputs": [],
   "source": [
    "set_data.BO1.get_archetype_playrate_history()"
   ]
  },
  {
   "cell_type": "code",
   "execution_count": null,
   "id": "81f4327a",
   "metadata": {
    "scrolled": false
   },
   "outputs": [],
   "source": [
    "set_data.BO1.plot_archetype_playrate_history('')"
   ]
  },
  {
   "cell_type": "code",
   "execution_count": null,
   "id": "44f9ed90",
   "metadata": {
    "scrolled": false
   },
   "outputs": [],
   "source": [
    "set_data.BO3.plot_archetype_playrate_history('')"
   ]
  },
  {
   "cell_type": "markdown",
   "id": "bcbddd88",
   "metadata": {},
   "source": [
    "## Card Pick Order Changes"
   ]
  },
  {
   "cell_type": "code",
   "execution_count": null,
   "id": "19fc3726",
   "metadata": {},
   "outputs": [],
   "source": [
    "diff = set_data.BO1.compare_card_evaluations('2022-02-10', '2022-03-27')\n",
    "commons = diff[diff['Rarity'] == 'C']\n",
    "uncommons = diff[diff['Rarity'] == 'U']"
   ]
  },
  {
   "cell_type": "code",
   "execution_count": null,
   "id": "339d9905",
   "metadata": {},
   "outputs": [],
   "source": [
    "SRT_TRG = 'Δ ATA'\n",
    "commons.sort_values(SRT_TRG, ascending=False).head(20)"
   ]
  },
  {
   "cell_type": "code",
   "execution_count": null,
   "id": "b09ca293",
   "metadata": {},
   "outputs": [],
   "source": [
    "commons.sort_values(SRT_TRG, ascending=True).head(20)"
   ]
  },
  {
   "cell_type": "code",
   "execution_count": null,
   "id": "f5ad6090",
   "metadata": {},
   "outputs": [],
   "source": [
    "uncommons.sort_values(SRT_TRG, ascending=False).head(10)"
   ]
  },
  {
   "cell_type": "code",
   "execution_count": null,
   "id": "d5065106",
   "metadata": {
    "scrolled": true
   },
   "outputs": [],
   "source": [
    "uncommons.sort_values(SRT_TRG, ascending=True).head(10)"
   ]
  },
  {
   "cell_type": "code",
   "execution_count": null,
   "id": "cf72c282",
   "metadata": {},
   "outputs": [],
   "source": []
  }
 ],
 "metadata": {
  "kernelspec": {
   "display_name": "Python 3 (ipykernel)",
   "language": "python",
   "name": "python3"
  },
  "language_info": {
   "codemirror_mode": {
    "name": "ipython",
    "version": 3
   },
   "file_extension": ".py",
   "mimetype": "text/x-python",
   "name": "python",
   "nbconvert_exporter": "python",
   "pygments_lexer": "ipython3",
   "version": "3.9.7"
  }
 },
 "nbformat": 4,
 "nbformat_minor": 5
}
