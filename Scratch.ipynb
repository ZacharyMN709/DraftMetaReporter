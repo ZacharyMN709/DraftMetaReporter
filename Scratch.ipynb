{
 "cells": [
  {
   "cell_type": "code",
   "execution_count": null,
   "id": "64c57ea3",
   "metadata": {},
   "outputs": [],
   "source": [
    "import pandas as pd\n",
    "pd.options.display.float_format = '{:,.3f}'.format\n",
    "import matplotlib.pyplot as plt\n",
    "import seaborn as sns\n",
    "sns.set_theme()\n",
    "\n",
    "import WUBRG\n",
    "import consts\n",
    "from LineColors import LineColors\n",
    "from FormatMetadata import SETS, FORMATS, SET_CONFIG\n",
    "from JSONHandler import JSONHandler\n",
    "from FormatMetadata import FormatMetadata\n",
    "from RawDataFetcher import RawDataFetcher\n",
    "from RawDataHandler import RawDataHandler"
   ]
  },
  {
   "cell_type": "markdown",
   "id": "69cadfaa",
   "metadata": {},
   "source": [
    "# Objects"
   ]
  },
  {
   "cell_type": "code",
   "execution_count": null,
   "id": "068085b9",
   "metadata": {},
   "outputs": [],
   "source": [
    "from RawDataHandler import RawDataHandler\n",
    "from LineColors import LineColors\n",
    "\n",
    "class RawDataWrapper:   \n",
    "    def __init__(self, SET, FORMAT):\n",
    "        self._SET = SET\n",
    "        self._FORMAT = FORMAT\n",
    "        self._DATA = RawDataHandler(SET, FORMAT)\n",
    "        \n",
    "    \n",
    "    @property\n",
    "    def SET(self):\n",
    "        \"\"\"The draft set.\"\"\"\n",
    "        return self._SET\n",
    "    \n",
    "    @property\n",
    "    def FORMAT(self):\n",
    "        \"\"\"The format type.\"\"\"\n",
    "        return self._FORMAT\n",
    "    \n",
    "    @property\n",
    "    def DATA(self):\n",
    "        \"\"\"The object which contains the data about the set and format.\"\"\"\n",
    "        return self._DATA\n",
    "    \n",
    "    @property\n",
    "    def FUNCS(self):\n",
    "        \"\"\"A helper object which contains convenience functions for plotting and subsetting.\"\"\"\n",
    "        return self._FUNCS\n",
    "    \n",
    "    \n",
    "    def deck_group_frame(self, name=slice(None, None, None), date=slice(None, None, None), summary=False):\n",
    "        \"\"\"Returns a subset of the 'GROUPED_ARCHTYPE' data as a DataFrame.\"\"\"\n",
    "        if summary:\n",
    "            return self.DATA.GROUPED_ARCHTYPE_SUMMARY_FRAME.loc(axis=0)[pd.IndexSlice[name]]\n",
    "        else:\n",
    "            return self.DATA.GROUPED_ARCHTYPE_HISTORY_FRAME.loc(axis=0)[pd.IndexSlice[date, name]]\n",
    "     \n",
    "    def deck_archetype_frame(self, name=slice(None, None, None), date=slice(None, None, None), summary=False):\n",
    "        \"\"\"Returns a subset of the 'SINGLE_ARCHTYPE' data as a DataFrame.\"\"\"\n",
    "        if summary:\n",
    "            return self.DATA.SINGLE_ARCHTYPE_SUMMARY_FRAME.loc(axis=0)[pd.IndexSlice[name]]\n",
    "        else:\n",
    "            return self.DATA.SINGLE_ARCHTYPE_HISTORY_FRAME.loc(axis=0)[pd.IndexSlice[date, name]]\n",
    "    \n",
    "    def card_frame(self, name=slice(None, None, None), deck_colors=slice(None, None, None), date=slice(None, None, None), card_color=None, card_rarity=None, summary=False):\n",
    "        \"\"\"Returns a subset of the 'CARD' data as a DataFrame.\"\"\"\n",
    "        if type(deck_colors) is str:\n",
    "            deck_colors = WUBRG.get_color_identity(deck_colors)\n",
    "        \n",
    "        if summary:\n",
    "            ret = self.DATA.CARD_SUMMARY_FRAME.loc(axis=0)[pd.IndexSlice[deck_colors, name]]\n",
    "        else:\n",
    "            ret = self.DATA.CARD_HISTORY_FRAME.loc(axis=0)[pd.IndexSlice[date, deck_colors, name]]\n",
    "            \n",
    "        if card_color:\n",
    "            card_color = WUBRG.get_color_identity(card_color)\n",
    "            ret = ret[ret['Color'] == card_color]\n",
    "            \n",
    "        if card_rarity:\n",
    "            ret = ret[ret['Rarity'] == card_rarity]\n",
    "        \n",
    "        return ret\n",
    "    \n",
    "    \n",
    "    #################################################################################################\n",
    "    \n",
    "    \n",
    "    #Helper Functions\n",
    "    def graph_pick_stats(self, card_name, roll=1):\n",
    "        taken_data = self.card_frame(name=card_name, deck_colors='')[['ALSA', 'ATA']]\n",
    "        taken_data.index = [tup[0][5:] for tup in taken_data.index]\n",
    "        rolling = taken_data.rolling(window=roll, min_periods=1, center=True).mean()\n",
    "\n",
    "        mx = min(max(taken_data.max()) + 0.25, 15) \n",
    "        mn = max(min(taken_data.min()) - 0.25, 1)\n",
    "        tit_str = f\"{self.SET} - {self.FORMAT}\\n{card_name}\"\n",
    "\n",
    "        rolling.plot(ylim=(mx, mn), grid=True, title=tit_str)\n",
    "\n",
    "        return taken_data\n",
    "\n",
    "    def compare_card_evaluations(self, start_date, end_date):\n",
    "        def inner_func(date):\n",
    "            df = self.card_frame(date=date, deck_colors='')\n",
    "            df.index = [tup[2] for tup in df.index]\n",
    "            return df\n",
    "\n",
    "        first = inner_func(date='2022-02-10')\n",
    "        last = inner_func(date='2022-02-15')\n",
    "        diff = last[['ALSA', 'ATA', 'Color', 'Rarity']].copy()\n",
    "        diff['Δ ALSA'] = first['ALSA'] - last['ALSA']\n",
    "        diff['Δ ATA'] = first['ATA'] - last['ATA']\n",
    "        return diff[['ALSA', 'Δ ALSA', 'ATA', 'Δ ATA', 'Color', 'Rarity']]\n",
    "\n",
    "    \n",
    "    \n",
    "    def get_card_summary(self, card_name, colors='', roll=1):\n",
    "        frame = self.card_frame(name=card_name, deck_colors=colors)[['GIH WR', 'ALSA', '# GP', 'IWD']]\n",
    "        frame.index = [tup[0][5:] for tup in frame.index]\n",
    "        rolling = frame.rolling(window=roll, min_periods=1, center=True).mean()\n",
    "        return rolling\n",
    "\n",
    "    def plot_card_summary(self, card_name, colors='', roll=1):\n",
    "        rolling = self.get_card_summary(card_name, colors, roll)\n",
    "        title = f\"{card_name}\"\n",
    "\n",
    "        col_filt = f\"Color Filter: {colors}\"\n",
    "        rol_filt = f\"Rolling Average: {roll} Days\"\n",
    "\n",
    "        if colors and roll > 1:\n",
    "            title += f\"\\n{col_filt}  -  {rol_filt}\"\n",
    "        elif colors:\n",
    "                title += f\"\\n{col_filt}\"\n",
    "        elif roll > 1:\n",
    "                title += f\"\\n{rol_filt}\"\n",
    "\n",
    "        rolling.plot(subplots=True, layout=(2,2), figsize=(12,8), title=title)\n",
    "        \n",
    "    def get_top(self, column, count=10, asc=True, color=None, rarity=None):\n",
    "        frame = self.card_frame(deck_colors='', summary=True)\n",
    "        frame = frame.sort_values(column, ascending=asc)\n",
    "\n",
    "        if color is not None:\n",
    "            color = WUBRG.get_color_identity(color)\n",
    "            frame = frame[frame['Color'] == color]\n",
    "\n",
    "        if rarity:\n",
    "            frame = frame[frame['Rarity'].isin(list(rarity))]\n",
    "\n",
    "        return frame.head(count)\n",
    "\n",
    "        \n",
    "    def get_avg_winrate(self, day=None, arch='All Decks'):\n",
    "        if day:\n",
    "            return self.deck_group_frame(date=day, summary=False).loc[(day, arch)]['Win %']\n",
    "        else:\n",
    "            return self.deck_group_frame(date=day, summary=True).loc[arch]['Win %']\n",
    "    \n",
    "    def get_archetype_frame(self, colors, roll=1):\n",
    "        win_rate_frame = self.deck_archetype_frame(name=colors)\n",
    "        win_rate_frame.index = [tup[0] for tup in win_rate_frame.index]\n",
    "        #win_rate_frame = win_rate_frame[['Splash', 'Games', 'Win %']]\n",
    "        win_rate_frame = win_rate_frame[win_rate_frame['Splash'] == False][['Wins', 'Games']]\n",
    "        rolling = win_rate_frame.rolling(window=roll, min_periods=1, center=True).mean().round()\n",
    "        rolling['Win %'] = round((rolling['Wins'] / rolling['Games']) * 100, 2)\n",
    "        rolling['Avg. Win%'] = [self.get_avg_winrate(idx) for idx in win_rate_frame.index]\n",
    "        rolling['2C Win%'] = [self.get_avg_winrate(idx, arch='Two-color') for idx in win_rate_frame.index]\n",
    "        rolling['Win % Offset'] = rolling['Win %'] - rolling['Avg. Win%']\n",
    "        return rolling\n",
    "\n",
    "    def get_archetype_winrate_history(self, color_filter=None, roll=1):\n",
    "        d = dict()\n",
    "        for col in WUBRG.COLOR_PAIRS:\n",
    "            temp_frame = self.get_archetype_frame(col)\n",
    "            d[col] = temp_frame['Win %']\n",
    "        d['AVG'] = temp_frame ['Avg. Win%']\n",
    "        d['2C'] = temp_frame ['2C Win%']\n",
    "\n",
    "        test_frame = pd.DataFrame.from_dict(d)\n",
    "        test_frame.index = [idx[5:] for idx in test_frame.index]\n",
    "        if color_filter:\n",
    "            col_filt = [col for col in WUBRG.COLOR_PAIRS if color_filter in col] + ['AVG', '2C'] \n",
    "            test_frame = test_frame[col_filt]\n",
    "\n",
    "        rolling = test_frame.rolling(window=roll, min_periods=1, center=True).mean()\n",
    "        return rolling\n",
    "\n",
    "    def plot_archetype_winrate_history(self, color_filter=None, roll=1):\n",
    "        test_frame = self.get_archetype_winrate_history(color_filter, roll)\n",
    "        lc = LineColors()\n",
    "        title = \"Archetpye Winrates\"\n",
    "\n",
    "        col_filt = f\"Color Filter: {color_filter}\"\n",
    "        rol_filt = f\"Rolling Average: {roll} Days\"\n",
    "\n",
    "        if color_filter and roll > 1:\n",
    "            title += f\"\\n{col_filt}  -  {rol_filt}\"\n",
    "        elif color_filter:\n",
    "                title += f\"\\n{col_filt}\"\n",
    "        elif roll > 1:\n",
    "                title += f\"\\n{rol_filt}\"\n",
    "        test_frame.plot(figsize=(20, 10), color=lc.get_col_array(color_filter), title=title, lw=2.5, grid=True)\n",
    "        \n",
    "        \n",
    "    def get_archetype_playrate_history(self, color_filter=None, roll=1):    \n",
    "        d = dict()\n",
    "        for col in WUBRG.COLOR_PAIRS:\n",
    "            d[col] = self.get_archetype_frame(col)['Games']\n",
    "\n",
    "        test_frame = pd.DataFrame.from_dict(d)\n",
    "        test_frame.index = [idx[5:] for idx in test_frame.index]\n",
    "        rolling = test_frame.rolling(window=roll, min_periods=1, center=True).mean()\n",
    "        total = rolling.sum(axis=1)\n",
    "        playrate = rolling.divide(list(total),axis=0) * 100\n",
    "\n",
    "        if color_filter:\n",
    "            col_filt = [col for col in WUBRG.COLOR_PAIRS if color_filter in col]\n",
    "            playrate = playrate[col_filt]\n",
    "\n",
    "        return playrate\n",
    "\n",
    "    def plot_archetype_playrate_history(self, color_filter=None, roll=1):\n",
    "        test_frame = self.get_archetype_playrate_history(color_filter, roll)\n",
    "        lc = LineColors()\n",
    "        title = \"Archetpye Playrates\"\n",
    "\n",
    "        col_filt = f\"Color Filter: {color_filter}\"\n",
    "        rol_filt = f\"Rolling Average: {roll} Days\"\n",
    "\n",
    "        if color_filter and roll > 1:\n",
    "            title += f\"\\n{col_filt}  -  {rol_filt}\"\n",
    "        elif color_filter:\n",
    "                title += f\"\\n{col_filt}\"\n",
    "        elif roll > 1:\n",
    "                title += f\"\\n{rol_filt}\"\n",
    "        test_frame.plot(figsize=(20, 10), color=lc.get_col_array(color_filter), title=title, lw=2.5, grid=True) "
   ]
  },
  {
   "cell_type": "code",
   "execution_count": null,
   "id": "53cab76f",
   "metadata": {},
   "outputs": [],
   "source": [
    "class SetManager:\n",
    "    def __init__(self, SET):        \n",
    "        self._SET = SET\n",
    "        self._DATA = {f: RawDataWrapper(SET, f) for f in FORMATS}\n",
    "        \n",
    "    @property\n",
    "    def SET(self):\n",
    "        \"\"\"The draft set.\"\"\"\n",
    "        return self._SET\n",
    "            \n",
    "    @property\n",
    "    def BO1(self):\n",
    "        \"\"\"Premier Draft data.\"\"\"\n",
    "        return self._DATA['PremierDraft']\n",
    "    \n",
    "    @property\n",
    "    def BO3(self):\n",
    "        \"\"\"Traditional Draft data.\"\"\"\n",
    "        return self._DATA['TradDraft']\n",
    "    \n",
    "    @property\n",
    "    def QD(self):\n",
    "        \"\"\"Quick Draft data.\"\"\"\n",
    "        return self.DATA['QuickDraft']"
   ]
  },
  {
   "cell_type": "markdown",
   "id": "7ef6dfba",
   "metadata": {},
   "source": [
    "# Initialization"
   ]
  },
  {
   "cell_type": "code",
   "execution_count": null,
   "id": "393c164d",
   "metadata": {},
   "outputs": [],
   "source": [
    "set_data = SetManager('NEO')"
   ]
  },
  {
   "cell_type": "markdown",
   "id": "12a93ead",
   "metadata": {},
   "source": [
    "## Current Tests"
   ]
  },
  {
   "cell_type": "code",
   "execution_count": null,
   "id": "5d754d66",
   "metadata": {},
   "outputs": [],
   "source": []
  },
  {
   "cell_type": "markdown",
   "id": "ec89cba3",
   "metadata": {},
   "source": [
    "# Data Graphing and Display"
   ]
  },
  {
   "cell_type": "markdown",
   "id": "c97c2527",
   "metadata": {},
   "source": [
    "## Card Summary"
   ]
  },
  {
   "cell_type": "code",
   "execution_count": null,
   "id": "562f764c",
   "metadata": {},
   "outputs": [],
   "source": [
    "set_data.BO1.plot_card_summary('Saiba Trespassers')"
   ]
  },
  {
   "cell_type": "code",
   "execution_count": null,
   "id": "577e15de",
   "metadata": {
    "scrolled": false
   },
   "outputs": [],
   "source": [
    "set_data.BO1.plot_card_summary('You Are Already Dead')"
   ]
  },
  {
   "cell_type": "code",
   "execution_count": null,
   "id": "870b8231",
   "metadata": {},
   "outputs": [],
   "source": [
    "set_data.BO1.plot_card_summary('Eiganjo Exemplar', 'RW')"
   ]
  },
  {
   "cell_type": "code",
   "execution_count": null,
   "id": "98462db9",
   "metadata": {},
   "outputs": [],
   "source": [
    "set_data.BO1.plot_card_summary('Eiganjo Exemplar', 'RW', 3)"
   ]
  },
  {
   "cell_type": "code",
   "execution_count": null,
   "id": "2ec8ba93",
   "metadata": {},
   "outputs": [],
   "source": [
    "TRGT_CARDS = ['Roaring Earth', 'Tales of Master Seshiro', 'Befriending the Moths']\n",
    "TRGT_PAIR = ''\n",
    "ROLL = 3\n",
    "\n",
    "for CARD in TRGT_CARDS:\n",
    "    set_data.BO1.plot_card_summary(CARD, colors=TRGT_PAIR, roll=ROLL)"
   ]
  },
  {
   "cell_type": "code",
   "execution_count": null,
   "id": "de22d48a",
   "metadata": {},
   "outputs": [],
   "source": [
    "set_data.BO1.get_top('GIH WR', count=25, asc=False, rarity='CU')"
   ]
  },
  {
   "cell_type": "markdown",
   "id": "624e5a0f",
   "metadata": {},
   "source": [
    "## Card Pick Order Stats"
   ]
  },
  {
   "cell_type": "code",
   "execution_count": null,
   "id": "cd04179e",
   "metadata": {
    "scrolled": false
   },
   "outputs": [],
   "source": [
    "set_data.BO1.graph_pick_stats('Imperial Oath', 1)"
   ]
  },
  {
   "cell_type": "code",
   "execution_count": null,
   "id": "8d986ea4",
   "metadata": {},
   "outputs": [],
   "source": [
    "set_data.BO1.graph_pick_stats('Behold the Unspeakable', 3)"
   ]
  },
  {
   "cell_type": "code",
   "execution_count": null,
   "id": "8e34320b",
   "metadata": {},
   "outputs": [],
   "source": [
    "to_graph = ['Imperial Oath', 'Behold the Unspeakable', 'Virus Beetle', 'Network Disruptor']\n",
    "for card in to_graph:\n",
    "    set_data.BO1.graph_pick_stats(card, 1)"
   ]
  },
  {
   "cell_type": "markdown",
   "id": "412af02e",
   "metadata": {},
   "source": [
    "## Archetype Winrate History"
   ]
  },
  {
   "cell_type": "code",
   "execution_count": null,
   "id": "a5b24b5d",
   "metadata": {
    "scrolled": true
   },
   "outputs": [],
   "source": [
    "set_data.BO1.get_archetype_winrate_history(roll=1)"
   ]
  },
  {
   "cell_type": "code",
   "execution_count": null,
   "id": "c3c44322",
   "metadata": {
    "scrolled": false
   },
   "outputs": [],
   "source": [
    "set_data.BO1.get_archetype_winrate_history(roll=3)"
   ]
  },
  {
   "cell_type": "code",
   "execution_count": null,
   "id": "51789bb4",
   "metadata": {
    "scrolled": false
   },
   "outputs": [],
   "source": [
    "set_data.BO1.plot_archetype_winrate_history('W', 3)\n",
    "set_data.BO1.plot_archetype_winrate_history('U', 3)\n",
    "set_data.BO1.plot_archetype_winrate_history('B', 3)\n",
    "set_data.BO1.plot_archetype_winrate_history('R', 3)\n",
    "set_data.BO1.plot_archetype_winrate_history('G', 3)\n",
    "set_data.BO1.plot_archetype_winrate_history('', 3)"
   ]
  },
  {
   "cell_type": "markdown",
   "id": "0cbf46f6",
   "metadata": {},
   "source": [
    "## Archetype Playrate History"
   ]
  },
  {
   "cell_type": "code",
   "execution_count": null,
   "id": "94da67b3",
   "metadata": {
    "scrolled": true
   },
   "outputs": [],
   "source": [
    "set_data.BO1.get_archetype_playrate_history(roll=1)"
   ]
  },
  {
   "cell_type": "code",
   "execution_count": null,
   "id": "e3e74e87",
   "metadata": {},
   "outputs": [],
   "source": [
    "set_data.BO1.get_archetype_playrate_history(roll=3)"
   ]
  },
  {
   "cell_type": "code",
   "execution_count": null,
   "id": "81f4327a",
   "metadata": {
    "scrolled": false
   },
   "outputs": [],
   "source": [
    "set_data.BO1.plot_archetype_playrate_history('W', 3)\n",
    "set_data.BO1.plot_archetype_playrate_history('U', 3)\n",
    "set_data.BO1.plot_archetype_playrate_history('B', 3)\n",
    "set_data.BO1.plot_archetype_playrate_history('R', 3)\n",
    "set_data.BO1.plot_archetype_playrate_history('G', 3)\n",
    "set_data.BO1.plot_archetype_playrate_history('', 3)"
   ]
  },
  {
   "cell_type": "markdown",
   "id": "bcbddd88",
   "metadata": {},
   "source": [
    "## Card Pick Order Changes"
   ]
  },
  {
   "cell_type": "code",
   "execution_count": null,
   "id": "19fc3726",
   "metadata": {},
   "outputs": [],
   "source": [
    "diff = set_data.BO1.compare_card_evaluations('2022-02-15', '2022-02-17')\n",
    "commons = diff[diff['Rarity'] == 'C']\n",
    "uncommons = diff[diff['Rarity'] == 'U']"
   ]
  },
  {
   "cell_type": "code",
   "execution_count": null,
   "id": "339d9905",
   "metadata": {},
   "outputs": [],
   "source": [
    "SRT_TRG = 'Δ ATA'\n",
    "commons.sort_values(SRT_TRG, ascending=False).head(20)"
   ]
  },
  {
   "cell_type": "code",
   "execution_count": null,
   "id": "b09ca293",
   "metadata": {},
   "outputs": [],
   "source": [
    "commons.sort_values(SRT_TRG, ascending=True).head(20)"
   ]
  },
  {
   "cell_type": "code",
   "execution_count": null,
   "id": "f5ad6090",
   "metadata": {},
   "outputs": [],
   "source": [
    "uncommons.sort_values(SRT_TRG, ascending=False).head(10)"
   ]
  },
  {
   "cell_type": "code",
   "execution_count": null,
   "id": "d5065106",
   "metadata": {
    "scrolled": true
   },
   "outputs": [],
   "source": [
    "uncommons.sort_values(SRT_TRG, ascending=True).head(10)"
   ]
  }
 ],
 "metadata": {
  "kernelspec": {
   "display_name": "Python 3 (ipykernel)",
   "language": "python",
   "name": "python3"
  },
  "language_info": {
   "codemirror_mode": {
    "name": "ipython",
    "version": 3
   },
   "file_extension": ".py",
   "mimetype": "text/x-python",
   "name": "python",
   "nbconvert_exporter": "python",
   "pygments_lexer": "ipython3",
   "version": "3.9.7"
  }
 },
 "nbformat": 4,
 "nbformat_minor": 5
}
