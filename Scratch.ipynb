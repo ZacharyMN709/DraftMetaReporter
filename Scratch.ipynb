{
 "cells": [
  {
   "cell_type": "code",
   "execution_count": null,
   "id": "64c57ea3",
   "metadata": {},
   "outputs": [],
   "source": [
    "import pandas as pd\n",
    "pd.options.display.float_format = '{:,.3f}'.format\n",
    "import matplotlib.pyplot as plt\n",
    "import seaborn as sns\n",
    "sns.set_theme()\n",
    "\n",
    "import WUBRG\n",
    "import consts\n",
    "from LineColors import LineColors\n",
    "from FormatMetadata import SETS, FORMATS, SET_CONFIG\n",
    "from JSONHandler import JSONHandler\n",
    "from FormatMetadata import FormatMetadata\n",
    "from RawDataFetcher import RawDataFetcher"
   ]
  },
  {
   "cell_type": "markdown",
   "id": "44751f39",
   "metadata": {},
   "source": [
    "# Objects"
   ]
  },
  {
   "cell_type": "code",
   "execution_count": null,
   "id": "7c41a262",
   "metadata": {},
   "outputs": [],
   "source": [
    "from datetime import date, time, datetime, timedelta\n",
    "import pandas as pd\n",
    "\n",
    "import WUBRG\n",
    "import consts\n",
    "from JSONHandler import JSONHandler\n",
    "from RawDataFetcher import RawDataFetcher\n",
    "\n",
    "class RawDataHandler:    \n",
    "    \n",
    "    #TODO: Revamp this by having it use the new fetcher object and properties\n",
    "    # which can help to auto-load data.\n",
    "    \n",
    "    def __init__(self, SET, FORMAT):\n",
    "        self._SET = SET\n",
    "        self._FORMAT = FORMAT\n",
    "        self.FORMAT_METADATA = FormatMetadata(SET, FORMAT)\n",
    "        \n",
    "        self._SUMMARY_DICT = dict()\n",
    "        self._ARCHTYPE_DICT = dict()\n",
    "        self._CARD_DICTS = dict()\n",
    "        \n",
    "        self.SUMMARY_FRAME = None\n",
    "        self.ARCHTYPE_FRAME = None\n",
    "        self.CARD_FRAME = None\n",
    "    \n",
    "    \n",
    "    @property\n",
    "    def SET(self):\n",
    "        \"\"\"The draft set.\"\"\"\n",
    "        return self._SET\n",
    "    \n",
    "    \n",
    "    @property\n",
    "    def FORMAT(self):\n",
    "        \"\"\"The queue type.\"\"\"\n",
    "        return self._FORMAT\n",
    "    \n",
    "    \n",
    "    def panadafy_card_dict(self, card_dict: dict) -> pd.DataFrame:\n",
    "        \"\"\"\n",
    "        Turns a dictionary into a DataFrame, with some data cleaning applied.\n",
    "        :param card_dict: The dictionary containing card data for a colour group\n",
    "        :return: A DataFrame filled with the cleaned card data\n",
    "        \"\"\"\n",
    "        frame = pd.DataFrame.from_dict(card_dict)\n",
    "        frame = frame.rename(columns=consts.STAT_NAMES)\n",
    "\n",
    "        # If there's no data, make a blank frame and return it.\n",
    "        if len(card_dict) == 0:\n",
    "            return frame\n",
    "\n",
    "        frame = frame.set_index('Name')\n",
    "        \n",
    "        for col in [\"GP WR\", \"OH WR\", \"GD WR\", \"GIH WR\", \"GND WR\", \"IWD\"]:\n",
    "            frame[col] = frame[col] * 100\n",
    "\n",
    "        frame = frame.drop(['sideboard_game_count', 'sideboard_win_rate', 'url', 'url_back'], axis=1)\n",
    "        frame['Rarity'] = frame['Rarity'].map(consts.RARITY_ALIASES)\n",
    "        frame = frame.round(3)\n",
    "        return frame\n",
    "    \n",
    "    def panadafy_meta_dict(self, meta_dict: dict) -> pd.DataFrame:\n",
    "        \"\"\"\n",
    "        Turns a dictionary into a DataFrame, with some data cleaning applied.\n",
    "        :param card_dict: The dictionary containing card data for a colour group\n",
    "        :return: A DataFrame filled with the cleaned card data\n",
    "        \"\"\"\n",
    "        frame = pd.DataFrame.from_dict(meta_dict)\n",
    "        frame = frame.rename(columns=consts.META_COLS)\n",
    "\n",
    "        # If there's no data, make a blank frame and return it.\n",
    "        if len(meta_dict) == 0:\n",
    "            return frame, frame.copy()\n",
    "        \n",
    "        frame['Name'] = frame['Color Name']\n",
    "        frame = frame.set_index('Name')\n",
    "        frame['Win %'] = round((frame['Wins'] / frame['Games']) * 100, 2)\n",
    "        frame['Splash'] = frame['Color Name'].str.contains(\"Splash\", case=False)\n",
    "        frame['Colors'] = frame['Color Name'].map(lambda x: x.replace(' + Splash', ''))\n",
    "        frame = frame[['Colors', 'Splash', 'Wins', 'Games', 'Win %', 'is_summary']]\n",
    "        \n",
    "        summary_frame = frame[frame['is_summary'] == True].copy()\n",
    "        summary_frame = summary_frame.drop(['is_summary'], axis=1)\n",
    "        summary_frame['Colors'] = summary_frame['Colors'].map(WUBRG.COLOR_COUNT_MAP)\n",
    "\n",
    "        archetype_frame = frame[frame['is_summary'] == False].copy()\n",
    "        archetype_frame = archetype_frame.drop(['is_summary'], axis=1)\n",
    "        archetype_frame['Colors'] = archetype_frame['Colors'].map(lambda x: x[0: (x.find('(') if x.find('(') != -1 else len(x))].strip())\n",
    "        archetype_frame['Colors'] = archetype_frame['Colors'].map(lambda x: x.replace('Mono-', ''))\n",
    "        archetype_frame['Colors'] = archetype_frame['Colors'].map(WUBRG.COLOR_ALIASES)\n",
    "        archetype_frame['Name'] = archetype_frame['Colors']\n",
    "        archetype_frame = archetype_frame.set_index('Name')\n",
    "\n",
    "        return summary_frame, archetype_frame\n",
    "    \n",
    "    def gen_frames(self):\n",
    "        self.SUMMARY_FRAME = pd.concat(self._SUMMARY_DICT, names=[\"Date\", \"Name\"])\n",
    "        self.ARCHTYPE_FRAME = pd.concat(self._ARCHTYPE_DICT, names=[\"Date\", \"Name\"])\n",
    "        temp_dict = dict()\n",
    "        for date in self._CARD_DICTS:\n",
    "            temp_dict[date] = pd.concat(self._CARD_DICTS[date], names=[\"Deck Colors\", \"Name\"])\n",
    "        self.CARD_FRAME = pd.concat(temp_dict, names=[\"Date\", \"Deck Colors\", \"Name\"])\n",
    "        \n",
    "    def get_day_data(self, check_date):\n",
    "        loader = JSONHandler(self.SET, self.FORMAT, check_date)\n",
    "        str_date = str(check_date)\n",
    "        print(f'Getting data for {self.SET} {self.FORMAT}, date: {str_date}')\n",
    "        card_dict, meta_dict = loader.get_day_data()\n",
    "        \n",
    "        self._SUMMARY_DICT[str_date], self._ARCHTYPE_DICT[str_date] = self.panadafy_meta_dict(meta_dict)\n",
    "        self._CARD_DICTS[str_date] = dict()\n",
    "        for color in card_dict:\n",
    "            self._CARD_DICTS[str_date][color] = self.panadafy_card_dict(card_dict[color])\n",
    "            \n",
    "        return self._SUMMARY_DICT[str_date], self._ARCHTYPE_DICT[str_date], self._CARD_DICTS[str_date]\n",
    "\n",
    "    def get_set_data(self):\n",
    "        check_date = self.FORMAT_METADATA.START_DATE\n",
    "\n",
    "        run = True        \n",
    "        while(run):\n",
    "            if self.FORMAT_METADATA.is_active(check_date):\n",
    "                self.get_day_data(check_date)\n",
    "            check_date += timedelta(days=1)\n",
    "            #TODO: Make this more in line with the time check for general data.\n",
    "            run = check_date < date.today() \n",
    "    \n",
    "        self.gen_frames()\n",
    "        return self._SUMMARY_DICT, self._ARCHTYPE_DICT, self._CARD_DICTS\n",
    "    \n",
    "    def get_summary_data(self):\n",
    "        loader = JSONHandler(self.SET, self.FORMAT, None)\n",
    "        print(f'Getting overall data for {self.SET} {self.FORMAT}')\n",
    "        card_dict, meta_dict = loader.get_day_data(overwrite=True)\n",
    "        \n",
    "        summary, archetype = self.panadafy_meta_dict(meta_dict)\n",
    "        cards = dict()\n",
    "        for color in card_dict:\n",
    "            cards[color] = self.panadafy_card_dict(card_dict[color])\n",
    "            \n",
    "        return summary, archetype, cards"
   ]
  },
  {
   "cell_type": "code",
   "execution_count": null,
   "id": "6f306f08",
   "metadata": {},
   "outputs": [],
   "source": [
    "class RawDataWrapper:   \n",
    "    def __init__(self, SET, FORMAT):\n",
    "        self._SET = SET\n",
    "        self._FORMAT = FORMAT\n",
    "        self._DATA = RawDataHandler(SET, FORMAT)\n",
    "    \n",
    "    \n",
    "    @property\n",
    "    def SET(self):\n",
    "        \"\"\"The draft set.\"\"\"\n",
    "        return self._SET\n",
    "    \n",
    "    \n",
    "    @property\n",
    "    def FORMAT(self):\n",
    "        \"\"\"The format type.\"\"\"\n",
    "        return self._FORMAT\n",
    "    \n",
    "    \n",
    "    @property\n",
    "    def DATA(self):\n",
    "        \"\"\"The data about the set and format.\"\"\"\n",
    "        return self._DATA\n",
    "    \n",
    "\n",
    "    def get_set_data(self):\n",
    "        self.DATA.get_set_data()\n",
    "        \n",
    "    def get_summary_data(self):\n",
    "        return self.DATA.get_summary_data()\n",
    "    \n",
    "    def summary_frame(self, date=slice(None, None, None), name=slice(None, None, None)):\n",
    "        return self.DATA.SUMMARY_FRAME.loc(axis=0)[pd.IndexSlice[date, name]]\n",
    "     \n",
    "    def archetype_frame(self, date=slice(None, None, None), name=slice(None, None, None)):\n",
    "        return self.DATA.ARCHTYPE_FRAME.loc(axis=0)[pd.IndexSlice[date, name]]\n",
    "    \n",
    "    def card_frame(self, date=slice(None, None, None), colors=slice(None, None, None), name=slice(None, None, None)):\n",
    "        return self.DATA.CARD_FRAME.loc(axis=0)[pd.IndexSlice[date, colors, name]]"
   ]
  },
  {
   "cell_type": "code",
   "execution_count": null,
   "id": "6a9bda4a",
   "metadata": {},
   "outputs": [],
   "source": [
    "class DataManager:\n",
    "    def __init__(self):        \n",
    "        self.DATA = {s: {f: RawDataWrapper(s, f) for f in FORMATS} for s in SETS}\n",
    "        \n",
    "        self._SET = SETS[0]\n",
    "        self._FORMAT = FORMATS[0]\n",
    "        self._ACTIVE_DATA = self.DATA[self._SET][self._FORMAT]\n",
    "        \n",
    "    @property\n",
    "    def SET(self):\n",
    "        \"\"\"The draft set.\"\"\"\n",
    "        return self._SET\n",
    "\n",
    "    @SET.setter\n",
    "    def SET(self, value):\n",
    "        if value in SETS:\n",
    "            self._SET = value\n",
    "            self._ACTIVE_DATA = self.DATA[self._SET][self._FORMAT]\n",
    "        else:\n",
    "            raise ValueError(f\"Inavlid set: '{value}'\")\n",
    "        \n",
    "    @property\n",
    "    def FORMAT(self):\n",
    "        \"\"\"The draft format.\"\"\"\n",
    "        return self._FORMAT\n",
    "\n",
    "    @FORMAT.setter\n",
    "    def FORMAT(self, value):\n",
    "        if value in FORMATS:\n",
    "            self._FORMAT = value\n",
    "            self._ACTIVE_DATA = self.DATA[self.SET][self.FORMAT]\n",
    "        else:\n",
    "            raise ValueError(f\"Inavlid format: '{value}'\")\n",
    "            \n",
    "    \n",
    "    @property\n",
    "    def ACTIVE_DATA(self):\n",
    "        \"\"\"The data for the given set and format.\"\"\"\n",
    "        return self._ACTIVE_DATA\n",
    "    \n",
    "    def get_set_data(self):\n",
    "        self.ACTIVE_DATA.get_set_data()\n",
    "        \n",
    "    def get_summary_data(self):\n",
    "        return self.ACTIVE_DATA.get_summary_data()\n",
    "    \n",
    "    def summary_frame(self, date=slice(None, None, None), name=slice(None, None, None)):\n",
    "        return self.ACTIVE_DATA.summary_frame(date, name)\n",
    "     \n",
    "    def archetype_frame(self, date=slice(None, None, None), name=slice(None, None, None)):\n",
    "        return self.ACTIVE_DATA.archetype_frame(date, name)\n",
    "    \n",
    "    def card_frame(self, date=slice(None, None, None), colors=slice(None, None, None), name=slice(None, None, None)):\n",
    "        if type(colors) is str:\n",
    "            colors = WUBRG.get_color_identity(colors)\n",
    "        return self.ACTIVE_DATA.card_frame(date, colors, name)"
   ]
  },
  {
   "cell_type": "markdown",
   "id": "2bf0f074",
   "metadata": {},
   "source": [
    "# Functions"
   ]
  },
  {
   "cell_type": "markdown",
   "id": "8d93e67f",
   "metadata": {},
   "source": [
    "## Card Summary Functions"
   ]
  },
  {
   "cell_type": "code",
   "execution_count": null,
   "id": "e9f0892a",
   "metadata": {},
   "outputs": [],
   "source": [
    "def get_card_summary(card_name, colors='', roll=1):\n",
    "    frame = manager.card_frame(name=card_name, colors=colors)[['GIH WR', 'ALSA', '# GP', 'IWD']]\n",
    "    frame.index = [tup[0][5:] for tup in frame.index]\n",
    "    rolling = frame.rolling(window=roll, min_periods=1, center=True).mean()\n",
    "    return rolling"
   ]
  },
  {
   "cell_type": "code",
   "execution_count": null,
   "id": "e0aaa35a",
   "metadata": {},
   "outputs": [],
   "source": [
    "def plot_card_summary(card_name, colors='', roll=1):\n",
    "    rolling = get_card_summary(card_name, colors, roll)\n",
    "    rolling.plot(subplots=True, layout=(2,2), figsize=(12,8))"
   ]
  },
  {
   "cell_type": "markdown",
   "id": "cefca4db",
   "metadata": {},
   "source": [
    "## Pick Order Functions"
   ]
  },
  {
   "cell_type": "code",
   "execution_count": null,
   "id": "a589ae4a",
   "metadata": {},
   "outputs": [],
   "source": [
    "def graph_pick_stats(card_name, roll=1):\n",
    "    taken_data = manager.card_frame(name=card_name, colors='')[['ALSA', 'ATA']]\n",
    "    taken_data.index = [tup[0][5:] for tup in taken_data.index]\n",
    "    rolling = taken_data.rolling(window=roll, min_periods=1, center=True).mean()\n",
    "    \n",
    "    mx = min(max(taken_data.max()) + 0.25, 15) \n",
    "    mn = max(min(taken_data.min()) - 0.25, 1)\n",
    "    tit_str = f\"{manager.SET} - {manager.FORMAT}\\n{card_name}\"\n",
    "    \n",
    "    rolling.plot(ylim=(mx, mn), grid=True, title=tit_str)\n",
    "    \n",
    "    return taken_data"
   ]
  },
  {
   "cell_type": "code",
   "execution_count": null,
   "id": "7fe3d76a",
   "metadata": {},
   "outputs": [],
   "source": [
    "def compare_card_evaluations(start_date, end_date):\n",
    "    def inner_func(date):\n",
    "        df = manager.card_frame(date=date, colors='')\n",
    "        df.index = [tup[2] for tup in df.index]\n",
    "        return df\n",
    "\n",
    "    first = inner_func(date='2022-02-10')\n",
    "    last = inner_func(date='2022-02-15')\n",
    "    diff = last[['ALSA', 'ATA', 'Color', 'Rarity']].copy()\n",
    "    diff['Δ ALSA'] = first['ALSA'] - last['ALSA']\n",
    "    diff['Δ ATA'] = first['ATA'] - last['ATA']\n",
    "    return diff[['ALSA', 'Δ ALSA', 'ATA', 'Δ ATA', 'Color', 'Rarity']]"
   ]
  },
  {
   "cell_type": "markdown",
   "id": "74a43aac",
   "metadata": {},
   "source": [
    "## Archetype Functions"
   ]
  },
  {
   "cell_type": "code",
   "execution_count": null,
   "id": "6a1dffa1",
   "metadata": {
    "scrolled": true
   },
   "outputs": [],
   "source": [
    "def get_archetype_frame(colors, roll=1):\n",
    "    win_rate_frame = manager.archetype_frame(name=colors)\n",
    "    win_rate_frame.index = [tup[0] for tup in win_rate_frame.index]\n",
    "    #win_rate_frame = win_rate_frame[['Splash', 'Games', 'Win %']]\n",
    "    win_rate_frame = win_rate_frame[win_rate_frame['Splash'] == False][['Wins', 'Games']]\n",
    "    rolling = win_rate_frame.rolling(window=roll, min_periods=1, center=True).mean().round()\n",
    "    rolling['Win %'] = round((rolling['Wins'] / rolling['Games']) * 100, 2)\n",
    "    rolling['Avg. Win%'] = [get_winrate(idx) for idx in win_rate_frame.index]\n",
    "    rolling['Win % Offset'] = rolling['Win %'] - rolling['Avg. Win%']\n",
    "    return rolling"
   ]
  },
  {
   "cell_type": "markdown",
   "id": "66721657",
   "metadata": {},
   "source": [
    "## Winrate Functions"
   ]
  },
  {
   "cell_type": "code",
   "execution_count": null,
   "id": "ad2366a6",
   "metadata": {},
   "outputs": [],
   "source": [
    "def get_winrate(day=None):\n",
    "    if day:\n",
    "        return manager.summary_frame().loc[(day, 'All Decks')]['Win %']\n",
    "    else:\n",
    "        # TODO: Get the overall winrate \n",
    "        return None"
   ]
  },
  {
   "cell_type": "code",
   "execution_count": null,
   "id": "6d86af51",
   "metadata": {},
   "outputs": [],
   "source": [
    "def get_archetype_winrate_history(color_filter=None, roll=1):\n",
    "    d = dict()\n",
    "    for col in WUBRG.COLOR_PAIRS:\n",
    "        d[col] = get_archetype_frame(col)[col_name]\n",
    "    d['AVG'] = get_archtype_winrates_frame('UR')['Avg. Win%']\n",
    "        \n",
    "    test_frame = pd.DataFrame.from_dict(d)\n",
    "    test_frame.index = [idx[5:] for idx in test_frame.index]\n",
    "    if color_filter:\n",
    "        col_filt = [col for col in WUBRG.COLOR_PAIRS if color_filter in col] + ['AVG'] \n",
    "        test_frame = test_frame[col_filt]\n",
    "    \n",
    "    rolling = test_frame.rolling(window=roll, min_periods=1, center=True).mean()\n",
    "    return rolling"
   ]
  },
  {
   "cell_type": "code",
   "execution_count": null,
   "id": "61ad4b70",
   "metadata": {},
   "outputs": [],
   "source": [
    "def plot_archetype_winrate_history(color_filter='', roll=1):\n",
    "    test_frame = get_archetype_winrate_history(color_filter, roll)\n",
    "    lc = LineColors()\n",
    "    title = \"Archetpye Winrates\"\n",
    "    \n",
    "    col_filt = f\"Color Filter: {color_filter}\"\n",
    "    rol_filt = f\"Rolling Average: {roll} Days\"\n",
    "    \n",
    "    if color_filter and roll > 1:\n",
    "        title += f\"\\n{col_filt}  -  {rol_filt}\"\n",
    "    elif color_filter:\n",
    "            title += f\"\\n{col_filt}\"\n",
    "    elif roll > 1:\n",
    "            title += f\"\\n{rol_filt}\"\n",
    "    test_frame.plot(figsize=(20, 10), color=lc.get_col_array(color_filter), title=title, lw=2.5, grid=True)"
   ]
  },
  {
   "cell_type": "markdown",
   "id": "cde196c2",
   "metadata": {},
   "source": [
    "## Playrate Functions"
   ]
  },
  {
   "cell_type": "code",
   "execution_count": null,
   "id": "0a2eea48",
   "metadata": {},
   "outputs": [],
   "source": [
    "def get_archetype_playrate_history(color_filter=None, roll=1):    \n",
    "    d = dict()\n",
    "    for col in WUBRG.COLOR_PAIRS:\n",
    "        d[col] = get_archetype_frame(col)['Games']\n",
    "\n",
    "    test_frame = pd.DataFrame.from_dict(d)\n",
    "    test_frame.index = [idx[5:] for idx in test_frame.index]\n",
    "    rolling = test_frame.rolling(window=roll, min_periods=1, center=True).mean()\n",
    "    total = rolling.sum(axis=1)\n",
    "    playrate = rolling.divide(list(total),axis=0) * 100\n",
    "    \n",
    "    if color_filter:\n",
    "        col_filt = [col for col in WUBRG.COLOR_PAIRS if color_filter in col]\n",
    "        playrate = playrate[col_filt]\n",
    "    \n",
    "    return playrate"
   ]
  },
  {
   "cell_type": "code",
   "execution_count": null,
   "id": "12d4e08e",
   "metadata": {},
   "outputs": [],
   "source": [
    "def plot_archetype_playrate_history(color_filter='', roll=1):\n",
    "    test_frame = get_archetype_playrate_history(color_filter, roll)\n",
    "    lc = LineColors()\n",
    "    title = \"Archetpye Playrates\"\n",
    "    \n",
    "    col_filt = f\"Color Filter: {color_filter}\"\n",
    "    rol_filt = f\"Rolling Average: {roll} Days\"\n",
    "    \n",
    "    if color_filter and roll > 1:\n",
    "        title += f\"\\n{col_filt}  -  {rol_filt}\"\n",
    "    elif color_filter:\n",
    "            title += f\"\\n{col_filt}\"\n",
    "    elif roll > 1:\n",
    "            title += f\"\\n{rol_filt}\"\n",
    "    test_frame.plot(figsize=(20, 10), color=lc.get_col_array(color_filter), title=title, lw=2.5, grid=True)"
   ]
  },
  {
   "cell_type": "markdown",
   "id": "4633105c",
   "metadata": {},
   "source": [
    "# Initialization"
   ]
  },
  {
   "cell_type": "code",
   "execution_count": null,
   "id": "505f6a8f",
   "metadata": {},
   "outputs": [],
   "source": [
    "color_pairs = [''] + [WUBRG.COLOR_ALIASES_SUPPORT['Guilds'][key] for key in WUBRG.COLOR_ALIASES_SUPPORT['Guilds']]\n",
    "color_pairs"
   ]
  },
  {
   "cell_type": "code",
   "execution_count": null,
   "id": "d8d5c2cb",
   "metadata": {},
   "outputs": [],
   "source": [
    "manager = DataManager()\n",
    "manager.SET = 'NEO'\n",
    "manager.FORMAT = 'PremierDraft'"
   ]
  },
  {
   "cell_type": "code",
   "execution_count": null,
   "id": "0d16b0f1",
   "metadata": {},
   "outputs": [],
   "source": [
    "manager.get_set_data()"
   ]
  },
  {
   "cell_type": "code",
   "execution_count": null,
   "id": "2d745cc5",
   "metadata": {},
   "outputs": [],
   "source": [
    "#manager.get_summary_data()"
   ]
  },
  {
   "cell_type": "markdown",
   "id": "944f223a",
   "metadata": {},
   "source": [
    "## Current Tests"
   ]
  },
  {
   "cell_type": "markdown",
   "id": "e9fdfce5",
   "metadata": {},
   "source": [
    "## Old Tests"
   ]
  },
  {
   "cell_type": "code",
   "execution_count": null,
   "id": "f5f02864",
   "metadata": {},
   "outputs": [],
   "source": [
    "manager.card_frame(name='Virus Beetle', colors='')"
   ]
  },
  {
   "cell_type": "code",
   "execution_count": null,
   "id": "a87b6fb6",
   "metadata": {
    "scrolled": true
   },
   "outputs": [],
   "source": [
    "manager.card_frame(name='Leech Gauntlet', colors='')"
   ]
  },
  {
   "cell_type": "code",
   "execution_count": null,
   "id": "c4854fca",
   "metadata": {},
   "outputs": [],
   "source": [
    "day_frame = manager.archetype_frame(date='2022-02-14')\n",
    "win_rate_frame = win_rate_frame[win_rate_frame['Splash'] == False]\n",
    "day_frame['Games'].sum()\n",
    "day_frame"
   ]
  },
  {
   "cell_type": "code",
   "execution_count": null,
   "id": "877bb27e",
   "metadata": {
    "scrolled": false
   },
   "outputs": [],
   "source": [
    "frame = today[2][''].copy()\n",
    "avg_wr = today[0].loc['All Decks']['Win %']\n",
    "wu_avg_wr = today[1][today[1]['Colors'] == 'WU'][today[1]['Splash'] == False].iloc[0]['Win %']\n",
    "#frame['Δ WR'] = None\n",
    "frame = frame.drop(['# Seen', '# Picked', '# OH', '# GD', '# GIH', '# GND'], axis=1)\n",
    "frame['(x-μ) GP WR'] = frame['GP WR'] - avg_wr\n",
    "frame['(x-μ) GIH WR'] = frame['GIH WR'] - avg_wr\n",
    "\n",
    "frame.sort_values(by=['(x-μ) GP WR'])\n",
    "frame[frame['(x-μ) GP WR'] < frame['(x-μ) GIH WR']].sort_values(by=['(x-μ) GIH WR'])\n",
    "frame['Spikiness'] =  frame['GIH WR'] - frame['GP WR']\n",
    "frame"
   ]
  },
  {
   "cell_type": "markdown",
   "id": "ec89cba3",
   "metadata": {},
   "source": [
    "# Data Graphing and Display"
   ]
  },
  {
   "cell_type": "markdown",
   "id": "424a8404",
   "metadata": {},
   "source": [
    "## Card Summary"
   ]
  },
  {
   "cell_type": "code",
   "execution_count": null,
   "id": "073d0212",
   "metadata": {},
   "outputs": [],
   "source": [
    "plot_card_summary('Eiganjo Exemplar')"
   ]
  },
  {
   "cell_type": "code",
   "execution_count": null,
   "id": "8fb553ea",
   "metadata": {},
   "outputs": [],
   "source": [
    "plot_card_summary('Eiganjo Exemplar', 'RW')"
   ]
  },
  {
   "cell_type": "code",
   "execution_count": null,
   "id": "acee9d0d",
   "metadata": {},
   "outputs": [],
   "source": [
    "plot_card_summary('Eiganjo Exemplar', 'RW', 3)"
   ]
  },
  {
   "cell_type": "markdown",
   "id": "624e5a0f",
   "metadata": {},
   "source": [
    "## Card Pick Order Stats"
   ]
  },
  {
   "cell_type": "code",
   "execution_count": null,
   "id": "df13f2f6",
   "metadata": {},
   "outputs": [],
   "source": [
    "graph_pick_stats('Voldaren Epicure', 1)"
   ]
  },
  {
   "cell_type": "code",
   "execution_count": null,
   "id": "cd04179e",
   "metadata": {
    "scrolled": false
   },
   "outputs": [],
   "source": [
    "graph_pick_stats('Imperial Oath', 1)"
   ]
  },
  {
   "cell_type": "code",
   "execution_count": null,
   "id": "8d986ea4",
   "metadata": {},
   "outputs": [],
   "source": [
    "graph_pick_stats('Behold the Unspeakable', 3)"
   ]
  },
  {
   "cell_type": "code",
   "execution_count": null,
   "id": "8e34320b",
   "metadata": {},
   "outputs": [],
   "source": [
    "to_graph = ['Imperial Oath', 'Behold the Unspeakable', 'Virus Beetle', 'Network Disruptor']\n",
    "for card in to_graph:\n",
    "    graph_pick_stats(card, 1)"
   ]
  },
  {
   "cell_type": "markdown",
   "id": "412af02e",
   "metadata": {},
   "source": [
    "## Archetype Winrate History"
   ]
  },
  {
   "cell_type": "code",
   "execution_count": null,
   "id": "a5b24b5d",
   "metadata": {
    "scrolled": true
   },
   "outputs": [],
   "source": [
    "get_archetype_playrate_history(roll=1)"
   ]
  },
  {
   "cell_type": "code",
   "execution_count": null,
   "id": "c3c44322",
   "metadata": {
    "scrolled": false
   },
   "outputs": [],
   "source": [
    "get_archetype_playrate_history(roll=3)"
   ]
  },
  {
   "cell_type": "code",
   "execution_count": null,
   "id": "51789bb4",
   "metadata": {
    "scrolled": true
   },
   "outputs": [],
   "source": [
    "plot_archetype_winrate_history('W', 3)\n",
    "plot_archetype_winrate_history('U', 3)\n",
    "plot_archetype_winrate_history('B', 3)\n",
    "plot_archetype_winrate_history('R', 3)\n",
    "plot_archetype_winrate_history('G', 3)\n",
    "plot_archetype_winrate_history('', 3)"
   ]
  },
  {
   "cell_type": "markdown",
   "id": "4b575d6f",
   "metadata": {},
   "source": [
    "## Archetype Playrate History"
   ]
  },
  {
   "cell_type": "code",
   "execution_count": null,
   "id": "4113551d",
   "metadata": {
    "scrolled": true
   },
   "outputs": [],
   "source": [
    "get_archetype_playrate_history(roll=1)"
   ]
  },
  {
   "cell_type": "code",
   "execution_count": null,
   "id": "44fbb083",
   "metadata": {},
   "outputs": [],
   "source": [
    "get_archetype_playrate_history(roll=3)"
   ]
  },
  {
   "cell_type": "code",
   "execution_count": null,
   "id": "66f91b47",
   "metadata": {
    "scrolled": false
   },
   "outputs": [],
   "source": [
    "plot_archetype_playrate_history('W', 3)\n",
    "plot_archetype_playrate_history('U', 3)\n",
    "plot_archetype_playrate_history('B', 3)\n",
    "plot_archetype_playrate_history('R', 3)\n",
    "plot_archetype_playrate_history('G', 3)\n",
    "plot_archetype_playrate_history('', 3)"
   ]
  },
  {
   "cell_type": "markdown",
   "id": "bcbddd88",
   "metadata": {},
   "source": [
    "## Card Pick Order Changes"
   ]
  },
  {
   "cell_type": "code",
   "execution_count": null,
   "id": "19fc3726",
   "metadata": {},
   "outputs": [],
   "source": [
    "diff = compare_card_evaluations('2022-02-10', '2022-02-16')\n",
    "commons = diff[diff['Rarity'] == 'C']\n",
    "uncommons = diff[diff['Rarity'] == 'U']"
   ]
  },
  {
   "cell_type": "code",
   "execution_count": null,
   "id": "339d9905",
   "metadata": {},
   "outputs": [],
   "source": [
    "SRT_TRG = 'Δ ATA'\n",
    "commons.sort_values(SRT_TRG, ascending=False).head(20)"
   ]
  },
  {
   "cell_type": "code",
   "execution_count": null,
   "id": "b09ca293",
   "metadata": {},
   "outputs": [],
   "source": [
    "commons.sort_values(SRT_TRG, ascending=True).head(20)"
   ]
  },
  {
   "cell_type": "code",
   "execution_count": null,
   "id": "f5ad6090",
   "metadata": {},
   "outputs": [],
   "source": [
    "uncommons.sort_values(SRT_TRG, ascending=False).head(10)"
   ]
  },
  {
   "cell_type": "code",
   "execution_count": null,
   "id": "d5065106",
   "metadata": {
    "scrolled": true
   },
   "outputs": [],
   "source": [
    "uncommons.sort_values(SRT_TRG, ascending=True).head(10)"
   ]
  }
 ],
 "metadata": {
  "kernelspec": {
   "display_name": "Python 3 (ipykernel)",
   "language": "python",
   "name": "python3"
  },
  "language_info": {
   "codemirror_mode": {
    "name": "ipython",
    "version": 3
   },
   "file_extension": ".py",
   "mimetype": "text/x-python",
   "name": "python",
   "nbconvert_exporter": "python",
   "pygments_lexer": "ipython3",
   "version": "3.9.7"
  }
 },
 "nbformat": 4,
 "nbformat_minor": 5
}
