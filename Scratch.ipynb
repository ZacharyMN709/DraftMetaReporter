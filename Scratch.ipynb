{
 "cells": [
  {
   "cell_type": "code",
   "execution_count": null,
   "id": "06b7bf78",
   "metadata": {},
   "outputs": [],
   "source": [
    "from IPython.core.display import display, HTML\n",
    "display(HTML(\"<style>.container { width:95% !important; }</style>\"))"
   ]
  },
  {
   "cell_type": "code",
   "execution_count": null,
   "id": "64c57ea3",
   "metadata": {},
   "outputs": [],
   "source": [
    "from datetime import date, datetime\n",
    "import numpy as np\n",
    "import pandas as pd\n",
    "pd.options.display.float_format = '{:,.3f}'.format\n",
    "import matplotlib.pyplot as plt\n",
    "import seaborn as sns\n",
    "sns.set_theme()\n",
    "pd.set_option('display.max_rows', 1000)\n",
    "pd.set_option('display.max_columns', 50)\n",
    "\n",
    "# column_names = ['# Seen', 'ALSA', '# Picked', 'ATA', '# GP', 'GP WR', '# OH', 'OH WR', '# GD', 'GD WR', '# GIH', 'GIH WR', '# GND', 'GND WR', 'IWD', 'Color', 'Rarity']\n",
    "\n",
    "from Logger import Logger\n",
    "import WUBRG\n",
    "import consts\n",
    "import settings\n",
    "from LineColors import LineColors\n",
    "from FormatMetadata import SETS, FORMATS, SET_CONFIG\n",
    "from JSONHandler import JSONHandler\n",
    "from FormatMetadata import FormatMetadata\n",
    "from RawDataFetcher import RawDataFetcher\n",
    "from RawDataHandler import RawDataHandler\n",
    "from FramedData import FramedData\n",
    "\n",
    "LOG_LEVEL = Logger.FLG.DEFAULT\n",
    "LOG_LEVEL"
   ]
  },
  {
   "cell_type": "code",
   "execution_count": null,
   "id": "04beee88",
   "metadata": {},
   "outputs": [],
   "source": [
    "settings.ROLL"
   ]
  },
  {
   "cell_type": "markdown",
   "id": "69cadfaa",
   "metadata": {},
   "source": [
    "# Objects"
   ]
  },
  {
   "cell_type": "code",
   "execution_count": null,
   "id": "068085b9",
   "metadata": {},
   "outputs": [],
   "source": [
    "class FramedDataFuncs:   \n",
    "    def __init__(self, SET, FORMAT, LOGGER=None):\n",
    "        self._SET = SET\n",
    "        self._FORMAT = FORMAT\n",
    "        if LOGGER is None:\n",
    "            LOGGER = Logger(Logger.FLG.DEFAULT)\n",
    "        self.LOGGER = LOGGER\n",
    "        self._DATA = FramedData(SET, FORMAT, self.LOGGER)\n",
    "        self._ARCH_FUNCS = ArchFuncs(self._DATA)\n",
    "        self._SNGL_CARD_FUNCS = SingleCardFuncs(self._DATA)\n",
    "    \n",
    "    @property\n",
    "    def SET(self):\n",
    "        \"\"\"The draft set.\"\"\"\n",
    "        return self._SET\n",
    "    \n",
    "    @property\n",
    "    def FORMAT(self):\n",
    "        \"\"\"The format type.\"\"\"\n",
    "        return self._FORMAT\n",
    "    \n",
    "    @property\n",
    "    def DATA(self):\n",
    "        \"\"\"The object which contains the data about the set and format.\"\"\"\n",
    "        return self._DATA\n",
    "        \n",
    "    def check_for_updates(self):\n",
    "        \"\"\"Populates and updates all data properties, filling in missing data.\"\"\"\n",
    "        self._DATA.check_for_updates()\n",
    "\n",
    "    def reload_data(self):\n",
    "        \"\"\"Populates and updates all data properties, reloading all data.\"\"\"\n",
    "        self._DATA.reload_data()  \n",
    "    \n",
    "    def deck_group_frame(self, name=None, date=None, summary=False):\n",
    "        \"\"\"Returns a subset of the 'GROUPED_ARCHTYPE' data as a DataFrame.\"\"\"\n",
    "        return self.DATA.deck_group_frame(name, date, summary)\n",
    "     \n",
    "    def deck_archetype_frame(self, deck_color=None, date=None, summary=False):\n",
    "        \"\"\"Returns a subset of the 'SINGLE_ARCHTYPE' data as a DataFrame.\"\"\"\n",
    "        return self.DATA.deck_archetype_frame(deck_color, date, summary)\n",
    "    \n",
    "    def card_frame(self, name=None, deck_color=None, date=None, card_color=None, card_rarity=None, summary=False):\n",
    "        \"\"\"Returns a subset of the 'CARD' data as a DataFrame.\"\"\"\n",
    "        return self.DATA.card_frame(name, deck_color, date, card_color, card_rarity, summary)\n",
    "    \n",
    "    def compress_date_range_data(self, start_date, end_date, card_name=None):\n",
    "        \"\"\"Summarizes card data over a provided set of time.\"\"\"\n",
    "        return self.DATA.compress_date_range_data(start_date, end_date, card_name)\n",
    "        \n",
    "    \n",
    "    #ArchFuncs\n",
    "    def get_games_played(self, deck_color):\n",
    "        return self._ARCH_FUNCS.get_games_played(deck_color)\n",
    "        \n",
    "    def get_avg_winrate(self, day=None, arch='All Decks'):\n",
    "        return self._ARCH_FUNCS.get_avg_winrate(day, arch)\n",
    "    \n",
    "    def get_archetype_frame(self, colors, roll=None):\n",
    "        return self._ARCH_FUNCS.get_archetype_frame(colors, roll)\n",
    "\n",
    "    def get_archetype_winrate_history(self, color_filter=None, roll=None):\n",
    "        return self._ARCH_FUNCS.get_archetype_winrate_history(color_filter, roll)\n",
    "\n",
    "    def plot_archetype_winrate_history(self, color_filter=None, roll=None):\n",
    "        return self._ARCH_FUNCS.plot_archetype_winrate_history(color_filter, roll)       \n",
    "        \n",
    "    def get_archetype_playrate_history(self, color_filter=None, roll=None):\n",
    "        return self._ARCH_FUNCS.get_archetype_playrate_history(color_filter, roll)\n",
    "\n",
    "    def plot_archetype_playrate_history(self, color_filter=None, roll=None):\n",
    "        return self._ARCH_FUNCS.plot_archetype_playrate_history(color_filter, roll)\n",
    "    \n",
    "    \n",
    "    #SingleCardFuncs\n",
    "    def get_card_summary(self, card_name, colors='', roll=None):\n",
    "        return self._SNGL_CARD_FUNCS.get_card_summary(card_name, colors, roll)\n",
    "\n",
    "    def plot_card_summary(self, card_name, colors='', roll=None):\n",
    "        return self._SNGL_CARD_FUNCS.plot_card_summary(card_name, colors, roll)\n",
    "    \n",
    "    def get_pick_stats(self, card_name, roll=None):\n",
    "        return self._SNGL_CARD_FUNCS.get_pick_stats(card_name, roll)\n",
    "    \n",
    "    def plot_pick_stats(self, card_name, roll=None):\n",
    "        return self._SNGL_CARD_FUNCS.plot_pick_stats(card_name, roll)\n",
    "    \n",
    "    def card_archetype_performance(self, card_name):\n",
    "        return self._SNGL_CARD_FUNCS.card_archetype_performance(card_name)\n",
    "    \n",
    "    def stat_archetype_performance(self, stat_name, color_cols=None, min_colors=0, max_colors=5):\n",
    "        return self._SNGL_CARD_FUNCS.stat_archetype_performance(stat_name, color_cols, min_colors, max_colors)\n",
    "\n",
    "    \n",
    "    \n",
    "    def compare_card_evaluations(self, start_date, end_date):\n",
    "        def inner_func(date):\n",
    "            df = self.card_frame(date=date, deck_color='')\n",
    "            df.index = [tup[2] for tup in df.index]\n",
    "            return df\n",
    "\n",
    "        first = inner_func(date='2022-02-10')\n",
    "        last = inner_func(date='2022-02-15')\n",
    "        diff = last[['ALSA', 'ATA', 'Color', 'Rarity']].copy()\n",
    "        diff['Δ ALSA'] = first['ALSA'] - last['ALSA']\n",
    "        diff['Δ ATA'] = first['ATA'] - last['ATA']\n",
    "        return diff[['ALSA', 'Δ ALSA', 'ATA', 'Δ ATA', 'Color', 'Rarity']]\n",
    "\n",
    "\n",
    "    def get_top(self, column, count=10, asc=True, card_color=None, card_rarity=None, deck_color='', play_lim=None):\n",
    "        frame = self.card_frame(deck_color=deck_color, summary=True, card_rarity=card_rarity)\n",
    "        frame = frame.sort_values(column, ascending=asc)\n",
    "\n",
    "        if card_color is not None:\n",
    "            card_color = WUBRG.get_color_identity(card_color)\n",
    "            frame = frame[frame['Color'] == card_color]\n",
    "\n",
    "        if play_lim is not None:\n",
    "            if type(play_lim) is float: play_lim *= self.get_games_played(deck_color)\n",
    "            print(f'Minimum Games played to be included: {play_lim}')\n",
    "            frame = frame[frame['# GP'] >= play_lim]\n",
    "\n",
    "        return frame.head(count)"
   ]
  },
  {
   "cell_type": "code",
   "execution_count": null,
   "id": "90965f5e",
   "metadata": {},
   "outputs": [],
   "source": [
    "class ArchFuncs:   \n",
    "    def __init__(self, DATA):\n",
    "        self._DATA = DATA\n",
    "        \n",
    "    def get_games_played(self, deck_color):\n",
    "        if deck_color: return self._DATA.deck_archetype_frame(deck_color=deck_color, summary=True)['Games'].sum()\n",
    "        else: return self._DATA.deck_group_frame(name='All Decks', summary=True)['Games']\n",
    "    \n",
    "    def get_avg_winrate(self, day=None, arch='All Decks'):\n",
    "        if day: return self._DATA.deck_group_frame(date=day, summary=False).loc[(day, arch)]['Win %']\n",
    "        else: return self._DATA.deck_group_frame(date=day, summary=True).loc[arch]['Win %']   \n",
    "    \n",
    "    def get_archetype_frame(self, colors, roll=None):\n",
    "        if roll is None: roll = settings.ROLL\n",
    "        win_rate_frame = self._DATA.deck_archetype_frame(deck_color=colors)\n",
    "        win_rate_frame.index = [tup[0] for tup in win_rate_frame.index]\n",
    "        #win_rate_frame = win_rate_frame[['Splash', 'Games', 'Win %']]\n",
    "        win_rate_frame = win_rate_frame[win_rate_frame['Splash'] == False][['Wins', 'Games']]\n",
    "        rolling = win_rate_frame.rolling(window=roll, min_periods=1, center=True).mean().round()\n",
    "        rolling['Win %'] = round((rolling['Wins'] / rolling['Games']) * 100, 2)\n",
    "        rolling['Avg. Win%'] = [self.get_avg_winrate(idx) for idx in win_rate_frame.index]\n",
    "        rolling['2C Win%'] = [self.get_avg_winrate(idx, arch='Two-color') for idx in win_rate_frame.index]\n",
    "        rolling['Win % Offset'] = rolling['Win %'] - rolling['Avg. Win%']\n",
    "        return rolling\n",
    "\n",
    "    def get_archetype_winrate_history(self, color_filter=None, roll=None):\n",
    "        if roll is None: roll = settings.ROLL\n",
    "        d = dict()\n",
    "        for col in WUBRG.COLOR_PAIRS:\n",
    "            temp_frame = self.get_archetype_frame(col)\n",
    "            d[col] = temp_frame['Win %']\n",
    "        d['AVG'] = temp_frame ['Avg. Win%']\n",
    "        d['2C'] = temp_frame ['2C Win%']\n",
    "\n",
    "        test_frame = pd.DataFrame.from_dict(d)\n",
    "        test_frame.index = [idx[5:] for idx in test_frame.index]\n",
    "        if color_filter:\n",
    "            col_filt = [col for col in WUBRG.COLOR_PAIRS if color_filter in col] + ['AVG', '2C'] \n",
    "            test_frame = test_frame[col_filt]\n",
    "\n",
    "        rolling = test_frame.rolling(window=roll, min_periods=1, center=True).mean()\n",
    "        return rolling\n",
    "\n",
    "    def plot_archetype_winrate_history(self, color_filter=None, roll=None):\n",
    "        if roll is None: \n",
    "            roll = settings.ROLL\n",
    "        test_frame = self.get_archetype_winrate_history(color_filter, roll)\n",
    "        lc = LineColors()\n",
    "        title = f\"Archetype Winrates (from 17Lands)\\n{self._DATA.SET} - {self._DATA.FORMAT}\"\n",
    "\n",
    "        col_filt = f\"Color Filter: {color_filter}\"\n",
    "        rol_filt = f\"Rolling Average: {roll} Days\"\n",
    "\n",
    "        if color_filter and roll > 1:\n",
    "            title += f\"\\n{col_filt}  -  {rol_filt}\"\n",
    "        elif color_filter:\n",
    "                title += f\"\\n{col_filt}\"\n",
    "        elif roll > 1:\n",
    "                title += f\"\\n{rol_filt}\"\n",
    "        test_frame.plot(figsize=(20, 10), color=lc.get_col_array(color_filter), title=title, lw=2.5, grid=True)\n",
    "        plt.xlabel(\"Date\")\n",
    "        plt.ylabel(\"Win Percent\")\n",
    "        \n",
    "        \n",
    "    #TODO: Implement a more generic version of this that takes in a list of deck colours to include as output. \n",
    "    def get_archetype_playrate_history(self, color_filter=None, roll=None):\n",
    "        if roll is None: roll = settings.ROLL\n",
    "        d = dict()\n",
    "        for col in WUBRG.COLOR_PAIRS:\n",
    "            d[col] = self.get_archetype_frame(col)['Games']\n",
    "\n",
    "        test_frame = pd.DataFrame.from_dict(d)\n",
    "        test_frame.index = [idx[5:] for idx in test_frame.index]\n",
    "        rolling = test_frame.rolling(window=roll, min_periods=1, center=True).mean()\n",
    "        total = rolling.sum(axis=1)\n",
    "        playrate = rolling.divide(list(total),axis=0) * 100\n",
    "\n",
    "        if color_filter:\n",
    "            col_filt = [col for col in WUBRG.COLOR_PAIRS if color_filter in col]\n",
    "            playrate = playrate[col_filt]\n",
    "\n",
    "        return playrate\n",
    "\n",
    "    def plot_archetype_playrate_history(self, color_filter=None, roll=None):\n",
    "        if roll is None: \n",
    "            roll = settings.ROLL\n",
    "        test_frame = self.get_archetype_playrate_history(color_filter, roll)\n",
    "        lc = LineColors()\n",
    "        title = f\"Archetpye Playrates (from 17Lands)\\n{self._DATA.SET} - {self._DATA.FORMAT}\"\n",
    "\n",
    "        col_filt = f\"Color Filter: {color_filter}\"\n",
    "        rol_filt = f\"Rolling Average: {roll} Days\"\n",
    "\n",
    "        if color_filter and roll > 1:\n",
    "            title += f\"\\n{col_filt}  -  {rol_filt}\"\n",
    "        elif color_filter:\n",
    "                title += f\"\\n{col_filt}\"\n",
    "        elif roll > 1:\n",
    "                title += f\"\\n{rol_filt}\"\n",
    "        test_frame.plot(figsize=(20, 10), color=lc.get_col_array(color_filter), title=title, lw=2.5, grid=True)\n",
    "        plt.xlabel(\"Date\")\n",
    "        plt.ylabel(\"Percent of Metagame\")"
   ]
  },
  {
   "cell_type": "code",
   "execution_count": null,
   "id": "0743e0e1",
   "metadata": {},
   "outputs": [],
   "source": [
    "class SingleCardFuncs:   \n",
    "    def __init__(self, DATA):\n",
    "        self._DATA = DATA   \n",
    "\n",
    "    def get_card_summary(self, card_name, colors='', roll=None):\n",
    "        if roll is None: roll = settings.ROLL\n",
    "        frame = self._DATA.card_frame(name=card_name, deck_color=colors)[['GIH WR', 'ALSA', '# GP', 'IWD']]\n",
    "        frame.index = [tup[0][5:] for tup in frame.index]\n",
    "        rolling = frame.rolling(window=roll, min_periods=1, center=True).mean()\n",
    "        return rolling\n",
    "\n",
    "    def plot_card_summary(self, card_name, colors='', roll=None):\n",
    "        if roll is None: roll = settings.ROLL\n",
    "        rolling = self.get_card_summary(card_name, colors, roll)\n",
    "        title = f\"{self._DATA.SET} - {self._DATA.FORMAT}\\n{card_name}\"\n",
    "\n",
    "        col_filt = f\"Color Filter: {colors}\"\n",
    "        rol_filt = f\"Rolling Average: {roll} Days\"\n",
    "\n",
    "        if colors and roll > 1:\n",
    "            title += f\"\\n{col_filt}  -  {rol_filt}\"\n",
    "        elif colors:\n",
    "                title += f\"\\n{col_filt}\"\n",
    "        elif roll > 1:\n",
    "                title += f\"\\n{rol_filt}\"\n",
    "\n",
    "        rolling.plot(subplots=True, layout=(2,2), figsize=(12,8), title=title)\n",
    "        plt.xlabel(\"Date\")\n",
    "      \n",
    "    def get_pick_stats(self, card_name, roll=None):\n",
    "        if roll is None: roll = settings.ROLL\n",
    "        taken_data = self._DATA.card_frame(name=card_name, deck_color='')[['ALSA', 'ATA']]\n",
    "        taken_data.index = [tup[0][5:] for tup in taken_data.index]\n",
    "        taken_data = taken_data.rolling(window=roll, min_periods=1, center=True).mean()\n",
    "        return taken_data\n",
    "    \n",
    "    def plot_pick_stats(self, card_name, roll=None):\n",
    "        if roll is None: roll = settings.ROLL\n",
    "        taken_data = self.get_pick_stats(card_name, roll)\n",
    "\n",
    "        mx = min(max(taken_data.max()) + 0.25, 15) \n",
    "        mn = max(min(taken_data.min()) - 0.25, 1)\n",
    "        tit_str = f\"{self._DATA.SET} - {self._DATA.FORMAT}\\n{card_name}\"\n",
    "\n",
    "        taken_data.plot(ylim=(mx, mn), grid=True, title=tit_str)\n",
    "        plt.xlabel(\"Date\")\n",
    "        plt.ylabel(\"Pick Number\")\n",
    "    \n",
    "    def card_archetype_performance(self, card_name):\n",
    "        d = dict()\n",
    "        d['AVG'] = self._DATA.card_frame(card_name, '', summary=True)\n",
    "        for col in WUBRG.COLOR_PAIRS:\n",
    "            d[col] = self._DATA.card_frame(card_name, col, summary=True)\n",
    "\n",
    "        test_frame = pd.DataFrame.from_dict(d).T\n",
    "        return test_frame\n",
    "    \n",
    "    def stat_archetype_performance(self, stat_name, color_cols=None):\n",
    "        series = self._DATA.card_frame(summary=True)[stat_name]\n",
    "        frame = series.reset_index(level=0)\n",
    "        ret = pd.pivot_table(frame, index='Name', columns='Deck Colors')\n",
    "        ret.columns = ret.columns.droplevel(0)\n",
    "        ret = ret[WUBRG.COLOR_GROUPS]  #Re-orders the columns in WUBRG order\n",
    "        if color_cols is not None:\n",
    "            ret = ret[color_cols]\n",
    "        return ret"
   ]
  },
  {
   "cell_type": "code",
   "execution_count": null,
   "id": "53cab76f",
   "metadata": {},
   "outputs": [],
   "source": [
    "class SetManager:\n",
    "    def __init__(self, SET, LOGGER=None):\n",
    "        if LOGGER is None:\n",
    "            LOGGER = Logger(LOG_LEVEL)\n",
    "        self.LOGGER = LOGGER\n",
    "        self._SET = SET\n",
    "        self._DATA = {f: FramedDataFuncs(SET, f, self.LOGGER) for f in FORMATS}\n",
    "    \n",
    "    \n",
    "    def check_for_updates(self):\n",
    "        \"\"\"Populates and updates all data properties, filling in missing data.\"\"\"\n",
    "        self.BO1.check_for_updates()   \n",
    "        self.BO3.check_for_updates()   \n",
    "        self.QD.check_for_updates()\n",
    "\n",
    "    def reload_data(self):\n",
    "        \"\"\"Populates and updates all data properties, reloading all data.\"\"\"\n",
    "        self.BO1.reload_data()   \n",
    "        self.BO3.reload_data()   \n",
    "        self.QD.reload_data()  \n",
    "    \n",
    "    @property\n",
    "    def SET(self):\n",
    "        \"\"\"The draft set.\"\"\"\n",
    "        return self._SET\n",
    "            \n",
    "    @property\n",
    "    def BO1(self):\n",
    "        \"\"\"Premier Draft data.\"\"\"\n",
    "        return self._DATA['PremierDraft']\n",
    "    \n",
    "    @property\n",
    "    def BO3(self):\n",
    "        \"\"\"Traditional Draft data.\"\"\"\n",
    "        return self._DATA['TradDraft']\n",
    "    \n",
    "    @property\n",
    "    def QD(self):\n",
    "        \"\"\"Quick Draft data.\"\"\"\n",
    "        return self._DATA['QuickDraft']"
   ]
  },
  {
   "cell_type": "markdown",
   "id": "7ef6dfba",
   "metadata": {},
   "source": [
    "# Initialization"
   ]
  },
  {
   "cell_type": "code",
   "execution_count": null,
   "id": "ec81aa48",
   "metadata": {},
   "outputs": [],
   "source": [
    "set_data = SetManager('NEO')"
   ]
  },
  {
   "cell_type": "code",
   "execution_count": null,
   "id": "794546b8",
   "metadata": {
    "scrolled": true
   },
   "outputs": [],
   "source": [
    "set_data.check_for_updates()"
   ]
  },
  {
   "cell_type": "markdown",
   "id": "12a93ead",
   "metadata": {},
   "source": [
    "## Current Tests"
   ]
  },
  {
   "cell_type": "code",
   "execution_count": null,
   "id": "d86ea35c",
   "metadata": {},
   "outputs": [],
   "source": [
    "import requests\n",
    "from time import sleep\n",
    "from datetime import date, time, datetime, timedelta\n",
    "import pandas as pd\n",
    "\n",
    "from Logger import Logger\n",
    "\n",
    "class CallScryfall():\n",
    "    _TRIES = 5\n",
    "    _FAIL_DELAY = 60\n",
    "    _SUCC_DELAY = 1\n",
    "    \n",
    "    _BASE_URL = 'https://api.scryfall.com/'\n",
    "    \n",
    "    def __init__(self, LOGGER=None):\n",
    "        if LOGGER is None:\n",
    "            LOGGER = Logger()\n",
    "        self.LOGGER = LOGGER\n",
    "        pass\n",
    "\n",
    "\n",
    "    def _fetch(self, url: str) -> object:\n",
    "        \"\"\"\n",
    "        Attempts to get json data from a url.\n",
    "        :param url: The url to get data from\n",
    "        :return: A json object or None\n",
    "        \"\"\"\n",
    "        success = False\n",
    "        count = 0\n",
    "\n",
    "        while not success:\n",
    "            count += 1\n",
    "\n",
    "            try:\n",
    "                self.LOGGER.log(f'Attempting to get data from {url}.', Logger.FLG.DEBUG)\n",
    "                response = requests.get(url)\n",
    "                data = response.json()\n",
    "\n",
    "                success = True\n",
    "                sleep(self._SUCC_DELAY)\n",
    "                return data\n",
    "            except:\n",
    "                if count < self._TRIES:\n",
    "                    self.LOGGER.log(f'Failed to get data. Trying again in {self._FAIL_DELAY} seconds.', Logger.FLG.DEFAULT)\n",
    "                    sleep(self._FAIL_DELAY)\n",
    "                    continue\n",
    "                else:\n",
    "                    self.LOGGER.log(f'Failed to get data after {self._TRIES} attempts.', Logger.FLG.ERROR)\n",
    "                    self.LOGGER.log(f'Failed URL: {url}', Logger.FLG.ERROR)\n",
    "                    return None        \n",
    "    \n",
    "    \n",
    "    def get_set_cards(self, SET):\n",
    "        cards = []\n",
    "        next_page = True\n",
    "        url = f'{self._BASE_URL}cards/search?format=json&include_extras=false&include_multilingual=false&order=set&page=1&q=e%3A{SET}&unique=cards'\n",
    "        \n",
    "        while next_page:\n",
    "            response = self._fetch(url)\n",
    "            cards += response['data']\n",
    "            if response['has_more']:\n",
    "                url = response['next_page']\n",
    "            else:\n",
    "                next_page = False\n",
    "        \n",
    "        return cards\n",
    "    \n",
    "    def get_card_by_name(self, NAME):\n",
    "        \"\"\"\n",
    "        Gets card data from scryfall based on a name. Scryfall's fuzzy filter is\n",
    "        used to handle imprecise queries and spelling errors.\n",
    "        :param raw_card_name: The card name provided by a user\n",
    "        :return: A card info struct which contains card data, and an error\n",
    "        message if a problem occurred.\n",
    "        \"\"\"\n",
    "        card_info = dict()\n",
    "        card_info['name'] = NAME\n",
    "\n",
    "        # Attempt to get information on the card.\n",
    "        try:\n",
    "            response = self._fetch(f'{self._BASE_URL}cards/named?fuzzy={NAME}')\n",
    "\n",
    "            # If is not a card, do some processing and return the struct with some information.\n",
    "            if response['object'] != 'card':\n",
    "                # If the response type is an error, use that as the message.\n",
    "                if response['object'] == 'error':\n",
    "                    if response['details'][:20] == 'Too many cards match':\n",
    "                        card_info['err_msg'] = f'Error: Multiple card matches for \"{NAME}\"'\n",
    "                    else:\n",
    "                        card_info['err_msg'] = f'Error: Cannot find card \"{NAME}\"'\n",
    "                # If the search return a non-card, add that as the error message.\n",
    "                else:\n",
    "                    card_info['err_msg'] = f'Error: \"{NAME}\" returned non-card'\n",
    "                return card_info\n",
    "        # If an exception occurs, print it, and add an error massage to the struct.\n",
    "        except Exception as ex:\n",
    "            self.LOGGER.log(ex, Logger.FLG.ERROR)\n",
    "            card_info['err_msg'] = f'Error: Failed to query Scryfall for {NAME}\\r\\n{ex}'\n",
    "            return card_info\n",
    "            \n",
    "        # If no problems occurred, get the relevant card info and populate the card_info_struct\n",
    "        to_remove = to_remove = ['oracle_id', 'mtgo_id', 'multiverse_ids', 'tcgplayer_id', 'cardmarket_id', \n",
    "                                 'lang', 'released_at', 'highres_image', 'image_status', \n",
    "                                 'legalities', 'games', 'reserved', 'foil', 'nonfoil', 'finishes', \n",
    "                                 'oversized', 'promo', 'reprint', 'variation', \n",
    "                                 'set_id', 'set_name', 'set_type', 'set_uri', 'set_search_uri', 'scryfall_set_uri', \n",
    "                                 'rulings_uri', 'prints_search_uri', 'related_uris', 'prices', 'purchase_uris',\n",
    "                                 'digital', 'card_back_id', 'border_color', 'frame', 'full_art', 'textless',\n",
    "                                 'booster', 'story_spotlight', 'edhrec_rank', 'flavor_text', 'artist', 'artist_ids', 'artist_id',\n",
    "                                 'illustration_id', 'preview', 'security_stamp', 'image_uris', 'uri', 'scryfall_uri']\n",
    "        for prop in to_remove:\n",
    "            if prop in response:\n",
    "                del response[prop]\n",
    "        if 'card_faces' in response:\n",
    "            for face in response['card_faces']:\n",
    "                for prop in to_remove:\n",
    "                    if prop in face:\n",
    "                        del face[prop]\n",
    "        return response"
   ]
  },
  {
   "cell_type": "code",
   "execution_count": null,
   "id": "98084478",
   "metadata": {},
   "outputs": [],
   "source": [
    "from enum import unique\n",
    "\n",
    "#@unique\n",
    "class CardLayouts():\n",
    "    NORMAL = 0\n",
    "    ADVENTURE = 1\n",
    "    SLPIT = 2\n",
    "    TRANSFORM = 3\n",
    "    MODAL_DFC = 4\n",
    "\n",
    "\n",
    "class Card():\n",
    "    # TODO: Consider expanding this to conatin more information.\n",
    "    # Pieces of information could be Keywords, Types, Faces, etc.\n",
    "    \n",
    "    API_URL = 'https://api.scryfall.com/cards/'\n",
    "    SCRY_URL = 'https://scryfall.com/card/'\n",
    "    IMG_URL = 'https://c1.scryfall.com/file/scryfall-cards/'\n",
    "    \n",
    "    def from_name(name):\n",
    "        scry = CallScryfall()\n",
    "        json = scry.get_card_by_name(name)\n",
    "        return Card(json)\n",
    "    \n",
    "    def _handle_layout(self, layout):\n",
    "        # This property is likely very important in future-proofing this object, \n",
    "        # when handling cards which have any deviation from the standard frame.\n",
    "        # https://scryfall.com/docs/api/layouts\n",
    "        # relevant_layouts = ['normal', adventure', 'split', 'transform', 'modal_dfc']\n",
    "        if layout == 'normal': \n",
    "            self.LAYOUT = CardLayouts.NORMAL\n",
    "            self.TWO_SIDED = False\n",
    "            self.SPLIT = False\n",
    "        elif layout == 'adventure': \n",
    "            self.LAYOUT = CardLayouts.ADVENTURE\n",
    "            self.TWO_SIDED = False\n",
    "            self.SPLIT = True\n",
    "        elif layout == 'split': \n",
    "            self.LAYOUT = CardLayouts.SLPIT\n",
    "            self.TWO_SIDED = False\n",
    "            self.SPLIT = True\n",
    "        elif layout == 'transform': \n",
    "            self.LAYOUT = CardLayouts.TRANSFORM\n",
    "            self.TWO_SIDED = True\n",
    "            self.SPLIT = False\n",
    "        elif layout == 'modal_dfc': \n",
    "            self.LAYOUT = CardLayouts.MODAL_DFC\n",
    "            self.TWO_SIDED = True\n",
    "            self.SPLIT = False\n",
    "        else: raise Exception(f\"Unknown layout '{layout}'\")\n",
    "\n",
    "    def __init__(self, json):\n",
    "        if json['object'] != 'card':\n",
    "            raise Exception(\"Invalid JSON provided! Object type is not 'card'\")\n",
    "        \n",
    "        # Card ID info\n",
    "        self.ID = json['id']\n",
    "        self.ARENA_ID = json['arena_id']\n",
    "        self.SET = json['set'].upper()\n",
    "        self.RARITY = json['rarity']\n",
    "        self.FULL_NAME = json['name']\n",
    "        self.NUMBER = json['collector_number']\n",
    "        self._handle_layout(json['layout'])\n",
    "\n",
    "        # TODO: Determine the properties required for a card face, and how to mave the main card\n",
    "        # access the appropriate ones based on type.\n",
    "        \n",
    "        # Card Info\n",
    "        self.CMC = json['cmc']\n",
    "        #type_line\n",
    "        self.COLOR_IDENTITY = \"\".join(json['color_identity'])\n",
    "        #keywords\n",
    "        \n",
    "        if 'card_faces' in json: \n",
    "            self.NAME = json['card_faces'][0]['name']\n",
    "            self.MANA_COST = json['card_faces'][0]['mana_cost']\n",
    "        else: \n",
    "            self.NAME = self.FULL_NAME\n",
    "            self.MANA_COST = json['mana_cost']\n",
    "            \n",
    "            \n",
    "        \n",
    "\n",
    "        \n",
    "    @property\n",
    "    def API(self):\n",
    "        \"\"\"Link for the API call of the card\"\"\"\n",
    "        return f\"{self.API_URL}{self.ID}\"\n",
    "\n",
    "    @property\n",
    "    def URI(self):\n",
    "        \"\"\"Shortened link to the Scryfall page for the card\"\"\"\n",
    "        return f\"{self.SCRY_URL}{self.SET.lower()}/{self.NUMBER}\"\n",
    "    \n",
    "    sizes = ['small', 'normal', 'large', 'png', 'art_crop', 'border_crop']\n",
    "    def IMAGE_URL(self, size='normal', face='front'):\n",
    "        \"\"\"Returns a link to the \"\"\"\n",
    "        return f\"{self.IMG_URL}{size}/{face}/{self.ID[0]}/{self.ID[1]}/{self.ID}.jpg\"\n",
    "\n",
    "    def __str__(self):\n",
    "        return self.FULL_NAME\n",
    "\n",
    "    def __repr__(self):\n",
    "        return self.FULL_NAME\n"
   ]
  },
  {
   "cell_type": "code",
   "execution_count": null,
   "id": "2ffab1b0",
   "metadata": {},
   "outputs": [],
   "source": [
    "scry = CallScryfall()"
   ]
  },
  {
   "cell_type": "code",
   "execution_count": null,
   "id": "06782c73",
   "metadata": {
    "scrolled": false
   },
   "outputs": [],
   "source": [
    "normal = scry.get_card_by_name('Jukai Preserver')\n",
    "normal"
   ]
  },
  {
   "cell_type": "code",
   "execution_count": null,
   "id": "6742fb39",
   "metadata": {
    "scrolled": false
   },
   "outputs": [],
   "source": [
    "transform = scry.get_card_by_name('Boseiju reaches Skyward')\n",
    "transform"
   ]
  },
  {
   "cell_type": "code",
   "execution_count": null,
   "id": "548a601a",
   "metadata": {
    "scrolled": false
   },
   "outputs": [],
   "source": [
    "adventure = scry.get_card_by_name('Bonecrusher Giant')\n",
    "adventure"
   ]
  },
  {
   "cell_type": "code",
   "execution_count": null,
   "id": "a8dad403",
   "metadata": {
    "scrolled": false
   },
   "outputs": [],
   "source": [
    "modal = scry.get_card_by_name('Shatterskull Smashing')\n",
    "modal"
   ]
  },
  {
   "cell_type": "code",
   "execution_count": null,
   "id": "06981555",
   "metadata": {
    "scrolled": true
   },
   "outputs": [],
   "source": [
    "split = scry.get_card_by_name('Connive')\n",
    "split"
   ]
  },
  {
   "cell_type": "code",
   "execution_count": null,
   "id": "4a09ecec",
   "metadata": {},
   "outputs": [],
   "source": [
    "card = Card(card)\n",
    "card.FULL_NAME"
   ]
  },
  {
   "cell_type": "code",
   "execution_count": null,
   "id": "a3a4c48e",
   "metadata": {},
   "outputs": [],
   "source": [
    "print(card.IMAGE_URL('large'))"
   ]
  },
  {
   "cell_type": "code",
   "execution_count": null,
   "id": "0ec4206a",
   "metadata": {},
   "outputs": [],
   "source": [
    "cards = scry.get_set_cards('NEO')\n",
    "cards"
   ]
  },
  {
   "cell_type": "code",
   "execution_count": null,
   "id": "2513c64f",
   "metadata": {},
   "outputs": [],
   "source": [
    "from functools import cmp_to_key\n",
    "    \n",
    "def compress_date_range_data(start_date, end_date, card_name=None):\n",
    "    # Set up dictionaries for quicker sorting.\n",
    "    COLOR_INDEXES = { WUBRG.COLOR_GROUPS[x]: x for x in range(0, len(WUBRG.COLOR_GROUPS)) }\n",
    "    #TODO: Have the cards be pulled from Scryfall via SetMetadata\n",
    "    CARDS = list(set_data.BO1.card_frame(summary=True, deck_color='').reset_index(level=0).index)    \n",
    "    CARD_INDEXES = {CARDS[x]: x for x in range(0, len(CARDS))}\n",
    "\n",
    "    # Creating a custom sorting algortihm\n",
    "    def compare(pair1, pair2):\n",
    "        # Convert the colors and names into numeric indexes\n",
    "        color1, name1 = pair1\n",
    "        col_idx1 = COLOR_INDEXES[color1]\n",
    "        name_idx1 = CARD_INDEXES[name1]\n",
    "        color2, name2 = pair2\n",
    "        col_idx2 = COLOR_INDEXES[color2]\n",
    "        name_idx2 = CARD_INDEXES[name2]\n",
    "\n",
    "        # Sort by deck colour than card number.\n",
    "        if col_idx1 == col_idx2:\n",
    "            if name_idx1 < name_idx2: return -1\n",
    "            else: return 1\n",
    "        if col_idx1 < col_idx2: return -1\n",
    "        else: return 1\n",
    "\n",
    "    compare_key = cmp_to_key(compare)\n",
    "\n",
    "    # The columns which have win percents.\n",
    "    percent_cols = ['GP', 'OH', 'GD', 'GIH', 'GND']\n",
    "    \n",
    "    # Get the relevant dates (and card)\n",
    "    frame = set_data.BO1.card_frame(card_name, date=slice(start_date, end_date)).copy()\n",
    "    \n",
    "    # Calculate helper stats to recalculate value later.\n",
    "    frame['ALSA SUM'] = frame['ALSA'] * frame['# Seen']\n",
    "    frame['ATA SUM'] = frame['ATA'] * frame['# Picked']\n",
    "    for col in percent_cols:\n",
    "        frame[f'# {col} WINS'] = frame[f'# {col}'] * frame[f'{col} WR']\n",
    "    \n",
    "    # Take the expanded frame, and drop the dates.\n",
    "    frame = frame.reset_index(level=0)\n",
    "    frame = frame.drop('Date', axis=1)\n",
    "\n",
    "    # Sum the frame by deck colours and cards.\n",
    "    temp = frame.groupby(['Deck Colors', 'Name']).max() #Used to preserve color and rarity.\n",
    "    frame = frame.groupby(['Deck Colors', 'Name']).sum()\n",
    "    frame['Color'] = temp['Color']\n",
    "    frame['Rarity'] = temp['Rarity']\n",
    "\n",
    "    # Re-caulculate the stats based on the processing from above.\n",
    "    frame['ALSA'] = frame['ALSA SUM'] / frame['# Seen']\n",
    "    frame['ATA'] = frame['ATA SUM'] / frame['# Picked']\n",
    "    for col in ['GP', 'OH', 'GD', 'GIH', 'GND']:\n",
    "        frame[f'{col} WR'] = frame[f'# {col} WINS'] / frame[f'# {col}']\n",
    "    frame['IWD'] = frame['GIH WR'] - frame['GND WR']\n",
    "    \n",
    "    # Trim the helper columns from the epanded frame.\n",
    "    summed = frame[['# Seen', 'ALSA', '# Picked', 'ATA', '# GP', 'GP WR', '# OH', 'OH WR', '# GD', 'GD WR', '# GIH', 'GIH WR', '# GND', 'GND WR', 'IWD', 'Color', 'Rarity']]\n",
    "    idx = list(summed.index)\n",
    "    idx.sort(key=compare_key)\n",
    "    summed = summed.set_index([idx])\n",
    "    \n",
    "    return summed"
   ]
  },
  {
   "cell_type": "code",
   "execution_count": null,
   "id": "4ca22bb3",
   "metadata": {},
   "outputs": [],
   "source": [
    "comp_new = compress_date_range_data('2022-02-28', '2022-03-10')\n",
    "comp_new"
   ]
  },
  {
   "cell_type": "code",
   "execution_count": null,
   "id": "0aeaafde",
   "metadata": {},
   "outputs": [],
   "source": [
    "set_data.BO1.compress_date_range_data('2022-02-28', '2022-03-10')"
   ]
  },
  {
   "cell_type": "code",
   "execution_count": null,
   "id": "237971a7",
   "metadata": {},
   "outputs": [],
   "source": [
    "def gt(x, y):  #Used for function pointer shenanigans\n",
    "    return x > y\n",
    "\n",
    "def lt(x, y):  #Used for function pointer shenanigans\n",
    "    return x < y\n",
    "\n",
    "def filter_qudrant_cards_df(func1, func2, iwd_thresh=0, play_lim=0.01, card_rarity=None, deck_color=''):\n",
    "    frame = set_data.BO1.card_frame(deck_color=deck_color, summary=True, card_rarity=card_rarity)\n",
    "    \n",
    "    # TODO: Make the mean different based on card rarity so cards aren't moved into incorrect categories.\n",
    "    \n",
    "    if play_lim is not None:\n",
    "        if type(play_lim) is float: play_lim *= set_data.BO1.get_games_played(deck_color)\n",
    "        print(f'Minimum Games played to be included: {play_lim}')\n",
    "        frame = frame[frame['# GP'] >= play_lim]\n",
    "        \n",
    "    games_played_mean = frame['# GP'].mean()\n",
    "    cards = frame[func1(frame['IWD'], iwd_thresh)]\n",
    "    cards = cards[func2(cards['# GP'], games_played_mean)]\n",
    "    cards = cards.sort_values('IWD', ascending=func1==lt)\n",
    "    return cards\n",
    "\n",
    "\n",
    "def get_trap_cards(card_rarity=None, deck_color='', iwd_thresh=0, play_lim=0.01):\n",
    "    return filter_qudrant_cards_df(lt, gt, iwd_thresh, play_lim, card_rarity, deck_color)\n",
    "\n",
    "def get_niche_cards(card_rarity=None, deck_color='', iwd_thresh=0, play_lim=0.01):\n",
    "    return filter_qudrant_cards_df(gt, lt, iwd_thresh, play_lim, card_rarity, deck_color)\n",
    "\n",
    "def get_staple_cards(card_rarity=None, deck_color='', iwd_thresh=0, play_lim=0.01):\n",
    "    return filter_qudrant_cards_df(gt, gt, iwd_thresh, play_lim, card_rarity, deck_color)\n",
    "\n",
    "def get_dreg_cards(card_rarity=None, deck_color='', iwd_thresh=0, play_lim=0.01):\n",
    "    return filter_qudrant_cards_df(lt, lt, iwd_thresh, play_lim, card_rarity, deck_color)"
   ]
  },
  {
   "cell_type": "code",
   "execution_count": null,
   "id": "c8c140ac",
   "metadata": {
    "scrolled": true
   },
   "outputs": [],
   "source": [
    "get_niche_cards(deck_color='GW', card_rarity='CU')"
   ]
  },
  {
   "cell_type": "code",
   "execution_count": null,
   "id": "c5036dbe",
   "metadata": {},
   "outputs": [],
   "source": [
    "set_data.BO1.card_archetype_performance(\"Era of Enlightenment\")"
   ]
  },
  {
   "cell_type": "markdown",
   "id": "2afd72b9",
   "metadata": {},
   "source": [
    "# TODO"
   ]
  },
  {
   "cell_type": "markdown",
   "id": "d03c8e3e",
   "metadata": {},
   "source": [
    "- Calculate archetype openess\n",
    " - GIH WR & ALSA based\n",
    " - 2.25 of a common per draft \n",
    "- Generate a summary frame from X last days (or from between any two days)\n",
    " - Have cardnames pull from a list from metadata.\n",
    "- Improve graphing capabilities\n",
    " - Modify Graphs so they also save an image to a cache folder.\n",
    " - Implement better graph titles and axes\n",
    " - Update functions to be more general, and have DataFrames piped into them.\n",
    "- Expend on log handling in existing objects.\n",
    "- Generate a list of cards for a set using Scryfall.\n",
    " - Better organize card data using objects and helper functions."
   ]
  },
  {
   "cell_type": "markdown",
   "id": "ec89cba3",
   "metadata": {},
   "source": [
    "# Data Graphing and Display"
   ]
  },
  {
   "cell_type": "markdown",
   "id": "c97c2527",
   "metadata": {},
   "source": [
    "## Card Summary"
   ]
  },
  {
   "cell_type": "code",
   "execution_count": null,
   "id": "870b8231",
   "metadata": {},
   "outputs": [],
   "source": [
    "set_data.BO1.plot_card_summary(\"Fade into Antiquity\", roll=3)"
   ]
  },
  {
   "cell_type": "code",
   "execution_count": null,
   "id": "e709560f",
   "metadata": {},
   "outputs": [],
   "source": [
    "set_data.BO1.plot_card_summary(\"Befriending the Moths\", roll=3)"
   ]
  },
  {
   "cell_type": "code",
   "execution_count": null,
   "id": "98462db9",
   "metadata": {},
   "outputs": [],
   "source": [
    "set_data.BO1.plot_card_summary(\"Michiko's Reign of Truth\", roll=3)"
   ]
  },
  {
   "cell_type": "code",
   "execution_count": null,
   "id": "feac13ad",
   "metadata": {},
   "outputs": [],
   "source": [
    "set_data.BO1.plot_card_summary(\"The Fall of Lord Konda\", roll=3)"
   ]
  },
  {
   "cell_type": "code",
   "execution_count": null,
   "id": "925a8e09",
   "metadata": {},
   "outputs": [],
   "source": [
    "set_data.BO1.plot_card_summary('Sunblade Samurai', roll=3)"
   ]
  },
  {
   "cell_type": "code",
   "execution_count": null,
   "id": "2e86bf18",
   "metadata": {
    "scrolled": false
   },
   "outputs": [],
   "source": [
    "set_data.BO1.get_top('GIH WR', count=25, asc=False, deck_color='', card_color=None, card_rarity='RM', play_lim=0.005)"
   ]
  },
  {
   "cell_type": "markdown",
   "id": "624e5a0f",
   "metadata": {},
   "source": [
    "## Card Pick Order Stats"
   ]
  },
  {
   "cell_type": "code",
   "execution_count": null,
   "id": "cd04179e",
   "metadata": {
    "scrolled": false
   },
   "outputs": [],
   "source": [
    "set_data.BO1.plot_pick_stats('Imperial Oath', 3)"
   ]
  },
  {
   "cell_type": "code",
   "execution_count": null,
   "id": "8d986ea4",
   "metadata": {},
   "outputs": [],
   "source": [
    "set_data.BO1.plot_pick_stats('Behold the Unspeakable', 3)"
   ]
  },
  {
   "cell_type": "code",
   "execution_count": null,
   "id": "8e34320b",
   "metadata": {},
   "outputs": [],
   "source": [
    "to_graph = ['Imperial Oath', 'Behold the Unspeakable', 'Virus Beetle', 'Network Disruptor']\n",
    "for card in to_graph:\n",
    "    set_data.BO1.plot_pick_stats(card, 1)"
   ]
  },
  {
   "cell_type": "markdown",
   "id": "412af02e",
   "metadata": {},
   "source": [
    "## Archetype Winrate History"
   ]
  },
  {
   "cell_type": "code",
   "execution_count": null,
   "id": "c3c44322",
   "metadata": {
    "scrolled": false
   },
   "outputs": [],
   "source": [
    "set_data.BO1.get_archetype_winrate_history()"
   ]
  },
  {
   "cell_type": "code",
   "execution_count": null,
   "id": "51789bb4",
   "metadata": {
    "scrolled": false
   },
   "outputs": [],
   "source": [
    "set_data.BO1.plot_archetype_winrate_history('')"
   ]
  },
  {
   "cell_type": "code",
   "execution_count": null,
   "id": "797c4e10",
   "metadata": {
    "scrolled": false
   },
   "outputs": [],
   "source": [
    "set_data.BO3.plot_archetype_winrate_history('')"
   ]
  },
  {
   "cell_type": "markdown",
   "id": "0cbf46f6",
   "metadata": {},
   "source": [
    "## Archetype Playrate History"
   ]
  },
  {
   "cell_type": "code",
   "execution_count": null,
   "id": "e3e74e87",
   "metadata": {},
   "outputs": [],
   "source": [
    "set_data.BO1.get_archetype_playrate_history()"
   ]
  },
  {
   "cell_type": "code",
   "execution_count": null,
   "id": "81f4327a",
   "metadata": {
    "scrolled": false
   },
   "outputs": [],
   "source": [
    "set_data.BO1.plot_archetype_playrate_history('')"
   ]
  },
  {
   "cell_type": "code",
   "execution_count": null,
   "id": "44f9ed90",
   "metadata": {
    "scrolled": false
   },
   "outputs": [],
   "source": [
    "set_data.BO3.plot_archetype_playrate_history('')"
   ]
  },
  {
   "cell_type": "markdown",
   "id": "bcbddd88",
   "metadata": {},
   "source": [
    "## Card Pick Order Changes"
   ]
  },
  {
   "cell_type": "code",
   "execution_count": null,
   "id": "19fc3726",
   "metadata": {},
   "outputs": [],
   "source": [
    "diff = set_data.BO1.compare_card_evaluations('2022-02-17', '2022-03-03')\n",
    "commons = diff[diff['Rarity'] == 'C']\n",
    "uncommons = diff[diff['Rarity'] == 'U']"
   ]
  },
  {
   "cell_type": "code",
   "execution_count": null,
   "id": "339d9905",
   "metadata": {},
   "outputs": [],
   "source": [
    "SRT_TRG = 'Δ ALSA'\n",
    "commons.sort_values(SRT_TRG, ascending=False).head(20)"
   ]
  },
  {
   "cell_type": "code",
   "execution_count": null,
   "id": "b09ca293",
   "metadata": {},
   "outputs": [],
   "source": [
    "commons.sort_values(SRT_TRG, ascending=True).head(20)"
   ]
  },
  {
   "cell_type": "code",
   "execution_count": null,
   "id": "f5ad6090",
   "metadata": {},
   "outputs": [],
   "source": [
    "uncommons.sort_values(SRT_TRG, ascending=False).head(10)"
   ]
  },
  {
   "cell_type": "code",
   "execution_count": null,
   "id": "d5065106",
   "metadata": {
    "scrolled": true
   },
   "outputs": [],
   "source": [
    "uncommons.sort_values(SRT_TRG, ascending=True).head(10)"
   ]
  }
 ],
 "metadata": {
  "kernelspec": {
   "display_name": "Python 3 (ipykernel)",
   "language": "python",
   "name": "python3"
  },
  "language_info": {
   "codemirror_mode": {
    "name": "ipython",
    "version": 3
   },
   "file_extension": ".py",
   "mimetype": "text/x-python",
   "name": "python",
   "nbconvert_exporter": "python",
   "pygments_lexer": "ipython3",
   "version": "3.9.7"
  }
 },
 "nbformat": 4,
 "nbformat_minor": 5
}
