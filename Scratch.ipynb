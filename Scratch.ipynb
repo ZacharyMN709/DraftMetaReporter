{
 "cells": [
  {
   "cell_type": "code",
   "execution_count": null,
   "id": "06b7bf78",
   "metadata": {},
   "outputs": [],
   "source": [
    "from IPython.core.display import display, HTML\n",
    "import sys\n",
    "display(HTML(\"<style>.container { width:95% !important; }</style>\"))\n",
    "print(sys.version)"
   ]
  },
  {
   "cell_type": "code",
   "execution_count": null,
   "id": "64c57ea3",
   "metadata": {},
   "outputs": [],
   "source": [
    "from datetime import date, datetime, timedelta\n",
    "import numpy as np\n",
    "import pandas as pd\n",
    "import dataframe_image as dfi\n",
    "from scipy.stats import norm\n",
    "# pd.options.display.float_format = '{:,.3f}'.format\n",
    "import matplotlib.pyplot as plt\n",
    "import matplotlib.dates as mdates\n",
    "import seaborn as sns\n",
    "sns.set_theme()\n",
    "sns.set_color_codes()\n",
    "#pd.set_option('display.max_columns', 20)\n",
    "#pd.set_option('display.max_rows', 100)\n",
    "\n",
    "\n",
    "# column_names = ['# Seen', 'ALSA', '# Picked', 'ATA', '# GP', 'GP WR', '# OH', 'OH WR', '# GD', 'GD WR', '# GIH', 'GIH WR', '# GND', 'GND WR', 'IWD', 'Color', 'Rarity']\n",
    "\n",
    "from Utilities.auto_logging import LogLvl, set_log_level\n",
    "import WUBRG\n",
    "from WUBRG import get_color_identity, list_color_dict\n",
    "from game_metadata import SETS, FORMATS\n",
    "from game_metadata import Card, CardManager, SetMetadata, FormatMetadata\n",
    "from data_fetching import DataLoader, LoadedData, DataFramer, FramedData, SetManager, CentralManager\n",
    "from data_fetching.utils import get_next_17lands_update_time, get_prev_17lands_update_time, get_name_slice, get_color_slice, get_date_slice, STAT_COL_NAMES\n",
    "from data_fetching.utils import rarity_filter, cmc_filter, card_color_filter, cast_color_filter, compose_filters\n",
    "\n",
    "LOAD_ALL = False\n",
    "TRGT_SET = 'DMU'\n",
    "set_log_level(LogLvl.SPARSE)"
   ]
  },
  {
   "cell_type": "markdown",
   "id": "69cadfaa",
   "metadata": {},
   "source": [
    "# Objects"
   ]
  },
  {
   "cell_type": "code",
   "execution_count": null,
   "id": "70a585bc",
   "metadata": {},
   "outputs": [],
   "source": [
    "import sys\n",
    "try:\n",
    "    del sys.modules[\"data_graphing\"] \n",
    "    del data_graphing\n",
    "except:\n",
    "    pass\n",
    "\n",
    "from data_graphing import ColorHandler, PlotterHelper, prettify_frame"
   ]
  },
  {
   "cell_type": "code",
   "execution_count": null,
   "id": "068085b9",
   "metadata": {},
   "outputs": [],
   "source": [
    "class FramedDataFuncs:   \n",
    "    def __init__(self, DATA):\n",
    "        self._DATA = DATA\n",
    "        self._PLOTTER = PlotterHelper(DATA)\n",
    "        self._ARCH_FUNCS = ArchFuncs(self._DATA)\n",
    "        self._SNGL_CARD_FUNCS = SingleCardFuncs(self._DATA)\n",
    "    \n",
    "    @property\n",
    "    def SET(self):\n",
    "        \"\"\"The draft set.\"\"\"\n",
    "        return self._DATA.SET\n",
    "    \n",
    "    @property\n",
    "    def FULL_SET(self):\n",
    "        \"\"\"The full name of the draft set.\"\"\"\n",
    "        return self._DATA.FULL_SET\n",
    "    \n",
    "    @property\n",
    "    def FORMAT(self):\n",
    "        \"\"\"The format type.\"\"\"\n",
    "        return self._DATA.FORMAT\n",
    "    \n",
    "    @property\n",
    "    def SHORT_FORMAT(self):\n",
    "        \"\"\"The shorthand of the format type.\"\"\"\n",
    "        return self._DATA.FULL_FORMAT\n",
    "    \n",
    "    @property\n",
    "    def DATA(self):\n",
    "        \"\"\"The object which contains the data about the set and format.\"\"\"\n",
    "        return self._DATA\n",
    "    \n",
    "    @property\n",
    "    def PLOTTER(self):\n",
    "        \"\"\"The object which helps to plot and save data as pngs and the like.\"\"\"\n",
    "        return self._PLOTTER\n",
    "        \n",
    "    def check_for_updates(self):\n",
    "        \"\"\"Populates and updates all data properties, filling in missing data.\"\"\"\n",
    "        self._DATA.check_for_updates()\n",
    "\n",
    "    def reload_data(self):\n",
    "        \"\"\"Populates and updates all data properties, reloading all data.\"\"\"\n",
    "        self._DATA.reload_data()  \n",
    "    \n",
    "    def deck_group_frame(self, name=None, date=None, summary=False):\n",
    "        \"\"\"Returns a subset of the 'GROUPED_ARCHETYPE' data as a DataFrame.\"\"\"\n",
    "        return self.DATA.deck_group_frame(name, date, summary)\n",
    "     \n",
    "    def deck_archetype_frame(self, deck_color=None, date=None, summary=False):\n",
    "        \"\"\"Returns a subset of the 'SINGLE_ARCHETYPE' data as a DataFrame.\"\"\"\n",
    "        return self.DATA.deck_archetype_frame(deck_color, date, summary)\n",
    "    \n",
    "    def card_frame(self, name=None, deck_color=None, date=None, summary=False):\n",
    "        \"\"\"Returns a subset of the 'CARD' data as a DataFrame.\"\"\"\n",
    "        return self.DATA.card_frame(name, deck_color, date, summary)\n",
    "    \n",
    "    def compress_date_range_data(self, start_date, end_date, card_name=None):\n",
    "        \"\"\"Summarizes card data over a provided set of time.\"\"\"\n",
    "        return self.DATA.compress_date_range_data(start_date, end_date, card_name)\n",
    "        \n",
    "    \n",
    "    #ArchFuncs\n",
    "    def get_games_played(self, deck_color):\n",
    "        return self._ARCH_FUNCS.get_games_played(deck_color)\n",
    "        \n",
    "    def get_avg_winrate(self, day=None, arch='All Decks'):\n",
    "        return self._ARCH_FUNCS.get_avg_winrate(day, arch)\n",
    "    \n",
    "    def get_archetype_frame(self, colors, roll=None):\n",
    "        return self._ARCH_FUNCS.get_archetype_frame(colors, roll)\n",
    "\n",
    "    def get_archetype_winrate_history(self, color_filter=None, roll=None, *, save=False):\n",
    "        return self._ARCH_FUNCS.get_archetype_winrate_history(color_filter, roll, save=save)\n",
    "\n",
    "    def plot_archetype_winrate_history(self, color_filter=None, roll=None, derivs=0, color_dict=None, pref=''):\n",
    "        return self._ARCH_FUNCS.plot_archetype_winrate_history(color_filter, roll, derivs, color_dict, pref)       \n",
    "        \n",
    "    def get_archetype_playrate_history(self, color_filter=None, color_count=0, roll=None, *, save=False):\n",
    "        return self._ARCH_FUNCS.get_archetype_playrate_history(color_filter, color_count, roll, save=save)\n",
    "\n",
    "    def plot_archetype_playrate_history(self, color_filter=None, color_count=0, roll=None, derivs=0, color_dict=None, pref=''):\n",
    "        return self._ARCH_FUNCS.plot_archetype_playrate_history(color_filter, color_count, roll, derivs, color_dict, pref)\n",
    "    \n",
    "    def card_relative_winrates(self, deck_colors, win_rate_col, filter_option=None):\n",
    "        return self._ARCH_FUNCS.card_relative_winrates(deck_colors, win_rate_col, filter_option)\n",
    "    \n",
    "    #SingleCardFuncs\n",
    "    def get_card_summary(self, card_name, colors='', roll=None):\n",
    "        return self._SNGL_CARD_FUNCS.get_card_summary(card_name, colors, roll)\n",
    "\n",
    "    def plot_card_summary(self, card_name, colors='', roll=None):\n",
    "        return self._SNGL_CARD_FUNCS.plot_card_summary(card_name, colors, roll)\n",
    "    \n",
    "    def get_pick_stats(self, card_name, roll=None):\n",
    "        return self._SNGL_CARD_FUNCS.get_pick_stats(card_name, roll)\n",
    "    \n",
    "    def plot_pick_stats(self, card_name, roll=None):\n",
    "        return self._SNGL_CARD_FUNCS.plot_pick_stats(card_name, roll)\n",
    "    \n",
    "    def card_archetype_performance(self, card_name, color_cols=None):\n",
    "        return self._SNGL_CARD_FUNCS.card_archetype_performance(card_name, color_cols)\n",
    "    \n",
    "    def stat_archetype_performance(self, stat_name, color_cols=None):\n",
    "        return self._SNGL_CARD_FUNCS.stat_archetype_performance(stat_name, color_cols)\n",
    "    \n",
    "    def compare_card_evaluations(self, start_date=None, end_date=None):\n",
    "        def inner_func(date):\n",
    "            df = self.card_frame(date=date, deck_color='')\n",
    "            df.index = [tup[2] for tup in df.index]\n",
    "            return df\n",
    "        \n",
    "        if start_date is None:\n",
    "            metadata = SetMetadata.get_metadata(self.SET)\n",
    "            start_date = metadata.RELEASE_DATE\n",
    "            \n",
    "        if end_date is None:\n",
    "            end_date = date.today() - timedelta(days=1)\n",
    "\n",
    "        first = inner_func(date=start_date)\n",
    "        last = inner_func(date=end_date)\n",
    "        diff = last[['ALSA', 'ATA', 'Color', 'Rarity']].copy()\n",
    "        diff['ALSA Change'] = first['ALSA'] - last['ALSA']\n",
    "        diff['ATA Change'] = first['ATA'] - last['ATA']\n",
    "        return diff[['ALSA', 'ALSA Change', 'ATA', 'ATA Change', 'Color', 'Rarity']]\n",
    "\n",
    "\n",
    "    def get_top(self, column, count=10, asc=True, card_color=None, card_rarity=None, deck_color='', play_lim=None):\n",
    "        frame = self.card_frame(deck_color=deck_color, summary=True, card_rarity=card_rarity)\n",
    "        frame = frame.sort_values(column, ascending=asc)\n",
    "\n",
    "        if card_color is not None:\n",
    "            card_color = WUBRG.get_color_identity(card_color)\n",
    "            frame = frame[frame['Color'] == card_color]\n",
    "\n",
    "        if play_lim is not None:\n",
    "            #TODO: Fix this. \n",
    "            if type(play_lim) is float: play_lim *= self.get_games_played(deck_color)\n",
    "            print(f'Minimum Games played to be included: {play_lim}')\n",
    "            frame = frame[frame['# GP'] >= play_lim]\n",
    "\n",
    "        return frame.head(count)"
   ]
  },
  {
   "cell_type": "code",
   "execution_count": null,
   "id": "90965f5e",
   "metadata": {},
   "outputs": [],
   "source": [
    "from data_graphing import ROLL, ARCHETYPES_COLOR_DICT\n",
    "from WUBRG.consts import COLOR_PAIRS, COLOR_COUNT_REVERSE_MAP, COLOR_COUNT_SHORTHAND, COLOR_COUNT_SHORTHAND_MAP\n",
    "from WUBRG import COLOUR_GROUPINGS\n",
    "\n",
    "class ArchFuncs:   \n",
    "    def __init__(self, DATA):\n",
    "        self._DATA = DATA\n",
    "        \n",
    "    @staticmethod\n",
    "    def _get_play_stat_frame(frame, col, roll=None, aggfunc=None):\n",
    "        if roll is None: roll = ROLL\n",
    "        if aggfunc is None: aggfunc = np.sum\n",
    "        ret = frame[[col]]\n",
    "        ret.reset_index(inplace=True, level=1)\n",
    "        ret = ret.pivot_table(values=col, index=ret.index, columns='Name', dropna=False, aggfunc=aggfunc)\n",
    "        ret = ret.rolling(window=roll, min_periods=1, center=True).mean()\n",
    "        ret.columns.names = [col]\n",
    "        return ret\n",
    "\n",
    "    def _get_all_stat(self, stat, roll=None, aggfunc=None):\n",
    "        archetypes = self._get_play_stat_frame(self._DATA.deck_archetype_frame(), stat, roll, aggfunc)\n",
    "        archetypes = archetypes[[color for color in COLOR_COMBINATIONS if color in archetypes.columns]]\n",
    "\n",
    "        groups = self._get_play_stat_frame(self._DATA.deck_group_frame(), stat, roll, aggfunc)\n",
    "        groups.rename(columns=COLOR_COUNT_SHORTHAND_MAP, inplace=True)\n",
    "        groups = groups[COLOR_COUNT_SHORTHAND]\n",
    "\n",
    "        return pd.concat([groups, archetypes], axis=1)\n",
    "\n",
    "\n",
    "    def get_winrates(self, roll=None):\n",
    "        wins = self._get_all_stat('Wins', roll, np.sum)\n",
    "        games = self._get_all_stat('Games', roll, np.sum)\n",
    "        frame = (wins / games) * 100\n",
    "        frame.columns.names = ['Avg. Win %']\n",
    "        return frame\n",
    "\n",
    "\n",
    "    def get_playrates(self, num_colors=0, roll=None):\n",
    "        #TODO: Remove num_colors, and handle bubbling chnages from that.\n",
    "        games = self._get_all_stat('Games', roll, np.sum)\n",
    "        \n",
    "        if num_colors == 0:\n",
    "            frame = games.div(games['ALL'], axis='rows') * 100\n",
    "            frame.columns.names = ['% of Decks']\n",
    "            return frame\n",
    "\n",
    "        true_name = COLOR_COUNT_REVERSE_MAP[num_colors].title()\n",
    "        summ_id = COLOR_COUNT_SHORTHAND_MAP[true_name]\n",
    "\n",
    "        frame = games.div(games[summ_id], axis='rows') * 100\n",
    "        frame.columns.names = [f'% of {num_colors}C Decks']\n",
    "        return frame\n",
    "   \n",
    "    def get_archetype_winrate_history(self, color_filter=None, roll=None, *, save=False):\n",
    "        if roll is None: roll = ROLL\n",
    "            \n",
    "        frame = self.get_winrates(roll)\n",
    "       \n",
    "        if isinstance(color_filter, str):\n",
    "            # TODO: Make this more flexible.\n",
    "            #col_filt = ['ALL', f'{len(color_filter)}C'] + [col for col in COLOR_PAIRS if color_filter in col]  \n",
    "            col_filt = ['ALL', '2C'] + [col for col in COLOR_PAIRS if color_filter in col]  \n",
    "            frame = frame[col_filt]\n",
    "        elif isinstance(color_filter, list):\n",
    "            frame = frame[color_filter]\n",
    "            \n",
    "        if save:\n",
    "            PlotterHelper(self._DATA).frame_to_png(frame, \"archetype_winrate_table.png\")\n",
    "        \n",
    "        return frame        \n",
    "        \n",
    "    #TODO: Implement a more generic version of this that takes in a list of deck colours to include as output. \n",
    "    def get_archetype_playrate_history(self, color_filter=None, color_count=0, roll=None, *, save=False):\n",
    "        if roll is None: roll = ROLL\n",
    "            \n",
    "        frame = self.get_playrates(color_count, roll)\n",
    "\n",
    "        if isinstance(color_filter, str):\n",
    "            col_filt = [col for col in COLOR_PAIRS if color_filter in col]\n",
    "            frame = frame[col_filt]\n",
    "        if isinstance(color_filter, list):\n",
    "            frame = frame[color_filter]\n",
    "            \n",
    "        if save:\n",
    "            PlotterHelper(self._DATA).frame_to_png(frame, \"archetype_playrate_table.png\")\n",
    "\n",
    "        return frame\n",
    "    \n",
    "    def plot_archetype_winrate_history(self, color_filter=None, roll=None, derivs=0, color_dict=None, pref=''):\n",
    "        if roll is None: roll = ROLL\n",
    "        if color_dict is None: color_dict = ARCHETYPES_COLOR_DICT\n",
    "\n",
    "        data = self.get_archetype_winrate_history(color_filter, roll)\n",
    "        for _ in range(0, derivs):\n",
    "            data = data.diff()\n",
    "        data.index = [idx[5:] for idx in data.index]\n",
    "        colors = str(color_filter)  #TODO: Make this cleverer at showing filter.\n",
    "\n",
    "        plot_help = PlotterHelper(self._DATA, color_dict=color_dict)\n",
    "        fig, ax = plot_help.new_single_plot('Archetype Winrates', width=16, height=8)\n",
    "        plot_help.accredit(y=0.035, x=0.51)\n",
    "        plot_help.desc_note(colors=colors, roll=roll, y=0.935, x=0.51)\n",
    "        \n",
    "        plot_help.set_labels(x_label=\"Date\", y_label=\"Win Rate\")\n",
    "        plot_help.set_data(data, color_filter)\n",
    "        \n",
    "        if not pref:\n",
    "            plot_help.save_fig(f\"win_rates_{roll}day_avg.png\", \"Metagame\")\n",
    "        else:\n",
    "            plot_help.save_fig(f\"{pref}_win_rates_{roll}day_avg.png\", \"Metagame\")\n",
    "\n",
    "    def plot_archetype_playrate_history(self, color_filter=None, color_count=0, roll=None, derivs=0, color_dict=None, pref=''):\n",
    "        if roll is None: roll = ROLL\n",
    "        if color_dict is None: color_dict = ARCHETYPES_COLOR_DICT\n",
    "            \n",
    "        data = self.get_archetype_playrate_history(color_filter, color_count, roll)\n",
    "        for _ in range(0, derivs):\n",
    "            data = data.diff()\n",
    "        data.index = [idx[5:] for idx in data.index]\n",
    "        \n",
    "        \n",
    "        plot_help = PlotterHelper(self._DATA, color_dict=color_dict)\n",
    "        fig, ax = plot_help.new_single_plot('Archetype Playrates', width=16, height=8)\n",
    "        plot_help.accredit(y=0.035, x=0.51)\n",
    "        plot_help.desc_note(colors=color_filter, roll=roll, y=0.935, x=0.51)\n",
    "        \n",
    "        plot_help.set_labels(x_label=\"Date\", y_label=\"Percent of Metagame\")\n",
    "        plot_help.set_data(data, color_filter)\n",
    "        \n",
    "        if not pref:\n",
    "            plot_help.save_fig(f\"play_rates_{roll}day_avg.png\", \"Metagame\")\n",
    "        else:\n",
    "            plot_help.save_fig(f\"{pref}_play_rates_{roll}day_avg.png\", \"Metagame\")\n",
    "            \n",
    "    \n",
    "    def card_relative_winrates(self, deck_colors=None, win_rate_col='GIH WR', filter_option=None):\n",
    "        deck_colors = get_color_identity(deck_colors)\n",
    "        \n",
    "        # Get the relevant list of cards, and then trim it down to the relevant colours.\n",
    "        sub_frame = self._DATA.card_frame(deck_color=deck_colors)\n",
    "        sub_frame = set_data.BO1.DATA.CARD_HISTORY_FRAME.loc[slice(None), get_color_slice(deck_colors), get_name_slice(None)]\n",
    "        sub_frame = sub_frame.reset_index(level=1)\n",
    "        if deck_colors:\n",
    "            sub_frame = sub_frame[sub_frame['Cast Color'].isin(WUBRG.get_color_subsets(deck_colors))]\n",
    "\n",
    "        # Get the winrates for the cards and average winrate of the archetype, then re-center the card winrates with it. \n",
    "        win_frame = self._get_play_stat_frame(sub_frame, win_rate_col, roll=1, aggfunc=np.mean)\n",
    "        avg_frame = self.get_archetype_winrate_history(deck_colors)\n",
    "        target_avg = deck_colors if deck_colors else 'ALL'\n",
    "        ret_frame = win_frame.sub(avg_frame[target_avg], axis='rows').T\n",
    "\n",
    "        # Get the games played from the subset of cards and use it to re-weight the win rates per day, to calculate an accurate average.\n",
    "        games_frame = self._get_play_stat_frame(sub_frame, '# GP', roll=1, aggfunc=np.mean).T\n",
    "        ret_frame[f'AVG'] = (ret_frame * games_frame).sum(axis=1) / games_frame.sum(axis=1)\n",
    "        ret_frame['# GP'] = games_frame.sum(axis=1)\n",
    "\n",
    "        # Sort by most winning first.\n",
    "        ret_frame = ret_frame.sort_values(f'AVG', ascending=False).T\n",
    "        return ret_frame[::-1]"
   ]
  },
  {
   "cell_type": "code",
   "execution_count": null,
   "id": "0743e0e1",
   "metadata": {},
   "outputs": [],
   "source": [
    "from data_graphing import ROLL, STATS_COLOR_DICT\n",
    "from WUBRG import COLOR_COMBINATIONS\n",
    "from WUBRG.consts import COLOR_PAIRS\n",
    "\n",
    "\n",
    "class SingleCardFuncs:   \n",
    "    def __init__(self, DATA):\n",
    "        self._DATA = DATA\n",
    "        self._COLOR_IDX = 0\n",
    "        \n",
    "    def _shorten_data(self, card_name, roll, cols, colors=''):\n",
    "        frame = self._DATA.card_frame(name=card_name, deck_color=colors)[cols]\n",
    "        frame.index = [tup[0][5:] for tup in frame.index]\n",
    "        rolling = frame.rolling(window=roll, min_periods=1, center=True).mean()\n",
    "        return rolling\n",
    "\n",
    "    def plot_card_summary(self, card_name, colors='', roll=None, color_dict=None):\n",
    "        if roll is None: roll = ROLL\n",
    "        if color_dict is None: color_dict = STATS_COLOR_DICT\n",
    "        rolling = self._shorten_data(card_name, roll, ['GIH WR', 'GND WR', 'ATA', 'ALSA', '# GP', '# GIH', '# Picked', '# Seen'], colors=colors)\n",
    "        if rolling.empty:\n",
    "            print(f\"\"\"Could not find data for \"{card_name}\". Please make sure it is spelled correctly, or you are accessing the right set.\"\"\")\n",
    "            return False\n",
    "        \n",
    "        plot_help = PlotterHelper(self._DATA, color_dict=color_dict)\n",
    "        fig, ax = plot_help.new_quad_plot(card_name)\n",
    "        plot_help.accredit(y=0.075)\n",
    "        plot_help.desc_note(colors=colors, roll=roll)\n",
    "                \n",
    "        plot_help.set_labels(y_label=\"Win Percent\", g_x=0, g_y=0)\n",
    "        plot_help.set_data(rolling, ['GIH WR', 'GND WR'], g_x=0, g_y=0)\n",
    "        \n",
    "        plot_help.set_labels(y_label=\"Pick Number\", g_x=0, g_y=1)\n",
    "        plot_help.set_data(rolling, ['ALSA', 'ATA'], inv_y=True, g_x=0, g_y=1)\n",
    "        \n",
    "        plot_help.set_labels(x_label=\"Date\", y_label=\"# of Games\", g_x=1, g_y=0)\n",
    "        plot_help.set_data(rolling, ['# GP', '# GIH'], g_x=1, g_y=0)\n",
    "\n",
    "        plot_help.set_labels(x_label=\"Date\", y_label=\"# of Cards\", g_x=1, g_y=1)\n",
    "        plot_help.set_data(rolling, ['# Seen', '# Picked'], g_x=1, g_y=1)\n",
    "        \n",
    "        if colors:\n",
    "            plot_help.save_fig(f\"pcs_{card_name}_{colors}.png\", \"Summary\")\n",
    "        else:\n",
    "            plot_help.save_fig(f\"pcs_{card_name}.png\", \"Summary\")\n",
    "        \n",
    "        return True\n",
    "    \n",
    "    \n",
    "    def plot_pick_stats(self, card_name, roll=None, color_dict=None):\n",
    "        if roll is None: roll = ROLL        \n",
    "        if color_dict is None: color_dict = STATS_COLOR_DICT\n",
    "        taken_data = self._shorten_data(card_name, roll, ['ALSA', 'ATA'])\n",
    "        if taken_data.empty:\n",
    "            print(f\"\"\"Could not find data for \"{card_name}\". Please make sure it is spelled correctly, or you are accessing the right set.\"\"\")\n",
    "            return\n",
    "        \n",
    "        plot_help = PlotterHelper(self._DATA, color_dict=color_dict)\n",
    "        fig, ax = plot_help.new_single_plot(card_name)\n",
    "        plot_help.accredit()\n",
    "        plot_help.desc_note(roll=roll, y=0.96)\n",
    "        \n",
    "        plot_help.set_labels(x_label=\"Date\", y_label=\"Pick Number\")\n",
    "        plot_help.set_data(taken_data, ['ALSA', 'ATA'], inv_y=True)\n",
    "        \n",
    "        plot_help.save_fig(f\"pps_{card_name}.png\", \"Pick Stats\")\n",
    "\n",
    "\n",
    "    def card_archetype_performance(self, card_name, color_cols=None):\n",
    "        frame = self._DATA.card_frame(card_name, summary=True).T\n",
    "        frame.loc[STAT_COL_NAMES].T\n",
    "        if color_cols is not None:\n",
    "            ret = ret[color_cols]\n",
    "        return frame\n",
    "    \n",
    "    \n",
    "    def stat_archetype_performance(self, stat_name, color_cols=None):\n",
    "        series = self._DATA.card_frame(summary=True)[stat_name]\n",
    "        frame = series.reset_index(level=0)\n",
    "        ret = pd.pivot_table(frame, index='Name', columns='Deck Colors')\n",
    "        ret.columns = ret.columns.droplevel(0)\n",
    "        if color_cols is not None:\n",
    "            ret = ret[color_cols]\n",
    "        return ret"
   ]
  },
  {
   "cell_type": "markdown",
   "id": "7ef6dfba",
   "metadata": {},
   "source": [
    "# Initialization"
   ]
  },
  {
   "cell_type": "code",
   "execution_count": null,
   "id": "907ffa83",
   "metadata": {
    "scrolled": false
   },
   "outputs": [],
   "source": [
    "data_manager = None\n",
    "set_data = None\n",
    "print(f'Available sets: {SETS}')\n",
    "print(f'Target set: {TRGT_SET}')"
   ]
  },
  {
   "cell_type": "code",
   "execution_count": null,
   "id": "3839200e",
   "metadata": {},
   "outputs": [],
   "source": [
    "print(f\"Current Local Time:  {datetime.now()}\")\n",
    "print(f\"Last 17Lands Update: {get_prev_17lands_update_time()}\")\n",
    "print(f\"Current UTC Time:    {datetime.utcnow()}\")\n",
    "print(f\"Next 17Lands Update: {get_next_17lands_update_time()}\")"
   ]
  },
  {
   "cell_type": "code",
   "execution_count": null,
   "id": "5e8fc1f9",
   "metadata": {
    "scrolled": false
   },
   "outputs": [],
   "source": [
    "start = datetime.utcnow()\n",
    "\n",
    "if LOAD_ALL:\n",
    "    if data_manager is None:\n",
    "        data_manager = CentralManager()\n",
    "        SNC = data_manager['SNC']\n",
    "        NEO = data_manager['NEO']\n",
    "        VOW = data_manager['VOW']\n",
    "        MID = data_manager['MID']\n",
    "        set_data = data_manager[TRGT_SET]\n",
    "            \n",
    "    data_manager.check_for_updates()\n",
    "else:\n",
    "    if set_data is None:\n",
    "        set_data = SetManager(TRGT_SET)\n",
    "    set_data.check_for_updates()\n",
    "\n",
    "examiner = FramedDataFuncs(set_data.BO1)\n",
    "\n",
    "end = datetime.utcnow()\n",
    "print(f\"\\n --- Data loaded in {end - start}.\")"
   ]
  },
  {
   "cell_type": "code",
   "execution_count": null,
   "id": "accd9aa6",
   "metadata": {
    "scrolled": true
   },
   "outputs": [],
   "source": [
    "examiner = FramedDataFuncs(set_data.BO1)\n",
    "examiner.card_frame(deck_color='', summary=True)"
   ]
  },
  {
   "cell_type": "code",
   "execution_count": null,
   "id": "d3f60f0b",
   "metadata": {},
   "outputs": [],
   "source": [
    "raise Exception('Stopping Auto-Run!')"
   ]
  },
  {
   "cell_type": "markdown",
   "id": "c1baebf2",
   "metadata": {},
   "source": [
    "# Data Overview"
   ]
  },
  {
   "cell_type": "markdown",
   "id": "1aac4f7a",
   "metadata": {},
   "source": [
    "## Archetype Winrate History"
   ]
  },
  {
   "cell_type": "code",
   "execution_count": null,
   "id": "4fffa630",
   "metadata": {
    "scrolled": true
   },
   "outputs": [],
   "source": [
    "prettify_frame(examiner.get_archetype_winrate_history(['ALL', '2C', '3C'] + list_color_dict(WUBRG.consts.ALLIED) + list_color_dict(WUBRG.consts.ENEMY), save=True))"
   ]
  },
  {
   "cell_type": "code",
   "execution_count": null,
   "id": "d03552f0",
   "metadata": {
    "scrolled": false
   },
   "outputs": [],
   "source": [
    "roll = 3\n",
    "examiner.plot_archetype_winrate_history(['ALL', '2C', '3C', '4C', '5C'], roll=roll, pref=\"ColorCounts\")\n",
    "examiner.plot_archetype_winrate_history(['ALL', '2C'] + list_color_dict(WUBRG.consts.ALLIED), roll=roll, pref='2CAllied')\n",
    "examiner.plot_archetype_winrate_history(['ALL', '2C'] + list_color_dict(WUBRG.consts.ENEMY), roll=roll, pref='2CEnemy')"
   ]
  },
  {
   "cell_type": "markdown",
   "id": "39a9167e",
   "metadata": {},
   "source": [
    "## Archetype Playrate History"
   ]
  },
  {
   "cell_type": "code",
   "execution_count": null,
   "id": "64ec8b60",
   "metadata": {},
   "outputs": [],
   "source": [
    "prettify_frame(examiner.get_archetype_playrate_history(['ALL', '2C', '3C'] + list_color_dict(WUBRG.consts.ALLIED) + list_color_dict(WUBRG.consts.ENEMY), save=True))"
   ]
  },
  {
   "cell_type": "code",
   "execution_count": null,
   "id": "6a7e812b",
   "metadata": {
    "scrolled": false
   },
   "outputs": [],
   "source": [
    "roll = 3\n",
    "examiner.plot_archetype_playrate_history(['2C', '3C', '4C', '5C'], roll=roll, pref=\"ColorCounts\")\n",
    "examiner.plot_archetype_playrate_history(list_color_dict(WUBRG.consts.ALLIED), roll=roll, pref='2CAllied')\n",
    "examiner.plot_archetype_playrate_history(list_color_dict(WUBRG.consts.ENEMY), roll=roll, pref='2CEnemy')\n",
    "examiner.plot_archetype_playrate_history(list_color_dict(WUBRG.consts.WEDGES), roll=roll, pref='3CWedge')\n",
    "examiner.plot_archetype_playrate_history(list_color_dict(WUBRG.consts.SHARDS), roll=roll, pref='3CShard')"
   ]
  },
  {
   "cell_type": "markdown",
   "id": "ada2de23",
   "metadata": {},
   "source": [
    "## Card Pick Order Changes"
   ]
  },
  {
   "cell_type": "code",
   "execution_count": null,
   "id": "500af508",
   "metadata": {},
   "outputs": [],
   "source": [
    "#TODO: Merge all of this functionality into one structure.\n",
    "helper = PlotterHelper(examiner.DATA)\n",
    "diff = examiner.compare_card_evaluations()\n",
    "commons = diff[diff['Rarity'] == 'C']\n",
    "uncommons = diff[diff['Rarity'] == 'U']\n",
    "SRT_TRG = 'ATA Change'"
   ]
  },
  {
   "cell_type": "code",
   "execution_count": null,
   "id": "0799ff3f",
   "metadata": {},
   "outputs": [],
   "source": [
    "frame = commons.sort_values(SRT_TRG, ascending=False).head(20)\n",
    "helper.frame_to_png(frame, f\"{SRT_TRG} - ContestedCommonsCCE.png\")"
   ]
  },
  {
   "cell_type": "code",
   "execution_count": null,
   "id": "76e4bf7a",
   "metadata": {},
   "outputs": [],
   "source": [
    "frame = commons.sort_values(SRT_TRG, ascending=True).head(20)\n",
    "helper.frame_to_png(frame, f\"{SRT_TRG} - UncontestedCommonsCCE.png\")"
   ]
  },
  {
   "cell_type": "code",
   "execution_count": null,
   "id": "c25ca9f0",
   "metadata": {},
   "outputs": [],
   "source": [
    "frame = uncommons.sort_values(SRT_TRG, ascending=False).head(10)\n",
    "helper.frame_to_png(frame, f\"{SRT_TRG} - ContestedUncommonsCCE.png\")"
   ]
  },
  {
   "cell_type": "code",
   "execution_count": null,
   "id": "b5e3ef2d",
   "metadata": {
    "scrolled": false
   },
   "outputs": [],
   "source": [
    "frame = uncommons.sort_values(SRT_TRG, ascending=True).head(10)\n",
    "helper.frame_to_png(frame, f\"{SRT_TRG} - UncontestedUncommonsCCE.png\")"
   ]
  },
  {
   "cell_type": "code",
   "execution_count": null,
   "id": "b163e0ac",
   "metadata": {},
   "outputs": [],
   "source": [
    "sub_frame = examiner.card_frame(deck_color='', summary=True).sort_values('GIH WR', ascending=False)\n",
    "sub_frame = sub_frame[sub_frame['Rarity'] == 'C'].head(15)\n",
    "sub_frame.index = [tup[1] for tup in sub_frame.index]\n",
    "frame = sub_frame[['ALSA', 'ATA', 'GIH WR', 'Color', 'Rarity']].copy()\n",
    "helper.frame_to_png(frame, f\"{SRT_TRG} - BaselineCCE.png\")"
   ]
  },
  {
   "cell_type": "code",
   "execution_count": null,
   "id": "a8017fa8",
   "metadata": {},
   "outputs": [],
   "source": [
    "walls = [\n",
    "    'Clockwork Drawbridge',\n",
    "    'Wingmantle Chaplain',\n",
    "    'Academy Wall',\n",
    "    'Coral Colony',\n",
    "    'Gibbering Barricade',\n",
    "    'Blight Pile',\n",
    "    'Floriferous Vinewall',\n",
    "    'Shield-Wall Sentinel',\n",
    "    'Walking Bulwark'\n",
    "]\n",
    "frame = diff.loc[walls]\n",
    "#frame['diff'] = frame['ALSA'] / frame['ATA'] \n",
    "helper.frame_to_png(frame, f\"{SRT_TRG} - WallsCCE.png\")"
   ]
  },
  {
   "cell_type": "code",
   "execution_count": null,
   "id": "f126e5ef",
   "metadata": {},
   "outputs": [],
   "source": [
    "lands = [\n",
    "    'Crystal Grotto',\n",
    "    'Idyllic Beachfront',\n",
    "    'Sunlit Marsh',\n",
    "    'Sacred Peaks',\n",
    "    'Radiant Grove',\n",
    "    'Contaminated Aquifer',\n",
    "    'Molten Tributary',\n",
    "    'Tangled Islet',\n",
    "    'Geothermal Bog',\n",
    "    'Haunted Mire',\n",
    "    'Wooded Ridgeline',\n",
    "]\n",
    "frame = diff.loc[lands]\n",
    "helper.frame_to_png(frame, f\"{SRT_TRG} - DualLandsCCE.png\")"
   ]
  },
  {
   "cell_type": "markdown",
   "id": "2fe221df",
   "metadata": {},
   "source": [
    "# Examine Data"
   ]
  },
  {
   "cell_type": "code",
   "execution_count": null,
   "id": "b108659e",
   "metadata": {},
   "outputs": [],
   "source": [
    "examiner.plot_card_summary(\"Meria's Outrider\", roll=1)"
   ]
  },
  {
   "cell_type": "code",
   "execution_count": null,
   "id": "088e672b",
   "metadata": {
    "scrolled": false
   },
   "outputs": [],
   "source": [
    "ROLL = 3\n",
    "examiner.plot_card_summary(\"Aggressive Sabotage\", roll=ROLL)\n",
    "examiner.plot_card_summary(\"Aggressive Sabotage\", colors='RB', roll=ROLL)\n",
    "examiner.plot_card_summary(\"Aggressive Sabotage\", colors='UB', roll=ROLL)\n",
    "examiner.plot_card_summary(\"Aggressive Sabotage\", colors='UGB', roll=ROLL)"
   ]
  },
  {
   "cell_type": "code",
   "execution_count": null,
   "id": "a5fb1508",
   "metadata": {},
   "outputs": [],
   "source": [
    "examiner.stat_archetype_performance('GIH WR')"
   ]
  },
  {
   "cell_type": "code",
   "execution_count": null,
   "id": "474a0dff",
   "metadata": {},
   "outputs": [],
   "source": [
    "examiner._DATA.card_frame(\"Jodah's Codex\", summary=True)"
   ]
  },
  {
   "cell_type": "code",
   "execution_count": null,
   "id": "3e5ae060",
   "metadata": {},
   "outputs": [],
   "source": [
    "examiner.card_archetype_performance(\"Jodah's Codex\")"
   ]
  },
  {
   "cell_type": "code",
   "execution_count": null,
   "id": "486637f9",
   "metadata": {},
   "outputs": [],
   "source": [
    "examiner.stat_archetype_performance('GIH WR', color_cols=['WU', 'WG', 'UB', 'BR', 'RG'])"
   ]
  },
  {
   "cell_type": "code",
   "execution_count": null,
   "id": "3084d29a",
   "metadata": {},
   "outputs": [],
   "source": [
    "examiner = FramedDataFuncs(set_data.BO1)\n",
    "rel_wins_frame = examiner.card_relative_winrates('WR', 'GIH WR')\n",
    "rel_wins_frame"
   ]
  },
  {
   "cell_type": "code",
   "execution_count": null,
   "id": "57e4bd37",
   "metadata": {},
   "outputs": [],
   "source": [
    "games = rel_wins_frame.loc['# GP']\n",
    "def format_rel_wins(v):\n",
    "    if v == '---':\n",
    "        return '---'\n",
    "    elif v > 0:\n",
    "        return f\"+{round(v, 2)}%\"\n",
    "    else:\n",
    "        return f\"-{round(v, 2)}%\"\n",
    "rel_wins_frame = examiner.card_relative_winrates('WR', 'GIH WR')\n",
    "rel_wins_frame.fillna('---', inplace=True)\n",
    "prettify_frame(rel_wins_frame.style.format(format_rel_wins))"
   ]
  },
  {
   "cell_type": "markdown",
   "id": "ec89cba3",
   "metadata": {},
   "source": [
    "# Data Graphing and Display"
   ]
  },
  {
   "cell_type": "markdown",
   "id": "c97c2527",
   "metadata": {},
   "source": [
    "## Card Summary"
   ]
  },
  {
   "cell_type": "code",
   "execution_count": null,
   "id": "925a8e09",
   "metadata": {},
   "outputs": [],
   "source": [
    "examiner.plot_card_summary(\"Choking Miasma\")"
   ]
  },
  {
   "cell_type": "code",
   "execution_count": null,
   "id": "4d43c5da",
   "metadata": {},
   "outputs": [],
   "source": [
    "examiner.plot_card_summary(\"Smash to Dust\")"
   ]
  },
  {
   "cell_type": "code",
   "execution_count": null,
   "id": "2e86bf18",
   "metadata": {
    "scrolled": false
   },
   "outputs": [],
   "source": [
    "examiner.get_top('GIH WR', count=25, asc=False, deck_color='', card_color=None, card_rarity='C', play_lim=0.005)"
   ]
  },
  {
   "cell_type": "code",
   "execution_count": null,
   "id": "8e9c868e",
   "metadata": {},
   "outputs": [],
   "source": [
    "cycles = {\n",
    "    \"Cost Reduced Commons\": [\n",
    "        (\"Argivian Phalanx\", \"\"),\n",
    "        (\"Tolarian Terror\", \"\"),\n",
    "        (\"Writhing Necromass\", \"\"),\n",
    "        (\"Molten Monstrosity\", \"\"),\n",
    "        (\"Yavimaya Sojourner\", \"\"),\n",
    "    ],\n",
    "    \"AAB Legendaries\": [\n",
    "        (\"\", \"\"),\n",
    "    ],\n",
    "    \"AB Legendaries\": [],\n",
    "    \"Common Kickers\": [],\n",
    "    \"Uncommon Kickers\": [],\n",
    "    \"Walls\": [\n",
    "        (\"Clockwork Drawbridge\", \"\"),\n",
    "        (\"Wingmantle Chaplain\", \"\"),\n",
    "        (\"Academy Wall\", \"\"),\n",
    "        (\"Coral Colony\", \"\"),\n",
    "        (\"Gibbering Barricade\", \"\"),\n",
    "        (\"Blight Pile\", \"\"),\n",
    "        (\"Floriferous Vinewall\", \"\"),\n",
    "        (\"Shield-Wall Sentinel\", \"\"),\n",
    "        (\"Walking Bulwark\", \"\"),\n",
    "    ],\n",
    "    \"Common Lands\": [\n",
    "        (\"Crystal Grotto\", \"\"),\n",
    "        (\"Idyllic Beachfront\", \"\"),\n",
    "        (\"Sunlit Marsh\", \"\"),\n",
    "        (\"Sacred Peaks\", \"\"),\n",
    "        (\"Radiant Grove\", \"\"),\n",
    "        (\"Contaminated Aquifer\", \"\"),\n",
    "        (\"Molten Tributary\", \"\"),\n",
    "        (\"Tangled Islet\", \"\"),\n",
    "        (\"Geothermal Bog\", \"\"),\n",
    "        (\"Haunted Mire\", \"\"),\n",
    "        (\"Wooded Ridgeline\", \"\"),\n",
    "    ],\n",
    "    \"Rare Lands\": [\n",
    "        (\"Adarkar Wastes\", \"\"),\n",
    "        (\"Caves of Koilos\", \"\"),\n",
    "        (\"Shivan Reef\", \"\"),\n",
    "        (\"Yavimaya Coast\", \"\"),\n",
    "        (\"Sulfurous Springs\", \"\"),\n",
    "        (\"Karplusan Forest\", \"\"),\n",
    "        (\"Plaza of Heroes\", \"\"),\n",
    "        (\"Thran Portal\", \"\"),\n",
    "    ]\n",
    "}\n",
    "\n",
    "\n",
    "to_plot = [\n",
    "    (\"Tolarian Geyser\", \"\"),\n",
    "    (\"Take Up the Shield\", \"\"),\n",
    "    (\"Phyrexian Espionage\", \"\"),\n",
    "    (\"Tribute to Urborg\", \"\"),\n",
    "    (\"Urborg Repossession\", \"\"),\n",
    "    (\"Impulse\", \"\"),\n",
    "    (\"Essence Scatter\", \"\"),\n",
    "    (\"Argivian Cavalier\", \"\"),\n",
    "    (\"Lightning Strike\", \"\"),\n",
    "    (\"Keldon Strike Team\", \"\"),\n",
    "    \n",
    "    (\"Micromancer\", \"\"),\n",
    "    (\"Rona's Vortex\", \"\"),\n",
    "    (\"Nishoba Brawler\", \"\"),\n",
    "    (\"The Weatherseed Treaty\", \"\"),\n",
    "    (\"Tatyova, Steward of Tides\", \"\"),\n",
    "    (\"Electrostatic Infantry\", \"\"),\n",
    "    (\"Braids's Frightful Return\", \"\"),\n",
    "]\n"
   ]
  },
  {
   "cell_type": "code",
   "execution_count": null,
   "id": "85018f3b",
   "metadata": {
    "scrolled": false
   },
   "outputs": [],
   "source": [
    "to_plot = cycles[\"Cost Reduced Commons\"]\n",
    "\n",
    "for tup in to_plot:\n",
    "    print('{:45}'.format(f\"\"\"Plotting \"{tup[0]}\"...\"\"\"), end='')\n",
    "    if examiner.plot_card_summary(tup[0], colors=tup[1], roll=5):\n",
    "        print(\"Done!\")"
   ]
  },
  {
   "cell_type": "markdown",
   "id": "2afd72b9",
   "metadata": {},
   "source": [
    "# TODO"
   ]
  },
  {
   "cell_type": "markdown",
   "id": "d03c8e3e",
   "metadata": {},
   "source": [
    "- Calculate archetype openess\n",
    " - GIH WR & ALSA based\n",
    " - 2.25 of a common per draft \n",
    "- Improve graphing capabilities\n",
    " - Modify Graphs so they also save an image to a cache folder.\n",
    " - Implement better graph titles and axes\n",
    " - Update functions to be more general, and have DataFrames piped into them.\n",
    "- Move sets of files into subfolders based on functionality and relationship (DataFetch, Cards, Graphing, Utils, etc.)\n",
    "- Better group settings and consts into one file/location."
   ]
  },
  {
   "cell_type": "markdown",
   "id": "12a93ead",
   "metadata": {},
   "source": [
    "## Current Tests"
   ]
  },
  {
   "cell_type": "code",
   "execution_count": null,
   "id": "02d4db53",
   "metadata": {
    "scrolled": true
   },
   "outputs": [],
   "source": [
    "set_data.BO1.card_frame(\"Gaea's Might\", summary=True)[['# GP', 'GIH WR']]"
   ]
  },
  {
   "cell_type": "markdown",
   "id": "93f2ddd2",
   "metadata": {},
   "source": [
    "TODO: Update code so that\n",
    " 1) Cards without data aren't treated as having a 0% win rate.\n",
    " 2) Ensure that NaNs are respected so the average improvement is calculated properly."
   ]
  },
  {
   "cell_type": "code",
   "execution_count": null,
   "id": "fccc0052",
   "metadata": {},
   "outputs": [],
   "source": [
    "sub_frame = set_data.BO1.DATA.CARD_HISTORY_FRAME.loc[get_date_slice(('2022-04-28', '2022-05-01')), get_color_slice('WR'), get_name_slice(None)]\n",
    "sub_frame.reset_index(level=1, inplace=True)\n",
    "sub_frame = sub_frame[sub_frame['Cast Color'].isin(WUBRG.get_color_subsets('WR'))]\n",
    "sub_frame"
   ]
  },
  {
   "cell_type": "code",
   "execution_count": null,
   "id": "a67371e0",
   "metadata": {
    "scrolled": true
   },
   "outputs": [],
   "source": [
    "sub_frame.loc[(slice(None), slice('Depopulate', 'Depopulate', None)), :]"
   ]
  },
  {
   "cell_type": "code",
   "execution_count": null,
   "id": "e40de83c",
   "metadata": {
    "scrolled": true
   },
   "outputs": [],
   "source": [
    "temp_frame = sub_frame.copy()\n",
    "temp_frame.reset_index(inplace=True, level=1)\n",
    "#temp_frame"
   ]
  },
  {
   "cell_type": "code",
   "execution_count": null,
   "id": "059f6450",
   "metadata": {},
   "outputs": [],
   "source": [
    "temp_frame.pivot_table(values='GIH WR', index=temp_frame.index, columns='Name', dropna=False)"
   ]
  },
  {
   "cell_type": "code",
   "execution_count": null,
   "id": "1bd0e54d",
   "metadata": {},
   "outputs": [],
   "source": [
    "# Get the winrates and average winrate of the colour group, then re-center the card winrates with it. \n",
    "win_frame = ArchFuncs._get_play_stat_frame(sub_frame, 'GIH WR', roll=1)\n",
    "win_frame"
   ]
  },
  {
   "cell_type": "code",
   "execution_count": null,
   "id": "c22a294a",
   "metadata": {},
   "outputs": [],
   "source": [
    "TRG_DECK_COLOR = 'WR'\n",
    "TRG_WIN_RATE = 'GIH WR'\n",
    "\n",
    "def card_relative_winrates(deck_colors, win_rate_col, filter_option=None):\n",
    "    # Get the relevant list of cards, and then trim it down to the relevant colours.\n",
    "    sub_frame = set_data.BO1.DATA.CARD_HISTORY_FRAME.loc[slice(None), get_color_slice(deck_colors), get_name_slice(None)]\n",
    "    sub_frame = sub_frame.reset_index(level=1)\n",
    "    sub_frame = sub_frame[sub_frame['Cast Color'].isin(WUBRG.get_color_subsets(deck_colors))]\n",
    "\n",
    "    # Get the winrates and average winrate of the colour group, then re-center the card winrates with it. \n",
    "    win_frame = ArchFuncs._get_play_stat_frame(sub_frame, win_rate_col, roll=1, aggfunc=np.mean)\n",
    "    avg_frame = examiner.get_archetype_winrate_history([deck_colors])\n",
    "    centred_frame = win_frame.sub(avg_frame[deck_colors], axis='rows').T\n",
    "\n",
    "    # Get the games played from the subset of cards and use it to re-weight the win rates per day, to calculate an accurate average.\n",
    "    games_frame = ArchFuncs._get_play_stat_frame(sub_frame, '# GP', roll=1, aggfunc=np.mean).T\n",
    "    ret_frame = centred_frame\n",
    "    ret_frame['AVG'] = (ret_frame * games_frame).sum(axis=1) / games_frame.sum(axis=1)\n",
    "    ret_frame['GAMES'] = games_frame.sum(axis=1)\n",
    "\n",
    "    # Sort by most winning first.\n",
    "    ret_frame = ret_frame.sort_values('AVG', ascending=False).T\n",
    "    return sub_frame, win_frame, games_frame, avg_frame, ret_frame, centred_frame\n",
    "    \n",
    "frames = card_relative_winrates(TRG_DECK_COLOR, TRG_WIN_RATE)\n",
    "frames[4]"
   ]
  },
  {
   "cell_type": "code",
   "execution_count": null,
   "id": "237971a7",
   "metadata": {},
   "outputs": [],
   "source": [
    "def gt(x, y):  #Used for function pointer shenanigans\n",
    "    return x > y\n",
    "\n",
    "def lt(x, y):  #Used for function pointer shenanigans\n",
    "    return x < y\n",
    "\n",
    "def filter_quadrant_cards_df(func1, func2, iwd_thresh=0, play_lim=0.01, card_rarity=None, deck_color=''):\n",
    "    frame = set_data.BO1.card_frame(deck_color=deck_color, summary=True)\n",
    "    if card_rarity is not None:\n",
    "        frame = frame[frame['Rarity'] == card_rarity]\n",
    "    \n",
    "    # TODO: Make the mean different based on card rarity so cards aren't moved into incorrect categories.\n",
    "    \n",
    "    if play_lim is not None:\n",
    "        if type(play_lim) is float: play_lim *= set_data.BO1.get_games_played(deck_color)\n",
    "        print(f'Minimum Games played to be included: {play_lim}')\n",
    "        frame = frame[frame['# GP'] >= play_lim]\n",
    "        \n",
    "    games_played_mean = frame['# GP'].mean()\n",
    "    cards = frame[func1(frame['IWD'], iwd_thresh)]\n",
    "    cards = cards[func2(cards['# GP'], games_played_mean)]\n",
    "    cards = cards.sort_values('IWD', ascending=func1==lt)\n",
    "    return cards\n",
    "\n",
    "\n",
    "def get_trap_cards(card_rarity=None, deck_color='', iwd_thresh=0, play_lim=0.01):\n",
    "    return filter_quadrant_cards_df(lt, gt, iwd_thresh, play_lim, card_rarity, deck_color)\n",
    "\n",
    "def get_niche_cards(card_rarity=None, deck_color='', iwd_thresh=0, play_lim=0.01):\n",
    "    return filter_quadrant_cards_df(gt, lt, iwd_thresh, play_lim, card_rarity, deck_color)\n",
    "\n",
    "def get_staple_cards(card_rarity=None, deck_color='', iwd_thresh=0, play_lim=0.01):\n",
    "    return filter_quadrant_cards_df(gt, gt, iwd_thresh, play_lim, card_rarity, deck_color)\n",
    "\n",
    "def get_dreg_cards(card_rarity=None, deck_color='', iwd_thresh=0, play_lim=0.01):\n",
    "    return filter_quadrant_cards_df(lt, lt, iwd_thresh, play_lim, card_rarity, deck_color)"
   ]
  },
  {
   "cell_type": "code",
   "execution_count": null,
   "id": "c8c140ac",
   "metadata": {
    "scrolled": true
   },
   "outputs": [],
   "source": [
    "get_niche_cards(deck_color='GW', card_rarity='CU')"
   ]
  },
  {
   "cell_type": "code",
   "execution_count": null,
   "id": "8498338b",
   "metadata": {},
   "outputs": [],
   "source": []
  },
  {
   "cell_type": "code",
   "execution_count": null,
   "id": "39d4e08b",
   "metadata": {},
   "outputs": [],
   "source": [
    "set_data.BO1.DATA.SINGLE_ARCHETYPE_SUMMARY_FRAME.loc[['W']]"
   ]
  },
  {
   "cell_type": "code",
   "execution_count": null,
   "id": "ac41aae8",
   "metadata": {},
   "outputs": [],
   "source": [
    "from data_fetching.utils.index_slice_helper import get_name_slice, get_color_slice"
   ]
  },
  {
   "cell_type": "code",
   "execution_count": null,
   "id": "57c91376",
   "metadata": {},
   "outputs": [],
   "source": [
    "set_data.BO1.DATA.CARD_HISTORY_FRAME.loc[slice('2022-04-29', '2022-05-01'), get_color_slice(''), get_name_slice(['Girder Goons', 'Angelic Observer', 'A Little Chat', 'Case the Joint'])]"
   ]
  },
  {
   "cell_type": "code",
   "execution_count": null,
   "id": "f62a6554",
   "metadata": {},
   "outputs": [],
   "source": [
    "data = set_data.BO1.DATA.CARD_HISTORY_FRAME.loc(axis=0)[pd.IndexSlice[slice(None), get_color_slice(''), get_name_slice(None)]]\n",
    "cheap = data[data['CMC'] <= 3]\n",
    "expensive = data[data['CMC'] >= 5]"
   ]
  },
  {
   "cell_type": "code",
   "execution_count": null,
   "id": "4c1e5a27",
   "metadata": {},
   "outputs": [],
   "source": [
    "cheap['Games Won'] = cheap['# GIH'] * cheap['GIH WR'] * 0.01\n",
    "cheap_sums = cheap[['# GP', '# GIH', 'Games Won']].sum()\n",
    "cheap_wr = cheap_sums['Games Won'] / cheap_sums['# GIH']\n",
    "cheap_wr"
   ]
  },
  {
   "cell_type": "code",
   "execution_count": null,
   "id": "e3a4db09",
   "metadata": {
    "scrolled": false
   },
   "outputs": [],
   "source": [
    "expensive['Games Won'] = expensive['# GIH'] * expensive['GIH WR'] * 0.01\n",
    "expensive_sums = expensive[['# GP', '# GIH', 'Games Won']].sum()\n",
    "expensive_wr = expensive_sums['Games Won'] / expensive_sums['# GIH']\n",
    "expensive_wr"
   ]
  },
  {
   "cell_type": "code",
   "execution_count": null,
   "id": "cfa90536",
   "metadata": {},
   "outputs": [],
   "source": [
    "for i in range(0, 9):\n",
    "    by_cmc = data[data['CMC'] == i]\n",
    "    by_cmc['Games Won'] = by_cmc['# GIH'] * by_cmc['GIH WR'] * 0.01\n",
    "    sums = by_cmc[['# GP', '# GIH', 'Games Won']].sum()\n",
    "    avg = by_cmc[['GIH WR']].mean()['GIH WR']\n",
    "    wr = sums['Games Won'] / sums['# GIH'] * 100\n",
    "    print(f\"CMC: {i}, WR: {wr}  AVG: {avg}\")"
   ]
  },
  {
   "cell_type": "code",
   "execution_count": null,
   "id": "d7a6a361",
   "metadata": {},
   "outputs": [],
   "source": []
  },
  {
   "cell_type": "code",
   "execution_count": null,
   "id": "b1b4b94f",
   "metadata": {},
   "outputs": [],
   "source": [
    "examiner.plot_archetype_playrate_history(['2C', '3C', 'WU', 'WG', 'WUG'], roll=3, derivs=2)"
   ]
  },
  {
   "cell_type": "code",
   "execution_count": null,
   "id": "64c19224",
   "metadata": {},
   "outputs": [],
   "source": [
    "examiner.plot_archetype_playrate_history(['2C', '3C', 'WU', 'WG', 'UB', 'BR', 'RG', 'WUB', 'WUG', 'UBR', 'BRG', 'WRG'], roll=1, derivs=1)"
   ]
  },
  {
   "cell_type": "code",
   "execution_count": null,
   "id": "672024f2",
   "metadata": {},
   "outputs": [],
   "source": []
  },
  {
   "cell_type": "code",
   "execution_count": null,
   "id": "eacaef4f",
   "metadata": {},
   "outputs": [],
   "source": [
    "get_grade_distribution('')"
   ]
  },
  {
   "cell_type": "code",
   "execution_count": null,
   "id": "4bdc7df1",
   "metadata": {},
   "outputs": [],
   "source": [
    "frame = examiner.card_frame(deck_color='', summary=True)"
   ]
  },
  {
   "cell_type": "code",
   "execution_count": null,
   "id": "0f6becfb",
   "metadata": {},
   "outputs": [],
   "source": []
  },
  {
   "cell_type": "code",
   "execution_count": null,
   "id": "603ba890",
   "metadata": {},
   "outputs": [],
   "source": [
    "mu, std = norm.fit(frame['GIH WR'])"
   ]
  },
  {
   "cell_type": "code",
   "execution_count": null,
   "id": "9086f56c",
   "metadata": {},
   "outputs": [],
   "source": [
    "p = norm.cdf(frame['GIH WR'], mu, std) * 100\n",
    "p"
   ]
  },
  {
   "cell_type": "code",
   "execution_count": null,
   "id": "32559a8a",
   "metadata": {},
   "outputs": [],
   "source": [
    "frame_copy = frame.copy()\n",
    "frame_copy['STD'] = p\n",
    "frame_copy[['GIH WR', 'STD']].sort_values(\"GIH WR\")"
   ]
  },
  {
   "cell_type": "code",
   "execution_count": null,
   "id": "bddea8d6",
   "metadata": {},
   "outputs": [],
   "source": []
  },
  {
   "cell_type": "markdown",
   "id": "e45f96eb",
   "metadata": {},
   "source": [
    "# Deck Comparisons"
   ]
  },
  {
   "cell_type": "code",
   "execution_count": 1,
   "id": "ab0380e0",
   "metadata": {
    "scrolled": true
   },
   "outputs": [
    {
     "data": {
      "text/html": [
       "<style>.container { width:95% !important; }</style>"
      ],
      "text/plain": [
       "<IPython.core.display.HTML object>"
      ]
     },
     "metadata": {},
     "output_type": "display_data"
    },
    {
     "name": "stdout",
     "output_type": "stream",
     "text": [
      "3.9.7 (default, Sep 16 2021, 16:59:28) [MSC v.1916 64 bit (AMD64)]\n"
     ]
    }
   ],
   "source": [
    "from IPython.core.display import display, HTML\n",
    "import sys\n",
    "display(HTML(\"<style>.container { width:95% !important; }</style>\"))\n",
    "print(sys.version)"
   ]
  },
  {
   "cell_type": "code",
   "execution_count": 2,
   "id": "f94f23ff",
   "metadata": {},
   "outputs": [
    {
     "name": "stderr",
     "output_type": "stream",
     "text": [
      "WARNING:root:Card 'The Mightstone and Weakstone' contains invalid types!\n",
      "  TYPE_LINE: 'Legendary Artifact — Powerstone'\n",
      " INVALID_TYPES: {'Powerstone'}\n",
      "WARNING:root:Card 'The Mightstone and Weakstone' contains invalid types!\n",
      "  TYPE_LINE: 'Legendary Artifact — Powerstone'\n",
      " INVALID_TYPES: {'Powerstone'}\n"
     ]
    }
   ],
   "source": [
    "from game_metadata.game_objects.Card import CardManager\n",
    "CardManager.load_cache_from_file()"
   ]
  },
  {
   "cell_type": "code",
   "execution_count": 12,
   "id": "44348ae6",
   "metadata": {},
   "outputs": [],
   "source": [
    "from game_metadata import Deck, LimitedDeck, ConstructedDeck\n",
    "from data_interface.Request17Lands import Request17Lands\n",
    "from wubrg.sorting import WUBRG_COLOR_INDEXES\n",
    "from collections import OrderedDict\n",
    "from game_metadata.utils.consts import RARITY_INDEXES\n",
    "import re"
   ]
  },
  {
   "cell_type": "code",
   "execution_count": 4,
   "id": "0934269e",
   "metadata": {},
   "outputs": [],
   "source": [
    "def compare_decks(d1, d2):\n",
    "    def sort_key(x): return (x.CMC, WUBRG_COLOR_INDEXES[x.CAST_IDENTITY], x.NAME)\n",
    "    \n",
    "    diff = (d1 - d2)[0]\n",
    "    over = (d1 | d2)[0]\n",
    "    diff_1 = {k: diff[k] for k in diff if diff[k] > 0}\n",
    "    diff_2 = {k: -diff[k] for k in diff if diff[k] < 0}\n",
    "    \n",
    "    over = {key:over[key] for key in sorted(over.keys(), key=sort_key)}\n",
    "    diff_1 = {key:diff_1[key] for key in sorted(diff_1.keys(), key=sort_key)}\n",
    "    diff_2 = {key:diff_2[key] for key in sorted(diff_2.keys(), key=sort_key)}\n",
    "    return diff_1, over, diff_2\n",
    "\n",
    "def format_diffs(diff_1, over, diff_2):\n",
    "    diff_1_str = [f\"{v:2} {k.NAME:30}\" for k, v in diff_1.items()]\n",
    "    over_str = [f\"{v:2} {k.NAME:30}\" for k, v in over.items()]\n",
    "    diff_2_str = [f\"{v:2} {k.NAME:30}\" for k, v in diff_2.items()]\n",
    "    \n",
    "    x = max(len(diff_1_str), len(over_str), len(diff_2_str))\n",
    "\n",
    "    def safe_val(l, i):\n",
    "        try:\n",
    "            return l[i]\n",
    "        except IndexError:\n",
    "            return ' ' * 33\n",
    "\n",
    "    ret = '         Deck 1                           Shared                           Deck 2                  ' + '\\n'\n",
    "    for i in range(0, x):\n",
    "        ret += safe_val(diff_1_str, i) + safe_val(over_str, i) + safe_val(diff_2_str, i) + '\\n'\n",
    "    return ret\n",
    "\n",
    "def print_deck_comparison(d1, d2):\n",
    "    diff_1, over, diff_2 = compare_decks(d1, d2)\n",
    "    diff_str = format_diffs(diff_1, over, diff_2)\n",
    "    print(diff_str)"
   ]
  },
  {
   "cell_type": "code",
   "execution_count": 46,
   "id": "3f642289",
   "metadata": {
    "scrolled": true
   },
   "outputs": [],
   "source": [
    "thiers = \"\"\"Deck\n",
    "1 Drowned Catacomb (XLN) 253\n",
    "1 Shipwreck Marsh (MID) 267\n",
    "1 Deathcap Glade (VOW) 261\n",
    "1 Woodland Cemetery (DOM) 248\n",
    "1 Dreamroot Cascade (VOW) 262\n",
    "1 Hinterland Harbor (DOM) 240\n",
    "1 Indatha Triome (IKO) 248\n",
    "1 Zagoth Triome (IKO) 259\n",
    "1 Fabled Passage (ELD) 244\n",
    "5 Forest (MH2) 489\n",
    "3 Island (BRO) 270\n",
    "1 Essence Scatter (M19) 54\n",
    "1 Heartless Act (IKO) 91\n",
    "1 Courier's Briefcase (SNC) 142\n",
    "1 Gala Greeters (SNC) 148\n",
    "1 Inscription of Abundance (ZNR) 186\n",
    "1 Paradise Druid (WAR) 171\n",
    "1 Ranger Class (AFR) 202\n",
    "1 Scavenging Ooze (M21) 204\n",
    "1 Coldsteel Heart (CSP) 136\n",
    "1 Aether Channeler (DMU) 42\n",
    "1 Chatterfang, Squirrel General (MH2) 151\n",
    "1 Chitterspitter (MH2) 153\n",
    "1 Rishkar, Peema Renegade (JMP) 425\n",
    "1 Tireless Tracker (SOI) 233\n",
    "1 Ulvenwald Oddity (VOW) 225\n",
    "1 Ertai Resurrected (DMU) 199\n",
    "1 Binding the Old Gods (KHM) 206\n",
    "1 Verdurous Gearhulk (KLR) 185\n",
    "1 Enter the God-Eternals (WAR) 196\n",
    "1 Shark Typhoon (IKO) 67\n",
    "1 Titan of Industry (SNC) 159\n",
    "1 Koma, Cosmos Serpent (KHM) 221\n",
    "1 Cityscape Leveler (BRO) 233\n",
    "\"\"\""
   ]
  },
  {
   "cell_type": "code",
   "execution_count": 47,
   "id": "5cd1d8eb",
   "metadata": {},
   "outputs": [],
   "source": [
    "mine = \"\"\"Deck\n",
    "1 Drowned Catacomb (XLN) 253\n",
    "1 Shipwreck Marsh (MID) 267\n",
    "1 Deathcap Glade (VOW) 261\n",
    "1 Woodland Cemetery (DOM) 248\n",
    "1 Dreamroot Cascade (VOW) 262\n",
    "1 Hinterland Harbor (DOM) 240\n",
    "1 Ketria Triome (IKO) 250\n",
    "1 Indatha Triome (IKO) 248\n",
    "1 Zagoth Triome (IKO) 259\n",
    "1 Fabled Passage (ELD) 244\n",
    "3 Forest (ONE) 276\n",
    "3 Island (ONE) 273\n",
    "1 Fading Hope (MID) 51\n",
    "1 Hard Evidence (MH2) 46\n",
    "1 Essence Scatter (M19) 54\n",
    "1 Negate (RIX) 44\n",
    "1 Heartless Act (IKO) 91\n",
    "1 Ranger Class (AFR) 202\n",
    "1 Courier's Briefcase (SNC) 142\n",
    "1 Paradise Druid (WAR) 171\n",
    "1 Inscription of Abundance (ZNR) 186\n",
    "1 Gala Greeters (SNC) 148\n",
    "1 Coldsteel Heart (CSP) 136\n",
    "1 Aether Channeler (DMU) 42\n",
    "1 Midnight Clock (ELD) 54\n",
    "1 Chatterfang, Squirrel General (MH2) 151\n",
    "1 Chitterspitter (MH2) 153\n",
    "1 Tireless Tracker (SOI) 233\n",
    "1 Whirler Rogue (ORI) 83\n",
    "1 Binding the Old Gods (KHM) 206\n",
    "1 Ertai Resurrected (DMU) 199\n",
    "1 Shark Typhoon (IKO) 67\n",
    "1 Junk Winder (MH2) 48\n",
    "1 Titan of Industry (SNC) 159\n",
    "1 Koma, Cosmos Serpent (KHM) 221\n",
    "1 Cityscape Leveler (BRO) 233\"\"\""
   ]
  },
  {
   "cell_type": "code",
   "execution_count": 48,
   "id": "0f6f7050",
   "metadata": {},
   "outputs": [
    {
     "name": "stdout",
     "output_type": "stream",
     "text": [
      "         Deck 1                           Shared                           Deck 2                  \n",
      " 1 Ketria Triome                  1 Deathcap Glade                 2 Forest                        \n",
      " 1 Fading Hope                    1 Dreamroot Cascade              1 Scavenging Ooze               \n",
      " 1 Hard Evidence                  1 Drowned Catacomb               1 Rishkar, Peema Renegade       \n",
      " 1 Negate                         1 Fabled Passage                 1 Ulvenwald Oddity              \n",
      " 1 Midnight Clock                 3 Forest                         1 Verdurous Gearhulk            \n",
      " 1 Whirler Rogue                  1 Hinterland Harbor              1 Enter the God-Eternals        \n",
      " 1 Junk Winder                    1 Indatha Triome                                                 \n",
      "                                  3 Island                                                         \n",
      "                                  1 Shipwreck Marsh                                                \n",
      "                                  1 Woodland Cemetery                                              \n",
      "                                  1 Zagoth Triome                                                  \n",
      "                                  1 Coldsteel Heart                                                \n",
      "                                  1 Essence Scatter                                                \n",
      "                                  1 Heartless Act                                                  \n",
      "                                  1 Courier's Briefcase                                            \n",
      "                                  1 Gala Greeters                                                  \n",
      "                                  1 Inscription of Abundance                                       \n",
      "                                  1 Paradise Druid                                                 \n",
      "                                  1 Ranger Class                                                   \n",
      "                                  1 Aether Channeler                                               \n",
      "                                  1 Chatterfang, Squirrel General                                  \n",
      "                                  1 Chitterspitter                                                 \n",
      "                                  1 Tireless Tracker                                               \n",
      "                                  1 Ertai Resurrected                                              \n",
      "                                  1 Binding the Old Gods                                           \n",
      "                                  1 Shark Typhoon                                                  \n",
      "                                  1 Titan of Industry                                              \n",
      "                                  1 Koma, Cosmos Serpent                                           \n",
      "                                  1 Cityscape Leveler                                              \n",
      "\n"
     ]
    }
   ],
   "source": [
    "# TODO: Load deck from SealedDeck.tech\n",
    "# Consider Card ordering.\n",
    "MY_DECK = Deck.from_string(mine, \"Mine\")\n",
    "THEIR_DECK = Deck.from_string(thiers, \"Thiers\")\n",
    "print_deck_comparison(MY_DECK, THEIR_DECK)"
   ]
  },
  {
   "cell_type": "code",
   "execution_count": 25,
   "id": "8929b960",
   "metadata": {},
   "outputs": [
    {
     "data": {
      "text/plain": [
       "[Deserted Beach,\n",
       " Glacial Fortress,\n",
       " Drowned Catacomb,\n",
       " Shipwreck Marsh,\n",
       " Dragonskull Summit,\n",
       " Haunted Ridge,\n",
       " Rockfall Vale,\n",
       " Rootbound Crag,\n",
       " Overgrown Farmland,\n",
       " Sunpetal Grove,\n",
       " Isolated Chapel,\n",
       " Shattered Sanctum,\n",
       " Stormcarved Coast,\n",
       " Sulfur Falls,\n",
       " Deathcap Glade,\n",
       " Woodland Cemetery,\n",
       " Clifftop Retreat,\n",
       " Sundown Pass,\n",
       " Dreamroot Cascade,\n",
       " Hinterland Harbor,\n",
       " Savai Triome,\n",
       " Ketria Triome,\n",
       " Indatha Triome,\n",
       " Raugrin Triome,\n",
       " Zagoth Triome,\n",
       " Fabled Passage,\n",
       " Defiant Strike,\n",
       " Esper Sentinel,\n",
       " Favored Hoplite,\n",
       " Gods Willing,\n",
       " Homestead Courage,\n",
       " Fading Hope,\n",
       " Hard Evidence,\n",
       " Slip Out the Back,\n",
       " Cryptbreaker,\n",
       " Stitcher's Supplier,\n",
       " Reckless Rage,\n",
       " Ascendant Packleader,\n",
       " Feat of Resistance,\n",
       " Illuminator Virtuoso,\n",
       " Valorous Stance,\n",
       " Ensoul Artifact,\n",
       " Essence Scatter,\n",
       " Negate,\n",
       " Rise and Shine,\n",
       " Stormchaser Drake,\n",
       " Dreadhorde Invasion,\n",
       " Heartless Act,\n",
       " Mire Triton,\n",
       " Skyclave Shade,\n",
       " Cathartic Pyre,\n",
       " Dreadhorde Arcanist,\n",
       " Obliterating Bolt,\n",
       " Temur Battle Rage,\n",
       " Courier's Briefcase,\n",
       " Gala Greeters,\n",
       " Inscription of Abundance,\n",
       " Paradise Druid,\n",
       " Ranger Class,\n",
       " Scavenging Ooze,\n",
       " Battlewise Hoplite,\n",
       " Bloodtithe Harvester,\n",
       " Black Market Tycoon,\n",
       " Conclave Mentor,\n",
       " Dromoka's Command,\n",
       " Despark,\n",
       " Humiliate,\n",
       " Priest of Fell Rites,\n",
       " Expressive Iteration,\n",
       " Sprite Dragon,\n",
       " Winding Constrictor,\n",
       " Rip Apart,\n",
       " Tenth District Legionnaire,\n",
       " Combine Chrysalis,\n",
       " Coldsteel Heart,\n",
       " Elite Spellbinder,\n",
       " Aether Channeler,\n",
       " Midnight Clock,\n",
       " Drana, Liberator of Malakir,\n",
       " Murderous Rider // Swift End,\n",
       " Breya's Apprentice,\n",
       " Flames of the Firebrand,\n",
       " Krenko, Tin Street Kingpin,\n",
       " Seasoned Pyromancer,\n",
       " Chatterfang, Squirrel General,\n",
       " Chitterspitter,\n",
       " Rishkar, Peema Renegade,\n",
       " Tireless Tracker,\n",
       " Deputy of Detention,\n",
       " Electrolyze,\n",
       " Feather, the Redeemed,\n",
       " Nettlecyst,\n",
       " Basri's Lieutenant,\n",
       " Cast Out,\n",
       " Late to Dinner,\n",
       " Memory Deluge,\n",
       " Whirler Rogue,\n",
       " Blood for Bones,\n",
       " Big Score,\n",
       " Jaya, Fiery Negotiator,\n",
       " The Elder Dragon War,\n",
       " Ulvenwald Oddity // Ulvenwald Behemoth,\n",
       " Vivien, Arkbow Ranger,\n",
       " Ertai Resurrected,\n",
       " Binding the Old Gods,\n",
       " Solemn Simulacrum,\n",
       " Angel of Sanctions,\n",
       " Archfiend of Ifnir,\n",
       " Liliana's Mastery,\n",
       " The Cruelty of Gix,\n",
       " Ox of Agonas,\n",
       " Verdurous Gearhulk,\n",
       " Enter the God-Eternals,\n",
       " Escape to the Wilds,\n",
       " Wavesifter,\n",
       " Sanctuary Warden,\n",
       " Shark Typhoon,\n",
       " Taste of Death,\n",
       " Olivia, Crimson Bride,\n",
       " Junk Winder,\n",
       " Drakuseth, Maw of Flames,\n",
       " Titan of Industry,\n",
       " Koma, Cosmos Serpent,\n",
       " Platinum Angel,\n",
       " Cityscape Leveler,\n",
       " Dark Salvation]"
      ]
     },
     "execution_count": 25,
     "metadata": {},
     "output_type": "execute_result"
    }
   ],
   "source": [
    "card_pool = \"\"\"1 Deserted Beach (MID) 260\n",
    "1 Glacial Fortress (XLN) 255\n",
    "1 Drowned Catacomb (XLN) 253\n",
    "1 Shipwreck Marsh (MID) 267\n",
    "1 Dragonskull Summit (XLN) 252\n",
    "1 Haunted Ridge (MID) 263\n",
    "1 Rockfall Vale (MID) 266\n",
    "1 Rootbound Crag (XLN) 256\n",
    "1 Overgrown Farmland (MID) 265\n",
    "1 Sunpetal Grove (XLN) 257\n",
    "1 Isolated Chapel (DOM) 241\n",
    "1 Shattered Sanctum (VOW) 264\n",
    "1 Stormcarved Coast (VOW) 265\n",
    "1 Sulfur Falls (DOM) 247\n",
    "1 Deathcap Glade (VOW) 261\n",
    "1 Woodland Cemetery (DOM) 248\n",
    "1 Clifftop Retreat (DOM) 239\n",
    "1 Sundown Pass (VOW) 266\n",
    "1 Dreamroot Cascade (VOW) 262\n",
    "1 Hinterland Harbor (DOM) 240\n",
    "1 Savai Triome (IKO) 253\n",
    "1 Ketria Triome (IKO) 250\n",
    "1 Indatha Triome (IKO) 248\n",
    "1 Raugrin Triome (IKO) 251\n",
    "1 Zagoth Triome (IKO) 259\n",
    "1 Fabled Passage (ELD) 244\n",
    "1 Defiant Strike (WAR) 9\n",
    "1 Esper Sentinel (MH2) 12\n",
    "1 Favored Hoplite (THS) 13\n",
    "1 Gods Willing (M20) 19\n",
    "1 Homestead Courage (MID) 24\n",
    "1 Fading Hope (MID) 51\n",
    "1 Hard Evidence (MH2) 46\n",
    "1 Slip Out the Back (SNC) 62\n",
    "1 Cryptbreaker (EMN) 86\n",
    "1 Stitcher's Supplier (M19) 121\n",
    "1 Reckless Rage (RIX) 110\n",
    "1 Ascendant Packleader (VOW) 186\n",
    "1 Feat of Resistance (M21) 19\n",
    "1 Illuminator Virtuoso (SNC) 17\n",
    "1 Valorous Stance (VOW) 42\n",
    "1 Ensoul Artifact (M15) 54\n",
    "1 Essence Scatter (M19) 54\n",
    "1 Negate (RIX) 44\n",
    "1 Rise and Shine (MH2) 58\n",
    "1 Stormchaser Drake (VOW) 82\n",
    "1 Dreadhorde Invasion (WAR) 86\n",
    "1 Heartless Act (IKO) 91\n",
    "1 Mire Triton (THB) 105\n",
    "1 Skyclave Shade (ZNR) 125\n",
    "1 Cathartic Pyre (MID) 133\n",
    "1 Dreadhorde Arcanist (WAR) 125\n",
    "1 Obliterating Bolt (BRO) 145\n",
    "1 Temur Battle Rage (FRF) 116\n",
    "1 Courier's Briefcase (SNC) 142\n",
    "1 Gala Greeters (SNC) 148\n",
    "1 Inscription of Abundance (ZNR) 186\n",
    "1 Paradise Druid (WAR) 171\n",
    "1 Ranger Class (AFR) 202\n",
    "1 Scavenging Ooze (M21) 204\n",
    "1 Battlewise Hoplite (THS) 189\n",
    "1 Bloodtithe Harvester (VOW) 232\n",
    "1 Black Market Tycoon (SNC) 167\n",
    "1 Conclave Mentor (M21) 216\n",
    "1 Dromoka's Command (DTK) 221\n",
    "1 Despark (WAR) 190\n",
    "1 Humiliate (STX) 193\n",
    "1 Priest of Fell Rites (MH2) 208\n",
    "1 Expressive Iteration (STX) 186\n",
    "1 Sprite Dragon (IKO) 211\n",
    "1 Winding Constrictor (KLR) 216\n",
    "1 Rip Apart (STX) 225\n",
    "1 Tenth District Legionnaire (WAR) 222\n",
    "1 Combine Chrysalis (MH2) 191\n",
    "1 Coldsteel Heart (CSP) 136\n",
    "1 Elite Spellbinder (STX) 17\n",
    "1 Aether Channeler (DMU) 42\n",
    "1 Midnight Clock (ELD) 54\n",
    "1 Drana, Liberator of Malakir (JMP) 225\n",
    "1 Murderous Rider (ELD) 97\n",
    "1 Breya's Apprentice (MH2) 117\n",
    "1 Flames of the Firebrand (JMP) 317\n",
    "1 Krenko, Tin Street Kingpin (WAR) 137\n",
    "1 Seasoned Pyromancer (MH1) 145\n",
    "1 Chatterfang, Squirrel General (MH2) 151\n",
    "1 Chitterspitter (MH2) 153\n",
    "1 Rishkar, Peema Renegade (JMP) 425\n",
    "1 Tireless Tracker (SOI) 233\n",
    "1 Deputy of Detention (RNA) 165\n",
    "1 Electrolyze (STA) 60\n",
    "1 Feather, the Redeemed (WAR) 197\n",
    "1 Nettlecyst (MH2) 231\n",
    "1 Basri's Lieutenant (M21) 9\n",
    "1 Cast Out (AKR) 9\n",
    "1 Late to Dinner (MH2) 19\n",
    "1 Memory Deluge (MID) 62\n",
    "1 Whirler Rogue (ORI) 83\n",
    "1 Blood for Bones (M20) 89\n",
    "1 Big Score (SNC) 102\n",
    "1 Jaya, Fiery Negotiator (DMU) 133\n",
    "1 The Elder Dragon War (DMU) 121\n",
    "1 Ulvenwald Oddity (VOW) 225\n",
    "1 Vivien, Arkbow Ranger (M20) 199\n",
    "1 Ertai Resurrected (DMU) 199\n",
    "1 Binding the Old Gods (KHM) 206\n",
    "1 Solemn Simulacrum (M21) 239\n",
    "1 Angel of Sanctions (AKR) 1\n",
    "1 Archfiend of Ifnir (AKR) 91\n",
    "1 Liliana's Mastery (AKR) 113\n",
    "1 The Cruelty of Gix (DMU) 87\n",
    "1 Ox of Agonas (THB) 147\n",
    "1 Verdurous Gearhulk (KLR) 185\n",
    "1 Enter the God-Eternals (WAR) 196\n",
    "1 Escape to the Wilds (ELD) 189\n",
    "1 Wavesifter (MH2) 217\n",
    "1 Sanctuary Warden (SNC) 30\n",
    "1 Shark Typhoon (IKO) 67\n",
    "1 Taste of Death (ELD) 320\n",
    "1 Olivia, Crimson Bride (VOW) 245\n",
    "1 Junk Winder (MH2) 48\n",
    "1 Drakuseth, Maw of Flames (M20) 136\n",
    "1 Titan of Industry (SNC) 159\n",
    "1 Koma, Cosmos Serpent (KHM) 221\n",
    "1 Platinum Angel (M10) 218\n",
    "1 Cityscape Leveler (BRO) 233\n",
    "1 Dark Salvation (J21) 308\n",
    "\"\"\"\n",
    "CARD_POOL = Deck.from_string(card_pool, \"Pool\")\n",
    "CARD_POOL.maindeck"
   ]
  },
  {
   "cell_type": "code",
   "execution_count": 37,
   "id": "093a3532",
   "metadata": {},
   "outputs": [
    {
     "name": "stdout",
     "output_type": "stream",
     "text": [
      "\"Defiant Strike\",\"{W}\",\"Instant\",\"C\",\"https://scryfall.com/card/m21/15\"\n",
      "\"Homestead Courage\",\"{W}\",\"Sorcery\",\"C\",\"https://scryfall.com/card/mid/24\"\n",
      "\"Gods Willing\",\"{W}\",\"Instant\",\"U\",\"https://scryfall.com/card/m20/19\"\n",
      "\"Feat of Resistance\",\"{1}{W}\",\"Instant\",\"C\",\"https://scryfall.com/card/m21/19\"\n",
      "\"Valorous Stance\",\"{1}{W}\",\"Instant\",\"U\",\"https://scryfall.com/card/vow/42\"\n",
      "\"Cast Out\",\"{3}{W}\",\"Enchantment\",\"U\",\"https://scryfall.com/card/akr/9\"\n",
      "\"Fading Hope\",\"{U}\",\"Instant\",\"U\",\"https://scryfall.com/card/mid/51\"\n",
      "\"Slip Out the Back\",\"{U}\",\"Instant\",\"U\",\"https://scryfall.com/card/snc/62\"\n",
      "\"Essence Scatter\",\"{1}{U}\",\"Instant\",\"C\",\"https://scryfall.com/card/dmu/49\"\n",
      "\"Negate\",\"{1}{U}\",\"Instant\",\"C\",\"https://scryfall.com/card/dmu/58\"\n",
      "\"Heartless Act\",\"{1}{B}\",\"Instant\",\"U\",\"https://scryfall.com/card/iko/91\"\n",
      "\"Murderous Rider\",\"{1}{B}{B} // {1}{B}{B}\",\"Creature — Zombie Knight // Instant — Adventure\",\"R\",\"https://scryfall.com/card/eld/97\"\n",
      "\"Reckless Rage\",\"{R}\",\"Instant\",\"U\",\"https://scryfall.com/card/rix/110\"\n",
      "\"Temur Battle Rage\",\"{1}{R}\",\"Instant\",\"C\",\"https://scryfall.com/card/ea1/10\"\n",
      "\"Cathartic Pyre\",\"{1}{R}\",\"Instant\",\"U\",\"https://scryfall.com/card/mid/133\"\n",
      "\"Inscription of Abundance\",\"{1}{G}\",\"Instant\",\"R\",\"https://scryfall.com/card/znr/186\"\n",
      "\"Despark\",\"{W}{B}\",\"Instant\",\"U\",\"https://scryfall.com/card/war/190\"\n",
      "\"Dromoka's Command\",\"{G}{W}\",\"Instant\",\"R\",\"https://scryfall.com/card/ha5/22\"\n",
      "\"Ertai Resurrected\",\"{2}{U}{B}\",\"Legendary Creature — Phyrexian Human Wizard\",\"R\",\"https://scryfall.com/card/dmu/199\"\n",
      "\"Electrolyze\",\"{1}{U}{R}\",\"Instant\",\"R\",\"https://scryfall.com/card/sta/60\"\n"
     ]
    }
   ],
   "source": [
    "trick_list = list()\n",
    "for x in CARD_POOL.maindeck:\n",
    "    if (\"target\" in x.ORACLE or \"creature\" in x.ORACLE or \"prevent\" in x.ORACLE) and (\"Instant\" in x.TYPES or \"Flash\" in x.ORACLE):\n",
    "        trick_list.append(x)\n",
    "\n",
    "def sort_key(x): return (WUBRG_COLOR_INDEXES[x.CAST_IDENTITY], x.CMC, RARITY_INDEXES[x.RARITY], x.NAME)\n",
    "trick_list = sorted(trick_list, key=sort_key)   \n",
    "\n",
    "for x in trick_list:\n",
    "    print(f'\"{x.NAME}\",\"{x.MANA_COST}\",\"{x.TYPE_LINE}\",\"{x.RARITY}\",\"{x.URL}\"')"
   ]
  },
  {
   "cell_type": "code",
   "execution_count": 27,
   "id": "e0dd44a3",
   "metadata": {},
   "outputs": [
    {
     "data": {
      "text/plain": [
       "[Deserted Beach,\n",
       " Glacial Fortress,\n",
       " Drowned Catacomb,\n",
       " Shipwreck Marsh,\n",
       " Dragonskull Summit,\n",
       " Haunted Ridge,\n",
       " Rockfall Vale,\n",
       " Rootbound Crag,\n",
       " Overgrown Farmland,\n",
       " Sunpetal Grove,\n",
       " Isolated Chapel,\n",
       " Shattered Sanctum,\n",
       " Stormcarved Coast,\n",
       " Sulfur Falls,\n",
       " Deathcap Glade,\n",
       " Woodland Cemetery,\n",
       " Clifftop Retreat,\n",
       " Sundown Pass,\n",
       " Dreamroot Cascade,\n",
       " Hinterland Harbor,\n",
       " Savai Triome,\n",
       " Ketria Triome,\n",
       " Indatha Triome,\n",
       " Raugrin Triome,\n",
       " Zagoth Triome,\n",
       " Fabled Passage]"
      ]
     },
     "execution_count": 27,
     "metadata": {},
     "output_type": "execute_result"
    }
   ],
   "source": [
    "land_list = list()\n",
    "for x in CARD_POOL.maindeck:\n",
    "    if \"Land\" in x.TYPES:\n",
    "        land_list.append(x)\n",
    "land_list"
   ]
  },
  {
   "cell_type": "code",
   "execution_count": 22,
   "id": "d57b12ee",
   "metadata": {
    "scrolled": false
   },
   "outputs": [
    {
     "name": "stdout",
     "output_type": "stream",
     "text": [
      "\"Counterspell\",\"{U}{U}\",\"Instant\",\"R\",\"https://scryfall.com/card/sta/15\"\n",
      "\"Negate\",\"{1}{U}\",\"Instant\",\"C\",\"https://scryfall.com/card/dmu/58\"\n",
      "\"Memory Lapse\",\"{1}{U}\",\"Instant\",\"R\",\"https://scryfall.com/card/sta/16\"\n",
      "\"Go for the Throat\",\"{1}{B}\",\"Instant\",\"U\",\"https://scryfall.com/card/bro/102\"\n",
      "\"Annul\",\"{U}\",\"Instant\",\"C\",\"https://scryfall.com/card/khm/42\"\n",
      "\"Dispel\",\"{U}\",\"Instant\",\"C\",\"https://scryfall.com/card/bfz/76\"\n",
      "\"Swan Song\",\"{U}\",\"Instant\",\"R\",\"https://scryfall.com/card/ha3/9\"\n",
      "\"Essence Flux\",\"{U}\",\"Instant\",\"U\",\"https://scryfall.com/card/jmp/151\"\n",
      "\"Commit // Memory\",\"{3}{U} // {4}{U}{U}\",\"Instant // Sorcery\",\"R\",\"https://scryfall.com/card/akr/54\"\n",
      "\"River's Rebuke\",\"{4}{U}{U}\",\"Sorcery\",\"R\",\"https://scryfall.com/card/xln/71\"\n",
      "\"Karn, the Great Creator\",\"{4}\",\"Legendary Planeswalker — Karn\",\"R\",\"https://scryfall.com/card/war/1\"\n",
      "\"Tale's End\",\"{1}{U}\",\"Instant\",\"R\",\"https://scryfall.com/card/m20/77\"\n",
      "\"Thassa, Deep-Dwelling\",\"{3}{U}\",\"Legendary Enchantment Creature — God\",\"M\",\"https://scryfall.com/card/thb/71\"\n",
      "\"Elspeth's Nightmare\",\"{2}{B}\",\"Enchantment — Saga\",\"U\",\"https://scryfall.com/card/thb/91\"\n",
      "\"Heartless Act\",\"{1}{B}\",\"Instant\",\"U\",\"https://scryfall.com/card/iko/91\"\n",
      "\"Jwari Disruption\",\"{1}{U}\",\"Instant // Land\",\"U\",\"https://scryfall.com/card/znr/64\"\n",
      "\"Malakir Rebirth\",\"{B}\",\"Instant // Land\",\"U\",\"https://scryfall.com/card/znr/111\"\n",
      "\"Hall of Storm Giants\",\"\",\"Land\",\"R\",\"https://scryfall.com/card/afr/257\"\n",
      "\"Hive of the Eye Tyrant\",\"\",\"Land\",\"R\",\"https://scryfall.com/card/afr/258\"\n",
      "\"Infernal Grasp\",\"{1}{B}\",\"Instant\",\"U\",\"https://scryfall.com/card/mid/107\"\n",
      "\"Wash Away\",\"{U}\",\"Instant\",\"U\",\"https://scryfall.com/card/vow/87\"\n",
      "\"Otawara, Soaring City\",\"\",\"Legendary Land\",\"R\",\"https://scryfall.com/card/neo/271\"\n",
      "\"Irenicus's Vile Duplication\",\"{3}{U}\",\"Sorcery\",\"U\",\"https://scryfall.com/card/hbg/123\"\n",
      "\"Displacer Kitten\",\"{3}{U}\",\"Creature — Cat Beast\",\"R\",\"https://scryfall.com/card/hbg/115\"\n",
      "\"Bind to Secrecy\",\"{U}{B}\",\"Instant\",\"R\",\"https://scryfall.com/card/ysnc/19\"\n",
      "\"Rona's Vortex\",\"{U}\",\"Instant\",\"U\",\"https://scryfall.com/card/dmu/63\"\n",
      "\"Ertai Resurrected\",\"{2}{U}{B}\",\"Legendary Creature — Phyrexian Human Wizard\",\"R\",\"https://scryfall.com/card/dmu/199\"\n"
     ]
    }
   ],
   "source": [
    "def sort_key(x): return (x.CMC, WUBRG_COLOR_INDEXES[x.CAST_IDENTITY], RARITY_INDEXES[x.RARITY], x.NAME)\n",
    "cards = sorted(MY_DECK.maindeck, key=sort_key)\n",
    "\n",
    "for x in MY_DECK.maindeck:\n",
    "    if \"target\" in x.ORACLE:\n",
    "        print(f'\"{x.NAME}\",\"{x.MANA_COST}\",\"{x.TYPE_LINE}\",\"{x.RARITY}\",\"{x.URL}\"')"
   ]
  },
  {
   "cell_type": "code",
   "execution_count": null,
   "id": "ba535171",
   "metadata": {},
   "outputs": [],
   "source": []
  }
 ],
 "metadata": {
  "kernelspec": {
   "display_name": "Python 3 (ipykernel)",
   "language": "python",
   "name": "python3"
  },
  "language_info": {
   "codemirror_mode": {
    "name": "ipython",
    "version": 3
   },
   "file_extension": ".py",
   "mimetype": "text/x-python",
   "name": "python",
   "nbconvert_exporter": "python",
   "pygments_lexer": "ipython3",
   "version": "3.9.7"
  }
 },
 "nbformat": 4,
 "nbformat_minor": 5
}
