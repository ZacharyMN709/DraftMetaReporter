{
 "cells": [
  {
   "cell_type": "code",
   "execution_count": 1,
   "id": "37c90842",
   "metadata": {},
   "outputs": [
    {
     "data": {
      "text/html": [
       "<style>.container { width:95% !important; }</style>"
      ],
      "text/plain": [
       "<IPython.core.display.HTML object>"
      ]
     },
     "metadata": {},
     "output_type": "display_data"
    }
   ],
   "source": [
    "from IPython.core.display import display, HTML\n",
    "display(HTML(\"<style>.container { width:95% !important; }</style>\"))"
   ]
  },
  {
   "cell_type": "code",
   "execution_count": 2,
   "id": "64c57ea3",
   "metadata": {},
   "outputs": [],
   "source": [
    "import pandas as pd\n",
    "pd.options.display.float_format = '{:,.3f}'.format\n",
    "import matplotlib.pyplot as plt\n",
    "import seaborn as sns\n",
    "sns.set_theme()\n",
    "\n",
    "import WUBRG\n",
    "import consts\n",
    "from LineColors import LineColors\n",
    "from FormatMetadata import SETS, FORMATS, SET_CONFIG\n",
    "from JSONHandler import JSONHandler\n",
    "from FormatMetadata import FormatMetadata\n",
    "from RawDataFetcher import RawDataFetcher\n",
    "from RawDataHandler import RawDataHandler\n",
    "from FramedData import FramedData"
   ]
  },
  {
   "cell_type": "markdown",
   "id": "69cadfaa",
   "metadata": {},
   "source": [
    "# Objects"
   ]
  },
  {
   "cell_type": "code",
   "execution_count": 3,
   "id": "068085b9",
   "metadata": {},
   "outputs": [],
   "source": [
    "class FramedDataFuncs:   \n",
    "    def __init__(self, SET, FORMAT):\n",
    "        self._SET = SET\n",
    "        self._FORMAT = FORMAT\n",
    "        self._DATA = FramedData(SET, FORMAT)\n",
    "        self._WINRATE_FUNCS = WinrateFuncs(self._DATA)\n",
    "    \n",
    "    @property\n",
    "    def SET(self):\n",
    "        \"\"\"The draft set.\"\"\"\n",
    "        return self._SET\n",
    "    \n",
    "    @property\n",
    "    def FORMAT(self):\n",
    "        \"\"\"The format type.\"\"\"\n",
    "        return self._FORMAT\n",
    "    \n",
    "    @property\n",
    "    def DATA(self):\n",
    "        \"\"\"The object which contains the data about the set and format.\"\"\"\n",
    "        return self._DATA\n",
    "    \n",
    "    def check_for_updates(self):\n",
    "        \"\"\"Populates and updates all data properties.\"\"\"\n",
    "        self._DATA.check_for_updates() \n",
    "    \n",
    "    def deck_group_frame(self, name=None, date=None, summary=False):\n",
    "        \"\"\"Returns a subset of the 'GROUPED_ARCHTYPE' data as a DataFrame.\"\"\"\n",
    "        return self.DATA.deck_group_frame(name, date, summary)\n",
    "     \n",
    "    def deck_archetype_frame(self, deck_color=None, date=None, summary=False):\n",
    "        \"\"\"Returns a subset of the 'SINGLE_ARCHTYPE' data as a DataFrame.\"\"\"\n",
    "        return self.DATA.deck_archetype_frame(deck_color, date, summary)\n",
    "    \n",
    "    def card_frame(self, name=None, deck_color=None, date=None, card_color=None, card_rarity=None, summary=False):\n",
    "        \"\"\"Returns a subset of the 'CARD' data as a DataFrame.\"\"\"\n",
    "        return self.DATA.card_frame(name, deck_color, date, card_color, card_rarity, summary)\n",
    "        \n",
    "    \n",
    "    #Helper Functions\n",
    "    def get_avg_winrate(self, day=None, arch='All Decks'):\n",
    "        return self._WINRATE_FUNCS.get_avg_winrate(day, arch)\n",
    "    \n",
    "    def card_archetype_performance(self, card_name):\n",
    "        return self._WINRATE_FUNCS.card_archetype_performance(card_name)\n",
    "    \n",
    "    def get_archetype_frame(self, colors, roll=1):\n",
    "        return self._WINRATE_FUNCS.get_archetype_frame(colors, roll)\n",
    "\n",
    "    def get_archetype_winrate_history(self, color_filter=None, roll=1):\n",
    "        return self._WINRATE_FUNCS.get_archetype_winrate_history(color_filter, roll)\n",
    "\n",
    "    def plot_archetype_winrate_history(self, color_filter=None, roll=1):\n",
    "        return self._WINRATE_FUNCS.plot_archetype_winrate_history(color_filter, roll)       \n",
    "        \n",
    "    def get_archetype_playrate_history(self, color_filter=None, roll=1):\n",
    "        return self._WINRATE_FUNCS.get_archetype_playrate_history(color_filter, roll)\n",
    "\n",
    "    def plot_archetype_playrate_history(self, color_filter=None, roll=1):\n",
    "        return self._WINRATE_FUNCS.plot_archetype_playrate_history(color_filter, roll)\n",
    "            \n",
    "        \n",
    "    def get_games_played(self, deck_color):\n",
    "        if deck_color: return self.deck_archetype_frame(deck_color=deck_color, summary=True)['Games'].sum()\n",
    "        else: return self.deck_group_frame(name='All Decks', summary=True)['Games']\n",
    "    \n",
    "    def graph_pick_stats(self, card_name, roll=1):\n",
    "        taken_data = self.card_frame(name=card_name, deck_color='')[['ALSA', 'ATA']]\n",
    "        taken_data.index = [tup[0][5:] for tup in taken_data.index]\n",
    "        rolling = taken_data.rolling(window=roll, min_periods=1, center=True).mean()\n",
    "\n",
    "        mx = min(max(taken_data.max()) + 0.25, 15) \n",
    "        mn = max(min(taken_data.min()) - 0.25, 1)\n",
    "        tit_str = f\"{self.SET} - {self.FORMAT}\\n{card_name}\"\n",
    "\n",
    "        rolling.plot(ylim=(mx, mn), grid=True, title=tit_str)\n",
    "\n",
    "        return taken_data\n",
    "\n",
    "    def compare_card_evaluations(self, start_date, end_date):\n",
    "        def inner_func(date):\n",
    "            df = self.card_frame(date=date, deck_color='')\n",
    "            df.index = [tup[2] for tup in df.index]\n",
    "            return df\n",
    "\n",
    "        first = inner_func(date='2022-02-10')\n",
    "        last = inner_func(date='2022-02-15')\n",
    "        diff = last[['ALSA', 'ATA', 'Color', 'Rarity']].copy()\n",
    "        diff['Δ ALSA'] = first['ALSA'] - last['ALSA']\n",
    "        diff['Δ ATA'] = first['ATA'] - last['ATA']\n",
    "        return diff[['ALSA', 'Δ ALSA', 'ATA', 'Δ ATA', 'Color', 'Rarity']]\n",
    "\n",
    "    \n",
    "    def get_card_summary(self, card_name, colors='', roll=1):\n",
    "        frame = self.card_frame(name=card_name, deck_color=colors)[['GIH WR', 'ALSA', '# GP', 'IWD']]\n",
    "        frame.index = [tup[0][5:] for tup in frame.index]\n",
    "        rolling = frame.rolling(window=roll, min_periods=1, center=True).mean()\n",
    "        return rolling\n",
    "\n",
    "    def plot_card_summary(self, card_name, colors='', roll=1):\n",
    "        rolling = self.get_card_summary(card_name, colors, roll)\n",
    "        title = f\"{card_name}\"\n",
    "\n",
    "        col_filt = f\"Color Filter: {colors}\"\n",
    "        rol_filt = f\"Rolling Average: {roll} Days\"\n",
    "\n",
    "        if colors and roll > 1:\n",
    "            title += f\"\\n{col_filt}  -  {rol_filt}\"\n",
    "        elif colors:\n",
    "                title += f\"\\n{col_filt}\"\n",
    "        elif roll > 1:\n",
    "                title += f\"\\n{rol_filt}\"\n",
    "\n",
    "        rolling.plot(subplots=True, layout=(2,2), figsize=(12,8), title=title)\n",
    "        \n",
    "\n",
    "    def get_top(self, column, count=10, asc=True, card_color=None, card_rarity=None, deck_color='', play_lim=None):\n",
    "        frame = self.card_frame(deck_color=deck_color, summary=True, card_rarity=card_rarity)\n",
    "        frame = frame.sort_values(column, ascending=asc)\n",
    "\n",
    "        if card_color is not None:\n",
    "            card_color = WUBRG.get_color_identity(card_color)\n",
    "            frame = frame[frame['Color'] == card_color]\n",
    "\n",
    "        # TODO: Implement filtering here.\n",
    "        if play_lim is not None:\n",
    "            if type(play_lim) is float: play_lim *= self.get_games_played(deck_color)\n",
    "            print(f'Minimum Games played to be included: {play_lim}')\n",
    "            frame = frame[frame['# GP'] >= play_lim]\n",
    "\n",
    "        return frame.head(count)"
   ]
  },
  {
   "cell_type": "code",
   "execution_count": 4,
   "id": "fe1eb8ad",
   "metadata": {},
   "outputs": [],
   "source": [
    "class WinrateFuncs:   \n",
    "    def __init__(self, DATA):\n",
    "        self._DATA = DATA\n",
    "    \n",
    "    def get_avg_winrate(self, day=None, arch='All Decks'):\n",
    "        if day: return self._DATA.deck_group_frame(date=day, summary=False).loc[(day, arch)]['Win %']\n",
    "        else: return self._DATA.deck_group_frame(date=day, summary=True).loc[arch]['Win %']   \n",
    "\n",
    "    def card_archetype_performance(self, card_name):\n",
    "        d = dict()\n",
    "        d['AVG'] = self._DATA.card_frame(card_name, '', summary=True)\n",
    "        for col in WUBRG.COLOR_PAIRS:\n",
    "            d[col] = self._DATA.card_frame(card_name, col, summary=True)\n",
    "\n",
    "        test_frame = pd.DataFrame.from_dict(d).T\n",
    "        return test_frame\n",
    "    \n",
    "    def get_archetype_frame(self, colors, roll=1):\n",
    "        win_rate_frame = self._DATA.deck_archetype_frame(deck_color=colors)\n",
    "        win_rate_frame.index = [tup[0] for tup in win_rate_frame.index]\n",
    "        #win_rate_frame = win_rate_frame[['Splash', 'Games', 'Win %']]\n",
    "        win_rate_frame = win_rate_frame[win_rate_frame['Splash'] == False][['Wins', 'Games']]\n",
    "        rolling = win_rate_frame.rolling(window=roll, min_periods=1, center=True).mean().round()\n",
    "        rolling['Win %'] = round((rolling['Wins'] / rolling['Games']) * 100, 2)\n",
    "        rolling['Avg. Win%'] = [self.get_avg_winrate(idx) for idx in win_rate_frame.index]\n",
    "        rolling['2C Win%'] = [self.get_avg_winrate(idx, arch='Two-color') for idx in win_rate_frame.index]\n",
    "        rolling['Win % Offset'] = rolling['Win %'] - rolling['Avg. Win%']\n",
    "        return rolling\n",
    "\n",
    "    def get_archetype_winrate_history(self, color_filter=None, roll=1):\n",
    "        d = dict()\n",
    "        for col in WUBRG.COLOR_PAIRS:\n",
    "            temp_frame = self.get_archetype_frame(col)\n",
    "            d[col] = temp_frame['Win %']\n",
    "        d['AVG'] = temp_frame ['Avg. Win%']\n",
    "        d['2C'] = temp_frame ['2C Win%']\n",
    "\n",
    "        test_frame = pd.DataFrame.from_dict(d)\n",
    "        test_frame.index = [idx[5:] for idx in test_frame.index]\n",
    "        if color_filter:\n",
    "            col_filt = [col for col in WUBRG.COLOR_PAIRS if color_filter in col] + ['AVG', '2C'] \n",
    "            test_frame = test_frame[col_filt]\n",
    "\n",
    "        rolling = test_frame.rolling(window=roll, min_periods=1, center=True).mean()\n",
    "        return rolling\n",
    "\n",
    "    def plot_archetype_winrate_history(self, color_filter=None, roll=1):\n",
    "        test_frame = self.get_archetype_winrate_history(color_filter, roll)\n",
    "        lc = LineColors()\n",
    "        title = \"Archetpye Winrates\"\n",
    "\n",
    "        col_filt = f\"Color Filter: {color_filter}\"\n",
    "        rol_filt = f\"Rolling Average: {roll} Days\"\n",
    "\n",
    "        if color_filter and roll > 1:\n",
    "            title += f\"\\n{col_filt}  -  {rol_filt}\"\n",
    "        elif color_filter:\n",
    "                title += f\"\\n{col_filt}\"\n",
    "        elif roll > 1:\n",
    "                title += f\"\\n{rol_filt}\"\n",
    "        test_frame.plot(figsize=(20, 10), color=lc.get_col_array(color_filter), title=title, lw=2.5, grid=True)\n",
    "        \n",
    "        \n",
    "    def get_archetype_playrate_history(self, color_filter=None, roll=1):    \n",
    "        d = dict()\n",
    "        for col in WUBRG.COLOR_PAIRS:\n",
    "            d[col] = self.get_archetype_frame(col)['Games']\n",
    "\n",
    "        test_frame = pd.DataFrame.from_dict(d)\n",
    "        test_frame.index = [idx[5:] for idx in test_frame.index]\n",
    "        rolling = test_frame.rolling(window=roll, min_periods=1, center=True).mean()\n",
    "        total = rolling.sum(axis=1)\n",
    "        playrate = rolling.divide(list(total),axis=0) * 100\n",
    "\n",
    "        if color_filter:\n",
    "            col_filt = [col for col in WUBRG.COLOR_PAIRS if color_filter in col]\n",
    "            playrate = playrate[col_filt]\n",
    "\n",
    "        return playrate\n",
    "\n",
    "    def plot_archetype_playrate_history(self, color_filter=None, roll=1):\n",
    "        test_frame = self.get_archetype_playrate_history(color_filter, roll)\n",
    "        lc = LineColors()\n",
    "        title = \"Archetpye Playrates\"\n",
    "\n",
    "        col_filt = f\"Color Filter: {color_filter}\"\n",
    "        rol_filt = f\"Rolling Average: {roll} Days\"\n",
    "\n",
    "        if color_filter and roll > 1:\n",
    "            title += f\"\\n{col_filt}  -  {rol_filt}\"\n",
    "        elif color_filter:\n",
    "                title += f\"\\n{col_filt}\"\n",
    "        elif roll > 1:\n",
    "                title += f\"\\n{rol_filt}\"\n",
    "        test_frame.plot(figsize=(20, 10), color=lc.get_col_array(color_filter), title=title, lw=2.5, grid=True) "
   ]
  },
  {
   "cell_type": "code",
   "execution_count": 5,
   "id": "53cab76f",
   "metadata": {},
   "outputs": [],
   "source": [
    "class SetManager:\n",
    "    def __init__(self, SET):        \n",
    "        self._SET = SET\n",
    "        self._DATA = {f: FramedDataFuncs(SET, f) for f in FORMATS}\n",
    "        \n",
    "    def check_for_updates(self):\n",
    "        \"\"\"Populates and updates all data properties.\"\"\"\n",
    "        self.BO1.check_for_updates()   \n",
    "        self.BO3.check_for_updates()   \n",
    "        self.QD.check_for_updates()   \n",
    "    \n",
    "    @property\n",
    "    def SET(self):\n",
    "        \"\"\"The draft set.\"\"\"\n",
    "        return self._SET\n",
    "            \n",
    "    @property\n",
    "    def BO1(self):\n",
    "        \"\"\"Premier Draft data.\"\"\"\n",
    "        return self._DATA['PremierDraft']\n",
    "    \n",
    "    @property\n",
    "    def BO3(self):\n",
    "        \"\"\"Traditional Draft data.\"\"\"\n",
    "        return self._DATA['TradDraft']\n",
    "    \n",
    "    @property\n",
    "    def QD(self):\n",
    "        \"\"\"Quick Draft data.\"\"\"\n",
    "        return self._DATA['QuickDraft']"
   ]
  },
  {
   "cell_type": "markdown",
   "id": "7ef6dfba",
   "metadata": {},
   "source": [
    "# Initialization"
   ]
  },
  {
   "cell_type": "code",
   "execution_count": 6,
   "id": "393c164d",
   "metadata": {
    "scrolled": true
   },
   "outputs": [
    {
     "name": "stdout",
     "output_type": "stream",
     "text": [
      "Getting data for NEO PremierDraft, date: 2022-02-10\n",
      "Getting data for NEO PremierDraft, date: 2022-02-11\n",
      "Getting data for NEO PremierDraft, date: 2022-02-12\n",
      "Getting data for NEO PremierDraft, date: 2022-02-13\n",
      "Getting data for NEO PremierDraft, date: 2022-02-14\n",
      "Getting data for NEO PremierDraft, date: 2022-02-15\n",
      "Getting data for NEO PremierDraft, date: 2022-02-16\n",
      "Getting data for NEO PremierDraft, date: 2022-02-17\n",
      "Getting data for NEO PremierDraft, date: 2022-02-18\n",
      "Getting data for NEO PremierDraft, date: 2022-02-19\n",
      "Getting data for NEO PremierDraft, date: 2022-02-20\n",
      "Getting data for NEO PremierDraft, date: 2022-02-21\n",
      "Getting overall data for NEO PremierDraft\n",
      "Getting data for NEO TradDraft, date: 2022-02-10\n",
      "Getting data for NEO TradDraft, date: 2022-02-11\n",
      "Getting data for NEO TradDraft, date: 2022-02-12\n",
      "Getting data for NEO TradDraft, date: 2022-02-13\n",
      "Getting data for NEO TradDraft, date: 2022-02-14\n",
      "Getting data for NEO TradDraft, date: 2022-02-15\n",
      "Getting data for NEO TradDraft, date: 2022-02-16\n",
      "Getting data for NEO TradDraft, date: 2022-02-17\n",
      "Getting data for NEO TradDraft, date: 2022-02-18\n",
      "Getting data for NEO TradDraft, date: 2022-02-19\n",
      "Getting data for NEO TradDraft, date: 2022-02-20\n",
      "Getting data for NEO TradDraft, date: 2022-02-21\n",
      "Getting overall data for NEO TradDraft\n"
     ]
    }
   ],
   "source": [
    "set_data = SetManager('NEO')\n",
    "set_data.check_for_updates()"
   ]
  },
  {
   "cell_type": "markdown",
   "id": "12a93ead",
   "metadata": {},
   "source": [
    "## Current Tests"
   ]
  },
  {
   "cell_type": "code",
   "execution_count": null,
   "id": "b9435278",
   "metadata": {},
   "outputs": [],
   "source": [
    "def gt(x, y):  #Used for function pointer shenanigans\n",
    "    return x > y\n",
    "\n",
    "def lt(x, y):  #Used for function pointer shenanigans\n",
    "    return x < y\n",
    "\n",
    "def filter_qudrant_cards_df(func1, func2, iwd_thresh=0, play_lim=0.01, card_rarity=None, deck_color=''):\n",
    "    frame = set_data.BO1.card_frame(deck_color=deck_color, summary=True, card_rarity=card_rarity)\n",
    "    \n",
    "    # TODO: Make the mean different based on card rarity so cards aren't move into incorrect categories.\n",
    "    \n",
    "    if play_lim is not None:\n",
    "        if type(play_lim) is float: play_lim *= set_data.BO1.get_games_played(deck_color)\n",
    "        print(f'Minimum Games played to be included: {play_lim}')\n",
    "        frame = frame[frame['# GP'] >= play_lim]\n",
    "        \n",
    "    games_played_mean = frame['# GP'].mean()\n",
    "    cards = frame[func1(frame['IWD'], iwd_thresh)]\n",
    "    cards = cards[func2(cards['# GP'], games_played_mean)]\n",
    "    cards = cards.sort_values('IWD', ascending=func1==lt)\n",
    "    return cards\n",
    "\n",
    "\n",
    "def get_trap_cards(card_rarity=None, deck_color='', iwd_thresh=0, play_lim=0.01):\n",
    "    return filter_qudrant_cards_df(lt, gt, iwd_thresh, play_lim, card_rarity, deck_color)\n",
    "\n",
    "def get_niche_cards(card_rarity=None, deck_color='', iwd_thresh=0, play_lim=0.01):\n",
    "    return filter_qudrant_cards_df(gt, lt, iwd_thresh, play_lim, card_rarity, deck_color)\n",
    "\n",
    "def get_staple_cards(card_rarity=None, deck_color='', iwd_thresh=0, play_lim=0.01):\n",
    "    return filter_qudrant_cards_df(gt, gt, iwd_thresh, play_lim, card_rarity, deck_color)\n",
    "\n",
    "def get_dreg_cards(card_rarity=None, deck_color='', iwd_thresh=0, play_lim=0.01):\n",
    "    return filter_qudrant_cards_df(lt, lt, iwd_thresh, play_lim, card_rarity, deck_color)"
   ]
  },
  {
   "cell_type": "code",
   "execution_count": null,
   "id": "4432e87d",
   "metadata": {
    "scrolled": true
   },
   "outputs": [],
   "source": [
    "get_niche_cards(deck_color='GW', card_rarity=None)"
   ]
  },
  {
   "cell_type": "code",
   "execution_count": null,
   "id": "c799559a",
   "metadata": {},
   "outputs": [],
   "source": [
    "set_data.BO1.card_archetype_performance('Uncharted Haven')"
   ]
  },
  {
   "cell_type": "markdown",
   "id": "159fa312",
   "metadata": {},
   "source": [
    "# TODO"
   ]
  },
  {
   "cell_type": "markdown",
   "id": "0d511b0e",
   "metadata": {},
   "source": [
    "- Calculate archetype openess\n",
    " - GIH WR & ALSA based\n",
    " - 2.25 of a common per draft \n",
    "- Generate a summary frame from X last days (or from between any two days)\n",
    " - Likely to get used for other things.\n",
    "- Add in unweighted GIH WR \n",
    " - (GP * GP WR) - (GND * GND WR) = Wins in Hand\n",
    " - GP - GND = Games in Hand\n",
    " - Wins in Hand / Games in Hand = Unweighted GIH WR"
   ]
  },
  {
   "cell_type": "markdown",
   "id": "ec89cba3",
   "metadata": {},
   "source": [
    "# Data Graphing and Display"
   ]
  },
  {
   "cell_type": "markdown",
   "id": "c97c2527",
   "metadata": {},
   "source": [
    "## Card Summary"
   ]
  },
  {
   "cell_type": "code",
   "execution_count": null,
   "id": "870b8231",
   "metadata": {},
   "outputs": [],
   "source": [
    "set_data.BO1.plot_card_summary('Dokuchi Shadow-Walker', 'BG', 3)"
   ]
  },
  {
   "cell_type": "code",
   "execution_count": null,
   "id": "98462db9",
   "metadata": {},
   "outputs": [],
   "source": [
    "set_data.BO1.plot_card_summary('Imperial Oath', roll=3)"
   ]
  },
  {
   "cell_type": "code",
   "execution_count": null,
   "id": "5da26fff",
   "metadata": {},
   "outputs": [],
   "source": [
    "set_data.BO3.plot_card_summary('Imperial Oath', roll=3)"
   ]
  },
  {
   "cell_type": "code",
   "execution_count": null,
   "id": "2ec8ba93",
   "metadata": {},
   "outputs": [],
   "source": [
    "TRGT_CARDS = ['Roaring Earth', 'Tales of Master Seshiro', 'Befriending the Moths']\n",
    "TRGT_PAIR = ''\n",
    "ROLL = 3\n",
    "\n",
    "for CARD in TRGT_CARDS:\n",
    "    set_data.BO1.plot_card_summary(CARD, colors=TRGT_PAIR, roll=ROLL)"
   ]
  },
  {
   "cell_type": "code",
   "execution_count": null,
   "id": "1953b383",
   "metadata": {
    "scrolled": false
   },
   "outputs": [],
   "source": [
    "set_data.BO1.get_top('GIH WR', count=25, asc=False, deck_color='', card_color=None, card_rarity='RM', play_lim=0.005)"
   ]
  },
  {
   "cell_type": "markdown",
   "id": "624e5a0f",
   "metadata": {},
   "source": [
    "## Card Pick Order Stats"
   ]
  },
  {
   "cell_type": "code",
   "execution_count": null,
   "id": "cd04179e",
   "metadata": {
    "scrolled": false
   },
   "outputs": [],
   "source": [
    "set_data.BO1.graph_pick_stats('Imperial Oath', 1)"
   ]
  },
  {
   "cell_type": "code",
   "execution_count": null,
   "id": "8d986ea4",
   "metadata": {},
   "outputs": [],
   "source": [
    "set_data.BO1.graph_pick_stats('Behold the Unspeakable', 3)"
   ]
  },
  {
   "cell_type": "code",
   "execution_count": null,
   "id": "8e34320b",
   "metadata": {},
   "outputs": [],
   "source": [
    "to_graph = ['Imperial Oath', 'Behold the Unspeakable', 'Virus Beetle', 'Network Disruptor']\n",
    "for card in to_graph:\n",
    "    set_data.BO1.graph_pick_stats(card, 1)"
   ]
  },
  {
   "cell_type": "markdown",
   "id": "412af02e",
   "metadata": {},
   "source": [
    "## Archetype Winrate History"
   ]
  },
  {
   "cell_type": "code",
   "execution_count": null,
   "id": "a5b24b5d",
   "metadata": {
    "scrolled": true
   },
   "outputs": [],
   "source": [
    "set_data.BO1.get_archetype_winrate_history(roll=1)"
   ]
  },
  {
   "cell_type": "code",
   "execution_count": null,
   "id": "c3c44322",
   "metadata": {
    "scrolled": false
   },
   "outputs": [],
   "source": [
    "set_data.BO1.get_archetype_winrate_history(roll=3)"
   ]
  },
  {
   "cell_type": "code",
   "execution_count": null,
   "id": "51789bb4",
   "metadata": {
    "scrolled": false
   },
   "outputs": [],
   "source": [
    "ROLL = 1\n",
    "SET_DATA = set_data.BO1\n",
    "SET_DATA.plot_archetype_winrate_history('W', 3)\n",
    "SET_DATA.plot_archetype_winrate_history('U', 3)\n",
    "SET_DATA.plot_archetype_winrate_history('B', 3)\n",
    "SET_DATA.plot_archetype_winrate_history('R', 3)\n",
    "SET_DATA.plot_archetype_winrate_history('G', 3)\n",
    "SET_DATA.plot_archetype_winrate_history('', 3)"
   ]
  },
  {
   "cell_type": "code",
   "execution_count": null,
   "id": "6b291658",
   "metadata": {
    "scrolled": false
   },
   "outputs": [],
   "source": [
    "ROLL = 1\n",
    "SET_DATA = set_data.BO3\n",
    "SET_DATA.plot_archetype_winrate_history('W', 3)\n",
    "SET_DATA.plot_archetype_winrate_history('U', 3)\n",
    "SET_DATA.plot_archetype_winrate_history('B', 3)\n",
    "SET_DATA.plot_archetype_winrate_history('R', 3)\n",
    "SET_DATA.plot_archetype_winrate_history('G', 3)\n",
    "SET_DATA.plot_archetype_winrate_history('', 3)"
   ]
  },
  {
   "cell_type": "markdown",
   "id": "0cbf46f6",
   "metadata": {},
   "source": [
    "## Archetype Playrate History"
   ]
  },
  {
   "cell_type": "code",
   "execution_count": null,
   "id": "94da67b3",
   "metadata": {
    "scrolled": true
   },
   "outputs": [],
   "source": [
    "set_data.BO1.get_archetype_playrate_history(roll=1)"
   ]
  },
  {
   "cell_type": "code",
   "execution_count": null,
   "id": "e3e74e87",
   "metadata": {},
   "outputs": [],
   "source": [
    "set_data.BO1.get_archetype_playrate_history(roll=3)"
   ]
  },
  {
   "cell_type": "code",
   "execution_count": null,
   "id": "81f4327a",
   "metadata": {
    "scrolled": false
   },
   "outputs": [],
   "source": [
    "ROLL = 1\n",
    "SET_DATA = set_data.BO1\n",
    "SET_DATA.plot_archetype_playrate_history('W', ROLL)\n",
    "SET_DATA.plot_archetype_playrate_history('U', ROLL)\n",
    "SET_DATA.plot_archetype_playrate_history('B', ROLL)\n",
    "SET_DATA.plot_archetype_playrate_history('R', ROLL)\n",
    "SET_DATA.plot_archetype_playrate_history('G', ROLL)\n",
    "SET_DATA.plot_archetype_playrate_history('', ROLL)"
   ]
  },
  {
   "cell_type": "code",
   "execution_count": null,
   "id": "0501ed1b",
   "metadata": {
    "scrolled": false
   },
   "outputs": [],
   "source": [
    "ROLL = 1\n",
    "SET_DATA = set_data.BO3\n",
    "SET_DATA.plot_archetype_playrate_history('W', ROLL)\n",
    "SET_DATA.plot_archetype_playrate_history('U', ROLL)\n",
    "SET_DATA.plot_archetype_playrate_history('B', ROLL)\n",
    "SET_DATA.plot_archetype_playrate_history('R', ROLL)\n",
    "SET_DATA.plot_archetype_playrate_history('G', ROLL)\n",
    "SET_DATA.plot_archetype_playrate_history('', ROLL)"
   ]
  },
  {
   "cell_type": "markdown",
   "id": "bcbddd88",
   "metadata": {},
   "source": [
    "## Card Pick Order Changes"
   ]
  },
  {
   "cell_type": "code",
   "execution_count": null,
   "id": "19fc3726",
   "metadata": {},
   "outputs": [],
   "source": [
    "diff = set_data.BO1.compare_card_evaluations('2022-02-17', '2022-02-20')\n",
    "commons = diff[diff['Rarity'] == 'C']\n",
    "uncommons = diff[diff['Rarity'] == 'U']"
   ]
  },
  {
   "cell_type": "code",
   "execution_count": null,
   "id": "339d9905",
   "metadata": {},
   "outputs": [],
   "source": [
    "SRT_TRG = 'Δ ALSA'\n",
    "commons.sort_values(SRT_TRG, ascending=False).head(20)"
   ]
  },
  {
   "cell_type": "code",
   "execution_count": null,
   "id": "b09ca293",
   "metadata": {},
   "outputs": [],
   "source": [
    "commons.sort_values(SRT_TRG, ascending=True).head(20)"
   ]
  },
  {
   "cell_type": "code",
   "execution_count": null,
   "id": "f5ad6090",
   "metadata": {},
   "outputs": [],
   "source": [
    "uncommons.sort_values(SRT_TRG, ascending=False).head(10)"
   ]
  },
  {
   "cell_type": "code",
   "execution_count": null,
   "id": "d5065106",
   "metadata": {
    "scrolled": true
   },
   "outputs": [],
   "source": [
    "uncommons.sort_values(SRT_TRG, ascending=True).head(10)"
   ]
  },
  {
   "cell_type": "code",
   "execution_count": null,
   "id": "7399a81c",
   "metadata": {},
   "outputs": [],
   "source": []
  },
  {
   "cell_type": "code",
   "execution_count": null,
   "id": "74c05426",
   "metadata": {},
   "outputs": [],
   "source": []
  }
 ],
 "metadata": {
  "kernelspec": {
   "display_name": "Python 3 (ipykernel)",
   "language": "python",
   "name": "python3"
  },
  "language_info": {
   "codemirror_mode": {
    "name": "ipython",
    "version": 3
   },
   "file_extension": ".py",
   "mimetype": "text/x-python",
   "name": "python",
   "nbconvert_exporter": "python",
   "pygments_lexer": "ipython3",
   "version": "3.9.7"
  }
 },
 "nbformat": 4,
 "nbformat_minor": 5
}
