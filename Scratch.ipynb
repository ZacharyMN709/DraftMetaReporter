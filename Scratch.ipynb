{
 "cells": [
  {
   "cell_type": "code",
   "execution_count": null,
   "id": "64c57ea3",
   "metadata": {},
   "outputs": [],
   "source": [
    "import pandas as pd\n",
    "pd.options.display.float_format = '{:,.3f}'.format\n",
    "import matplotlib.pyplot as plt\n",
    "import seaborn as sns\n",
    "sns.set_theme()\n",
    "\n",
    "import WUBRG\n",
    "import consts\n",
    "from LineColors import LineColors\n",
    "from FormatMetadata import SETS, FORMATS, SET_CONFIG\n",
    "from JSONHandler import JSONHandler\n",
    "from FormatMetadata import FormatMetadata\n",
    "from RawDataFetcher import RawDataFetcher\n",
    "from RawDataHandler import RawDataHandler"
   ]
  },
  {
   "cell_type": "markdown",
   "id": "69cadfaa",
   "metadata": {},
   "source": [
    "# Objects"
   ]
  },
  {
   "cell_type": "code",
   "execution_count": null,
   "id": "068085b9",
   "metadata": {},
   "outputs": [],
   "source": [
    "from RawDataHandler import RawDataHandler\n",
    "from LineColors import LineColors\n",
    "\n",
    "class RawDataWrapper:   \n",
    "    def __init__(self, SET, FORMAT):\n",
    "        self._SET = SET\n",
    "        self._FORMAT = FORMAT\n",
    "        self._DATA = RawDataHandler(SET, FORMAT)\n",
    "        \n",
    "    \n",
    "    @property\n",
    "    def SET(self):\n",
    "        \"\"\"The draft set.\"\"\"\n",
    "        return self._SET\n",
    "    \n",
    "    @property\n",
    "    def FORMAT(self):\n",
    "        \"\"\"The format type.\"\"\"\n",
    "        return self._FORMAT\n",
    "    \n",
    "    @property\n",
    "    def DATA(self):\n",
    "        \"\"\"The object which contains the data about the set and format.\"\"\"\n",
    "        return self._DATA\n",
    "    \n",
    "    @property\n",
    "    def FUNCS(self):\n",
    "        \"\"\"A helper object which contains convenience functions for plotting and subsetting.\"\"\"\n",
    "        return self._FUNCS\n",
    "    \n",
    "    \n",
    "    def deck_group_frame(self, name=slice(None, None, None), date=slice(None, None, None), summary=False):\n",
    "        \"\"\"Returns a subset of the 'GROUPED_ARCHTYPE' data as a DataFrame.\"\"\"\n",
    "        if summary:\n",
    "            return self.DATA.GROUPED_ARCHTYPE_SUMMARY_FRAME.loc(axis=0)[pd.IndexSlice[name]]\n",
    "        else:\n",
    "            return self.DATA.GROUPED_ARCHTYPE_HISTORY_FRAME.loc(axis=0)[pd.IndexSlice[date, name]]\n",
    "     \n",
    "    def deck_archetype_frame(self, name=slice(None, None, None), date=slice(None, None, None), summary=False):\n",
    "        \"\"\"Returns a subset of the 'SINGLE_ARCHTYPE' data as a DataFrame.\"\"\"\n",
    "        if summary:\n",
    "            return self.DATA.SINGLE_ARCHTYPE_SUMMARY_FRAME.loc(axis=0)[pd.IndexSlice[name]]\n",
    "        else:\n",
    "            return self.DATA.SINGLE_ARCHTYPE_HISTORY_FRAME.loc(axis=0)[pd.IndexSlice[date, name]]\n",
    "    \n",
    "    def card_frame(self, name=slice(None, None, None), deck_colors=slice(None, None, None), date=slice(None, None, None), card_color=None, card_rarity=None, summary=False):\n",
    "        \"\"\"Returns a subset of the 'CARD' data as a DataFrame.\"\"\"\n",
    "        if type(deck_colors) is str:\n",
    "            deck_colors = WUBRG.get_color_identity(deck_colors)\n",
    "        \n",
    "        if summary:\n",
    "            ret = self.DATA.CARD_SUMMARY_FRAME.loc(axis=0)[pd.IndexSlice[deck_colors, name]]\n",
    "        else:\n",
    "            ret = self.DATA.CARD_HISTORY_FRAME.loc(axis=0)[pd.IndexSlice[date, deck_colors, name]]\n",
    "            \n",
    "        if card_color:\n",
    "            card_color = WUBRG.get_color_identity(card_color)\n",
    "            ret = ret[ret['Color'] == card_color]\n",
    "            \n",
    "        if card_rarity:\n",
    "            ret = ret[ret['Rarity'] == card_rarity]\n",
    "        \n",
    "        return ret\n",
    "    \n",
    "    \n",
    "    \n",
    "    \n",
    "    #Helper Functions\n",
    "    def graph_pick_stats(self, card_name, roll=1):\n",
    "        taken_data = self.card_frame(name=card_name, deck_colors='')[['ALSA', 'ATA']]\n",
    "        taken_data.index = [tup[0][5:] for tup in taken_data.index]\n",
    "        rolling = taken_data.rolling(window=roll, min_periods=1, center=True).mean()\n",
    "\n",
    "        mx = min(max(taken_data.max()) + 0.25, 15) \n",
    "        mn = max(min(taken_data.min()) - 0.25, 1)\n",
    "        tit_str = f\"{self.SET} - {self.FORMAT}\\n{card_name}\"\n",
    "\n",
    "        rolling.plot(ylim=(mx, mn), grid=True, title=tit_str)\n",
    "\n",
    "        return taken_data\n",
    "\n",
    "    def compare_card_evaluations(self, start_date, end_date):\n",
    "        def inner_func(date):\n",
    "            df = self.card_frame(date=date, deck_colors='')\n",
    "            df.index = [tup[2] for tup in df.index]\n",
    "            return df\n",
    "\n",
    "        first = inner_func(date='2022-02-10')\n",
    "        last = inner_func(date='2022-02-15')\n",
    "        diff = last[['ALSA', 'ATA', 'Color', 'Rarity']].copy()\n",
    "        diff['Δ ALSA'] = first['ALSA'] - last['ALSA']\n",
    "        diff['Δ ATA'] = first['ATA'] - last['ATA']\n",
    "        return diff[['ALSA', 'Δ ALSA', 'ATA', 'Δ ATA', 'Color', 'Rarity']]\n",
    "\n",
    "    \n",
    "    \n",
    "    def get_card_summary(self, card_name, colors='', roll=1):\n",
    "        frame = self.card_frame(name=card_name, deck_colors=colors)[['GIH WR', 'ALSA', '# GP', 'IWD']]\n",
    "        frame.index = [tup[0][5:] for tup in frame.index]\n",
    "        rolling = frame.rolling(window=roll, min_periods=1, center=True).mean()\n",
    "        return rolling\n",
    "\n",
    "    def plot_card_summary(self, card_name, colors='', roll=1):\n",
    "        rolling = self.get_card_summary(card_name, colors, roll)\n",
    "        title = f\"{card_name}\"\n",
    "\n",
    "        col_filt = f\"Color Filter: {colors}\"\n",
    "        rol_filt = f\"Rolling Average: {roll} Days\"\n",
    "\n",
    "        if colors and roll > 1:\n",
    "            title += f\"\\n{col_filt}  -  {rol_filt}\"\n",
    "        elif colors:\n",
    "                title += f\"\\n{col_filt}\"\n",
    "        elif roll > 1:\n",
    "                title += f\"\\n{rol_filt}\"\n",
    "\n",
    "        rolling.plot(subplots=True, layout=(2,2), figsize=(12,8), title=title)\n",
    "        \n",
    "        \n",
    "    def get_avg_winrate(self, day=None, arch='All Decks'):\n",
    "        if day:\n",
    "            return self.deck_group_frame(date=day, summary=False).loc[(day, arch)]['Win %']\n",
    "        else:\n",
    "            return self.deck_group_frame(date=day, summary=True).loc[arch]['Win %']\n",
    "    \n",
    "    def get_archetype_frame(self, colors, roll=1):\n",
    "        win_rate_frame = self.deck_archetype_frame(name=colors)\n",
    "        win_rate_frame.index = [tup[0] for tup in win_rate_frame.index]\n",
    "        #win_rate_frame = win_rate_frame[['Splash', 'Games', 'Win %']]\n",
    "        win_rate_frame = win_rate_frame[win_rate_frame['Splash'] == False][['Wins', 'Games']]\n",
    "        rolling = win_rate_frame.rolling(window=roll, min_periods=1, center=True).mean().round()\n",
    "        rolling['Win %'] = round((rolling['Wins'] / rolling['Games']) * 100, 2)\n",
    "        rolling['Avg. Win%'] = [self.get_avg_winrate(idx) for idx in win_rate_frame.index]\n",
    "        rolling['2C Win%'] = [self.get_avg_winrate(idx, arch='Two-color') for idx in win_rate_frame.index]\n",
    "        rolling['Win % Offset'] = rolling['Win %'] - rolling['Avg. Win%']\n",
    "        return rolling\n",
    "\n",
    "    def get_archetype_winrate_history(self, color_filter=None, roll=1):\n",
    "        d = dict()\n",
    "        for col in WUBRG.COLOR_PAIRS:\n",
    "            temp_frame = self.get_archetype_frame(col)\n",
    "            d[col] = temp_frame['Win %']\n",
    "        d['AVG'] = temp_frame ['Avg. Win%']\n",
    "        d['2C'] = temp_frame ['2C Win%']\n",
    "\n",
    "        test_frame = pd.DataFrame.from_dict(d)\n",
    "        test_frame.index = [idx[5:] for idx in test_frame.index]\n",
    "        if color_filter:\n",
    "            col_filt = [col for col in WUBRG.COLOR_PAIRS if color_filter in col] + ['AVG', '2C'] \n",
    "            test_frame = test_frame[col_filt]\n",
    "\n",
    "        rolling = test_frame.rolling(window=roll, min_periods=1, center=True).mean()\n",
    "        return rolling\n",
    "\n",
    "    def plot_archetype_winrate_history(self, color_filter=None, roll=1):\n",
    "        test_frame = self.get_archetype_winrate_history(color_filter, roll)\n",
    "        lc = LineColors()\n",
    "        title = \"Archetpye Winrates\"\n",
    "\n",
    "        col_filt = f\"Color Filter: {color_filter}\"\n",
    "        rol_filt = f\"Rolling Average: {roll} Days\"\n",
    "\n",
    "        if color_filter and roll > 1:\n",
    "            title += f\"\\n{col_filt}  -  {rol_filt}\"\n",
    "        elif color_filter:\n",
    "                title += f\"\\n{col_filt}\"\n",
    "        elif roll > 1:\n",
    "                title += f\"\\n{rol_filt}\"\n",
    "        test_frame.plot(figsize=(20, 10), color=lc.get_col_array(color_filter), title=title, lw=2.5, grid=True)\n",
    "        \n",
    "        \n",
    "    def get_archetype_playrate_history(self, color_filter=None, roll=1):    \n",
    "        d = dict()\n",
    "        for col in WUBRG.COLOR_PAIRS:\n",
    "            d[col] = self.get_archetype_frame(col)['Games']\n",
    "\n",
    "        test_frame = pd.DataFrame.from_dict(d)\n",
    "        test_frame.index = [idx[5:] for idx in test_frame.index]\n",
    "        rolling = test_frame.rolling(window=roll, min_periods=1, center=True).mean()\n",
    "        total = rolling.sum(axis=1)\n",
    "        playrate = rolling.divide(list(total),axis=0) * 100\n",
    "\n",
    "        if color_filter:\n",
    "            col_filt = [col for col in WUBRG.COLOR_PAIRS if color_filter in col]\n",
    "            playrate = playrate[col_filt]\n",
    "\n",
    "        return playrate\n",
    "\n",
    "    def plot_archetype_playrate_history(self, color_filter=None, roll=1):\n",
    "        test_frame = self.get_archetype_playrate_history(color_filter, roll)\n",
    "        lc = LineColors()\n",
    "        title = \"Archetpye Playrates\"\n",
    "\n",
    "        col_filt = f\"Color Filter: {color_filter}\"\n",
    "        rol_filt = f\"Rolling Average: {roll} Days\"\n",
    "\n",
    "        if color_filter and roll > 1:\n",
    "            title += f\"\\n{col_filt}  -  {rol_filt}\"\n",
    "        elif color_filter:\n",
    "                title += f\"\\n{col_filt}\"\n",
    "        elif roll > 1:\n",
    "                title += f\"\\n{rol_filt}\"\n",
    "        test_frame.plot(figsize=(20, 10), color=lc.get_col_array(color_filter), title=title, lw=2.5, grid=True) "
   ]
  },
  {
   "cell_type": "code",
   "execution_count": null,
   "id": "53cab76f",
   "metadata": {},
   "outputs": [],
   "source": [
    "\n",
    "class SetManager:\n",
    "    def __init__(self, SET):        \n",
    "        self._SET = SET\n",
    "        self._DATA = {f: RawDataWrapper(SET, f) for f in FORMATS}\n",
    "        \n",
    "    @property\n",
    "    def SET(self):\n",
    "        \"\"\"The draft set.\"\"\"\n",
    "        return self._SET\n",
    "            \n",
    "    @property\n",
    "    def BO1(self):\n",
    "        \"\"\"Premier Draft data.\"\"\"\n",
    "        return self._DATA['PremierDraft']\n",
    "    \n",
    "    @property\n",
    "    def BO3(self):\n",
    "        \"\"\"Traditional Draft data.\"\"\"\n",
    "        return self._DATA['TradDraft']\n",
    "    \n",
    "    @property\n",
    "    def QD(self):\n",
    "        \"\"\"Quick Draft data.\"\"\"\n",
    "        return self.DATA['QuickDraft']"
   ]
  },
  {
   "cell_type": "code",
   "execution_count": null,
   "id": "393c164d",
   "metadata": {},
   "outputs": [],
   "source": [
    "set_data = SetManager('NEO')\n",
    "set_data.BO1.plot_card_summary('Imperial Oath')"
   ]
  },
  {
   "cell_type": "code",
   "execution_count": null,
   "id": "6a9bda4a",
   "metadata": {},
   "outputs": [],
   "source": [
    "class DataManager:\n",
    "    def __init__(self):        \n",
    "        self.DATA = {s: {f: RawDataWrapper(s, f) for f in FORMATS} for s in SETS}\n",
    "        \n",
    "        self._SET = SETS[0]\n",
    "        self._FORMAT = FORMATS[0]\n",
    "        self._ACTIVE_DATA = self.DATA[self._SET][self._FORMAT]\n",
    "        \n",
    "    @property\n",
    "    def SET(self):\n",
    "        \"\"\"The draft set.\"\"\"\n",
    "        return self._SET\n",
    "\n",
    "    @SET.setter\n",
    "    def SET(self, value):\n",
    "        if value in SETS:\n",
    "            self._SET = value\n",
    "            self._ACTIVE_DATA = self.DATA[self._SET][self._FORMAT]\n",
    "        else:\n",
    "            raise ValueError(f\"Inavlid set: '{value}'\")\n",
    "        \n",
    "    @property\n",
    "    def FORMAT(self):\n",
    "        \"\"\"The draft format.\"\"\"\n",
    "        return self._FORMAT\n",
    "\n",
    "    @FORMAT.setter\n",
    "    def FORMAT(self, value):\n",
    "        if value in FORMATS:\n",
    "            self._FORMAT = value\n",
    "            self._ACTIVE_DATA = self.DATA[self.SET][self.FORMAT]\n",
    "        else:\n",
    "            raise ValueError(f\"Inavlid format: '{value}'\")\n",
    "            \n",
    "    \n",
    "    @property\n",
    "    def ACTIVE_DATA(self):\n",
    "        \"\"\"The data for the given set and format.\"\"\"\n",
    "        return self._ACTIVE_DATA\n",
    "    \n",
    "    def get_set_data(self):\n",
    "        self.ACTIVE_DATA.get_set_data()\n",
    "        \n",
    "    def get_summary_data(self):\n",
    "        return self.ACTIVE_DATA.get_summary_data()\n",
    "    \n",
    "    def summary_frame(self, date=slice(None, None, None), name=slice(None, None, None)):\n",
    "        return self.ACTIVE_DATA.summary_frame(date, name)\n",
    "     \n",
    "    def archetype_frame(self, date=slice(None, None, None), name=slice(None, None, None)):\n",
    "        return self.ACTIVE_DATA.archetype_frame(date, name)\n",
    "    \n",
    "    def card_frame(self, date=slice(None, None, None), colors=slice(None, None, None), name=slice(None, None, None)):\n",
    "        if type(colors) is str:\n",
    "            colors = WUBRG.get_color_identity(colors)\n",
    "        return self.ACTIVE_DATA.card_frame(date, colors, name)"
   ]
  },
  {
   "cell_type": "markdown",
   "id": "b71baf24",
   "metadata": {},
   "source": [
    "# Functions"
   ]
  },
  {
   "cell_type": "markdown",
   "id": "a6181a9b",
   "metadata": {},
   "source": [
    "## Card Summary Functions"
   ]
  },
  {
   "cell_type": "code",
   "execution_count": null,
   "id": "e6e48937",
   "metadata": {},
   "outputs": [],
   "source": [
    "def get_card_summary(card_name, colors='', roll=1):\n",
    "    frame = manager.card_frame(name=card_name, colors=colors)[['GIH WR', 'ALSA', '# GP', 'IWD']]\n",
    "    frame.index = [tup[0][5:] for tup in frame.index]\n",
    "    rolling = frame.rolling(window=roll, min_periods=1, center=True).mean()\n",
    "    return rolling"
   ]
  },
  {
   "cell_type": "code",
   "execution_count": null,
   "id": "1762d180",
   "metadata": {},
   "outputs": [],
   "source": [
    "def plot_card_summary(card_name, colors='', roll=1):\n",
    "    rolling = get_card_summary(card_name, colors, roll)\n",
    "    title = f\"{card_name}\"\n",
    "    \n",
    "    col_filt = f\"Color Filter: {colors}\"\n",
    "    rol_filt = f\"Rolling Average: {roll} Days\"\n",
    "    \n",
    "    if colors and roll > 1:\n",
    "        title += f\"\\n{col_filt}  -  {rol_filt}\"\n",
    "    elif colors:\n",
    "            title += f\"\\n{col_filt}\"\n",
    "    elif roll > 1:\n",
    "            title += f\"\\n{rol_filt}\"\n",
    "    \n",
    "    rolling.plot(subplots=True, layout=(2,2), figsize=(12,8), title=title)"
   ]
  },
  {
   "cell_type": "markdown",
   "id": "5071868a",
   "metadata": {},
   "source": [
    "## Pick Order Functions"
   ]
  },
  {
   "cell_type": "code",
   "execution_count": null,
   "id": "a589ae4a",
   "metadata": {},
   "outputs": [],
   "source": [
    "def graph_pick_stats(card_name, roll=1):\n",
    "    taken_data = manager.card_frame(name=card_name, colors='')[['ALSA', 'ATA']]\n",
    "    taken_data.index = [tup[0][5:] for tup in taken_data.index]\n",
    "    rolling = taken_data.rolling(window=roll, min_periods=1, center=True).mean()\n",
    "    \n",
    "    mx = min(max(taken_data.max()) + 0.25, 15) \n",
    "    mn = max(min(taken_data.min()) - 0.25, 1)\n",
    "    tit_str = f\"{manager.SET} - {manager.FORMAT}\\n{card_name}\"\n",
    "    \n",
    "    rolling.plot(ylim=(mx, mn), grid=True, title=tit_str)\n",
    "    \n",
    "    return taken_data"
   ]
  },
  {
   "cell_type": "code",
   "execution_count": null,
   "id": "660ff96f",
   "metadata": {},
   "outputs": [],
   "source": [
    "def compare_card_evaluations(start_date, end_date):\n",
    "    def inner_func(date):\n",
    "        df = manager.card_frame(date=date, colors='')\n",
    "        df.index = [tup[2] for tup in df.index]\n",
    "        return df\n",
    "\n",
    "    first = inner_func(date='2022-02-10')\n",
    "    last = inner_func(date='2022-02-15')\n",
    "    diff = last[['ALSA', 'ATA', 'Color', 'Rarity']].copy()\n",
    "    diff['Δ ALSA'] = first['ALSA'] - last['ALSA']\n",
    "    diff['Δ ATA'] = first['ATA'] - last['ATA']\n",
    "    return diff[['ALSA', 'Δ ALSA', 'ATA', 'Δ ATA', 'Color', 'Rarity']]"
   ]
  },
  {
   "cell_type": "markdown",
   "id": "97f0135d",
   "metadata": {},
   "source": [
    "## Archetype Functions"
   ]
  },
  {
   "cell_type": "code",
   "execution_count": null,
   "id": "6a1dffa1",
   "metadata": {
    "scrolled": true
   },
   "outputs": [],
   "source": [
    "def get_archetype_frame(colors, roll=1):\n",
    "    win_rate_frame = manager.archetype_frame(name=colors)\n",
    "    win_rate_frame.index = [tup[0] for tup in win_rate_frame.index]\n",
    "    #win_rate_frame = win_rate_frame[['Splash', 'Games', 'Win %']]\n",
    "    win_rate_frame = win_rate_frame[win_rate_frame['Splash'] == False][['Wins', 'Games']]\n",
    "    rolling = win_rate_frame.rolling(window=roll, min_periods=1, center=True).mean().round()\n",
    "    rolling['Win %'] = round((rolling['Wins'] / rolling['Games']) * 100, 2)\n",
    "    rolling['Avg. Win%'] = [get_winrate(idx) for idx in win_rate_frame.index]\n",
    "    rolling['Win % Offset'] = rolling['Win %'] - rolling['Avg. Win%']\n",
    "    return rolling"
   ]
  },
  {
   "cell_type": "markdown",
   "id": "fdde350d",
   "metadata": {},
   "source": [
    "## Winrate Functions"
   ]
  },
  {
   "cell_type": "code",
   "execution_count": null,
   "id": "ad2366a6",
   "metadata": {},
   "outputs": [],
   "source": [
    "def get_winrate(day=None):\n",
    "    if day:\n",
    "        return manager.summary_frame().loc[(day, 'All Decks')]['Win %']\n",
    "    else:\n",
    "        # TODO: Get the overall winrate \n",
    "        return None"
   ]
  },
  {
   "cell_type": "code",
   "execution_count": null,
   "id": "6d86af51",
   "metadata": {},
   "outputs": [],
   "source": [
    "def get_archetype_winrate_history(color_filter=None, roll=1):\n",
    "    d = dict()\n",
    "    for col in WUBRG.COLOR_PAIRS:\n",
    "        d[col] = get_archetype_frame(col)[col_name]\n",
    "    d['AVG'] = get_archtype_winrates_frame('UR')['Avg. Win%']\n",
    "        \n",
    "    test_frame = pd.DataFrame.from_dict(d)\n",
    "    test_frame.index = [idx[5:] for idx in test_frame.index]\n",
    "    if color_filter:\n",
    "        col_filt = [col for col in WUBRG.COLOR_PAIRS if color_filter in col] + ['AVG'] \n",
    "        test_frame = test_frame[col_filt]\n",
    "    \n",
    "    rolling = test_frame.rolling(window=roll, min_periods=1, center=True).mean()\n",
    "    return rolling"
   ]
  },
  {
   "cell_type": "code",
   "execution_count": null,
   "id": "61ad4b70",
   "metadata": {},
   "outputs": [],
   "source": [
    "def plot_archetype_winrate_history(color_filter='', roll=1):\n",
    "    test_frame = get_archetype_winrate_history(color_filter, roll)\n",
    "    lc = LineColors()\n",
    "    title = \"Archetpye Winrates\"\n",
    "    \n",
    "    col_filt = f\"Color Filter: {color_filter}\"\n",
    "    rol_filt = f\"Rolling Average: {roll} Days\"\n",
    "    \n",
    "    if color_filter and roll > 1:\n",
    "        title += f\"\\n{col_filt}  -  {rol_filt}\"\n",
    "    elif color_filter:\n",
    "            title += f\"\\n{col_filt}\"\n",
    "    elif roll > 1:\n",
    "            title += f\"\\n{rol_filt}\"\n",
    "    test_frame.plot(figsize=(20, 10), color=lc.get_col_array(color_filter), title=title, lw=2.5, grid=True)"
   ]
  },
  {
   "cell_type": "markdown",
   "id": "3983fb98",
   "metadata": {},
   "source": [
    "## Playrate Functions"
   ]
  },
  {
   "cell_type": "code",
   "execution_count": null,
   "id": "f9afcb49",
   "metadata": {},
   "outputs": [],
   "source": [
    "def get_archetype_playrate_history(color_filter=None, roll=1):    \n",
    "    d = dict()\n",
    "    for col in WUBRG.COLOR_PAIRS:\n",
    "        d[col] = get_archetype_frame(col)['Games']\n",
    "\n",
    "    test_frame = pd.DataFrame.from_dict(d)\n",
    "    test_frame.index = [idx[5:] for idx in test_frame.index]\n",
    "    rolling = test_frame.rolling(window=roll, min_periods=1, center=True).mean()\n",
    "    total = rolling.sum(axis=1)\n",
    "    playrate = rolling.divide(list(total),axis=0) * 100\n",
    "    \n",
    "    if color_filter:\n",
    "        col_filt = [col for col in WUBRG.COLOR_PAIRS if color_filter in col]\n",
    "        playrate = playrate[col_filt]\n",
    "    \n",
    "    return playrate"
   ]
  },
  {
   "cell_type": "code",
   "execution_count": null,
   "id": "aa3997ca",
   "metadata": {},
   "outputs": [],
   "source": [
    "def plot_archetype_playrate_history(color_filter='', roll=1):\n",
    "    test_frame = get_archetype_playrate_history(color_filter, roll)\n",
    "    lc = LineColors()\n",
    "    title = \"Archetpye Playrates\"\n",
    "    \n",
    "    col_filt = f\"Color Filter: {color_filter}\"\n",
    "    rol_filt = f\"Rolling Average: {roll} Days\"\n",
    "    \n",
    "    if color_filter and roll > 1:\n",
    "        title += f\"\\n{col_filt}  -  {rol_filt}\"\n",
    "    elif color_filter:\n",
    "            title += f\"\\n{col_filt}\"\n",
    "    elif roll > 1:\n",
    "            title += f\"\\n{rol_filt}\"\n",
    "    test_frame.plot(figsize=(20, 10), color=lc.get_col_array(color_filter), title=title, lw=2.5, grid=True)"
   ]
  },
  {
   "cell_type": "markdown",
   "id": "7ef6dfba",
   "metadata": {},
   "source": [
    "# Initialization"
   ]
  },
  {
   "cell_type": "code",
   "execution_count": null,
   "id": "625327b4",
   "metadata": {},
   "outputs": [],
   "source": [
    "color_pairs = [''] + [WUBRG.COLOR_ALIASES_SUPPORT['Guilds'][key] for key in WUBRG.COLOR_ALIASES_SUPPORT['Guilds']]\n",
    "color_pairs"
   ]
  },
  {
   "cell_type": "code",
   "execution_count": null,
   "id": "9fac422e",
   "metadata": {},
   "outputs": [],
   "source": [
    "manager = DataManager()\n",
    "manager.SET = 'NEO'\n",
    "manager.FORMAT = 'PremierDraft'"
   ]
  },
  {
   "cell_type": "code",
   "execution_count": null,
   "id": "0d16b0f1",
   "metadata": {},
   "outputs": [],
   "source": [
    "manager.get_set_data()"
   ]
  },
  {
   "cell_type": "code",
   "execution_count": null,
   "id": "8b8360bd",
   "metadata": {},
   "outputs": [],
   "source": [
    "#manager.get_summary_data()"
   ]
  },
  {
   "cell_type": "markdown",
   "id": "12a93ead",
   "metadata": {},
   "source": [
    "## Current Tests"
   ]
  },
  {
   "cell_type": "code",
   "execution_count": null,
   "id": "7317f6ea",
   "metadata": {},
   "outputs": [],
   "source": [
    "fetcher = NewRawDataHandler('NEO', 'PremierDraft')\n",
    "fetcher.check_for_updates()\n",
    "\n",
    "\n",
    "fetcher.GROUPED_ARCHTYPE_HISTORY_FRAME\n",
    "fetcher.SINGLE_ARCHTYPE_HISTORY_FRAME\n",
    "fetcher.CARD_HISTORY_FRAME\n",
    "\n",
    "fetcher.GROUPED_ARCHTYPE_SUMMARY_FRAME\n",
    "fetcher.SINGLE_ARCHTYPE_SUMMARY_FRAME\n",
    "fetcher.CARD_SUMMARY_FRAME"
   ]
  },
  {
   "cell_type": "markdown",
   "id": "e9fdfce5",
   "metadata": {},
   "source": [
    "## Old Tests"
   ]
  },
  {
   "cell_type": "code",
   "execution_count": null,
   "id": "f5f02864",
   "metadata": {},
   "outputs": [],
   "source": [
    "manager.card_frame(name='Virus Beetle', colors='')"
   ]
  },
  {
   "cell_type": "code",
   "execution_count": null,
   "id": "a87b6fb6",
   "metadata": {
    "scrolled": true
   },
   "outputs": [],
   "source": [
    "manager.card_frame(name='Leech Gauntlet', colors='')"
   ]
  },
  {
   "cell_type": "code",
   "execution_count": null,
   "id": "c4854fca",
   "metadata": {},
   "outputs": [],
   "source": [
    "day_frame = manager.archetype_frame(date='2022-02-14')\n",
    "win_rate_frame = win_rate_frame[win_rate_frame['Splash'] == False]\n",
    "day_frame['Games'].sum()\n",
    "day_frame"
   ]
  },
  {
   "cell_type": "code",
   "execution_count": null,
   "id": "877bb27e",
   "metadata": {
    "scrolled": false
   },
   "outputs": [],
   "source": [
    "frame = today[2][''].copy()\n",
    "avg_wr = today[0].loc['All Decks']['Win %']\n",
    "wu_avg_wr = today[1][today[1]['Colors'] == 'WU'][today[1]['Splash'] == False].iloc[0]['Win %']\n",
    "#frame['Δ WR'] = None\n",
    "frame = frame.drop(['# Seen', '# Picked', '# OH', '# GD', '# GIH', '# GND'], axis=1)\n",
    "frame['(x-μ) GP WR'] = frame['GP WR'] - avg_wr\n",
    "frame['(x-μ) GIH WR'] = frame['GIH WR'] - avg_wr\n",
    "\n",
    "frame.sort_values(by=['(x-μ) GP WR'])\n",
    "frame[frame['(x-μ) GP WR'] < frame['(x-μ) GIH WR']].sort_values(by=['(x-μ) GIH WR'])\n",
    "frame['Spikiness'] =  frame['GIH WR'] - frame['GP WR']\n",
    "frame"
   ]
  },
  {
   "cell_type": "markdown",
   "id": "ec89cba3",
   "metadata": {},
   "source": [
    "# Data Graphing and Display"
   ]
  },
  {
   "cell_type": "markdown",
   "id": "c97c2527",
   "metadata": {},
   "source": [
    "## Card Summary"
   ]
  },
  {
   "cell_type": "code",
   "execution_count": null,
   "id": "562f764c",
   "metadata": {},
   "outputs": [],
   "source": [
    "set_data.BO1.plot_card_summary('Eiganjo Exemplar')"
   ]
  },
  {
   "cell_type": "code",
   "execution_count": null,
   "id": "870b8231",
   "metadata": {},
   "outputs": [],
   "source": [
    "set_data.BO1.plot_card_summary('Eiganjo Exemplar', 'RW')"
   ]
  },
  {
   "cell_type": "code",
   "execution_count": null,
   "id": "98462db9",
   "metadata": {},
   "outputs": [],
   "source": [
    "set_data.BO1.plot_card_summary('Eiganjo Exemplar', 'RW', 3)"
   ]
  },
  {
   "cell_type": "code",
   "execution_count": null,
   "id": "2ec8ba93",
   "metadata": {},
   "outputs": [],
   "source": [
    "TRGT_CARDS = ['Roaring Earth', 'Tales of Master Seshiro', 'Befriending the Moths']\n",
    "TRGT_PAIR = ''\n",
    "ROLL = 3\n",
    "\n",
    "for CARD in TRGT_CARDS:\n",
    "    set_data.BO1.plot_card_summary(CARD, colors=TRGT_PAIR, roll=ROLL)"
   ]
  },
  {
   "cell_type": "markdown",
   "id": "624e5a0f",
   "metadata": {},
   "source": [
    "## Card Pick Order Stats"
   ]
  },
  {
   "cell_type": "code",
   "execution_count": null,
   "id": "cd04179e",
   "metadata": {
    "scrolled": false
   },
   "outputs": [],
   "source": [
    "set_data.BO1.graph_pick_stats('Imperial Oath', 1)"
   ]
  },
  {
   "cell_type": "code",
   "execution_count": null,
   "id": "8d986ea4",
   "metadata": {},
   "outputs": [],
   "source": [
    "set_data.BO1.graph_pick_stats('Behold the Unspeakable', 3)"
   ]
  },
  {
   "cell_type": "code",
   "execution_count": null,
   "id": "8e34320b",
   "metadata": {},
   "outputs": [],
   "source": [
    "to_graph = ['Imperial Oath', 'Behold the Unspeakable', 'Virus Beetle', 'Network Disruptor']\n",
    "for card in to_graph:\n",
    "    set_data.BO1.graph_pick_stats(card, 1)"
   ]
  },
  {
   "cell_type": "markdown",
   "id": "412af02e",
   "metadata": {},
   "source": [
    "## Archetype Winrate History"
   ]
  },
  {
   "cell_type": "code",
   "execution_count": null,
   "id": "a5b24b5d",
   "metadata": {
    "scrolled": true
   },
   "outputs": [],
   "source": [
    "set_data.BO1.get_archetype_winrate_history(roll=1)"
   ]
  },
  {
   "cell_type": "code",
   "execution_count": null,
   "id": "c3c44322",
   "metadata": {
    "scrolled": false
   },
   "outputs": [],
   "source": [
    "set_data.BO1.get_archetype_winrate_history(roll=3)"
   ]
  },
  {
   "cell_type": "code",
   "execution_count": null,
   "id": "51789bb4",
   "metadata": {
    "scrolled": false
   },
   "outputs": [],
   "source": [
    "set_data.BO1.plot_archetype_winrate_history('W', 3)\n",
    "set_data.BO1.plot_archetype_winrate_history('U', 3)\n",
    "set_data.BO1.plot_archetype_winrate_history('B', 3)\n",
    "set_data.BO1.plot_archetype_winrate_history('R', 3)\n",
    "set_data.BO1.plot_archetype_winrate_history('G', 3)\n",
    "set_data.BO1.plot_archetype_winrate_history('', 3)"
   ]
  },
  {
   "cell_type": "markdown",
   "id": "0cbf46f6",
   "metadata": {},
   "source": [
    "## Archetype Playrate History"
   ]
  },
  {
   "cell_type": "code",
   "execution_count": null,
   "id": "94da67b3",
   "metadata": {
    "scrolled": true
   },
   "outputs": [],
   "source": [
    "set_data.BO1.get_archetype_playrate_history(roll=1)"
   ]
  },
  {
   "cell_type": "code",
   "execution_count": null,
   "id": "e3e74e87",
   "metadata": {},
   "outputs": [],
   "source": [
    "set_data.BO1.get_archetype_playrate_history(roll=3)"
   ]
  },
  {
   "cell_type": "code",
   "execution_count": null,
   "id": "81f4327a",
   "metadata": {
    "scrolled": false
   },
   "outputs": [],
   "source": [
    "set_data.BO1.plot_archetype_playrate_history('W', 3)\n",
    "set_data.BO1.plot_archetype_playrate_history('U', 3)\n",
    "set_data.BO1.plot_archetype_playrate_history('B', 3)\n",
    "set_data.BO1.plot_archetype_playrate_history('R', 3)\n",
    "set_data.BO1.plot_archetype_playrate_history('G', 3)\n",
    "set_data.BO1.plot_archetype_playrate_history('', 3)"
   ]
  },
  {
   "cell_type": "markdown",
   "id": "bcbddd88",
   "metadata": {},
   "source": [
    "## Card Pick Order Changes"
   ]
  },
  {
   "cell_type": "code",
   "execution_count": null,
   "id": "19fc3726",
   "metadata": {},
   "outputs": [],
   "source": [
    "diff = compare_card_evaluations('2022-02-10', '2022-02-16')\n",
    "commons = diff[diff['Rarity'] == 'C']\n",
    "uncommons = diff[diff['Rarity'] == 'U']"
   ]
  },
  {
   "cell_type": "code",
   "execution_count": null,
   "id": "339d9905",
   "metadata": {},
   "outputs": [],
   "source": [
    "SRT_TRG = 'Δ ATA'\n",
    "commons.sort_values(SRT_TRG, ascending=False).head(20)"
   ]
  },
  {
   "cell_type": "code",
   "execution_count": null,
   "id": "b09ca293",
   "metadata": {},
   "outputs": [],
   "source": [
    "commons.sort_values(SRT_TRG, ascending=True).head(20)"
   ]
  },
  {
   "cell_type": "code",
   "execution_count": null,
   "id": "f5ad6090",
   "metadata": {},
   "outputs": [],
   "source": [
    "uncommons.sort_values(SRT_TRG, ascending=False).head(10)"
   ]
  },
  {
   "cell_type": "code",
   "execution_count": null,
   "id": "d5065106",
   "metadata": {
    "scrolled": true
   },
   "outputs": [],
   "source": [
    "uncommons.sort_values(SRT_TRG, ascending=True).head(10)"
   ]
  }
 ],
 "metadata": {
  "kernelspec": {
   "display_name": "Python 3 (ipykernel)",
   "language": "python",
   "name": "python3"
  },
  "language_info": {
   "codemirror_mode": {
    "name": "ipython",
    "version": 3
   },
   "file_extension": ".py",
   "mimetype": "text/x-python",
   "name": "python",
   "nbconvert_exporter": "python",
   "pygments_lexer": "ipython3",
   "version": "3.9.7"
  }
 },
 "nbformat": 4,
 "nbformat_minor": 5
}
