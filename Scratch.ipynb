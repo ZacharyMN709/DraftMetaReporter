{
 "cells": [
  {
   "cell_type": "markdown",
   "id": "66991c96",
   "metadata": {},
   "source": [
    "17 Lands Data starts to update at 00:00 UTC, which is around 8:30pm local. Updating data at 10:30pm is likely a safe time."
   ]
  },
  {
   "cell_type": "code",
   "execution_count": 1,
   "id": "64c57ea3",
   "metadata": {},
   "outputs": [],
   "source": [
    "import pandas as pd\n",
    "pd.options.display.float_format = '{:,.3f}'.format\n",
    "import matplotlib.pyplot as plt\n",
    "import seaborn as sns\n",
    "\n",
    "import WUBRG\n",
    "import consts\n",
    "from FormatMetadata import SETS, FORMATS, SET_CONFIG\n",
    "from JSONHandler import JSONHandler\n",
    "from FormatMetadata import FormatMetadata"
   ]
  },
  {
   "cell_type": "code",
   "execution_count": 2,
   "id": "da907ac7",
   "metadata": {},
   "outputs": [],
   "source": [
    "from datetime import date, time, datetime, timedelta\n",
    "\n",
    "import WUBRG\n",
    "import consts\n",
    "from JSONHandler import JSONHandler\n",
    "from FormatMetadata import FormatMetadata\n",
    "\n",
    "class RawDataFetcher:    \n",
    "    def __init__(self, SET, FORMAT):\n",
    "        self._SET = SET\n",
    "        self._FORMAT = FORMAT\n",
    "        self.FORMAT_METADATA = FormatMetadata(SET, FORMAT)\n",
    "        \n",
    "        self._META_DICT = dict()\n",
    "        self._CARD_DICTS = dict()\n",
    "    \n",
    "    @property\n",
    "    def SET(self):\n",
    "        \"\"\"The draft set.\"\"\"\n",
    "        return self._SET\n",
    "    \n",
    "    \n",
    "    @property\n",
    "    def FORMAT(self):\n",
    "        \"\"\"The queue type.\"\"\"\n",
    "        return self._FORMAT\n",
    "    \n",
    "    \n",
    "    def get_day_data(self, check_date):\n",
    "        \"\"\"\n",
    "        Gets all of the data for a given day, for the object's set and format.\n",
    "        If the data does not exist locally, it will be fetched from 17Lands and saved locally.\n",
    "        :param check_date: The date to get the data for\n",
    "        :return: A tuple of dictionaries filled with the archetype data and card data\n",
    "        \"\"\"\n",
    "        loader = JSONHandler(self.SET, self.FORMAT, check_date)\n",
    "        str_date = str(check_date)\n",
    "        print(f'Getting data for {self.SET} {self.FORMAT}, date: {str_date}')\n",
    "        card_dict, meta_dict = loader.get_day_data()\n",
    "        \n",
    "        self._META_DICT[str_date] = meta_dict\n",
    "        self._CARD_DICTS[str_date] = {color: card_dict[color] for color in card_dict}\n",
    "            \n",
    "        return self._META_DICT[str_date], self._CARD_DICTS[str_date]\n",
    "\n",
    "    def get_set_data(self):\n",
    "        \"\"\"\n",
    "        Gets all of the data by day for the set and format.\n",
    "        If any data does not exist locally, it will be fetched from 17Lands and saved locally.\n",
    "        :return: A tuple of dictionaries filled with the archetype data and card data\n",
    "        \"\"\"\n",
    "        check_date = self.FORMAT_METADATA.START_DATE\n",
    "\n",
    "        run = True        \n",
    "        while(run):\n",
    "            if self.FORMAT_METADATA.is_active(check_date):\n",
    "                self.get_day_data(check_date)\n",
    "            check_date += timedelta(days=1)\n",
    "            run = check_date < date.today() \n",
    "    \n",
    "        self.gen_frames()\n",
    "        return self._META_DICT, self._CARD_DICTS\n",
    "    \n",
    "    def get_summary_data(self):\n",
    "        \"\"\"\n",
    "        Gets the aggregated data for the set and format\n",
    "        Depending on the age of the data, it will be updated automatically.\n",
    "        :return: A tuple of dictionaries filled with the archetype data and card data\n",
    "        \"\"\"\n",
    "        loader = JSONHandler(self.SET, self.FORMAT, None) \n",
    "        \n",
    "        # Calculate the last update date\n",
    "        utc = datetime.utcnow()\n",
    "        dt = datetime.combine(date(utc.year, utc.month, utc.day), time(2, 0))\n",
    "        if dt > utc:\n",
    "            dt -= timedelta(days=1)\n",
    "        \n",
    "        # Get the time the file was last updated, and see if it is before the most recent update.\n",
    "        last_edit = loader.get_last_write_time()\n",
    "        update = last_edit < dt\n",
    "        print(f'Getting overall data for {self.SET} {self.FORMAT}')\n",
    "        card_dict, meta_dict = loader.get_day_data(overwrite=update)            \n",
    "        return meta_dict, card_dict"
   ]
  },
  {
   "cell_type": "code",
   "execution_count": 9,
   "id": "24592dfb",
   "metadata": {},
   "outputs": [
    {
     "data": {
      "text/plain": [
       "datetime.datetime(2022, 2, 16, 23, 5, 17, 631923)"
      ]
     },
     "execution_count": 9,
     "metadata": {},
     "output_type": "execute_result"
    }
   ],
   "source": [
    "ACTIVE_SET = 'NEO'\n",
    "ACTIVE_FORMAT = 'PremierDraft'\n",
    "loader = JSONHandler(ACTIVE_SET, ACTIVE_FORMAT)\n",
    "last_edit = loader.get_last_write_time()\n",
    "last_edit"
   ]
  },
  {
   "cell_type": "code",
   "execution_count": 5,
   "id": "8ff916ee",
   "metadata": {},
   "outputs": [
    {
     "data": {
      "text/plain": [
       "datetime.datetime(2022, 2, 17, 0, 3, 38, 505782)"
      ]
     },
     "execution_count": 5,
     "metadata": {},
     "output_type": "execute_result"
    }
   ],
   "source": [
    "utc = datetime.utcnow()\n",
    "utc"
   ]
  },
  {
   "cell_type": "code",
   "execution_count": 6,
   "id": "0c3b80a0",
   "metadata": {},
   "outputs": [
    {
     "data": {
      "text/plain": [
       "datetime.datetime(2022, 2, 17, 2, 0)"
      ]
     },
     "execution_count": 6,
     "metadata": {},
     "output_type": "execute_result"
    }
   ],
   "source": [
    "dt = datetime.combine(date(utc.year, utc.month, utc.day), time(2, 0))\n",
    "dt"
   ]
  },
  {
   "cell_type": "code",
   "execution_count": 7,
   "id": "baa8397e",
   "metadata": {},
   "outputs": [
    {
     "data": {
      "text/plain": [
       "datetime.datetime(2022, 2, 16, 2, 0)"
      ]
     },
     "execution_count": 7,
     "metadata": {},
     "output_type": "execute_result"
    }
   ],
   "source": [
    "if dt > utc:\n",
    "    dt -= timedelta(days=1)\n",
    "dt"
   ]
  },
  {
   "cell_type": "code",
   "execution_count": 8,
   "id": "3a3af7c8",
   "metadata": {},
   "outputs": [
    {
     "data": {
      "text/plain": [
       "True"
      ]
     },
     "execution_count": 8,
     "metadata": {},
     "output_type": "execute_result"
    }
   ],
   "source": [
    "update = last_edit < dt\n",
    "update"
   ]
  },
  {
   "cell_type": "code",
   "execution_count": null,
   "id": "e3e3bda7",
   "metadata": {},
   "outputs": [],
   "source": [
    "ACTIVE_SET = 'NEO'\n",
    "ACTIVE_FORMAT = 'PremierDraft'\n",
    "\n",
    "fetcher = RawDataFetcher(ACTIVE_SET, ACTIVE_FORMAT)"
   ]
  },
  {
   "cell_type": "code",
   "execution_count": null,
   "id": "9da574f3",
   "metadata": {
    "scrolled": true
   },
   "outputs": [],
   "source": [
    "fetcher.get_summary_data()"
   ]
  },
  {
   "cell_type": "code",
   "execution_count": null,
   "id": "7c41a262",
   "metadata": {},
   "outputs": [],
   "source": [
    "from datetime import date, time, datetime, timedelta\n",
    "import pandas as pd\n",
    "\n",
    "import WUBRG\n",
    "import consts\n",
    "from JSONHandler import JSONHandler\n",
    "\n",
    "class RawDataHandler:    \n",
    "    def __init__(self, SET, FORMAT):\n",
    "        self._SET = SET\n",
    "        self._FORMAT = FORMAT\n",
    "        self.FORMAT_METADATA = FormatMetadata(SET, FORMAT)\n",
    "        \n",
    "        self._SUMMARY_DICT = dict()\n",
    "        self._ARCHTYPE_DICT = dict()\n",
    "        self._CARD_DICTS = dict()\n",
    "        \n",
    "        self.SUMMARY_FRAME = None\n",
    "        self.ARCHTYPE_FRAME = None\n",
    "        self.CARD_FRAME = None\n",
    "    \n",
    "    \n",
    "    @property\n",
    "    def SET(self):\n",
    "        \"\"\"The draft set.\"\"\"\n",
    "        return self._SET\n",
    "    \n",
    "    \n",
    "    @property\n",
    "    def FORMAT(self):\n",
    "        \"\"\"The queue type.\"\"\"\n",
    "        return self._FORMAT\n",
    "    \n",
    "    \n",
    "    def panadafy_card_dict(self, card_dict: dict) -> pd.DataFrame:\n",
    "        \"\"\"\n",
    "        Turns a dictionary into a DataFrame, with some data cleaning applied.\n",
    "        :param card_dict: The dictionary containing card data for a colour group\n",
    "        :return: A DataFrame filled with the cleaned card data\n",
    "        \"\"\"\n",
    "        frame = pd.DataFrame.from_dict(card_dict)\n",
    "        frame = frame.rename(columns=consts.STAT_NAMES)\n",
    "\n",
    "        # If there's no data, make a blank frame and return it.\n",
    "        if len(card_dict) == 0:\n",
    "            return frame\n",
    "\n",
    "        frame = frame.set_index('Name')\n",
    "        \n",
    "        for col in [\"GP WR\", \"OH WR\", \"GD WR\", \"GIH WR\", \"GND WR\", \"IWD\"]:\n",
    "            frame[col] = frame[col] * 100\n",
    "\n",
    "        frame = frame.drop(['sideboard_game_count', 'sideboard_win_rate', 'url', 'url_back'], axis=1)\n",
    "        frame['Rarity'] = frame['Rarity'].map(consts.RARITY_ALIASES)\n",
    "        frame = frame.round(3)\n",
    "        return frame\n",
    "    \n",
    "    def panadafy_meta_dict(self, meta_dict: dict) -> pd.DataFrame:\n",
    "        \"\"\"\n",
    "        Turns a dictionary into a DataFrame, with some data cleaning applied.\n",
    "        :param card_dict: The dictionary containing card data for a colour group\n",
    "        :return: A DataFrame filled with the cleaned card data\n",
    "        \"\"\"\n",
    "        frame = pd.DataFrame.from_dict(meta_dict)\n",
    "        frame = frame.rename(columns=consts.META_COLS)\n",
    "\n",
    "        # If there's no data, make a blank frame and return it.\n",
    "        if len(meta_dict) == 0:\n",
    "            return frame, frame.copy()\n",
    "        \n",
    "        frame['Name'] = frame['Color Name']\n",
    "        frame = frame.set_index('Name')\n",
    "        frame['Win %'] = round((frame['Wins'] / frame['Games']) * 100, 2)\n",
    "        frame['Splash'] = frame['Color Name'].str.contains(\"Splash\", case=False)\n",
    "        frame['Colors'] = frame['Color Name'].map(lambda x: x.replace(' + Splash', ''))\n",
    "        frame = frame[['Colors', 'Splash', 'Wins', 'Games', 'Win %', 'is_summary']]\n",
    "        \n",
    "        summary_frame = frame[frame['is_summary'] == True].copy()\n",
    "        summary_frame = summary_frame.drop(['is_summary'], axis=1)\n",
    "        summary_frame['Colors'] = summary_frame['Colors'].map(WUBRG.COLOR_COUNT_MAP)\n",
    "\n",
    "        archetype_frame = frame[frame['is_summary'] == False].copy()\n",
    "        archetype_frame = archetype_frame.drop(['is_summary'], axis=1)\n",
    "        archetype_frame['Colors'] = archetype_frame['Colors'].map(lambda x: x[0: (x.find('(') if x.find('(') != -1 else len(x))].strip())\n",
    "        archetype_frame['Colors'] = archetype_frame['Colors'].map(lambda x: x.replace('Mono-', ''))\n",
    "        archetype_frame['Colors'] = archetype_frame['Colors'].map(WUBRG.COLOR_ALIASES)\n",
    "        archetype_frame['Name'] = archetype_frame['Colors']\n",
    "        archetype_frame = archetype_frame.set_index('Name')\n",
    "\n",
    "        return summary_frame, archetype_frame\n",
    "    \n",
    "    def gen_frames(self):\n",
    "        self.SUMMARY_FRAME = pd.concat(self._SUMMARY_DICT, names=[\"Date\", \"Name\"])\n",
    "        self.ARCHTYPE_FRAME = pd.concat(self._ARCHTYPE_DICT, names=[\"Date\", \"Name\"])\n",
    "        temp_dict = dict()\n",
    "        for date in self._CARD_DICTS:\n",
    "            temp_dict[date] = pd.concat(self._CARD_DICTS[date], names=[\"Deck Colors\", \"Name\"])\n",
    "        self.CARD_FRAME = pd.concat(temp_dict, names=[\"Date\", \"Deck Colors\", \"Name\"])\n",
    "        \n",
    "    def get_day_data(self, check_date):\n",
    "        loader = JSONHandler(self.SET, self.FORMAT, check_date)\n",
    "        str_date = str(check_date)\n",
    "        print(f'Getting data for {self.SET} {self.FORMAT}, date: {str_date}')\n",
    "        card_dict, meta_dict = loader.get_day_data()\n",
    "        \n",
    "        self._SUMMARY_DICT[str_date], self._ARCHTYPE_DICT[str_date] = self.panadafy_meta_dict(meta_dict)\n",
    "        self._CARD_DICTS[str_date] = dict()\n",
    "        for color in card_dict:\n",
    "            self._CARD_DICTS[str_date][color] = self.panadafy_card_dict(card_dict[color])\n",
    "            \n",
    "        return self._SUMMARY_DICT[str_date], self._ARCHTYPE_DICT[str_date], self._CARD_DICTS[str_date]\n",
    "\n",
    "    def get_set_data(self):\n",
    "        check_date = self.FORMAT_METADATA.START_DATE\n",
    "\n",
    "        run = True        \n",
    "        while(run):\n",
    "            if self.FORMAT_METADATA.is_active(check_date):\n",
    "                self.get_day_data(check_date)\n",
    "            check_date += timedelta(days=1)\n",
    "            run = check_date < date.today() \n",
    "    \n",
    "        self.gen_frames()\n",
    "        return self._SUMMARY_DICT, self._ARCHTYPE_DICT, self._CARD_DICTS\n",
    "    \n",
    "    def get_summary_data(self):\n",
    "        loader = JSONHandler(self.SET, self.FORMAT, None)\n",
    "        print(f'Getting overall data for {self.SET} {self.FORMAT}')\n",
    "        # TODO: Determine when to update based on a time-stamp.\n",
    "        # NOTE: This might not be necessary, as there isn't a need to automatically update. It may be better\n",
    "        # to call this ad-hoc.\n",
    "        card_dict, meta_dict = loader.get_day_data(overwrite=True)\n",
    "        \n",
    "        summary, archetype = self.panadafy_meta_dict(meta_dict)\n",
    "        cards = dict()\n",
    "        for color in card_dict:\n",
    "            cards[color] = self.panadafy_card_dict(card_dict[color])\n",
    "            \n",
    "        return summary, archetype, cards"
   ]
  },
  {
   "cell_type": "code",
   "execution_count": null,
   "id": "6f306f08",
   "metadata": {},
   "outputs": [],
   "source": [
    "class RawDataWrapper:   \n",
    "    def __init__(self, SET, FORMAT):\n",
    "        self._SET = SET\n",
    "        self._FORMAT = FORMAT\n",
    "        self._DATA = RawDataHandler(SET, FORMAT)\n",
    "    \n",
    "    \n",
    "    @property\n",
    "    def SET(self):\n",
    "        \"\"\"The draft set.\"\"\"\n",
    "        return self._SET\n",
    "    \n",
    "    \n",
    "    @property\n",
    "    def FORMAT(self):\n",
    "        \"\"\"The format type.\"\"\"\n",
    "        return self._FORMAT\n",
    "    \n",
    "    \n",
    "    @property\n",
    "    def DATA(self):\n",
    "        \"\"\"The data about the set and format.\"\"\"\n",
    "        return self._DATA\n",
    "    \n",
    "\n",
    "    def get_set_data(self):\n",
    "        self.DATA.get_set_data()\n",
    "        \n",
    "    def get_summary_data(self):\n",
    "        return self.DATA.get_summary_data()\n",
    "    \n",
    "    def summary_frame(self, date=slice(None, None, None), name=slice(None, None, None)):\n",
    "        return self.DATA.SUMMARY_FRAME.loc(axis=0)[pd.IndexSlice[date, name]]\n",
    "     \n",
    "    def archetype_frame(self, date=slice(None, None, None), name=slice(None, None, None)):\n",
    "        return self.DATA.ARCHTYPE_FRAME.loc(axis=0)[pd.IndexSlice[date, name]]\n",
    "    \n",
    "    def card_frame(self, date=slice(None, None, None), colors=slice(None, None, None), name=slice(None, None, None)):\n",
    "        return self.DATA.CARD_FRAME.loc(axis=0)[pd.IndexSlice[date, colors, name]]"
   ]
  },
  {
   "cell_type": "code",
   "execution_count": null,
   "id": "6a9bda4a",
   "metadata": {},
   "outputs": [],
   "source": [
    "class DataManager:\n",
    "    def __init__(self):        \n",
    "        self.DATA = {s: {f: RawDataWrapper(s, f) for f in FORMATS} for s in SETS}\n",
    "        \n",
    "        self._SET = SETS[0]\n",
    "        self._FORMAT = FORMATS[0]\n",
    "        self._ACTIVE_DATA = self.DATA[self._SET][self._FORMAT]\n",
    "        \n",
    "    @property\n",
    "    def SET(self):\n",
    "        \"\"\"The draft set.\"\"\"\n",
    "        return self._SET\n",
    "\n",
    "    @SET.setter\n",
    "    def SET(self, value):\n",
    "        if value in SETS:\n",
    "            self._SET = value\n",
    "            self._ACTIVE_DATA = self.DATA[self._SET][self._FORMAT]\n",
    "        else:\n",
    "            raise ValueError(f\"Inavlid set: '{value}'\")\n",
    "        \n",
    "    @property\n",
    "    def FORMAT(self):\n",
    "        \"\"\"The draft format.\"\"\"\n",
    "        return self._FORMAT\n",
    "\n",
    "    @FORMAT.setter\n",
    "    def FORMAT(self, value):\n",
    "        if value in FORMATS:\n",
    "            self._FORMAT = value\n",
    "            self._ACTIVE_DATA = self.DATA[self.SET][self.FORMAT]\n",
    "        else:\n",
    "            raise ValueError(f\"Inavlid format: '{value}'\")\n",
    "            \n",
    "    \n",
    "    @property\n",
    "    def ACTIVE_DATA(self):\n",
    "        \"\"\"The data for the given set and format.\"\"\"\n",
    "        return self._ACTIVE_DATA\n",
    "    \n",
    "    def get_set_data(self):\n",
    "        self.ACTIVE_DATA.get_set_data()\n",
    "    \n",
    "    def summary_frame(self, date=slice(None, None, None), name=slice(None, None, None)):\n",
    "        return self.ACTIVE_DATA.summary_frame(date, name)\n",
    "     \n",
    "    def archetype_frame(self, date=slice(None, None, None), name=slice(None, None, None)):\n",
    "        return self.ACTIVE_DATA.archetype_frame(date, name)\n",
    "    \n",
    "    def card_frame(self, date=slice(None, None, None), colors=slice(None, None, None), name=slice(None, None, None)):\n",
    "        return self.ACTIVE_DATA.card_frame(date, colors, name)"
   ]
  },
  {
   "cell_type": "code",
   "execution_count": null,
   "id": "0d16b0f1",
   "metadata": {},
   "outputs": [],
   "source": [
    "manager = DataManager()\n",
    "manager.SET = 'NEO'\n",
    "manager.FORMAT = 'PremierDraft'"
   ]
  },
  {
   "cell_type": "code",
   "execution_count": null,
   "id": "5cadbc26",
   "metadata": {
    "scrolled": true
   },
   "outputs": [],
   "source": [
    "manager.get_set_data()"
   ]
  },
  {
   "cell_type": "code",
   "execution_count": null,
   "id": "6ecbfac5",
   "metadata": {},
   "outputs": [],
   "source": [
    "color_pairs = [''] + [WUBRG.COLOR_ALIASES_SUPPORT['Guilds'][key] for key in WUBRG.COLOR_ALIASES_SUPPORT['Guilds']]\n",
    "color_pairs"
   ]
  },
  {
   "cell_type": "code",
   "execution_count": null,
   "id": "0e257e38",
   "metadata": {},
   "outputs": [],
   "source": [
    "card_array = {col: manager.card_frame(name='Eiganjo Exemplar', colors=col)[['GIH WR', 'ALSA', '# GP', 'IWD']] for col in color_pairs}\n",
    "for key in card_array:\n",
    "    array = card_array[key]\n",
    "    new_idxs = [tup[0][5:] for tup in array.index]\n",
    "    array.index = new_idxs\n",
    "card_array"
   ]
  },
  {
   "cell_type": "code",
   "execution_count": null,
   "id": "9cb2c5d0",
   "metadata": {},
   "outputs": [],
   "source": [
    "#frame = pd.concat(card_array)\n",
    "frame = card_array['']\n",
    "frame.plot(subplots=True, layout=(2,2), figsize=(8,8))"
   ]
  },
  {
   "cell_type": "code",
   "execution_count": null,
   "id": "f5f02864",
   "metadata": {},
   "outputs": [],
   "source": [
    "manager.card_frame(name='Eiganjo Exemplar', colors='WG')"
   ]
  },
  {
   "cell_type": "code",
   "execution_count": null,
   "id": "a87b6fb6",
   "metadata": {
    "scrolled": true
   },
   "outputs": [],
   "source": [
    "manager.card_frame(name='Bearer of Memory', colors='WG')"
   ]
  },
  {
   "cell_type": "code",
   "execution_count": null,
   "id": "c4854fca",
   "metadata": {},
   "outputs": [],
   "source": [
    "day_frame = manager.archetype_frame(date='2022-02-14')\n",
    "win_rate_frame = win_rate_frame[win_rate_frame['Splash'] == False]\n",
    "day_frame['Games'].sum()\n",
    "day_frame"
   ]
  },
  {
   "cell_type": "code",
   "execution_count": null,
   "id": "ad2366a6",
   "metadata": {},
   "outputs": [],
   "source": [
    "def get_winrate(day=None):\n",
    "    if day:\n",
    "        return manager.summary_frame().loc[(day, 'All Decks')]['Win %']\n",
    "    else:\n",
    "        # TODO: Get the overall winrate \n",
    "        return None"
   ]
  },
  {
   "cell_type": "code",
   "execution_count": null,
   "id": "334986ee",
   "metadata": {},
   "outputs": [],
   "source": [
    "def get_archetype_winrate_history(color_filter=None, roll=1):\n",
    "    color_pairs = [''] + [WUBRG.COLOR_ALIASES_SUPPORT['Guilds'][key] for key in WUBRG.COLOR_ALIASES_SUPPORT['Guilds']]\n",
    "    d = dict()\n",
    "    for col in color_pairs:\n",
    "        if col == '':\n",
    "            d['AVG'] = graph_archtype_winrates_frame('UR')['Avg. Win%']\n",
    "        else:\n",
    "            d[col] = graph_archtype_winrates_frame(col)['Win %']\n",
    "    test_frame = pd.DataFrame.from_dict(d)\n",
    "    if color_filter:\n",
    "        col_filt = ['AVG'] + [col for col in color_pairs if color_filter in col]\n",
    "        test_frame = test_frame[col_filt]\n",
    "    rolling = test_frame.rolling(window=roll, min_periods=1, center=True).mean()\n",
    "    return rolling"
   ]
  },
  {
   "cell_type": "code",
   "execution_count": null,
   "id": "a4de6997",
   "metadata": {},
   "outputs": [],
   "source": [
    "test_frame = get_archetype_winrate_history('R', 7)\n",
    "colors =[(0.85,0.85,0.2), (0,0,1), (0,0,0), (1,0,0), (0,0.7,0)]\n",
    "test_frame.plot(figsize=(20, 10), color=colors)"
   ]
  },
  {
   "cell_type": "markdown",
   "id": "e9fdfce5",
   "metadata": {},
   "source": [
    "# Old Tests"
   ]
  },
  {
   "cell_type": "code",
   "execution_count": null,
   "id": "fae81a48",
   "metadata": {},
   "outputs": [],
   "source": [
    "pd.options.display.float_format = None"
   ]
  },
  {
   "cell_type": "code",
   "execution_count": null,
   "id": "877bb27e",
   "metadata": {
    "scrolled": false
   },
   "outputs": [],
   "source": [
    "frame = today[2][''].copy()\n",
    "avg_wr = today[0].loc['All Decks']['Win %']\n",
    "wu_avg_wr = today[1][today[1]['Colors'] == 'WU'][today[1]['Splash'] == False].iloc[0]['Win %']\n",
    "#frame['Δ WR'] = None\n",
    "frame = frame.drop(['# Seen', '# Picked', '# OH', '# GD', '# GIH', '# GND'], axis=1)\n",
    "frame['(x-μ) GP WR'] = frame['GP WR'] - avg_wr\n",
    "frame['(x-μ) GIH WR'] = frame['GIH WR'] - avg_wr\n",
    "\n",
    "frame.sort_values(by=['(x-μ) GP WR'])\n",
    "frame[frame['(x-μ) GP WR'] < frame['(x-μ) GIH WR']].sort_values(by=['(x-μ) GIH WR'])\n",
    "frame['Spikiness'] =  frame['GIH WR'] - frame['GP WR']\n",
    "frame"
   ]
  },
  {
   "cell_type": "markdown",
   "id": "ec89cba3",
   "metadata": {},
   "source": [
    "# Finished Functions"
   ]
  },
  {
   "cell_type": "markdown",
   "id": "624e5a0f",
   "metadata": {},
   "source": [
    "## Card Pick Order Stats"
   ]
  },
  {
   "cell_type": "code",
   "execution_count": null,
   "id": "a589ae4a",
   "metadata": {},
   "outputs": [],
   "source": [
    "def graph_pick_stats(card_name, roll=1):\n",
    "    taken_data = manager.card_frame(name=card_name, colors='')[['ALSA', 'ATA']]\n",
    "    taken_data.index = [tup[0][5:] for tup in taken_data.index]\n",
    "    rolling = taken_data.rolling(window=roll, min_periods=1, center=True).mean()\n",
    "    \n",
    "    mx = min(max(taken_data.max()) + 0.25, 15) \n",
    "    mn = max(min(taken_data.min()) - 0.25, 1)\n",
    "    tit_str = f\"{manager.SET} - {manager.FORMAT}\\n{card_name}\"\n",
    "    \n",
    "    rolling.plot(ylim=(mx, mn), grid=True, title=tit_str)\n",
    "    \n",
    "    return taken_data"
   ]
  },
  {
   "cell_type": "code",
   "execution_count": null,
   "id": "df13f2f6",
   "metadata": {},
   "outputs": [],
   "source": [
    "graph_pick_stats('Voldaren Epicure', 1)"
   ]
  },
  {
   "cell_type": "code",
   "execution_count": null,
   "id": "3fe25a3d",
   "metadata": {
    "scrolled": false
   },
   "outputs": [],
   "source": [
    "graph_pick_stats('Imperial Oath', 1)"
   ]
  },
  {
   "cell_type": "code",
   "execution_count": null,
   "id": "8d986ea4",
   "metadata": {},
   "outputs": [],
   "source": [
    "graph_pick_stats('Behold the Unspeakable', 3)"
   ]
  },
  {
   "cell_type": "code",
   "execution_count": null,
   "id": "193071cf",
   "metadata": {},
   "outputs": [],
   "source": [
    "to_graph = ['Imperial Oath', 'Behold the Unspeakable', 'Virus Beetle', 'Network Disruptor']\n",
    "for card in to_graph:\n",
    "    graph_pick_stats(card, 1)"
   ]
  },
  {
   "cell_type": "markdown",
   "id": "412af02e",
   "metadata": {},
   "source": [
    "## Archetype Winrate History"
   ]
  },
  {
   "cell_type": "code",
   "execution_count": null,
   "id": "6a1dffa1",
   "metadata": {
    "scrolled": true
   },
   "outputs": [],
   "source": [
    "def graph_archtype_winrates_frame(colors, roll=1):\n",
    "    colors = WUBRG.get_color_identity(colors)\n",
    "    win_rate_frame = manager.archetype_frame(name=colors)\n",
    "    win_rate_frame.index = [tup[0] for tup in win_rate_frame.index]\n",
    "    #win_rate_frame = win_rate_frame[['Splash', 'Games', 'Win %']]\n",
    "    win_rate_frame = win_rate_frame[win_rate_frame['Splash'] == False][['Wins', 'Games']]\n",
    "    rolling = win_rate_frame.rolling(window=roll, min_periods=1, center=True).mean().round()\n",
    "    rolling['Win %'] = round((rolling['Wins'] / rolling['Games']) * 100, 2)\n",
    "    rolling['Avg. Win%'] = [get_winrate(idx) for idx in win_rate_frame.index]\n",
    "    rolling['Win % Offset'] = rolling['Win %'] - rolling['Avg. Win%']\n",
    "    return rolling"
   ]
  },
  {
   "cell_type": "code",
   "execution_count": null,
   "id": "a5b24b5d",
   "metadata": {
    "scrolled": true
   },
   "outputs": [],
   "source": [
    "graph_archtype_winrates_frame('RW', 1)"
   ]
  },
  {
   "cell_type": "code",
   "execution_count": null,
   "id": "c3c44322",
   "metadata": {
    "scrolled": false
   },
   "outputs": [],
   "source": [
    "graph_archtype_winrates_frame('RW', 3)"
   ]
  },
  {
   "cell_type": "code",
   "execution_count": null,
   "id": "e9afd277",
   "metadata": {},
   "outputs": [],
   "source": []
  }
 ],
 "metadata": {
  "kernelspec": {
   "display_name": "Python 3 (ipykernel)",
   "language": "python",
   "name": "python3"
  },
  "language_info": {
   "codemirror_mode": {
    "name": "ipython",
    "version": 3
   },
   "file_extension": ".py",
   "mimetype": "text/x-python",
   "name": "python",
   "nbconvert_exporter": "python",
   "pygments_lexer": "ipython3",
   "version": "3.9.7"
  }
 },
 "nbformat": 4,
 "nbformat_minor": 5
}
