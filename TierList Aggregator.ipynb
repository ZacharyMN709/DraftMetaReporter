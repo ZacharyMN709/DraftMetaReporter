{
 "cells": [
  {
   "cell_type": "code",
   "execution_count": null,
   "id": "57a84e9a",
   "metadata": {},
   "outputs": [],
   "source": [
    "from IPython.core.display import display, HTML\n",
    "import sys\n",
    "display(HTML(\"<style>.container { width:95% !important; }</style>\"))\n",
    "print(sys.version)"
   ]
  },
  {
   "cell_type": "code",
   "execution_count": null,
   "id": "614222e1",
   "metadata": {},
   "outputs": [],
   "source": [
    "from datetime import date, datetime\n",
    "import numpy as np\n",
    "import pandas as pd\n",
    "import dataframe_image as dfi\n",
    "# pd.options.display.float_format = '{:,.3f}'.format\n",
    "import matplotlib.pyplot as plt\n",
    "import matplotlib.dates as mdates\n",
    "import seaborn as sns\n",
    "sns.set_theme()\n",
    "sns.set_color_codes()\n",
    "#pd.set_option('display.max_rows', 300)\n",
    "#pd.set_option('display.max_columns', 20)\n",
    "\n",
    "# column_names = ['# Seen', 'ALSA', '# Picked', 'ATA', '# GP', 'GP WR', '# OH', 'OH WR', '# GD', 'GD WR', '# GIH', 'GIH WR', '# GND', 'GND WR', 'IWD', 'Color', 'Rarity']\n",
    "\n",
    "from Utilities import Logger, Fetcher\n",
    "import WUBRG\n",
    "from WUBRG import get_color_identity, ColorSortStyles\n",
    "from game_metadata import SETS, FORMATS\n",
    "from game_metadata import Card,CardManager, SetMetadata, FormatMetadata\n",
    "from data_fetching import DataLoader, LoadedData, DataFramer, FramedData, SetManager, CentralManager\n",
    "from data_fetching.utils import get_next_17lands_update_time, get_prev_17lands_update_time, get_name_slice, get_color_slice, get_date_slice\n",
    "from data_fetching.utils import rarity_filter, cmc_filter, card_color_filter, cast_color_filter, compose_filters\n",
    "\n",
    "\n",
    "TRGT_SET = 'DMU'\n",
    "LOG_LEVEL = Logger.FLG.DEFAULT\n",
    "LOG_LEVEL"
   ]
  },
  {
   "cell_type": "markdown",
   "id": "7ef6dfba",
   "metadata": {},
   "source": [
    "# Initialization"
   ]
  },
  {
   "cell_type": "code",
   "execution_count": null,
   "id": "907ffa83",
   "metadata": {
    "scrolled": false
   },
   "outputs": [],
   "source": [
    "data_manager = None\n",
    "set_data = None\n",
    "print(f'Available sets: {SETS}')\n",
    "print(f'Target set: {TRGT_SET}')"
   ]
  },
  {
   "cell_type": "code",
   "execution_count": null,
   "id": "3839200e",
   "metadata": {},
   "outputs": [],
   "source": [
    "print(f\"Current Local Time:  {datetime.now()}\")\n",
    "print(f\"Last 17Lands Update: {get_prev_17lands_update_time()}\")\n",
    "print(f\"Current UTC Time:    {datetime.utcnow()}\")\n",
    "print(f\"Next 17Lands Update: {get_next_17lands_update_time()}\")"
   ]
  },
  {
   "cell_type": "code",
   "execution_count": null,
   "id": "5e8fc1f9",
   "metadata": {
    "scrolled": false
   },
   "outputs": [],
   "source": [
    "start = datetime.utcnow()\n",
    "\n",
    "if set_data is None:\n",
    "    set_data = SetManager(TRGT_SET)\n",
    "set_data.check_for_updates()\n",
    "card_dict = set_data.SET_METADATA.CARD_DICT\n",
    "\n",
    "end = datetime.utcnow()\n",
    "print(f\"\\n --- Data loaded in {end - start}.\")"
   ]
  },
  {
   "cell_type": "markdown",
   "id": "d01c86ad",
   "metadata": {},
   "source": [
    "## Tier List Analysis"
   ]
  },
  {
   "cell_type": "markdown",
   "id": "bb5263de",
   "metadata": {},
   "source": [
    "### Functions"
   ]
  },
  {
   "cell_type": "code",
   "execution_count": null,
   "id": "56cb288d",
   "metadata": {},
   "outputs": [],
   "source": [
    "tier_to_rank = {\n",
    "    \"A+\": 12,\n",
    "    \"A\": 11,\n",
    "    \"A-\": 10,\n",
    "    \"B+\": 9,\n",
    "    \"B\": 8,\n",
    "    \"B-\": 7,\n",
    "    \"C+\": 6,\n",
    "    \"C\": 5,\n",
    "    \"C-\": 4,\n",
    "    \"D+\": 3,\n",
    "    \"D\": 2,\n",
    "    \"D-\": 1,\n",
    "    \"F\": 0,\n",
    "    \"SB\": None,\n",
    "    \"TBD\": None\n",
    "}\n",
    "\n",
    "rank_to_tier = {v: k for k, v in tier_to_rank.items()}"
   ]
  },
  {
   "cell_type": "code",
   "execution_count": null,
   "id": "e7cca623",
   "metadata": {},
   "outputs": [],
   "source": [
    "def fetch_raw_data(url):\n",
    "    if url.startswith(\"https://www.17lands.com/tier_list/\"):\n",
    "        guid = url.replace(\"https://www.17lands.com/tier_list/\", \"\")\n",
    "        url = f\"https://www.17lands.com/card_tiers/data/{guid}\"\n",
    "    fetcher = Fetcher()\n",
    "    raw_data = fetcher.fetch(url)\n",
    "    return raw_data\n",
    "\n",
    "\n",
    "def parse_raw_data(raw_data):\n",
    "    data = dict()\n",
    "    for card_rating in raw_data:\n",
    "        name = CardManager.from_name(card_rating['name']).NAME\n",
    "        \n",
    "        data[name] = {\n",
    "            'card': card_dict[name], \n",
    "            'tier': card_rating['tier'], \n",
    "            'rank': tier_to_rank[card_rating['tier']], \n",
    "            'synergy': card_rating['flags']['synergy'], \n",
    "            'buildaround': card_rating['flags']['buildaround']\n",
    "        }\n",
    "    return data\n",
    "\n",
    "\n",
    "def to_data_frame(data, col_name='Rank'):\n",
    "    ranks = dict()\n",
    "    for card in data:\n",
    "        ranks[card] = data[card]['rank']\n",
    "\n",
    "    return pd.DataFrame.from_dict(ranks, orient=\"index\", columns=[col_name])\n",
    "\n",
    "\n",
    "def frame_from_url(url, name):\n",
    "    raw_data = fetch_raw_data(url)\n",
    "    data = parse_raw_data(raw_data)\n",
    "    frame = to_data_frame(data)\n",
    "    frame.index.name = name\n",
    "    \n",
    "    return frame"
   ]
  },
  {
   "cell_type": "code",
   "execution_count": null,
   "id": "f7a78c06",
   "metadata": {},
   "outputs": [],
   "source": [
    "def merge_rankings(frame_list):\n",
    "    frame = frame_list[0].copy(True)\n",
    "    names = list()\n",
    "    \n",
    "    for indiv in frame_list:\n",
    "        name = indiv.index.name\n",
    "        names.append(name)\n",
    "        frame[name] = indiv['Rank'].astype('Int64')\n",
    "        \n",
    "    frame = frame.drop('Rank', axis=1)\n",
    "    frame['mean'] = frame.mean(axis=1)\n",
    "    frame['max'] = frame.max(axis=1)\n",
    "    frame['min'] = frame.min(axis=1)\n",
    "    frame['range'] = frame['max'] - frame['min']\n",
    "    frame['range'] = frame['range']\n",
    "    frame.index.name = 'Card'\n",
    "    \n",
    "    # Get the difference of squares distance to figure out most 'controversial' cards.\n",
    "    dist = pd.DataFrame()\n",
    "    for name in names:\n",
    "        dist[name] = abs(frame['mean'] - frame[name])\n",
    "    dist['dist'] = dist.mean(axis=1)\n",
    "    frame['dist'] = dist['dist'].round(1)\n",
    "\n",
    "    return frame\n",
    "\n",
    "\n",
    "def supplement_frame(frame, card_dict):\n",
    "    links = dict()\n",
    "    cast = dict()\n",
    "    colors = dict()\n",
    "    rarities = dict()\n",
    "    cmc = dict()\n",
    "    \n",
    "    for card_name in card_dict:\n",
    "        card = card_dict[card_name]\n",
    "        links[card_name] = card.NAME\n",
    "        cast[card_name] = card.CAST_IDENTITY\n",
    "        colors[card_name] = card.COLOR_IDENTITY\n",
    "        rarities[card_name] = card.RARITY\n",
    "        cmc[card_name] = card.CMC\n",
    "    \n",
    "    series = frame.index.to_series()\n",
    "    frame['Image'] = series.map(links)\n",
    "    frame['Cast Color'] = series.map(cast)\n",
    "    frame['Color'] = series.map(colors)\n",
    "    frame['Rarity'] = series.map(rarities)\n",
    "    frame['CMC'] = series.map(cmc)\n",
    "    \n",
    "    cols = list(frame.columns)\n",
    "    frame = frame[['Image', 'CMC', 'Rarity', 'Color', 'Cast Color'] + cols[:-5]]\n",
    "\n",
    "    return frame"
   ]
  },
  {
   "cell_type": "code",
   "execution_count": null,
   "id": "17816820",
   "metadata": {
    "scrolled": true
   },
   "outputs": [],
   "source": [
    "def style_frame(sub_frame):\n",
    "    def hoverable(card_name):\n",
    "        card = card_dict[card_name]\n",
    "        hmtl = '<style>.hover_img a { position:relative; }\\n' + \\\n",
    "        '.hover_img a span { position:absolute; display:none; z-index:300; }\\n' + \\\n",
    "        '.hover_img a:hover span { display:block; height: 300px; width: 300px; overflow: visible; margin-left: -175px; }</style>\\n' + \\\n",
    "        f'<div class=\"hover_img\">\\n' + \\\n",
    "        f'<a href=\"#\">{card_name}<span><img src=\"{card.IMAGE_URL}\" alt=\"image\"/></span></a>\\n' + \\\n",
    "        f'</div>'\n",
    "        return hmtl\n",
    "     \n",
    "    def format_short_float(val):\n",
    "        return '{:.1f}'.format(val)\n",
    "    \n",
    "    def format_long_float(val):\n",
    "        return '{:.3f}'.format(val)\n",
    "    \n",
    "    sub_frame = sub_frame.style.format({\n",
    "        'Image': hoverable,\n",
    "        'mean': format_long_float,\n",
    "        'max': format_short_float,\n",
    "        'min': format_short_float,\n",
    "        'range': format_short_float,\n",
    "        'dist': format_short_float,\n",
    "    })\n",
    "    \n",
    "    return sub_frame\n",
    "\n",
    "\n",
    "def display_frame(frame, order='mean', filters=None):\n",
    "    pd.set_option('display.max_rows', 300)\n",
    "    sub_frame = frame\n",
    "    \n",
    "    if filters is not None:\n",
    "        filt_frame = pd.DataFrame()\n",
    "        for f in filters:\n",
    "            filt_frame[id(f)] = f(sub_frame)\n",
    "        sub_frame = sub_frame[filt_frame.T.all()]\n",
    "            \n",
    "    sub_frame = sub_frame.sort_values(order, ascending=False)\n",
    "            \n",
    "    return style_frame(sub_frame)"
   ]
  },
  {
   "cell_type": "code",
   "execution_count": null,
   "id": "82c730e9",
   "metadata": {},
   "outputs": [],
   "source": [
    "def get_avgs(frame):\n",
    "    colors = 'WUBRG'\n",
    "    rarities = 'MRUC'\n",
    "    avgs = dict()\n",
    "    \n",
    "    for r in rarities:\n",
    "        color_frame = pd.DataFrame()\n",
    "        \n",
    "        for c in colors:    \n",
    "            filt_frame = pd.DataFrame()\n",
    "            filt_frame['color'] = cast_color_filter(c, ColorSortStyles.exact)(frame)\n",
    "            filt_frame['rarity'] = rarity_filter(r)(frame)\n",
    "            working = frame[filt_frame.T.all()].copy(True)\n",
    "            working = working.drop(['min', 'max', 'range', 'dist', 'Image', 'CMC', 'Rarity', 'Color', 'Cast Color'], axis=1)\n",
    "            color_frame[c] = working.mean().round(1)\n",
    "            \n",
    "        avgs[r] = color_frame.T\n",
    "    \n",
    "    ret = pd.concat(avgs)\n",
    "    names = list(ret.columns)[:-1]\n",
    "    \n",
    "    ret['max'] = ret.max(axis=1)\n",
    "    ret['min'] = ret.min(axis=1)\n",
    "    ret['range'] = ret['max'] - ret['min']\n",
    "    \n",
    "    # Get the difference of squares distance to figure out most 'controversial' cards.\n",
    "    dist = pd.DataFrame()\n",
    "    for name in names:\n",
    "        dist[name] = abs(ret['mean'] - ret[name])\n",
    "    dist['dist'] = dist.mean(axis=1)\n",
    "    ret['dist'] = dist['dist'].round(2)\n",
    "\n",
    "    return ret"
   ]
  },
  {
   "cell_type": "markdown",
   "id": "daf35706",
   "metadata": {},
   "source": [
    "### Data Analysis"
   ]
  },
  {
   "cell_type": "markdown",
   "id": "a60223f9",
   "metadata": {},
   "source": [
    "After loading all of the data, we crunch it to figure out the average grade that each contributer has given to cards. While not totally necessary, this helps anchor evaluations between contrinutors, as one person's C may be another person's C+. "
   ]
  },
  {
   "cell_type": "code",
   "execution_count": null,
   "id": "368d9c7e",
   "metadata": {},
   "outputs": [],
   "source": [
    "pairs = [\n",
    "    (\"https://www.17lands.com/tier_list/03ab10d25d8841f8aef0aa90b30c434b\", 'Zac'),\n",
    "    (\"https://www.17lands.com/tier_list/3078f70b9a0d415ebf9f555439f5aedb\", 'Klarm'),\n",
    "    (\"https://www.17lands.com/tier_list/a1ae9a695abb4921866f7f4a9a22e21f\", 'Phyrre'),\n",
    "    (\"https://www.17lands.com/tier_list/19ee3198a63b499bb7c25e6ceaae00ba\", 'Nomad'),\n",
    "    (\"https://www.17lands.com/tier_list/f1b015031fd741268c5228d4d8435938\", 'Catharsis'),\n",
    "    (\"https://www.17lands.com/tier_list/e854e4a17f5147ad9908c5f6e5d2e87c\", \"Rewind\"),\n",
    "    (\"https://www.17lands.com/tier_list/1d343c3e1f0d4cfd8c356cdaa42bb329\", \"Davis\"),\n",
    "    (\"https://www.17lands.com/tier_list/e12ee0b1fadc4ab7b8de4c3730878a90\", \"Chord\")\n",
    "]\n",
    "\n",
    "indiv_frames = [frame_from_url(*pair) for pair in pairs]\n",
    "base_frame = merge_rankings(indiv_frames)\n",
    "frame = supplement_frame(base_frame.copy(True), card_dict)\n",
    "# base_frame.to_csv(\"C:\\\\Users\\\\Zachary\\\\Downloads\\\\TierlistSummary.csv\", encoding='utf-8')\n",
    "base_frame.mean()"
   ]
  },
  {
   "cell_type": "markdown",
   "id": "e8909e24",
   "metadata": {},
   "source": [
    "### 'Controversial' Cards"
   ]
  },
  {
   "cell_type": "markdown",
   "id": "1b72feeb",
   "metadata": {},
   "source": [
    "Here, we separate the cards by rarity, and order them by the sum of the difference between each rating and the mean. This is saved in the `dist` column, and the higher the `dist` the lesss people agree on the rating of a card. If the `dist` is zero, everyone has given the card the same grade. The value of dist can either mean that some people disagree and most agree, or everyone disagrees to varying degrees.\n",
    "\n",
    "To me, anyting with a dist less than or equal to 0.6 is pretty agreed upon, and anything higher than 1.0 is fairly contentious."
   ]
  },
  {
   "cell_type": "code",
   "execution_count": null,
   "id": "8776707f",
   "metadata": {
    "scrolled": true
   },
   "outputs": [],
   "source": [
    "ordering = 'dist'\n",
    "commons = display_frame(frame, order=ordering, filters=[rarity_filter('C')]).data\n",
    "uncommons = display_frame(frame, order=ordering, filters=[rarity_filter('U')]).data\n",
    "rare = display_frame(frame, order=ordering, filters=[rarity_filter('R')]).data\n",
    "mythic = display_frame(frame, order=ordering, filters=[rarity_filter('M')]).data\n",
    "\n",
    "display = pd.concat([commons, uncommons, rare, mythic])\n",
    "style_frame(display)"
   ]
  },
  {
   "cell_type": "markdown",
   "id": "80cdd091",
   "metadata": {},
   "source": [
    "### Top Cards"
   ]
  },
  {
   "cell_type": "markdown",
   "id": "5f297df0",
   "metadata": {},
   "source": [
    "This is the short-list of top commons and uncommons, ordered by colour, based on average rating of contributors."
   ]
  },
  {
   "cell_type": "code",
   "execution_count": null,
   "id": "08733b8c",
   "metadata": {},
   "outputs": [],
   "source": [
    "ordering = 'mean'\n",
    "top = list()\n",
    "\n",
    "for c in 'WUBRG':\n",
    "    top.append(display_frame(frame, order=ordering, filters=[rarity_filter('U'), cast_color_filter(c, ColorSortStyles.exact)]).data.head(3))\n",
    "    top.append(display_frame(frame, order=ordering, filters=[rarity_filter('C'), cast_color_filter(c, ColorSortStyles.exact)]).data.head(5))\n",
    "\n",
    "display = pd.concat(top)\n",
    "style_frame(display)"
   ]
  },
  {
   "cell_type": "markdown",
   "id": "e34d5c25",
   "metadata": {},
   "source": [
    "This is the entire list of cards, ordered by rarity, then by average rating amongst contributers."
   ]
  },
  {
   "cell_type": "code",
   "execution_count": null,
   "id": "2505d899",
   "metadata": {
    "scrolled": true
   },
   "outputs": [],
   "source": [
    "ordering = 'mean'\n",
    "commons = display_frame(frame, order=ordering, filters=[rarity_filter('C')]).data\n",
    "uncommons = display_frame(frame, order=ordering, filters=[rarity_filter('U')]).data\n",
    "rare = display_frame(frame, order=ordering, filters=[rarity_filter('R')]).data\n",
    "mythic = display_frame(frame, order=ordering, filters=[rarity_filter('M')]).data\n",
    "\n",
    "display = pd.concat([commons, uncommons, rare, mythic])\n",
    "style_frame(display)"
   ]
  },
  {
   "cell_type": "markdown",
   "id": "fc13a19f",
   "metadata": {},
   "source": [
    "### Color Ratings"
   ]
  },
  {
   "cell_type": "markdown",
   "id": "d7ee2e2d",
   "metadata": {},
   "source": [
    "This is a little rougher, and more difficult to parse, but this is the avreage grade for each contirbutor given to cards of 'x' colour and 'y' rarity. it should serve as a rough estimation of how strong each person thinks a given colour is, though doesn't necessarily translate well to colour combinations."
   ]
  },
  {
   "cell_type": "code",
   "execution_count": null,
   "id": "68e77bb2",
   "metadata": {
    "scrolled": true
   },
   "outputs": [],
   "source": [
    "get_avgs(frame)"
   ]
  },
  {
   "cell_type": "markdown",
   "id": "88e6676c",
   "metadata": {},
   "source": [
    "These are the rankings of all the non-basic lands.\n",
    "In short:\n",
    "- Gx taplands are highest rated\n",
    "- UR tapland is slightly ahead of other non-GX tap lands\n",
    "- Taplands are ahead of painlands"
   ]
  },
  {
   "cell_type": "code",
   "execution_count": null,
   "id": "db970402",
   "metadata": {},
   "outputs": [],
   "source": [
    "lands = [\n",
    "     'Adarkar Wastes',\n",
    "     'Caves of Koilos',\n",
    "     'Shivan Reef',\n",
    "     'Yavimaya Coast',\n",
    "     'Sulfurous Springs',\n",
    "     'Karplusan Forest',\n",
    "     'Plaza of Heroes',\n",
    "     'Thran Portal',\n",
    "     'Crystal Grotto',\n",
    "     'Idyllic Beachfront',\n",
    "     'Sunlit Marsh',\n",
    "     'Sacred Peaks',\n",
    "     'Radiant Grove',\n",
    "     'Contaminated Aquifer',\n",
    "     'Molten Tributary',\n",
    "     'Tangled Islet',\n",
    "     'Geothermal Bog',\n",
    "     'Haunted Mire',\n",
    "     'Wooded Ridgeline',\n",
    "]\n",
    "style_frame(frame.loc[lands])"
   ]
  },
  {
   "cell_type": "markdown",
   "id": "f369406a",
   "metadata": {},
   "source": [
    "### Gut-Check"
   ]
  },
  {
   "cell_type": "markdown",
   "id": "8f498067",
   "metadata": {},
   "source": [
    "The two selections below are mainly for my benefit (though I can send any contributor a personalized copy if they ask!), to check my opions of cards against what everyone else thinks. Any card I have graded more than a grade higher or lower than average is shown here, to give a more concrete idea of where _I_ disagree, than where _people_ disagree."
   ]
  },
  {
   "cell_type": "code",
   "execution_count": null,
   "id": "5e84b1a7",
   "metadata": {},
   "outputs": [],
   "source": [
    "play_frame = frame.copy(True)\n",
    "play_frame['diff'] = frame['Zac'] - frame['mean']\n",
    "style_frame(play_frame[play_frame['diff'] > 1].sort_values('diff', ascending=False))"
   ]
  },
  {
   "cell_type": "code",
   "execution_count": null,
   "id": "9a164486",
   "metadata": {
    "scrolled": false
   },
   "outputs": [],
   "source": [
    "play_frame = frame.copy(True)\n",
    "play_frame['diff'] = frame['Zac'] - frame['mean']\n",
    "style_frame(play_frame[play_frame['diff'] < -1].sort_values('diff', ascending=True))"
   ]
  },
  {
   "cell_type": "markdown",
   "id": "8dc4ee8e",
   "metadata": {},
   "source": [
    "### Specific Checks"
   ]
  },
  {
   "cell_type": "markdown",
   "id": "94800a77",
   "metadata": {},
   "source": [
    "These are a list of specific cards I wanted to compare, because they either seem interesting, are cards that feel similar-but-different. Feel free to ask me to add certain cards to this list if you're curious"
   ]
  },
  {
   "cell_type": "code",
   "execution_count": null,
   "id": "8002e5d5",
   "metadata": {},
   "outputs": [],
   "source": [
    "play_frame.loc[['Love Song of Night and Day', 'Dragon Whelp', 'Soaring Drake', 'Mesa Cavalier', 'Leyline Binding', 'Prayer of Binding', 'Deathbloom Gardener', 'Salvaged Manaworker']]"
   ]
  },
  {
   "cell_type": "code",
   "execution_count": null,
   "id": "0c89b582",
   "metadata": {},
   "outputs": [],
   "source": []
  }
 ],
 "metadata": {
  "kernelspec": {
   "display_name": "Python 3 (ipykernel)",
   "language": "python",
   "name": "python3"
  },
  "language_info": {
   "codemirror_mode": {
    "name": "ipython",
    "version": 3
   },
   "file_extension": ".py",
   "mimetype": "text/x-python",
   "name": "python",
   "nbconvert_exporter": "python",
   "pygments_lexer": "ipython3",
   "version": "3.9.7"
  }
 },
 "nbformat": 4,
 "nbformat_minor": 5
}
