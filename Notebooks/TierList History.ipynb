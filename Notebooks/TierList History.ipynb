{
 "cells": [
  {
   "cell_type": "markdown",
   "id": "7ef6dfba",
   "metadata": {},
   "source": [
    "# Initialization"
   ]
  },
  {
   "cell_type": "code",
   "execution_count": null,
   "id": "a9ae1b9a",
   "metadata": {},
   "outputs": [],
   "source": [
    "import sys\n",
    "sys.path.append('..')\n",
    "from core.utilities.notebook_setups.frame_tools import *\n",
    "\n",
    "SET = 'MOM'\n",
    "URL = \"https://www.17lands.com/tier_list/ad796ccaf0cc4be08511b0afd7a91a3c\"\n",
    "USER = \"Alex\"\n",
    "DATES = [\"230415\", \"230420\", \"230421\", \"230425\", \"230426\"]\n",
    "\n",
    "data_manager, set_data = set_up(log_lvl=LogLvl.ERROR, target_set=SET)"
   ]
  },
  {
   "cell_type": "code",
   "execution_count": null,
   "id": "eeed2e31",
   "metadata": {},
   "outputs": [],
   "source": [
    "agg = TierAggregator(SET)\n",
    "tiers = [TierList.load(f\"{SET}-{USER}-{date_str}.tier\") for date_str in DATES]\n",
    "for i in range(len(tiers)):\n",
    "    tier = tiers[i]\n",
    "    tier.user = f\"{tier.creation_time.date()}\"\n",
    "    tier.tiers.index.name = tier.user\n",
    "    agg.add_tier(tier)\n",
    "    \n",
    "x = DATES[-1]\n",
    "most_recent = f\"20{x[0:2]}-{x[2:4]}-{x[4:6]}\"\n",
    "\n",
    "# Monkey patch in the most recent tier update information, until this is further developped.\n",
    "grade_cols = list(agg.tier_frame.columns)[5:-6]\n",
    "agg._tier_frame['Last Update'] = agg._tier_frame[grade_cols[-1]] - agg._tier_frame[grade_cols[-2]]"
   ]
  },
  {
   "cell_type": "markdown",
   "id": "d01c86ad",
   "metadata": {},
   "source": [
    "## Tier List History"
   ]
  },
  {
   "cell_type": "markdown",
   "id": "75e69b1c",
   "metadata": {},
   "source": [
    "This displays the contents of the tierlists, with each row containing information about a card. On the left, there's information about the cards, along with a hoverable image. The `BO1` and `BO3` columns are how well the card is performing the the respective queue, calculated similarly to https://www.limitedgrades.com/mom.\n",
    "\n",
    "The columns which are dates are all different version of Chord O' Calls' tier lists. The `2023-04-15` column has grades taken from the set review spreadsheet, while later dates are taken from 17Lands.  \n",
    "(https://www.17lands.com/tier_list/ad796ccaf0cc4be08511b0afd7a91a3c).\n",
    "\n",
    "`mean`, `max` and `min` ignore the `BO1` and `BO3` column, so shows the max and minimum the acard's been rated in the tierlist. `range` is the difference between `min` and `max`. `std` and `dist` are hold-overs from code this is based on for comparing different user's tier lists. Their values, along with `mean` likely don't have much value. `Last Update` shows the card's grade change between the previous and current tier list."
   ]
  },
  {
   "cell_type": "markdown",
   "id": "ddbbdb40",
   "metadata": {},
   "source": [
    "To simplify calculations, letter grades were converted to numbers. 12 is an A+, and 0 is an F. Sideboard or ungraded cards are given a null value.\n",
    "```\n",
    "12 -> A+\n",
    "11 -> A\n",
    "10 -> A-\n",
    "9  -> B+\n",
    "8  -> B\n",
    "7  -> B-\n",
    "6  -> C+\n",
    "5  -> C\n",
    "4  -> C-\n",
    "3  -> D+\n",
    "2  -> D\n",
    "1  -> D-\n",
    "0  -> F\n",
    "```"
   ]
  },
  {
   "cell_type": "markdown",
   "id": "4e92e418",
   "metadata": {},
   "source": [
    "### Top Cards"
   ]
  },
  {
   "cell_type": "markdown",
   "id": "dc95e11f",
   "metadata": {},
   "source": [
    "Below is a list of the top 3 uncomons and 5 commons for each colour, based on the most recent version of the tier list. There's no defined way of breaking ties for multiple cards that have the same grade."
   ]
  },
  {
   "cell_type": "code",
   "execution_count": null,
   "id": "08733b8c",
   "metadata": {
    "scrolled": false
   },
   "outputs": [],
   "source": [
    "agg.top_picks(most_recent, style=True)"
   ]
  },
  {
   "cell_type": "markdown",
   "id": "bb22802a",
   "metadata": {},
   "source": [
    "### Updated Cards\n",
    "Any cards which had grades changed in the last Tier List update, ordered from most inmproved to least improved."
   ]
  },
  {
   "cell_type": "code",
   "execution_count": null,
   "id": "9163159e",
   "metadata": {
    "scrolled": false
   },
   "outputs": [],
   "source": [
    "updated_cards = agg.tier_frame[agg.tier_frame['Last Update'] != 0].sort_values('Last Update', ascending=False)\n",
    "agg.style_frame(updated_cards)"
   ]
  },
  {
   "cell_type": "markdown",
   "id": "7182b2e3",
   "metadata": {},
   "source": [
    "### All Cards\n",
    "This is a list of all cards in the tier list, orderd by the grades for the most recent date."
   ]
  },
  {
   "cell_type": "code",
   "execution_count": null,
   "id": "361f4027",
   "metadata": {
    "scrolled": false
   },
   "outputs": [],
   "source": [
    "agg.suborder_by_rarity(most_recent, style=True)"
   ]
  },
  {
   "cell_type": "code",
   "execution_count": null,
   "id": "6fa2f47c",
   "metadata": {},
   "outputs": [],
   "source": [
    "raise Exception(\"Stopping Auto-Execute\")"
   ]
  },
  {
   "cell_type": "markdown",
   "id": "19bcdf13",
   "metadata": {},
   "source": [
    "# Get Tier List\n",
    "Run this to get today's Tier List."
   ]
  },
  {
   "cell_type": "code",
   "execution_count": null,
   "id": "bd8422ca",
   "metadata": {},
   "outputs": [],
   "source": [
    "current_tier = TierList.from_link(URL, USER, SET)\n",
    "current_tier.save()"
   ]
  },
  {
   "cell_type": "markdown",
   "id": "72bbb875",
   "metadata": {},
   "source": [
    "Code used to generate this can be found here: https://github.com/ZacharyMN709/DraftMetaReporter"
   ]
  }
 ],
 "metadata": {
  "kernelspec": {
   "display_name": "Python 3 (ipykernel)",
   "language": "python",
   "name": "python3"
  },
  "language_info": {
   "codemirror_mode": {
    "name": "ipython",
    "version": 3
   },
   "file_extension": ".py",
   "mimetype": "text/x-python",
   "name": "python",
   "nbconvert_exporter": "python",
   "pygments_lexer": "ipython3",
   "version": "3.10.0"
  }
 },
 "nbformat": 4,
 "nbformat_minor": 5
}
