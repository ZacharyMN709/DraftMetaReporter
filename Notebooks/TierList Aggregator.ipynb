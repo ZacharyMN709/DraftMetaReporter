{
 "cells": [
  {
   "cell_type": "markdown",
   "id": "7ef6dfba",
   "metadata": {},
   "source": [
    "# Initialization"
   ]
  },
  {
   "cell_type": "code",
   "execution_count": null,
   "id": "57a84e9a",
   "metadata": {},
   "outputs": [],
   "source": [
    "import sys\n",
    "sys.path.append('..')\n",
    "from core.utilities.notebook_setups.frame_tools import *\n",
    "SET = 'ONE'\n",
    "LOAD_FROM_DISK = True\n",
    "data_manager, set_data = set_up(log_lvl=LogLvl.SPARSE, target_set=SET)"
   ]
  },
  {
   "cell_type": "code",
   "execution_count": null,
   "id": "a306b16f",
   "metadata": {},
   "outputs": [],
   "source": [
    "pairs = {\n",
    "    'ONE': [\n",
    "        (\"https://www.17lands.com/tier_list/45a3a3a84d9f46178d6750ff96d85f8c\", \"Zac\"),\n",
    "        (\"https://www.17lands.com/tier_list/1f286922c200438493eca0c7c2cd52de\", \"Klarm\"),\n",
    "        (\"https://www.17lands.com/tier_list/37da6967cc464c59aabb789061cf54bd\", \"CardboardNomad\"),\n",
    "        (\"https://www.17lands.com/tier_list/6a4b4990e9324d018509bbdf8611c84c\", \"Glassblowings\"),\n",
    "        (\"https://www.17lands.com/tier_list/8df037923b984400897eacb998646a2d\", \"Arcyl\"),\n",
    "        (\"https://www.17lands.com/tier_list/40c76666327a4d969bc139d32beb48ea\", \"CryoGyro\"),\n",
    "        #(\"https://www.17lands.com/tier_list/5bd47cffc044433dba04bf705d60739d\", \"Prosperity\"),\n",
    "        (\"https://www.17lands.com/tier_list/b9ac0f6bbd86442e98f861d29d52d689\", \"Ncaa\"),\n",
    "        (\"https://www.17lands.com/tier_list/48367d8421e24aa0adaa1b9ee23884e8\", \"ztm\"),\n",
    "    ],\n",
    "    \n",
    "    'BRO': [\n",
    "        #(\"https://www.17lands.com/tier_list/bc43f79ac9d34b11bc43d904a97b8795\", \"Zac\"),\n",
    "        (\"https://www.17lands.com/tier_list/b8d4ba9d1bad49828bfa6371f6b4f09b\", \"Chord\"),\n",
    "        (\"https://www.17lands.com/tier_list/61fdaf8a13164ec0a87c954f0ef959e5\", \"Ncaa\"),\n",
    "    ],\n",
    "    \n",
    "    'DMU': [\n",
    "        (\"https://www.17lands.com/tier_list/03ab10d25d8841f8aef0aa90b30c434b\", \"Zac\"),\n",
    "        (\"https://www.17lands.com/tier_list/e12ee0b1fadc4ab7b8de4c3730878a90\", \"Chord\"),\n",
    "        (\"https://www.17lands.com/tier_list/3078f70b9a0d415ebf9f555439f5aedb\", \"Klarm\"),\n",
    "        (\"https://www.17lands.com/tier_list/a1ae9a695abb4921866f7f4a9a22e21f\", \"Phyrre\"),\n",
    "        (\"https://www.17lands.com/tier_list/19ee3198a63b499bb7c25e6ceaae00ba\", \"Nomad\"),\n",
    "        (\"https://www.17lands.com/tier_list/f1b015031fd741268c5228d4d8435938\", \"Catharsis\"),\n",
    "        (\"https://www.17lands.com/tier_list/e854e4a17f5147ad9908c5f6e5d2e87c\", \"Rewind\"),\n",
    "        (\"https://www.17lands.com/tier_list/1d343c3e1f0d4cfd8c356cdaa42bb329\", \"Davis\"),\n",
    "    ],\n",
    "}\n",
    "\n",
    "agg = TierAggregator(SET)"
   ]
  },
  {
   "cell_type": "code",
   "execution_count": null,
   "id": "34e222b6",
   "metadata": {},
   "outputs": [],
   "source": [
    "if LOAD_FROM_DISK:\n",
    "    date_str = \"230204\"\n",
    "    tiers = [TierList.load(f\"{SET}-{info[1]}-{date_str}.tier\") for info in tier_info]\n",
    "else:\n",
    "    tiers = [TierList(l, u, SET) for l, u in tier_info]\n",
    "    for tier in tiers:\n",
    "        tier.save()\n",
    "\n",
    "for tier in tiers:\n",
    "    agg.add_tier(tier)"
   ]
  },
  {
   "cell_type": "code",
   "execution_count": null,
   "id": "a3aa3781",
   "metadata": {},
   "outputs": [],
   "source": [
    "raise Exception(\"Stopping Auto-Execute\")"
   ]
  },
  {
   "cell_type": "markdown",
   "id": "d01c86ad",
   "metadata": {},
   "source": [
    "## Tier List Analysis"
   ]
  },
  {
   "cell_type": "markdown",
   "id": "daf35706",
   "metadata": {},
   "source": [
    "### Data Analysis"
   ]
  },
  {
   "cell_type": "markdown",
   "id": "a60223f9",
   "metadata": {},
   "source": [
    "After loading all of the data, we crunch it to figure out the average grade that each contributer has given to cards. While not totally necessary, this helps anchor evaluations between contrinutors, as one person's C may be another person's C+. "
   ]
  },
  {
   "cell_type": "code",
   "execution_count": null,
   "id": "368d9c7e",
   "metadata": {
    "scrolled": true
   },
   "outputs": [],
   "source": [
    "# base_frame.to_csv(\"C:\\\\Users\\\\Zachary\\\\Downloads\\\\TierlistSummary.csv\", encoding='utf-8')\n",
    "agg.tier_frame.mean()"
   ]
  },
  {
   "cell_type": "markdown",
   "id": "e8909e24",
   "metadata": {},
   "source": [
    "### 'Controversial' Cards"
   ]
  },
  {
   "cell_type": "markdown",
   "id": "1b72feeb",
   "metadata": {},
   "source": [
    "Here, we separate the cards by rarity, and order them by the sum of the difference between each rating and the mean. This is saved in the `dist` column, and the higher the `dist` the lesss people agree on the rating of a card. If the `dist` is zero, everyone has given the card the same grade. The value of dist can either mean that some people disagree and most agree, or everyone disagrees to varying degrees.\n",
    "\n",
    "To me, anyting with a dist less than or equal to 0.6 is pretty agreed upon, and anything higher than 1.0 is fairly contentious."
   ]
  },
  {
   "cell_type": "code",
   "execution_count": null,
   "id": "8776707f",
   "metadata": {
    "scrolled": true
   },
   "outputs": [],
   "source": [
    "agg.suborder_by_rarity('dist', style=True)"
   ]
  },
  {
   "cell_type": "markdown",
   "id": "80cdd091",
   "metadata": {},
   "source": [
    "### Top Cards"
   ]
  },
  {
   "cell_type": "markdown",
   "id": "5f297df0",
   "metadata": {},
   "source": [
    "This is the short-list of top commons and uncommons, ordered by colour, based on average rating of contributors."
   ]
  },
  {
   "cell_type": "code",
   "execution_count": null,
   "id": "08733b8c",
   "metadata": {
    "scrolled": true
   },
   "outputs": [],
   "source": [
    "agg.top_picks('mean', style=True)"
   ]
  },
  {
   "cell_type": "markdown",
   "id": "e34d5c25",
   "metadata": {},
   "source": [
    "This is the entire list of cards, ordered by rarity, then by average rating amongst contributers."
   ]
  },
  {
   "cell_type": "code",
   "execution_count": null,
   "id": "2505d899",
   "metadata": {
    "scrolled": true
   },
   "outputs": [],
   "source": [
    "agg.suborder_by_rarity('mean', style=True)"
   ]
  },
  {
   "cell_type": "markdown",
   "id": "fc13a19f",
   "metadata": {},
   "source": [
    "### Color Ratings"
   ]
  },
  {
   "cell_type": "markdown",
   "id": "d7ee2e2d",
   "metadata": {},
   "source": [
    "This is a little rougher, and more difficult to parse, but this is the avreage grade for each contirbutor given to cards of 'x' colour and 'y' rarity. it should serve as a rough estimation of how strong each person thinks a given colour is, though doesn't necessarily translate well to colour combinations."
   ]
  },
  {
   "cell_type": "code",
   "execution_count": null,
   "id": "4e332d45",
   "metadata": {},
   "outputs": [],
   "source": [
    "agg.avg_frame"
   ]
  },
  {
   "cell_type": "markdown",
   "id": "f369406a",
   "metadata": {},
   "source": [
    "### Gut-Check"
   ]
  },
  {
   "cell_type": "markdown",
   "id": "8f498067",
   "metadata": {},
   "source": [
    "The two selections below are mainly for my benefit (though I can send any contributor a personalized copy if they ask!), to check my opions of cards against what everyone else thinks. Any card I have graded more than a grade higher or lower than average is shown here, to give a more concrete idea of where _I_ disagree, than where _people_ disagree."
   ]
  },
  {
   "cell_type": "code",
   "execution_count": null,
   "id": "51f08ffd",
   "metadata": {},
   "outputs": [],
   "source": [
    "user = 'Zac'\n",
    "compare_target = 'mean'\n",
    "diff_col = 'diff'\n",
    "play_frame = agg.tier_frame.copy(True)\n",
    "play_frame[diff_col] = agg.tier_frame[user] - agg.tier_frame[compare_target]"
   ]
  },
  {
   "cell_type": "code",
   "execution_count": null,
   "id": "5e84b1a7",
   "metadata": {
    "scrolled": false
   },
   "outputs": [],
   "source": [
    "agg.style_frame(play_frame[play_frame[diff_col] > 1].sort_values(diff_col, ascending=False))"
   ]
  },
  {
   "cell_type": "code",
   "execution_count": null,
   "id": "9a164486",
   "metadata": {
    "scrolled": false
   },
   "outputs": [],
   "source": [
    "agg.style_frame(play_frame[play_frame[diff_col] < -1].sort_values(diff_col, ascending=True))"
   ]
  },
  {
   "cell_type": "markdown",
   "id": "39e1bbd6",
   "metadata": {},
   "source": [
    "## BRO Specific Code"
   ]
  },
  {
   "cell_type": "code",
   "execution_count": null,
   "id": "503c6a1f",
   "metadata": {},
   "outputs": [],
   "source": []
  },
  {
   "cell_type": "markdown",
   "id": "1000fc52",
   "metadata": {},
   "source": [
    "## DMU Specific Code"
   ]
  },
  {
   "cell_type": "markdown",
   "id": "88e6676c",
   "metadata": {},
   "source": [
    "These are the rankings of all the non-basic lands.\n",
    "In short:\n",
    "- Gx taplands are highest rated\n",
    "- UR tapland is slightly ahead of other non-GX tap lands\n",
    "- Taplands are ahead of painlands"
   ]
  },
  {
   "cell_type": "code",
   "execution_count": null,
   "id": "db970402",
   "metadata": {},
   "outputs": [],
   "source": [
    "lands = [\n",
    "     'Adarkar Wastes',\n",
    "     'Caves of Koilos',\n",
    "     'Shivan Reef',\n",
    "     'Yavimaya Coast',\n",
    "     'Sulfurous Springs',\n",
    "     'Karplusan Forest',\n",
    "     'Plaza of Heroes',\n",
    "     'Thran Portal',\n",
    "     'Crystal Grotto',\n",
    "     'Idyllic Beachfront',\n",
    "     'Sunlit Marsh',\n",
    "     'Sacred Peaks',\n",
    "     'Radiant Grove',\n",
    "     'Contaminated Aquifer',\n",
    "     'Molten Tributary',\n",
    "     'Tangled Islet',\n",
    "     'Geothermal Bog',\n",
    "     'Haunted Mire',\n",
    "     'Wooded Ridgeline',\n",
    "]\n",
    "style_frame(frame.loc[lands])"
   ]
  },
  {
   "cell_type": "markdown",
   "id": "bdaf2367",
   "metadata": {},
   "source": [
    "## ONE Specific Code"
   ]
  },
  {
   "cell_type": "code",
   "execution_count": null,
   "id": "76d147cf",
   "metadata": {},
   "outputs": [],
   "source": [
    "cards = [\n",
    "    '',\n",
    "]\n",
    "style_frame(frame.loc[lands])"
   ]
  },
  {
   "cell_type": "markdown",
   "id": "8dc4ee8e",
   "metadata": {},
   "source": [
    "### Specific Checks"
   ]
  },
  {
   "cell_type": "markdown",
   "id": "94800a77",
   "metadata": {},
   "source": [
    "These are a list of specific cards I wanted to compare, because they either seem interesting, are cards that feel similar-but-different. Feel free to ask me to add certain cards to this list if you're curious"
   ]
  },
  {
   "cell_type": "code",
   "execution_count": null,
   "id": "8002e5d5",
   "metadata": {},
   "outputs": [],
   "source": [
    "frame.loc[['Phyrexian Obliterator']]"
   ]
  },
  {
   "cell_type": "code",
   "execution_count": null,
   "id": "0c89b582",
   "metadata": {},
   "outputs": [],
   "source": []
  }
 ],
 "metadata": {
  "kernelspec": {
   "display_name": "Python 3 (ipykernel)",
   "language": "python",
   "name": "python3"
  },
  "language_info": {
   "codemirror_mode": {
    "name": "ipython",
    "version": 3
   },
   "file_extension": ".py",
   "mimetype": "text/x-python",
   "name": "python",
   "nbconvert_exporter": "python",
   "pygments_lexer": "ipython3",
   "version": "3.9.7"
  }
 },
 "nbformat": 4,
 "nbformat_minor": 5
}
