{
 "cells": [
  {
   "cell_type": "code",
   "execution_count": null,
   "id": "57a84e9a",
   "metadata": {},
   "outputs": [],
   "source": [
    "import sys\n",
    "sys.path.append('..')\n",
    "from core.utilities.notebook_auto_setup import *\n",
    "notebook_set_up(LogLvl.SPARSE)"
   ]
  },
  {
   "cell_type": "markdown",
   "id": "7ef6dfba",
   "metadata": {},
   "source": [
    "# Initialization"
   ]
  },
  {
   "cell_type": "code",
   "execution_count": null,
   "id": "5e8fc1f9",
   "metadata": {
    "scrolled": false
   },
   "outputs": [],
   "source": [
    "data_manager, set_data = load_set_data()\n",
    "card_dict = set_data.SET_METADATA.CARD_DICT"
   ]
  },
  {
   "cell_type": "markdown",
   "id": "d01c86ad",
   "metadata": {},
   "source": [
    "## Tier List Analysis"
   ]
  },
  {
   "cell_type": "markdown",
   "id": "bb5263de",
   "metadata": {},
   "source": [
    "### Functions"
   ]
  },
  {
   "cell_type": "code",
   "execution_count": null,
   "id": "56cb288d",
   "metadata": {},
   "outputs": [],
   "source": [
    "tier_to_rank = {\n",
    "    \"A+\": 12,\n",
    "    \"A\": 11,\n",
    "    \"A-\": 10,\n",
    "    \"B+\": 9,\n",
    "    \"B\": 8,\n",
    "    \"B-\": 7,\n",
    "    \"C+\": 6,\n",
    "    \"C\": 5,\n",
    "    \"C-\": 4,\n",
    "    \"D+\": 3,\n",
    "    \"D\": 2,\n",
    "    \"D-\": 1,\n",
    "    \"F\": 0,\n",
    "    \"SB\": None,\n",
    "    \"TBD\": None\n",
    "}\n",
    "\n",
    "\n",
    "rank_to_tier = {v: k for k, v in tier_to_rank.items()}"
   ]
  },
  {
   "cell_type": "code",
   "execution_count": null,
   "id": "44611be2",
   "metadata": {},
   "outputs": [],
   "source": [
    "def get_stats_grades(deck_color: str = ''):\n",
    "    frame = set_data.BO1.card_frame(deck_color=deck_color, summary=True).copy()\n",
    "    mu, std = norm.fit(frame['GIH WR'])\n",
    "    frame['STD'] = norm.cdf(frame['GIH WR'], mu, std) * 100\n",
    "    frame = frame['GIH WR']\n",
    "    \n",
    "    range_map = [\n",
    "        frame['STD'].between(99, 100),\n",
    "        frame['STD'].between(95, 99),\n",
    "        frame['STD'].between(90, 95),\n",
    "        frame['STD'].between(85, 90),\n",
    "        frame['STD'].between(76, 85),\n",
    "        frame['STD'].between(68, 76),\n",
    "        frame['STD'].between(57, 68),\n",
    "        frame['STD'].between(45, 57),\n",
    "        frame['STD'].between(36, 45),\n",
    "        frame['STD'].between(27, 36),\n",
    "        frame['STD'].between(17, 27),\n",
    "        frame['STD'].between(5, 17),\n",
    "        frame['STD'].between(0, 5)\n",
    "    ]\n",
    "    \n",
    "    frame['Tier'] = np.select(range_map, ranks, 0)\n",
    "    frame['Rank'] = frame['Tier'].map(tier_to_rank).astype('Int64')\n",
    "    \n",
    "    return frame"
   ]
  },
  {
   "cell_type": "code",
   "execution_count": null,
   "id": "e7cca623",
   "metadata": {},
   "outputs": [],
   "source": [
    "def frame_from_url(url, name):\n",
    "    def gen_card_dict(data):\n",
    "        return {\n",
    "            'Card': data['name'],\n",
    "            'Tier': data['tier'],\n",
    "            'Rank': tier_to_rank[data['tier']],\n",
    "            'Synergy': data['flags']['synergy'],\n",
    "            'Buildaround': data['flags']['buildaround']\n",
    "        }\n",
    "\n",
    "    fetcher = Request17Lands()\n",
    "    raw_data = fetcher.get_tier_list(url.replace(\"https://www.17lands.com/tier_list/\", \"\"))\n",
    "    tier_data = {card_data['name']: gen_card_dict(card_data) for card_data in raw_data}\n",
    "    frame = pd.DataFrame.from_dict(tier_data, orient=\"index\")\n",
    "    frame.index.name = name\n",
    "    return frame"
   ]
  },
  {
   "cell_type": "code",
   "execution_count": null,
   "id": "f7a78c06",
   "metadata": {},
   "outputs": [],
   "source": [
    "def merge_rankings(frame_list, card_dict):\n",
    "    # Create a frame with only card names.\n",
    "    frame = pd.DataFrame()\n",
    "    frame.index.name = 'Card'\n",
    "    \n",
    "    # Get each user's coverted ranks as ints. \n",
    "    ranks = pd.DataFrame()\n",
    "    for indiv in frame_list:\n",
    "        ranks[indiv.index.name] = indiv['Rank'].astype('Int64')\n",
    "        frame[indiv.index.name] = indiv['Rank'].astype('Int64')\n",
    "        \n",
    "    # Calculate the general stats and append them.\n",
    "    frame['mean'] = ranks.mean(axis=1)\n",
    "    frame['max'] = ranks.max(axis=1)\n",
    "    frame['min'] = ranks.min(axis=1)\n",
    "    frame['range'] = frame['max'] - frame['min']\n",
    "    frame['std'] = ranks.std(axis=1).round(1)\n",
    "    \n",
    "    # Get the difference of squares distance to figure out most 'controversial' cards.\n",
    "    dist = pd.DataFrame()\n",
    "    for indiv in frame_list:\n",
    "        dist[indiv.index.name] = abs(frame['mean'] - ranks[indiv.index.name])\n",
    "    frame['dist'] = dist.mean(axis=1).round(1)\n",
    "\n",
    "    \n",
    "    series = frame.index.to_series()\n",
    "    frame['Image'] = series.map({card.NAME: card.NAME for card in card_dict.values()})\n",
    "    frame['Cast Color'] = series.map({card.NAME: card.CAST_IDENTITY for card in card_dict.values()})\n",
    "    frame['Color'] = series.map({card.NAME: card.COLOR_IDENTITY for card in card_dict.values()})\n",
    "    frame['Rarity'] = series.map({card.NAME: card.RARITY for card in card_dict.values()})\n",
    "    frame['CMC'] = series.map({card.NAME: card.CMC for card in card_dict.values()})\n",
    "    \n",
    "    cols = list(frame.columns)\n",
    "    frame = frame[['Image', 'CMC', 'Rarity', 'Color', 'Cast Color'] + cols[:-5]]\n",
    "\n",
    "    return frame"
   ]
  },
  {
   "cell_type": "code",
   "execution_count": null,
   "id": "17816820",
   "metadata": {
    "scrolled": true
   },
   "outputs": [],
   "source": [
    "def style_frame(sub_frame):\n",
    "    def hoverable(card_name):\n",
    "        try:\n",
    "            card = card_dict[card_name]\n",
    "            hmtl = '<style>.hover_img a { position:relative; }\\n' + \\\n",
    "            '.hover_img a span { position:absolute; display:none; z-index:300; }\\n' + \\\n",
    "            '.hover_img a:hover span { display:block; height: 300px; width: 300px; overflow: visible; margin-left: -175px; }</style>\\n' + \\\n",
    "            f'<div class=\"hover_img\">\\n' + \\\n",
    "            f'<a href=\"#\">{card_name}<span><img src=\"{card.IMAGE_URL}\" alt=\"image\"/></span></a>\\n' + \\\n",
    "            f'</div>'\n",
    "            return hmtl\n",
    "        except KeyError:\n",
    "            return f\"ERROR - {card_name}\"\n",
    "     \n",
    "    def format_short_float(val):\n",
    "        return '{:.1f}'.format(val)\n",
    "    \n",
    "    def format_long_float(val):\n",
    "        return '{:.3f}'.format(val)\n",
    "    \n",
    "    sub_frame = sub_frame.style.format({\n",
    "        'Image': hoverable,\n",
    "        'mean': format_long_float,\n",
    "        'max': format_short_float,\n",
    "        'min': format_short_float,\n",
    "        'range': format_short_float,\n",
    "        'dist': format_short_float,\n",
    "        'std': format_short_float,\n",
    "    })\n",
    "    \n",
    "    return sub_frame\n",
    "\n",
    "\n",
    "def display_frame(frame, order='mean', filters=None):\n",
    "    pd.set_option('display.max_rows', 300)\n",
    "    \n",
    "    if filters is not None:\n",
    "        filt_frame = pd.DataFrame()\n",
    "        for f in filters:\n",
    "            filt_frame[id(f)] = f(frame)\n",
    "        frame = frame[filt_frame.T.all()]\n",
    "            \n",
    "    frame = frame.sort_values(order, ascending=False)\n",
    "            \n",
    "    return style_frame(frame)"
   ]
  },
  {
   "cell_type": "code",
   "execution_count": null,
   "id": "82c730e9",
   "metadata": {},
   "outputs": [],
   "source": [
    "def get_avgs(frame):\n",
    "    colors = 'WUBRG'\n",
    "    rarities = 'MRUC'\n",
    "    avgs = dict()\n",
    "    \n",
    "    for r in rarities:\n",
    "        color_frame = pd.DataFrame()\n",
    "        \n",
    "        for c in colors:\n",
    "            filt_frame = pd.DataFrame()\n",
    "            filt_frame['color'] = cast_color_filter(c)(frame)\n",
    "            filt_frame['rarity'] = rarity_filter(r)(frame)\n",
    "            working = frame[filt_frame.T.all()].copy(True)\n",
    "            working = working.drop(['Image', 'CMC', 'Rarity', 'Color', 'Cast Color', 'max', 'min', 'range', 'dist'], axis=1)\n",
    "            working = working.dropna(how='all', axis=1)\n",
    "            color_frame[c] = working.mean().round(1)\n",
    "            \n",
    "        avgs[r] = color_frame.T\n",
    "    \n",
    "    ret = pd.concat(avgs)\n",
    "    names = list(ret.columns)[:-1]\n",
    "    \n",
    "    ret['max'] = ret.max(axis=1)\n",
    "    ret['min'] = ret.min(axis=1)\n",
    "    ret['range'] = ret['max'] - ret['min']\n",
    "    \n",
    "    # Get the difference of squares distance to figure out most 'controversial' cards.\n",
    "    dist = pd.DataFrame()\n",
    "    for name in names:\n",
    "        dist[name] = abs(ret['mean'] - ret[name])\n",
    "    dist['dist'] = dist.mean(axis=1)\n",
    "    ret['dist'] = dist['dist'].round(2)\n",
    "\n",
    "    return ret"
   ]
  },
  {
   "cell_type": "code",
   "execution_count": null,
   "id": "bc8bcb29",
   "metadata": {},
   "outputs": [],
   "source": [
    "def split_by_rarity(frame, ordering='mean'):\n",
    "    rarities = \"MRUC\"\n",
    "    by_rarities = [display_frame(frame, order=ordering, filters=[rarity_filter(r)]).data for r in rarities]\n",
    "    return style_frame(pd.concat(by_rarities))"
   ]
  },
  {
   "cell_type": "code",
   "execution_count": null,
   "id": "5cd23f76",
   "metadata": {},
   "outputs": [],
   "source": [
    "raise Exception(\"Stopping Auto-Execute\")"
   ]
  },
  {
   "cell_type": "markdown",
   "id": "daf35706",
   "metadata": {},
   "source": [
    "### Data Analysis"
   ]
  },
  {
   "cell_type": "markdown",
   "id": "a60223f9",
   "metadata": {},
   "source": [
    "After loading all of the data, we crunch it to figure out the average grade that each contributer has given to cards. While not totally necessary, this helps anchor evaluations between contrinutors, as one person's C may be another person's C+. "
   ]
  },
  {
   "cell_type": "code",
   "execution_count": null,
   "id": "d201dce5",
   "metadata": {},
   "outputs": [],
   "source": [
    "dmu_pairs = [\n",
    "    (\"https://www.17lands.com/tier_list/03ab10d25d8841f8aef0aa90b30c434b\", \"Zac\"),\n",
    "    (\"https://www.17lands.com/tier_list/e12ee0b1fadc4ab7b8de4c3730878a90\", \"Chord\"),\n",
    "    (\"https://www.17lands.com/tier_list/3078f70b9a0d415ebf9f555439f5aedb\", \"Klarm\"),\n",
    "    (\"https://www.17lands.com/tier_list/a1ae9a695abb4921866f7f4a9a22e21f\", \"Phyrre\"),\n",
    "    (\"https://www.17lands.com/tier_list/19ee3198a63b499bb7c25e6ceaae00ba\", \"Nomad\"),\n",
    "    (\"https://www.17lands.com/tier_list/f1b015031fd741268c5228d4d8435938\", \"Catharsis\"),\n",
    "    (\"https://www.17lands.com/tier_list/e854e4a17f5147ad9908c5f6e5d2e87c\", \"Rewind\"),\n",
    "    (\"https://www.17lands.com/tier_list/1d343c3e1f0d4cfd8c356cdaa42bb329\", \"Davis\"),\n",
    "]\n",
    "\n",
    "bro_pairs = [\n",
    "    #(\"https://www.17lands.com/tier_list/bc43f79ac9d34b11bc43d904a97b8795\", \"Zac\"),\n",
    "    (\"https://www.17lands.com/tier_list/b8d4ba9d1bad49828bfa6371f6b4f09b\", \"Chord\"),\n",
    "    (\"https://www.17lands.com/tier_list/61fdaf8a13164ec0a87c954f0ef959e5\", \"Ncaa\"),\n",
    "]\n",
    "\n",
    "\n",
    "one_pairs = [\n",
    "    (\"https://www.17lands.com/tier_list/45a3a3a84d9f46178d6750ff96d85f8c\", \"Zac\"),\n",
    "    (\"https://www.17lands.com/tier_list/1f286922c200438493eca0c7c2cd52de\", \"Klarm\"),\n",
    "    (\"https://www.17lands.com/tier_list/37da6967cc464c59aabb789061cf54bd\", \"CardboardNomad\"),\n",
    "    (\"https://www.17lands.com/tier_list/6a4b4990e9324d018509bbdf8611c84c\", \"Glassblowings\"),\n",
    "    (\"https://www.17lands.com/tier_list/8df037923b984400897eacb998646a2d\", \"Arcyl\"),\n",
    "    (\"https://www.17lands.com/tier_list/40c76666327a4d969bc139d32beb48ea\", \"CryoGyro\"),\n",
    "    (\"https://www.17lands.com/tier_list/5bd47cffc044433dba04bf705d60739d\", \"Prosperity\"),\n",
    "    (\"https://www.17lands.com/tier_list/b9ac0f6bbd86442e98f861d29d52d689\", \"Ncaa\"),\n",
    "    (\"https://www.17lands.com/tier_list/48367d8421e24aa0adaa1b9ee23884e8\", \"ztm\"),\n",
    "]\n",
    "\n",
    "pairs = one_pairs\n",
    "indiv_frames = [frame_from_url(*pair) for pair in pairs]"
   ]
  },
  {
   "cell_type": "code",
   "execution_count": null,
   "id": "1907a18b",
   "metadata": {},
   "outputs": [],
   "source": [
    "frame = merge_rankings(indiv_frames, card_dict)\n",
    "frame"
   ]
  },
  {
   "cell_type": "code",
   "execution_count": null,
   "id": "368d9c7e",
   "metadata": {
    "scrolled": true
   },
   "outputs": [],
   "source": [
    "# base_frame.to_csv(\"C:\\\\Users\\\\Zachary\\\\Downloads\\\\TierlistSummary.csv\", encoding='utf-8')\n",
    "frame.mean()"
   ]
  },
  {
   "cell_type": "markdown",
   "id": "e8909e24",
   "metadata": {},
   "source": [
    "### 'Controversial' Cards"
   ]
  },
  {
   "cell_type": "markdown",
   "id": "1b72feeb",
   "metadata": {},
   "source": [
    "Here, we separate the cards by rarity, and order them by the sum of the difference between each rating and the mean. This is saved in the `dist` column, and the higher the `dist` the lesss people agree on the rating of a card. If the `dist` is zero, everyone has given the card the same grade. The value of dist can either mean that some people disagree and most agree, or everyone disagrees to varying degrees.\n",
    "\n",
    "To me, anyting with a dist less than or equal to 0.6 is pretty agreed upon, and anything higher than 1.0 is fairly contentious."
   ]
  },
  {
   "cell_type": "code",
   "execution_count": null,
   "id": "8776707f",
   "metadata": {
    "scrolled": true
   },
   "outputs": [],
   "source": [
    "split_by_rarity(frame, 'dist')"
   ]
  },
  {
   "cell_type": "markdown",
   "id": "80cdd091",
   "metadata": {},
   "source": [
    "### Top Cards"
   ]
  },
  {
   "cell_type": "markdown",
   "id": "5f297df0",
   "metadata": {},
   "source": [
    "This is the short-list of top commons and uncommons, ordered by colour, based on average rating of contributors."
   ]
  },
  {
   "cell_type": "code",
   "execution_count": null,
   "id": "08733b8c",
   "metadata": {
    "scrolled": true
   },
   "outputs": [],
   "source": [
    "ordering = 'mean'\n",
    "top = list()\n",
    "\n",
    "for c in 'WUBRG':\n",
    "    top.append(display_frame(frame, order=ordering, filters=[rarity_filter('U'), cast_color_filter(c)]).data.head(3))\n",
    "    top.append(display_frame(frame, order=ordering, filters=[rarity_filter('C'), cast_color_filter(c)]).data.head(5))\n",
    "\n",
    "display = pd.concat(top)\n",
    "style_frame(display)"
   ]
  },
  {
   "cell_type": "markdown",
   "id": "e34d5c25",
   "metadata": {},
   "source": [
    "This is the entire list of cards, ordered by rarity, then by average rating amongst contributers."
   ]
  },
  {
   "cell_type": "code",
   "execution_count": null,
   "id": "2505d899",
   "metadata": {
    "scrolled": true
   },
   "outputs": [],
   "source": [
    "split_by_rarity(frame, 'mean')"
   ]
  },
  {
   "cell_type": "markdown",
   "id": "fc13a19f",
   "metadata": {},
   "source": [
    "### Color Ratings"
   ]
  },
  {
   "cell_type": "markdown",
   "id": "d7ee2e2d",
   "metadata": {},
   "source": [
    "This is a little rougher, and more difficult to parse, but this is the avreage grade for each contirbutor given to cards of 'x' colour and 'y' rarity. it should serve as a rough estimation of how strong each person thinks a given colour is, though doesn't necessarily translate well to colour combinations."
   ]
  },
  {
   "cell_type": "code",
   "execution_count": null,
   "id": "68e77bb2",
   "metadata": {
    "scrolled": false
   },
   "outputs": [],
   "source": [
    "get_avgs(frame)"
   ]
  },
  {
   "cell_type": "markdown",
   "id": "f369406a",
   "metadata": {},
   "source": [
    "### Gut-Check"
   ]
  },
  {
   "cell_type": "markdown",
   "id": "8f498067",
   "metadata": {},
   "source": [
    "The two selections below are mainly for my benefit (though I can send any contributor a personalized copy if they ask!), to check my opions of cards against what everyone else thinks. Any card I have graded more than a grade higher or lower than average is shown here, to give a more concrete idea of where _I_ disagree, than where _people_ disagree."
   ]
  },
  {
   "cell_type": "code",
   "execution_count": null,
   "id": "5e84b1a7",
   "metadata": {
    "scrolled": false
   },
   "outputs": [],
   "source": [
    "play_frame = frame.copy(True)\n",
    "play_frame['diff'] = frame['Zac'] - frame['mean']\n",
    "style_frame(play_frame[play_frame['diff'] > 1].sort_values('diff', ascending=False))"
   ]
  },
  {
   "cell_type": "code",
   "execution_count": null,
   "id": "9a164486",
   "metadata": {
    "scrolled": false
   },
   "outputs": [],
   "source": [
    "play_frame = frame.copy(True)\n",
    "play_frame['diff'] = frame['Zac'] - frame['mean']\n",
    "style_frame(play_frame[play_frame['diff'] < -1].sort_values('diff', ascending=True))"
   ]
  },
  {
   "cell_type": "markdown",
   "id": "39e1bbd6",
   "metadata": {},
   "source": [
    "## BRO Specific Code"
   ]
  },
  {
   "cell_type": "code",
   "execution_count": null,
   "id": "503c6a1f",
   "metadata": {},
   "outputs": [],
   "source": []
  },
  {
   "cell_type": "markdown",
   "id": "1000fc52",
   "metadata": {},
   "source": [
    "## DMU Specific Code"
   ]
  },
  {
   "cell_type": "markdown",
   "id": "88e6676c",
   "metadata": {},
   "source": [
    "These are the rankings of all the non-basic lands.\n",
    "In short:\n",
    "- Gx taplands are highest rated\n",
    "- UR tapland is slightly ahead of other non-GX tap lands\n",
    "- Taplands are ahead of painlands"
   ]
  },
  {
   "cell_type": "code",
   "execution_count": null,
   "id": "db970402",
   "metadata": {},
   "outputs": [],
   "source": [
    "lands = [\n",
    "     'Adarkar Wastes',\n",
    "     'Caves of Koilos',\n",
    "     'Shivan Reef',\n",
    "     'Yavimaya Coast',\n",
    "     'Sulfurous Springs',\n",
    "     'Karplusan Forest',\n",
    "     'Plaza of Heroes',\n",
    "     'Thran Portal',\n",
    "     'Crystal Grotto',\n",
    "     'Idyllic Beachfront',\n",
    "     'Sunlit Marsh',\n",
    "     'Sacred Peaks',\n",
    "     'Radiant Grove',\n",
    "     'Contaminated Aquifer',\n",
    "     'Molten Tributary',\n",
    "     'Tangled Islet',\n",
    "     'Geothermal Bog',\n",
    "     'Haunted Mire',\n",
    "     'Wooded Ridgeline',\n",
    "]\n",
    "style_frame(frame.loc[lands])"
   ]
  },
  {
   "cell_type": "markdown",
   "id": "bdaf2367",
   "metadata": {},
   "source": [
    "## ONE Specific Code"
   ]
  },
  {
   "cell_type": "code",
   "execution_count": null,
   "id": "76d147cf",
   "metadata": {},
   "outputs": [],
   "source": [
    "cards = [\n",
    "    '',\n",
    "]\n",
    "style_frame(frame.loc[lands])"
   ]
  },
  {
   "cell_type": "markdown",
   "id": "8dc4ee8e",
   "metadata": {},
   "source": [
    "### Specific Checks"
   ]
  },
  {
   "cell_type": "markdown",
   "id": "94800a77",
   "metadata": {},
   "source": [
    "These are a list of specific cards I wanted to compare, because they either seem interesting, are cards that feel similar-but-different. Feel free to ask me to add certain cards to this list if you're curious"
   ]
  },
  {
   "cell_type": "code",
   "execution_count": null,
   "id": "8002e5d5",
   "metadata": {},
   "outputs": [],
   "source": [
    "frame.loc[['Phyrexian Obliterator']]"
   ]
  },
  {
   "cell_type": "code",
   "execution_count": null,
   "id": "0c89b582",
   "metadata": {},
   "outputs": [],
   "source": []
  }
 ],
 "metadata": {
  "kernelspec": {
   "display_name": "Python 3 (ipykernel)",
   "language": "python",
   "name": "python3"
  },
  "language_info": {
   "codemirror_mode": {
    "name": "ipython",
    "version": 3
   },
   "file_extension": ".py",
   "mimetype": "text/x-python",
   "name": "python",
   "nbconvert_exporter": "python",
   "pygments_lexer": "ipython3",
   "version": "3.9.7"
  }
 },
 "nbformat": 4,
 "nbformat_minor": 5
}
