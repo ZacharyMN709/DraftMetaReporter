{
 "cells": [
  {
   "cell_type": "markdown",
   "id": "7ef6dfba",
   "metadata": {},
   "source": [
    "# Initialization"
   ]
  },
  {
   "cell_type": "code",
   "execution_count": null,
   "id": "57a84e9a",
   "metadata": {},
   "outputs": [],
   "source": [
    "import sys\n",
    "sys.path.append('..')\n",
    "from core.utilities.notebook_setups.frame_tools import *\n",
    "SET = 'MOM'\n",
    "LOAD_FROM_DISK = True\n",
    "data_manager, set_data = set_up(log_lvl=LogLvl.SPARSE, target_set=SET)"
   ]
  },
  {
   "cell_type": "code",
   "execution_count": null,
   "id": "71754a5d",
   "metadata": {},
   "outputs": [],
   "source": [
    "pairs = {\n",
    "    'MOM': [],\n",
    "    \n",
    "    'ONE': [\n",
    "        (\"https://www.17lands.com/tier_list/45a3a3a84d9f46178d6750ff96d85f8c\", \"Zac\"),\n",
    "        (\"https://www.17lands.com/tier_list/1f286922c200438493eca0c7c2cd52de\", \"Klarm\"),\n",
    "        (\"https://www.17lands.com/tier_list/37da6967cc464c59aabb789061cf54bd\", \"CardboardNomad\"),\n",
    "        (\"https://www.17lands.com/tier_list/6a4b4990e9324d018509bbdf8611c84c\", \"Glassblowings\"),\n",
    "        (\"https://www.17lands.com/tier_list/8df037923b984400897eacb998646a2d\", \"Arcyl\"),\n",
    "        (\"https://www.17lands.com/tier_list/40c76666327a4d969bc139d32beb48ea\", \"CryoGyro\"),\n",
    "        #(\"https://www.17lands.com/tier_list/5bd47cffc044433dba04bf705d60739d\", \"Prosperity\"),\n",
    "        (\"https://www.17lands.com/tier_list/b9ac0f6bbd86442e98f861d29d52d689\", \"Ncaa\"),\n",
    "        (\"https://www.17lands.com/tier_list/48367d8421e24aa0adaa1b9ee23884e8\", \"ztm\"),\n",
    "    ],\n",
    "    \n",
    "    'BRO': [\n",
    "        #(\"https://www.17lands.com/tier_list/bc43f79ac9d34b11bc43d904a97b8795\", \"Zac\"),\n",
    "        (\"https://www.17lands.com/tier_list/b8d4ba9d1bad49828bfa6371f6b4f09b\", \"Chord\"),\n",
    "        (\"https://www.17lands.com/tier_list/61fdaf8a13164ec0a87c954f0ef959e5\", \"Ncaa\"),\n",
    "    ],\n",
    "    \n",
    "    'DMU': [\n",
    "        (\"https://www.17lands.com/tier_list/03ab10d25d8841f8aef0aa90b30c434b\", \"Zac\"),\n",
    "        (\"https://www.17lands.com/tier_list/e12ee0b1fadc4ab7b8de4c3730878a90\", \"Chord\"),\n",
    "        (\"https://www.17lands.com/tier_list/3078f70b9a0d415ebf9f555439f5aedb\", \"Klarm\"),\n",
    "        (\"https://www.17lands.com/tier_list/a1ae9a695abb4921866f7f4a9a22e21f\", \"Phyrre\"),\n",
    "        (\"https://www.17lands.com/tier_list/19ee3198a63b499bb7c25e6ceaae00ba\", \"Nomad\"),\n",
    "        (\"https://www.17lands.com/tier_list/f1b015031fd741268c5228d4d8435938\", \"Catharsis\"),\n",
    "        (\"https://www.17lands.com/tier_list/e854e4a17f5147ad9908c5f6e5d2e87c\", \"Rewind\"),\n",
    "        (\"https://www.17lands.com/tier_list/1d343c3e1f0d4cfd8c356cdaa42bb329\", \"Davis\"),\n",
    "    ],\n",
    "}\n",
    "\n",
    "save_dates = {\n",
    "    'MOM': \"\",\n",
    "    'ONE': \"230204\",\n",
    "    'BRO': \"\",\n",
    "    'DMU': \"\",\n",
    "}"
   ]
  },
  {
   "cell_type": "code",
   "execution_count": null,
   "id": "34e222b6",
   "metadata": {},
   "outputs": [],
   "source": [
    "agg = TierAggregator(SET)\n",
    "\n",
    "if LOAD_FROM_DISK:\n",
    "    date_str = save_dates[SET]\n",
    "    tiers = [TierList.load(f\"{SET}-{info[1]}-{date_str}.tier\") for info in tier_info[SET]]\n",
    "else:\n",
    "    tiers = [TierList(l, u, SET) for l, u in tier_info[SET]]\n",
    "    for tier in tiers:\n",
    "        tier.save()\n",
    "\n",
    "for tier in tiers:\n",
    "    agg.add_tier(tier)"
   ]
  },
  {
   "cell_type": "code",
   "execution_count": null,
   "id": "c588bf19",
   "metadata": {},
   "outputs": [],
   "source": [
    "raise Exception(\"Stopping Auto-Execute\")"
   ]
  },
  {
   "cell_type": "markdown",
   "id": "d01c86ad",
   "metadata": {},
   "source": [
    "## Tier List Analysis"
   ]
  },
  {
   "cell_type": "markdown",
   "id": "daf35706",
   "metadata": {},
   "source": [
    "### Data Analysis"
   ]
  },
  {
   "cell_type": "markdown",
   "id": "a60223f9",
   "metadata": {},
   "source": [
    "After loading all of the data, we crunch it to figure out the average grade that each contributer has given to cards. While not totally necessary, this helps anchor evaluations between contrinutors, as one person's C may be another person's C+. "
   ]
  },
  {
   "cell_type": "code",
   "execution_count": null,
   "id": "368d9c7e",
   "metadata": {
    "scrolled": true
   },
   "outputs": [],
   "source": [
    "# base_frame.to_csv(\"C:\\\\Users\\\\Zachary\\\\Downloads\\\\TierlistSummary.csv\", encoding='utf-8')\n",
    "agg.tier_frame.mean()"
   ]
  },
  {
   "cell_type": "markdown",
   "id": "e8909e24",
   "metadata": {},
   "source": [
    "### 'Controversial' Cards"
   ]
  },
  {
   "cell_type": "markdown",
   "id": "1b72feeb",
   "metadata": {},
   "source": [
    "Here, we separate the cards by rarity, and order them by the sum of the difference between each rating and the mean. This is saved in the `dist` column, and the higher the `dist` the lesss people agree on the rating of a card. If the `dist` is zero, everyone has given the card the same grade. The value of dist can either mean that some people disagree and most agree, or everyone disagrees to varying degrees.\n",
    "\n",
    "To me, anyting with a dist less than or equal to 0.6 is pretty agreed upon, and anything higher than 1.0 is fairly contentious."
   ]
  },
  {
   "cell_type": "code",
   "execution_count": null,
   "id": "8776707f",
   "metadata": {
    "scrolled": true
   },
   "outputs": [],
   "source": [
    "agg.suborder_by_rarity('dist', style=True)"
   ]
  },
  {
   "cell_type": "markdown",
   "id": "80cdd091",
   "metadata": {},
   "source": [
    "### Top Cards"
   ]
  },
  {
   "cell_type": "markdown",
   "id": "5f297df0",
   "metadata": {},
   "source": [
    "This is the short-list of top commons and uncommons, ordered by colour, based on average rating of contributors."
   ]
  },
  {
   "cell_type": "code",
   "execution_count": null,
   "id": "08733b8c",
   "metadata": {
    "scrolled": true
   },
   "outputs": [],
   "source": [
    "agg.top_picks('mean', style=True)"
   ]
  },
  {
   "cell_type": "markdown",
   "id": "e34d5c25",
   "metadata": {},
   "source": [
    "This is the entire list of cards, ordered by rarity, then by average rating amongst contributers."
   ]
  },
  {
   "cell_type": "code",
   "execution_count": null,
   "id": "2505d899",
   "metadata": {
    "scrolled": true
   },
   "outputs": [],
   "source": [
    "agg.suborder_by_rarity('mean', style=True)"
   ]
  },
  {
   "cell_type": "markdown",
   "id": "fc13a19f",
   "metadata": {},
   "source": [
    "### Color Ratings"
   ]
  },
  {
   "cell_type": "markdown",
   "id": "d7ee2e2d",
   "metadata": {},
   "source": [
    "This is a little rougher, and more difficult to parse, but this is the avreage grade for each contirbutor given to cards of 'x' colour and 'y' rarity. it should serve as a rough estimation of how strong each person thinks a given colour is, though doesn't necessarily translate well to colour combinations."
   ]
  },
  {
   "cell_type": "code",
   "execution_count": null,
   "id": "2f79ca52",
   "metadata": {},
   "outputs": [],
   "source": [
    "agg.avg_frame"
   ]
  },
  {
   "cell_type": "markdown",
   "id": "f369406a",
   "metadata": {},
   "source": [
    "### Gut-Check"
   ]
  },
  {
   "cell_type": "markdown",
   "id": "8f498067",
   "metadata": {},
   "source": [
    "The two selections below are mainly for my benefit (though I can send any contributor a personalized copy if they ask!), to check my opions of cards against what everyone else thinks. Any card I have graded more than a grade higher or lower than average is shown here, to give a more concrete idea of where _I_ disagree, than where _people_ disagree."
   ]
  },
  {
   "cell_type": "code",
   "execution_count": null,
   "id": "fc468d20",
   "metadata": {},
   "outputs": [],
   "source": [
    "agg.comparer.user = 'Zac'\n",
    "agg.comparer.compare_target = 'Chord'\n",
    "diff = 2\n",
    "thresh = 6\n",
    "over, under = agg.comparer.get_default_comparisons(diff, thresh)"
   ]
  },
  {
   "cell_type": "code",
   "execution_count": null,
   "id": "5e84b1a7",
   "metadata": {
    "scrolled": false
   },
   "outputs": [],
   "source": [
    "agg.style_frame(over)"
   ]
  },
  {
   "cell_type": "code",
   "execution_count": null,
   "id": "9a164486",
   "metadata": {
    "scrolled": false
   },
   "outputs": [],
   "source": [
    "agg.style_frame(under)"
   ]
  },
  {
   "cell_type": "markdown",
   "id": "39e1bbd6",
   "metadata": {},
   "source": [
    "## BRO Specific Code"
   ]
  },
  {
   "cell_type": "code",
   "execution_count": null,
   "id": "503c6a1f",
   "metadata": {},
   "outputs": [],
   "source": []
  },
  {
   "cell_type": "markdown",
   "id": "1000fc52",
   "metadata": {},
   "source": [
    "## DMU Specific Code"
   ]
  },
  {
   "cell_type": "markdown",
   "id": "88e6676c",
   "metadata": {},
   "source": [
    "These are the rankings of all the non-basic lands.\n",
    "In short:\n",
    "- Gx taplands are highest rated\n",
    "- UR tapland is slightly ahead of other non-GX tap lands\n",
    "- Taplands are ahead of painlands"
   ]
  },
  {
   "cell_type": "code",
   "execution_count": null,
   "id": "db970402",
   "metadata": {},
   "outputs": [],
   "source": [
    "lands = [\n",
    "     'Adarkar Wastes',\n",
    "     'Caves of Koilos',\n",
    "     'Shivan Reef',\n",
    "     'Yavimaya Coast',\n",
    "     'Sulfurous Springs',\n",
    "     'Karplusan Forest',\n",
    "     'Plaza of Heroes',\n",
    "     'Thran Portal',\n",
    "     'Crystal Grotto',\n",
    "     'Idyllic Beachfront',\n",
    "     'Sunlit Marsh',\n",
    "     'Sacred Peaks',\n",
    "     'Radiant Grove',\n",
    "     'Contaminated Aquifer',\n",
    "     'Molten Tributary',\n",
    "     'Tangled Islet',\n",
    "     'Geothermal Bog',\n",
    "     'Haunted Mire',\n",
    "     'Wooded Ridgeline',\n",
    "]\n",
    "style_frame(frame.loc[lands])"
   ]
  },
  {
   "cell_type": "markdown",
   "id": "bdaf2367",
   "metadata": {},
   "source": [
    "## ONE Specific Code"
   ]
  },
  {
   "cell_type": "code",
   "execution_count": null,
   "id": "76d147cf",
   "metadata": {},
   "outputs": [],
   "source": [
    "cards = [\n",
    "    '',\n",
    "]\n",
    "style_frame(frame.loc[lands])"
   ]
  },
  {
   "cell_type": "markdown",
   "id": "8dc4ee8e",
   "metadata": {},
   "source": [
    "### Specific Checks"
   ]
  },
  {
   "cell_type": "markdown",
   "id": "94800a77",
   "metadata": {},
   "source": [
    "These are a list of specific cards I wanted to compare, because they either seem interesting, are cards that feel similar-but-different. Feel free to ask me to add certain cards to this list if you're curious"
   ]
  },
  {
   "cell_type": "code",
   "execution_count": null,
   "id": "8002e5d5",
   "metadata": {},
   "outputs": [],
   "source": [
    "frame.loc[['Phyrexian Obliterator']]"
   ]
  },
  {
   "cell_type": "markdown",
   "id": "f51ad5fe",
   "metadata": {},
   "source": [
    "# Manual Tier Extraction"
   ]
  },
  {
   "cell_type": "code",
   "execution_count": null,
   "id": "856cf100",
   "metadata": {},
   "outputs": [],
   "source": [
    "SET = 'MOM'\n",
    "DATA_ROOT =  f'C:\\\\Users\\\\Zachary\\\\Coding\\\\GitHub\\\\17LandsData\\\\{SET}\\\\Tiers\\\\'\n",
    "pd.set_option('display.max_rows', 400)\n",
    "CardManager.load_cache_from_file()\n",
    "# TODO: Load card cache to not qury scryfall for every card."
   ]
  },
  {
   "cell_type": "code",
   "execution_count": null,
   "id": "8b4680ad",
   "metadata": {},
   "outputs": [],
   "source": [
    "def gen_tier_json(frame, username):\n",
    "    subframe = frame[['Card Name', username]].copy()\n",
    "    subframe.columns = ['name', 'tier']\n",
    "    subframe['tier'] = subframe['tier'].str.replace('SYN', '')\n",
    "    subframe['tier'] = subframe['tier'].str.replace('BA', '')\n",
    "    subframe['tier'] = subframe['tier'].str.strip()\n",
    "    \n",
    "    ret = subframe.to_dict('records')\n",
    "    for d in ret:\n",
    "        d['sideboard'] = None\n",
    "        d['synergy'] = None\n",
    "        d['buildaround'] = None\n",
    "        d['comment'] = None\n",
    "    \n",
    "    return ret"
   ]
  },
  {
   "cell_type": "code",
   "execution_count": null,
   "id": "94d7ffa2",
   "metadata": {},
   "outputs": [],
   "source": [
    "def gen_tier_list(frame, username):\n",
    "    data = gen_tier_json(frame, username)\n",
    "    tier = TierList(data, username, SET)\n",
    "    tier.save()\n",
    "    return tier"
   ]
  },
  {
   "cell_type": "code",
   "execution_count": null,
   "id": "0c89b582",
   "metadata": {},
   "outputs": [],
   "source": [
    "def patch_chord_excel(frame):\n",
    "    # Patch\n",
    "    # Fixing card names scryfall cannot parse.\n",
    "    misnamed = {\n",
    "        'Invastion of Xerex': \"Invasion of Xerex\",\n",
    "        'Invastion of Amonkhet': \"Invasion of Amonkhet\",\n",
    "        'Invasion of Ragatha': \"Invasion of Regatha\",\n",
    "        'Ariel Boost': \"Aerial Boost\",\n",
    "        'Sun-Blessed Gaurdian': \"Sun-Blessed Guardian\",\n",
    "        'Etali, Primal Conquerer': \"Etali, Primal Conqueror\",\n",
    "        'Radah, Colition Warlord': \"Radha, Coalition Warlord\",\n",
    "        'Seizan the Pervert': \"Seizan, Perverter of Truths\",\n",
    "        \"Horobi, Death's Whisper\": \"Horobi, Death's Wail\",\n",
    "        \"Tetsuko Umezawa\": \"Tetsuko Umezawa, Fugitive\"\n",
    "    }\n",
    "    frame = frame.replace({\"Card Name\": misnamed})\n",
    "    \n",
    "\n",
    "    # Patch\n",
    "    # Converting tap land cycle grade into per-card grade.\n",
    "    # 38 \tTap Land Cycle \tC+ \tC+\n",
    "    frame = frame.drop([38], axis=0)\n",
    "    extra = {\n",
    "        \"Card Name\": \n",
    "        ['Bloodfell Caves',\n",
    "         'Blossoming Sands',\n",
    "         'Dismal Backwater',\n",
    "         'Jungle Hollow',\n",
    "         'Rugged Highlands',\n",
    "         'Scoured Barrens',\n",
    "         'Swiftwater Cliffs',\n",
    "         'Thornwood Falls',\n",
    "         'Tranquil Cove',\n",
    "         'Wind-Scarred Crag'],\n",
    "        \"Marc\": [\"C+\"] * 10,\n",
    "        \"Alex\": [\"C+\"] * 10,\n",
    "    }\n",
    "    xtra = pd.DataFrame(extra)\n",
    "    frame = pd.concat([frame, xtra])\n",
    "    \n",
    "    # Patch\n",
    "    # Adding missing cards.\n",
    "    missing = {\n",
    "        \"Card Name\": [\n",
    "            \"Keruga, the Macrosage\",\n",
    "            \"Ezuri, Claw of Progress\",\n",
    "            \"Captain Lannery Storm\",\n",
    "        ],\n",
    "        \"Marc\": [\n",
    "            \"SB\",\n",
    "            \"SB\",\n",
    "            \"SB\",\n",
    "        ],\n",
    "        \"Alex\": [\n",
    "            \"SB\",\n",
    "            \"SB\",\n",
    "            \"SB\",\n",
    "        ],\n",
    "    }\n",
    "    xtra = pd.DataFrame(missing)\n",
    "    frame = pd.concat([frame, xtra])\n",
    "    \n",
    "    {card_name: CardManager.from_name(card_name) for card_name in frame[\"Card Name\"]}\n",
    "    \n",
    "    \n",
    "    return frame\n",
    "\n",
    "def parse_chord_excel(file_name, patch_func=None):\n",
    "    frame = pd.read_excel(DATA_ROOT + file_name)\n",
    "    frame = frame.dropna(axis=0, how='all')\n",
    "    frame = frame.drop([\"COLOR\", \"RARITY\"], axis=1)\n",
    "    frame.columns = ['Card Name', 'Marc', 'Alex']\n",
    "    frame = frame[['Card Name', 'Alex', 'Marc']]\n",
    "    if patch_func is not None:\n",
    "        frame = patch_func(frame)\n",
    "    return frame\n",
    "\n",
    "# https://docs.google.com/spreadsheets/d/1KDTva5x_PmzAXPXtas4yrxZgU6TblUqAMuZfZBdnrus/edit#gid=0\n",
    "# https://docs.google.com/spreadsheets/d/1KDTva5x_PmzAXPXtas4yrxZgU6TblUqAMuZfZBdnrus/export?format=xlsx\n",
    "frame = parse_chord_excel('MOM Gradings.xlsx', patch_chord_excel)\n",
    "frame"
   ]
  },
  {
   "cell_type": "code",
   "execution_count": null,
   "id": "3b8f41d4",
   "metadata": {},
   "outputs": [],
   "source": [
    "gen_tier_list(frame, 'Alex')"
   ]
  },
  {
   "cell_type": "code",
   "execution_count": null,
   "id": "839edabc",
   "metadata": {},
   "outputs": [],
   "source": [
    "gen_tier_list(frame, 'Marc')"
   ]
  },
  {
   "cell_type": "code",
   "execution_count": null,
   "id": "f1a70a87",
   "metadata": {},
   "outputs": [],
   "source": [
    "def parse_JNS_excel(file_name, patch_func=None, sheet=2):\n",
    "    frame = pd.read_excel(DATA_ROOT + file_name, sheet_name=sheet)\n",
    "    frame_len = len(frame)\n",
    "    frame = frame.drop([i for i in range(16)] + [i for i in range(frame_len - 7, frame_len)])\n",
    "    frame = frame.drop([f\"Unnamed: {j}\" for j in [i for i in range(4)] + [i for i in range(8, 25)]], axis=1)\n",
    "    frame.columns = ['JustLolaman', 'NCAA', 'Scottynada', 'Card Name']\n",
    "    frame = frame[['Card Name', 'JustLolaman', 'NCAA', 'Scottynada']]\n",
    "    if patch_func is not None:\n",
    "        frame = patch_func(frame)\n",
    "    return frame\n",
    "\n",
    "# https://docs.google.com/spreadsheets/d/e/2PACX-1vRqXupAvkoNISTbFQ8s7F26qVL8EMAE4twRc4Y2VsKq7pU-Yv6RJPKSwOBYwfw0M3_2M1il4xcLVE2o/pubhtml\n",
    "# https://docs.google.com/spreadsheets/d/e/2PACX-1vRqXupAvkoNISTbFQ8s7F26qVL8EMAE4twRc4Y2VsKq7pU-Yv6RJPKSwOBYwfw0M3_2M1il4xcLVE2o/pub?output=xlsx\n",
    "frame = parse_JNS_excel('MOM Draft Tier List - Infinite Mythic Edition.xlsx')\n",
    "frame"
   ]
  },
  {
   "cell_type": "code",
   "execution_count": null,
   "id": "391623ef",
   "metadata": {
    "scrolled": true
   },
   "outputs": [],
   "source": [
    "gen_tier_list(frame, 'NCAA')"
   ]
  },
  {
   "cell_type": "code",
   "execution_count": null,
   "id": "164f480c",
   "metadata": {},
   "outputs": [],
   "source": [
    "gen_tier_list(frame, 'JustLolaman')"
   ]
  },
  {
   "cell_type": "code",
   "execution_count": null,
   "id": "814191ef",
   "metadata": {},
   "outputs": [],
   "source": [
    "gen_tier_list(frame, 'Scottynada')"
   ]
  },
  {
   "cell_type": "code",
   "execution_count": null,
   "id": "f75d0076",
   "metadata": {},
   "outputs": [],
   "source": []
  }
 ],
 "metadata": {
  "kernelspec": {
   "display_name": "Python 3 (ipykernel)",
   "language": "python",
   "name": "python3"
  },
  "language_info": {
   "codemirror_mode": {
    "name": "ipython",
    "version": 3
   },
   "file_extension": ".py",
   "mimetype": "text/x-python",
   "name": "python",
   "nbconvert_exporter": "python",
   "pygments_lexer": "ipython3",
   "version": "3.10.0"
  }
 },
 "nbformat": 4,
 "nbformat_minor": 5
}
