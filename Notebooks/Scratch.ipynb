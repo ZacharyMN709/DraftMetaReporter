{
 "cells": [
  {
   "cell_type": "code",
   "execution_count": null,
   "id": "06b7bf78",
   "metadata": {},
   "outputs": [],
   "source": [
    "import sys\n",
    "sys.path.append('..')\n",
    "from core.utilities.notebook_setups.notebook_display import *\n",
    "set_up(log_lvl=LogLvl.DEBUG)"
   ]
  },
  {
   "cell_type": "markdown",
   "id": "69cadfaa",
   "metadata": {},
   "source": [
    "# Objects"
   ]
  },
  {
   "cell_type": "code",
   "execution_count": null,
   "id": "70a585bc",
   "metadata": {},
   "outputs": [],
   "source": [
    "import sys\n",
    "try:\n",
    "    del sys.modules[\"data_graphing\"] \n",
    "    del data_graphing\n",
    "except:\n",
    "    pass\n",
    "\n",
    "from data_graphing import ColorHandler, PlotterHelper, prettify_frame"
   ]
  },
  {
   "cell_type": "code",
   "execution_count": null,
   "id": "068085b9",
   "metadata": {},
   "outputs": [],
   "source": [
    "class FramedDataFuncs:   \n",
    "    def __init__(self, DATA):\n",
    "        self._DATA = DATA\n",
    "        self._PLOTTER = PlotterHelper(DATA)\n",
    "        self._ARCH_FUNCS = ArchFuncs(self._DATA)\n",
    "        self._SNGL_CARD_FUNCS = SingleCardFuncs(self._DATA)\n",
    "    \n",
    "    @property\n",
    "    def SET(self):\n",
    "        \"\"\"The draft set.\"\"\"\n",
    "        return self._DATA.SET\n",
    "    \n",
    "    @property\n",
    "    def FULL_SET(self):\n",
    "        \"\"\"The full name of the draft set.\"\"\"\n",
    "        return self._DATA.FULL_SET\n",
    "    \n",
    "    @property\n",
    "    def FORMAT(self):\n",
    "        \"\"\"The format type.\"\"\"\n",
    "        return self._DATA.FORMAT\n",
    "    \n",
    "    @property\n",
    "    def SHORT_FORMAT(self):\n",
    "        \"\"\"The shorthand of the format type.\"\"\"\n",
    "        return self._DATA.FULL_FORMAT\n",
    "    \n",
    "    @property\n",
    "    def DATA(self):\n",
    "        \"\"\"The object which contains the data about the set and format.\"\"\"\n",
    "        return self._DATA\n",
    "    \n",
    "    @property\n",
    "    def PLOTTER(self):\n",
    "        \"\"\"The object which helps to plot and save data as pngs and the like.\"\"\"\n",
    "        return self._PLOTTER\n",
    "        \n",
    "    def check_for_updates(self):\n",
    "        \"\"\"Populates and updates all data properties, filling in missing data.\"\"\"\n",
    "        self._DATA.check_for_updates()\n",
    "\n",
    "    def reload_data(self):\n",
    "        \"\"\"Populates and updates all data properties, reloading all data.\"\"\"\n",
    "        self._DATA.reload_data()  \n",
    "    \n",
    "    def deck_group_frame(self, name=None, date=None, summary=False):\n",
    "        \"\"\"Returns a subset of the 'GROUPED_ARCHETYPE' data as a DataFrame.\"\"\"\n",
    "        return self.DATA.deck_group_frame(name, date, summary)\n",
    "     \n",
    "    def deck_archetype_frame(self, deck_color=None, date=None, summary=False):\n",
    "        \"\"\"Returns a subset of the 'SINGLE_ARCHETYPE' data as a DataFrame.\"\"\"\n",
    "        return self.DATA.deck_archetype_frame(deck_color, date, summary)\n",
    "    \n",
    "    def card_frame(self, name=None, deck_color=None, date=None, summary=False):\n",
    "        \"\"\"Returns a subset of the 'CARD' data as a DataFrame.\"\"\"\n",
    "        return self.DATA.card_frame(name, deck_color, date, summary)\n",
    "    \n",
    "    def compress_date_range_data(self, start_date, end_date, card_name=None):\n",
    "        \"\"\"Summarizes card data over a provided set of time.\"\"\"\n",
    "        return self.DATA.compress_date_range_data(start_date, end_date, card_name)\n",
    "        \n",
    "    \n",
    "    #ArchFuncs\n",
    "    def get_games_played(self, deck_color):\n",
    "        return self._ARCH_FUNCS.get_games_played(deck_color)\n",
    "        \n",
    "    def get_avg_winrate(self, day=None, arch='All Decks'):\n",
    "        return self._ARCH_FUNCS.get_avg_winrate(day, arch)\n",
    "    \n",
    "    def get_archetype_frame(self, colors, roll=None):\n",
    "        return self._ARCH_FUNCS.get_archetype_frame(colors, roll)\n",
    "\n",
    "    def get_archetype_winrate_history(self, color_filter=None, roll=None, *, save=False):\n",
    "        return self._ARCH_FUNCS.get_archetype_winrate_history(color_filter, roll, save=save)\n",
    "\n",
    "    def plot_archetype_winrate_history(self, color_filter=None, roll=None, derivs=0, color_dict=None, pref=''):\n",
    "        return self._ARCH_FUNCS.plot_archetype_winrate_history(color_filter, roll, derivs, color_dict, pref)       \n",
    "        \n",
    "    def get_archetype_playrate_history(self, color_filter=None, color_count=0, roll=None, *, save=False):\n",
    "        return self._ARCH_FUNCS.get_archetype_playrate_history(color_filter, color_count, roll, save=save)\n",
    "\n",
    "    def plot_archetype_playrate_history(self, color_filter=None, color_count=0, roll=None, derivs=0, color_dict=None, pref=''):\n",
    "        return self._ARCH_FUNCS.plot_archetype_playrate_history(color_filter, color_count, roll, derivs, color_dict, pref)\n",
    "    \n",
    "    def card_relative_winrates(self, deck_colors, win_rate_col, filter_option=None):\n",
    "        return self._ARCH_FUNCS.card_relative_winrates(deck_colors, win_rate_col, filter_option)\n",
    "    \n",
    "    #SingleCardFuncs\n",
    "    def get_card_summary(self, card_name, colors='', roll=None):\n",
    "        return self._SNGL_CARD_FUNCS.get_card_summary(card_name, colors, roll)\n",
    "\n",
    "    def plot_card_summary(self, card_name, colors='', roll=None):\n",
    "        return self._SNGL_CARD_FUNCS.plot_card_summary(card_name, colors, roll)\n",
    "    \n",
    "    def get_pick_stats(self, card_name, roll=None):\n",
    "        return self._SNGL_CARD_FUNCS.get_pick_stats(card_name, roll)\n",
    "    \n",
    "    def plot_pick_stats(self, card_name, roll=None):\n",
    "        return self._SNGL_CARD_FUNCS.plot_pick_stats(card_name, roll)\n",
    "    \n",
    "    def card_archetype_performance(self, card_name, color_cols=None):\n",
    "        return self._SNGL_CARD_FUNCS.card_archetype_performance(card_name, color_cols)\n",
    "    \n",
    "    def stat_archetype_performance(self, stat_name, color_cols=None):\n",
    "        return self._SNGL_CARD_FUNCS.stat_archetype_performance(stat_name, color_cols)\n",
    "    \n",
    "    def compare_card_evaluations(self, start_date=None, end_date=None):\n",
    "        def inner_func(date):\n",
    "            df = self.card_frame(date=date, deck_color='')\n",
    "            df.index = [tup[2] for tup in df.index]\n",
    "            return df\n",
    "        \n",
    "        if start_date is None:\n",
    "            metadata = SetMetadata.get_metadata(self.SET)\n",
    "            start_date = metadata.RELEASE_DATE\n",
    "            \n",
    "        if end_date is None:\n",
    "            end_date = date.today() - timedelta(days=1)\n",
    "\n",
    "        first = inner_func(date=start_date)\n",
    "        last = inner_func(date=end_date)\n",
    "        diff = last[['ALSA', 'ATA', 'Color', 'Rarity']].copy()\n",
    "        diff['ALSA Change'] = first['ALSA'] - last['ALSA']\n",
    "        diff['ATA Change'] = first['ATA'] - last['ATA']\n",
    "        return diff[['ALSA', 'ALSA Change', 'ATA', 'ATA Change', 'Color', 'Rarity']]\n",
    "\n",
    "\n",
    "    def get_top(self, column, count=10, asc=True, card_color=None, card_rarity=None, deck_color='', play_lim=None):\n",
    "        frame = self.card_frame(deck_color=deck_color, summary=True, card_rarity=card_rarity)\n",
    "        frame = frame.sort_values(column, ascending=asc)\n",
    "\n",
    "        if card_color is not None:\n",
    "            card_color = WUBRG.get_color_identity(card_color)\n",
    "            frame = frame[frame['Color'] == card_color]\n",
    "\n",
    "        if play_lim is not None:\n",
    "            #TODO: Fix this. \n",
    "            if type(play_lim) is float: play_lim *= self.get_games_played(deck_color)\n",
    "            print(f'Minimum Games played to be included: {play_lim}')\n",
    "            frame = frame[frame['# GP'] >= play_lim]\n",
    "\n",
    "        return frame.head(count)"
   ]
  },
  {
   "cell_type": "code",
   "execution_count": null,
   "id": "90965f5e",
   "metadata": {},
   "outputs": [],
   "source": [
    "from data_graphing import ROLL, ARCHETYPES_COLOR_DICT\n",
    "from wubrg import COLOR_PAIRS, COLOUR_GROUPINGS\n",
    "from data_fetching.utils.consts import COLOR_COUNT_REVERSE_MAP, COLOR_COUNT_SHORTHAND, COLOR_COUNT_SHORTHAND_MAP\n",
    "\n",
    "class ArchFuncs:   \n",
    "    def __init__(self, DATA):\n",
    "        self._DATA = DATA\n",
    "        \n",
    "    @staticmethod\n",
    "    def _get_play_stat_frame(frame, col, roll=None, aggfunc=None):\n",
    "        if roll is None: roll = ROLL\n",
    "        if aggfunc is None: aggfunc = np.sum\n",
    "        ret = frame[[col]]\n",
    "        ret.reset_index(inplace=True, level=1)\n",
    "        ret = ret.pivot_table(values=col, index=ret.index, columns='Name', dropna=False, aggfunc=aggfunc)\n",
    "        ret = ret.rolling(window=roll, min_periods=1, center=True).mean()\n",
    "        ret.columns.names = [col]\n",
    "        return ret\n",
    "\n",
    "    def _get_all_stat(self, stat, roll=None, aggfunc=None):\n",
    "        archetypes = self._get_play_stat_frame(self._DATA.deck_archetype_frame(), stat, roll, aggfunc)\n",
    "        archetypes = archetypes[[color for color in COLOR_COMBINATIONS if color in archetypes.columns]]\n",
    "\n",
    "        groups = self._get_play_stat_frame(self._DATA.deck_group_frame(), stat, roll, aggfunc)\n",
    "        groups.rename(columns=COLOR_COUNT_SHORTHAND_MAP, inplace=True)\n",
    "        groups = groups[COLOR_COUNT_SHORTHAND]\n",
    "\n",
    "        return pd.concat([groups, archetypes], axis=1)\n",
    "\n",
    "\n",
    "    def get_winrates(self, roll=None):\n",
    "        wins = self._get_all_stat('Wins', roll, np.sum)\n",
    "        games = self._get_all_stat('Games', roll, np.sum)\n",
    "        frame = (wins / games) * 100\n",
    "        frame.columns.names = ['Avg. Win %']\n",
    "        return frame\n",
    "\n",
    "\n",
    "    def get_playrates(self, num_colors=0, roll=None):\n",
    "        #TODO: Remove num_colors, and handle bubbling chnages from that.\n",
    "        games = self._get_all_stat('Games', roll, np.sum)\n",
    "        \n",
    "        if num_colors == 0:\n",
    "            frame = games.div(games['ALL'], axis='rows') * 100\n",
    "            frame.columns.names = ['% of Decks']\n",
    "            return frame\n",
    "\n",
    "        true_name = COLOR_COUNT_REVERSE_MAP[num_colors].title()\n",
    "        summ_id = COLOR_COUNT_SHORTHAND_MAP[true_name]\n",
    "\n",
    "        frame = games.div(games[summ_id], axis='rows') * 100\n",
    "        frame.columns.names = [f'% of {num_colors}C Decks']\n",
    "        return frame\n",
    "   \n",
    "    def get_archetype_winrate_history(self, color_filter=None, roll=None, *, save=False):\n",
    "        if roll is None: roll = ROLL\n",
    "            \n",
    "        frame = self.get_winrates(roll)\n",
    "       \n",
    "        if isinstance(color_filter, str):\n",
    "            # TODO: Make this more flexible.\n",
    "            #col_filt = ['ALL', f'{len(color_filter)}C'] + [col for col in COLOR_PAIRS if color_filter in col]  \n",
    "            col_filt = ['ALL', '2C'] + [col for col in COLOR_PAIRS if color_filter in col]  \n",
    "            frame = frame[col_filt]\n",
    "        elif isinstance(color_filter, list):\n",
    "            frame = frame[color_filter]\n",
    "            \n",
    "        if save:\n",
    "            PlotterHelper(self._DATA).frame_to_png(frame, \"archetype_winrate_table.png\")\n",
    "        \n",
    "        return frame        \n",
    "        \n",
    "    #TODO: Implement a more generic version of this that takes in a list of deck colours to include as output. \n",
    "    def get_archetype_playrate_history(self, color_filter=None, color_count=0, roll=None, *, save=False):\n",
    "        if roll is None: roll = ROLL\n",
    "            \n",
    "        frame = self.get_playrates(color_count, roll)\n",
    "\n",
    "        if isinstance(color_filter, str):\n",
    "            col_filt = [col for col in COLOR_PAIRS if color_filter in col]\n",
    "            frame = frame[col_filt]\n",
    "        if isinstance(color_filter, list):\n",
    "            frame = frame[color_filter]\n",
    "            \n",
    "        if save:\n",
    "            PlotterHelper(self._DATA).frame_to_png(frame, \"archetype_playrate_table.png\")\n",
    "\n",
    "        return frame\n",
    "    \n",
    "    def plot_archetype_winrate_history(self, color_filter=None, roll=None, derivs=0, color_dict=None, pref=''):\n",
    "        if roll is None: roll = ROLL\n",
    "        if color_dict is None: color_dict = ARCHETYPES_COLOR_DICT\n",
    "\n",
    "        data = self.get_archetype_winrate_history(color_filter, roll)\n",
    "        for _ in range(0, derivs):\n",
    "            data = data.diff()\n",
    "        data.index = [idx[5:] for idx in data.index]\n",
    "        colors = str(color_filter)  #TODO: Make this cleverer at showing filter.\n",
    "\n",
    "        plot_help = PlotterHelper(self._DATA, color_dict=color_dict)\n",
    "        fig, ax = plot_help.new_single_plot('Archetype Winrates', width=16, height=8)\n",
    "        plot_help.accredit(y=0.035, x=0.51)\n",
    "        plot_help.desc_note(colors=colors, roll=roll, y=0.935, x=0.51)\n",
    "        \n",
    "        plot_help.set_labels(x_label=\"Date\", y_label=\"Win Rate\")\n",
    "        plot_help.set_data(data, color_filter)\n",
    "        \n",
    "        if not pref:\n",
    "            plot_help.save_fig(f\"win_rates_{roll}day_avg.png\", \"Metagame\")\n",
    "        else:\n",
    "            plot_help.save_fig(f\"{pref}_win_rates_{roll}day_avg.png\", \"Metagame\")\n",
    "\n",
    "    def plot_archetype_playrate_history(self, color_filter=None, color_count=0, roll=None, derivs=0, color_dict=None, pref=''):\n",
    "        if roll is None: roll = ROLL\n",
    "        if color_dict is None: color_dict = ARCHETYPES_COLOR_DICT\n",
    "            \n",
    "        data = self.get_archetype_playrate_history(color_filter, color_count, roll)\n",
    "        for _ in range(0, derivs):\n",
    "            data = data.diff()\n",
    "        data.index = [idx[5:] for idx in data.index]\n",
    "        \n",
    "        \n",
    "        plot_help = PlotterHelper(self._DATA, color_dict=color_dict)\n",
    "        fig, ax = plot_help.new_single_plot('Archetype Playrates', width=16, height=8)\n",
    "        plot_help.accredit(y=0.035, x=0.51)\n",
    "        plot_help.desc_note(colors=color_filter, roll=roll, y=0.935, x=0.51)\n",
    "        \n",
    "        plot_help.set_labels(x_label=\"Date\", y_label=\"Percent of Metagame\")\n",
    "        plot_help.set_data(data, color_filter)\n",
    "        \n",
    "        if not pref:\n",
    "            plot_help.save_fig(f\"play_rates_{roll}day_avg.png\", \"Metagame\")\n",
    "        else:\n",
    "            plot_help.save_fig(f\"{pref}_play_rates_{roll}day_avg.png\", \"Metagame\")\n",
    "            \n",
    "    \n",
    "    def card_relative_winrates(self, deck_colors=None, win_rate_col='GIH WR', filter_option=None):\n",
    "        deck_colors = get_color_identity(deck_colors)\n",
    "        \n",
    "        # Get the relevant list of cards, and then trim it down to the relevant colours.\n",
    "        sub_frame = self._DATA.card_frame(deck_color=deck_colors)\n",
    "        sub_frame = set_data.BO1.DATA.CARD_HISTORY_FRAME.loc[slice(None), get_color_slice(deck_colors), get_name_slice(None)]\n",
    "        sub_frame = sub_frame.reset_index(level=1)\n",
    "        if deck_colors:\n",
    "            sub_frame = sub_frame[sub_frame['Cast Color'].isin(WUBRG.get_color_subsets(deck_colors))]\n",
    "\n",
    "        # Get the winrates for the cards and average winrate of the archetype, then re-center the card winrates with it. \n",
    "        win_frame = self._get_play_stat_frame(sub_frame, win_rate_col, roll=1, aggfunc=np.mean)\n",
    "        avg_frame = self.get_archetype_winrate_history(deck_colors)\n",
    "        target_avg = deck_colors if deck_colors else 'ALL'\n",
    "        ret_frame = win_frame.sub(avg_frame[target_avg], axis='rows').T\n",
    "\n",
    "        # Get the games played from the subset of cards and use it to re-weight the win rates per day, to calculate an accurate average.\n",
    "        games_frame = self._get_play_stat_frame(sub_frame, '# GP', roll=1, aggfunc=np.mean).T\n",
    "        ret_frame[f'AVG'] = (ret_frame * games_frame).sum(axis=1) / games_frame.sum(axis=1)\n",
    "        ret_frame['# GP'] = games_frame.sum(axis=1)\n",
    "\n",
    "        # Sort by most winning first.\n",
    "        ret_frame = ret_frame.sort_values(f'AVG', ascending=False).T\n",
    "        return ret_frame[::-1]"
   ]
  },
  {
   "cell_type": "code",
   "execution_count": null,
   "id": "0743e0e1",
   "metadata": {},
   "outputs": [],
   "source": [
    "from data_graphing import ROLL, STATS_COLOR_DICT\n",
    "from wubrg import COLOR_COMBINATIONS\n",
    "from wubrg.consts import COLOR_PAIRS\n",
    "\n",
    "\n",
    "class SingleCardFuncs:   \n",
    "    def __init__(self, DATA):\n",
    "        self._DATA = DATA\n",
    "        self._COLOR_IDX = 0\n",
    "        \n",
    "    def _shorten_data(self, card_name, roll, cols, colors=''):\n",
    "        frame = self._DATA.card_frame(name=card_name, deck_color=colors)[cols]\n",
    "        frame.index = [tup[0][5:] for tup in frame.index]\n",
    "        rolling = frame.rolling(window=roll, min_periods=1, center=True).mean()\n",
    "        return rolling\n",
    "\n",
    "    def plot_card_summary(self, card_name, colors='', roll=None, color_dict=None):\n",
    "        if roll is None: roll = ROLL\n",
    "        if color_dict is None: color_dict = STATS_COLOR_DICT\n",
    "        rolling = self._shorten_data(card_name, roll, ['GIH WR', 'GND WR', 'ATA', 'ALSA', '# GP', '# GIH', '# Picked', '# Seen'], colors=colors)\n",
    "        if rolling.empty:\n",
    "            print(f\"\"\"Could not find data for \"{card_name}\". Please make sure it is spelled correctly, or you are accessing the right set.\"\"\")\n",
    "            return False\n",
    "        \n",
    "        plot_help = PlotterHelper(self._DATA, color_dict=color_dict)\n",
    "        fig, ax = plot_help.new_quad_plot(card_name)\n",
    "        plot_help.accredit(y=0.075)\n",
    "        plot_help.desc_note(colors=colors, roll=roll)\n",
    "                \n",
    "        plot_help.set_labels(y_label=\"Win Percent\", g_x=0, g_y=0)\n",
    "        plot_help.set_data(rolling, ['GIH WR', 'GND WR'], g_x=0, g_y=0)\n",
    "        \n",
    "        plot_help.set_labels(y_label=\"Pick Number\", g_x=0, g_y=1)\n",
    "        plot_help.set_data(rolling, ['ALSA', 'ATA'], inv_y=True, g_x=0, g_y=1)\n",
    "        \n",
    "        plot_help.set_labels(x_label=\"Date\", y_label=\"# of Games\", g_x=1, g_y=0)\n",
    "        plot_help.set_data(rolling, ['# GP', '# GIH'], g_x=1, g_y=0)\n",
    "\n",
    "        plot_help.set_labels(x_label=\"Date\", y_label=\"# of Cards\", g_x=1, g_y=1)\n",
    "        plot_help.set_data(rolling, ['# Seen', '# Picked'], g_x=1, g_y=1)\n",
    "        \n",
    "        if colors:\n",
    "            plot_help.save_fig(f\"pcs_{card_name}_{colors}.png\", \"Summary\")\n",
    "        else:\n",
    "            plot_help.save_fig(f\"pcs_{card_name}.png\", \"Summary\")\n",
    "        \n",
    "        return True\n",
    "    \n",
    "    \n",
    "    def plot_pick_stats(self, card_name, roll=None, color_dict=None):\n",
    "        if roll is None: roll = ROLL        \n",
    "        if color_dict is None: color_dict = STATS_COLOR_DICT\n",
    "        taken_data = self._shorten_data(card_name, roll, ['ALSA', 'ATA'])\n",
    "        if taken_data.empty:\n",
    "            print(f\"\"\"Could not find data for \"{card_name}\". Please make sure it is spelled correctly, or you are accessing the right set.\"\"\")\n",
    "            return\n",
    "        \n",
    "        plot_help = PlotterHelper(self._DATA, color_dict=color_dict)\n",
    "        fig, ax = plot_help.new_single_plot(card_name)\n",
    "        plot_help.accredit()\n",
    "        plot_help.desc_note(roll=roll, y=0.96)\n",
    "        \n",
    "        plot_help.set_labels(x_label=\"Date\", y_label=\"Pick Number\")\n",
    "        plot_help.set_data(taken_data, ['ALSA', 'ATA'], inv_y=True)\n",
    "        \n",
    "        plot_help.save_fig(f\"pps_{card_name}.png\", \"Pick Stats\")\n",
    "\n",
    "\n",
    "    def card_archetype_performance(self, card_name, color_cols=None):\n",
    "        frame = self._DATA.card_frame(card_name, summary=True).T\n",
    "        frame.loc[STAT_COL_NAMES].T\n",
    "        if color_cols is not None:\n",
    "            ret = ret[color_cols]\n",
    "        return frame\n",
    "    \n",
    "    \n",
    "    def stat_archetype_performance(self, stat_name, color_cols=None):\n",
    "        series = self._DATA.card_frame(summary=True)[stat_name]\n",
    "        frame = series.reset_index(level=0)\n",
    "        ret = pd.pivot_table(frame, index='Name', columns='Deck Colors')\n",
    "        ret.columns = ret.columns.droplevel(0)\n",
    "        if color_cols is not None:\n",
    "            ret = ret[color_cols]\n",
    "        return ret"
   ]
  },
  {
   "cell_type": "markdown",
   "id": "7ef6dfba",
   "metadata": {},
   "source": [
    "# Initialization"
   ]
  },
  {
   "cell_type": "markdown",
   "id": "c1baebf2",
   "metadata": {},
   "source": [
    "# Data Overview"
   ]
  },
  {
   "cell_type": "code",
   "execution_count": null,
   "id": "accd9aa6",
   "metadata": {
    "scrolled": true
   },
   "outputs": [],
   "source": [
    "examiner = FramedDataFuncs(set_data.BO1)\n",
    "examiner.card_frame(deck_color='', summary=True)"
   ]
  },
  {
   "cell_type": "code",
   "execution_count": null,
   "id": "d3f60f0b",
   "metadata": {},
   "outputs": [],
   "source": [
    "raise Exception('Stopping Auto-Run!')"
   ]
  },
  {
   "cell_type": "markdown",
   "id": "2afd72b9",
   "metadata": {},
   "source": [
    "# TODO"
   ]
  },
  {
   "cell_type": "markdown",
   "id": "d03c8e3e",
   "metadata": {},
   "source": [
    "- Calculate archetype openess\n",
    " - GIH WR & ALSA based\n",
    " - 2.25 of a common per draft \n",
    "- Improve graphing capabilities\n",
    " - Modify Graphs so they also save an image to a cache folder.\n",
    " - Implement better graph titles and axes\n",
    " - Update functions to be more general, and have DataFrames piped into them.\n",
    "- Move sets of files into subfolders based on functionality and relationship (DataFetch, Cards, Graphing, Utils, etc.)\n",
    "- Better group settings and consts into one file/location."
   ]
  },
  {
   "cell_type": "markdown",
   "id": "12a93ead",
   "metadata": {},
   "source": [
    "## Current Tests"
   ]
  },
  {
   "cell_type": "code",
   "execution_count": null,
   "id": "02d4db53",
   "metadata": {
    "scrolled": true
   },
   "outputs": [],
   "source": [
    "set_data.BO1.card_frame(\"Gaea's Might\", summary=True)[['# GP', 'GIH WR']]"
   ]
  },
  {
   "cell_type": "markdown",
   "id": "93f2ddd2",
   "metadata": {},
   "source": [
    "TODO: Update code so that\n",
    " 1) Cards without data aren't treated as having a 0% win rate.\n",
    " 2) Ensure that NaNs are respected so the average improvement is calculated properly."
   ]
  },
  {
   "cell_type": "code",
   "execution_count": null,
   "id": "fccc0052",
   "metadata": {},
   "outputs": [],
   "source": [
    "sub_frame = set_data.BO1.DATA.CARD_HISTORY_FRAME.loc[get_date_slice(('2022-04-28', '2022-05-01')), get_color_slice('WR'), get_name_slice(None)]\n",
    "sub_frame.reset_index(level=1, inplace=True)\n",
    "sub_frame = sub_frame[sub_frame['Cast Color'].isin(WUBRG.get_color_subsets('WR'))]\n",
    "sub_frame"
   ]
  },
  {
   "cell_type": "code",
   "execution_count": null,
   "id": "a67371e0",
   "metadata": {
    "scrolled": true
   },
   "outputs": [],
   "source": [
    "sub_frame.loc[(slice(None), slice('Depopulate', 'Depopulate', None)), :]"
   ]
  },
  {
   "cell_type": "code",
   "execution_count": null,
   "id": "e40de83c",
   "metadata": {
    "scrolled": true
   },
   "outputs": [],
   "source": [
    "temp_frame = sub_frame.copy()\n",
    "temp_frame.reset_index(inplace=True, level=1)\n",
    "#temp_frame"
   ]
  },
  {
   "cell_type": "code",
   "execution_count": null,
   "id": "059f6450",
   "metadata": {},
   "outputs": [],
   "source": [
    "temp_frame.pivot_table(values='GIH WR', index=temp_frame.index, columns='Name', dropna=False)"
   ]
  },
  {
   "cell_type": "code",
   "execution_count": null,
   "id": "1bd0e54d",
   "metadata": {},
   "outputs": [],
   "source": [
    "# Get the winrates and average winrate of the colour group, then re-center the card winrates with it. \n",
    "win_frame = ArchFuncs._get_play_stat_frame(sub_frame, 'GIH WR', roll=1)\n",
    "win_frame"
   ]
  },
  {
   "cell_type": "code",
   "execution_count": null,
   "id": "c22a294a",
   "metadata": {},
   "outputs": [],
   "source": [
    "TRG_DECK_COLOR = 'WR'\n",
    "TRG_WIN_RATE = 'GIH WR'\n",
    "\n",
    "def card_relative_winrates(deck_colors, win_rate_col, filter_option=None):\n",
    "    # Get the relevant list of cards, and then trim it down to the relevant colours.\n",
    "    sub_frame = set_data.BO1.DATA.CARD_HISTORY_FRAME.loc[slice(None), get_color_slice(deck_colors), get_name_slice(None)]\n",
    "    sub_frame = sub_frame.reset_index(level=1)\n",
    "    sub_frame = sub_frame[sub_frame['Cast Color'].isin(WUBRG.get_color_subsets(deck_colors))]\n",
    "\n",
    "    # Get the winrates and average winrate of the colour group, then re-center the card winrates with it. \n",
    "    win_frame = ArchFuncs._get_play_stat_frame(sub_frame, win_rate_col, roll=1, aggfunc=np.mean)\n",
    "    avg_frame = examiner.get_archetype_winrate_history([deck_colors])\n",
    "    centred_frame = win_frame.sub(avg_frame[deck_colors], axis='rows').T\n",
    "\n",
    "    # Get the games played from the subset of cards and use it to re-weight the win rates per day, to calculate an accurate average.\n",
    "    games_frame = ArchFuncs._get_play_stat_frame(sub_frame, '# GP', roll=1, aggfunc=np.mean).T\n",
    "    ret_frame = centred_frame\n",
    "    ret_frame['AVG'] = (ret_frame * games_frame).sum(axis=1) / games_frame.sum(axis=1)\n",
    "    ret_frame['GAMES'] = games_frame.sum(axis=1)\n",
    "\n",
    "    # Sort by most winning first.\n",
    "    ret_frame = ret_frame.sort_values('AVG', ascending=False).T\n",
    "    return sub_frame, win_frame, games_frame, avg_frame, ret_frame, centred_frame\n",
    "    \n",
    "frames = card_relative_winrates(TRG_DECK_COLOR, TRG_WIN_RATE)\n",
    "frames[4]"
   ]
  },
  {
   "cell_type": "code",
   "execution_count": null,
   "id": "237971a7",
   "metadata": {},
   "outputs": [],
   "source": [
    "def gt(x, y):  #Used for function pointer shenanigans\n",
    "    return x > y\n",
    "\n",
    "def lt(x, y):  #Used for function pointer shenanigans\n",
    "    return x < y\n",
    "\n",
    "def filter_quadrant_cards_df(func1, func2, iwd_thresh=0, play_lim=0.01, card_rarity=None, deck_color=''):\n",
    "    frame = set_data.BO1.card_frame(deck_color=deck_color, summary=True)\n",
    "    if card_rarity is not None:\n",
    "        frame = frame[frame['Rarity'] == card_rarity]\n",
    "    \n",
    "    # TODO: Make the mean different based on card rarity so cards aren't moved into incorrect categories.\n",
    "    \n",
    "    if play_lim is not None:\n",
    "        if type(play_lim) is float: play_lim *= set_data.BO1.get_games_played(deck_color)\n",
    "        print(f'Minimum Games played to be included: {play_lim}')\n",
    "        frame = frame[frame['# GP'] >= play_lim]\n",
    "        \n",
    "    games_played_mean = frame['# GP'].mean()\n",
    "    cards = frame[func1(frame['IWD'], iwd_thresh)]\n",
    "    cards = cards[func2(cards['# GP'], games_played_mean)]\n",
    "    cards = cards.sort_values('IWD', ascending=func1==lt)\n",
    "    return cards\n",
    "\n",
    "\n",
    "def get_trap_cards(card_rarity=None, deck_color='', iwd_thresh=0, play_lim=0.01):\n",
    "    return filter_quadrant_cards_df(lt, gt, iwd_thresh, play_lim, card_rarity, deck_color)\n",
    "\n",
    "def get_niche_cards(card_rarity=None, deck_color='', iwd_thresh=0, play_lim=0.01):\n",
    "    return filter_quadrant_cards_df(gt, lt, iwd_thresh, play_lim, card_rarity, deck_color)\n",
    "\n",
    "def get_staple_cards(card_rarity=None, deck_color='', iwd_thresh=0, play_lim=0.01):\n",
    "    return filter_quadrant_cards_df(gt, gt, iwd_thresh, play_lim, card_rarity, deck_color)\n",
    "\n",
    "def get_dreg_cards(card_rarity=None, deck_color='', iwd_thresh=0, play_lim=0.01):\n",
    "    return filter_quadrant_cards_df(lt, lt, iwd_thresh, play_lim, card_rarity, deck_color)"
   ]
  },
  {
   "cell_type": "code",
   "execution_count": null,
   "id": "c8c140ac",
   "metadata": {
    "scrolled": true
   },
   "outputs": [],
   "source": [
    "get_niche_cards(deck_color='GW', card_rarity='CU')"
   ]
  },
  {
   "cell_type": "code",
   "execution_count": null,
   "id": "8498338b",
   "metadata": {},
   "outputs": [],
   "source": []
  },
  {
   "cell_type": "code",
   "execution_count": null,
   "id": "39d4e08b",
   "metadata": {},
   "outputs": [],
   "source": [
    "set_data.BO1.DATA.SINGLE_ARCHETYPE_SUMMARY_FRAME.loc[['W']]"
   ]
  },
  {
   "cell_type": "code",
   "execution_count": null,
   "id": "ac41aae8",
   "metadata": {},
   "outputs": [],
   "source": [
    "from data_fetching.utils.index_slice_helper import get_name_slice, get_color_slice"
   ]
  },
  {
   "cell_type": "code",
   "execution_count": null,
   "id": "57c91376",
   "metadata": {},
   "outputs": [],
   "source": [
    "set_data.BO1.DATA.CARD_HISTORY_FRAME.loc[slice('2022-04-29', '2022-05-01'), get_color_slice(''), get_name_slice(['Girder Goons', 'Angelic Observer', 'A Little Chat', 'Case the Joint'])]"
   ]
  },
  {
   "cell_type": "code",
   "execution_count": null,
   "id": "f62a6554",
   "metadata": {},
   "outputs": [],
   "source": [
    "data = set_data.BO1.DATA.CARD_HISTORY_FRAME.loc(axis=0)[pd.IndexSlice[slice(None), get_color_slice(''), get_name_slice(None)]]\n",
    "cheap = data[data['CMC'] <= 3]\n",
    "expensive = data[data['CMC'] >= 5]"
   ]
  },
  {
   "cell_type": "code",
   "execution_count": null,
   "id": "4c1e5a27",
   "metadata": {},
   "outputs": [],
   "source": [
    "cheap['Games Won'] = cheap['# GIH'] * cheap['GIH WR'] * 0.01\n",
    "cheap_sums = cheap[['# GP', '# GIH', 'Games Won']].sum()\n",
    "cheap_wr = cheap_sums['Games Won'] / cheap_sums['# GIH']\n",
    "cheap_wr"
   ]
  },
  {
   "cell_type": "code",
   "execution_count": null,
   "id": "e3a4db09",
   "metadata": {
    "scrolled": false
   },
   "outputs": [],
   "source": [
    "expensive['Games Won'] = expensive['# GIH'] * expensive['GIH WR'] * 0.01\n",
    "expensive_sums = expensive[['# GP', '# GIH', 'Games Won']].sum()\n",
    "expensive_wr = expensive_sums['Games Won'] / expensive_sums['# GIH']\n",
    "expensive_wr"
   ]
  },
  {
   "cell_type": "code",
   "execution_count": null,
   "id": "cfa90536",
   "metadata": {},
   "outputs": [],
   "source": [
    "for i in range(0, 9):\n",
    "    by_cmc = data[data['CMC'] == i]\n",
    "    by_cmc['Games Won'] = by_cmc['# GIH'] * by_cmc['GIH WR'] * 0.01\n",
    "    sums = by_cmc[['# GP', '# GIH', 'Games Won']].sum()\n",
    "    avg = by_cmc[['GIH WR']].mean()['GIH WR']\n",
    "    wr = sums['Games Won'] / sums['# GIH'] * 100\n",
    "    print(f\"CMC: {i}, WR: {wr}  AVG: {avg}\")"
   ]
  },
  {
   "cell_type": "code",
   "execution_count": null,
   "id": "d7a6a361",
   "metadata": {},
   "outputs": [],
   "source": []
  },
  {
   "cell_type": "code",
   "execution_count": null,
   "id": "b1b4b94f",
   "metadata": {},
   "outputs": [],
   "source": [
    "examiner.plot_archetype_playrate_history(['2C', '3C', 'WU', 'WG', 'WUG'], roll=3, derivs=2)"
   ]
  },
  {
   "cell_type": "code",
   "execution_count": null,
   "id": "64c19224",
   "metadata": {},
   "outputs": [],
   "source": [
    "examiner.plot_archetype_playrate_history(['2C', '3C', 'WU', 'WG', 'UB', 'BR', 'RG', 'WUB', 'WUG', 'UBR', 'BRG', 'WRG'], roll=1, derivs=1)"
   ]
  },
  {
   "cell_type": "code",
   "execution_count": null,
   "id": "672024f2",
   "metadata": {},
   "outputs": [],
   "source": []
  },
  {
   "cell_type": "code",
   "execution_count": null,
   "id": "eacaef4f",
   "metadata": {},
   "outputs": [],
   "source": [
    "get_grade_distribution('')"
   ]
  },
  {
   "cell_type": "code",
   "execution_count": null,
   "id": "4bdc7df1",
   "metadata": {},
   "outputs": [],
   "source": [
    "frame = examiner.card_frame(deck_color='', summary=True)"
   ]
  },
  {
   "cell_type": "code",
   "execution_count": null,
   "id": "0f6becfb",
   "metadata": {},
   "outputs": [],
   "source": []
  },
  {
   "cell_type": "code",
   "execution_count": null,
   "id": "603ba890",
   "metadata": {},
   "outputs": [],
   "source": [
    "mu, std = norm.fit(frame['GIH WR'])"
   ]
  },
  {
   "cell_type": "code",
   "execution_count": null,
   "id": "9086f56c",
   "metadata": {},
   "outputs": [],
   "source": [
    "p = norm.cdf(frame['GIH WR'], mu, std) * 100\n",
    "p"
   ]
  },
  {
   "cell_type": "code",
   "execution_count": null,
   "id": "32559a8a",
   "metadata": {},
   "outputs": [],
   "source": [
    "frame_copy = frame.copy()\n",
    "frame_copy['STD'] = p\n",
    "frame_copy[['GIH WR', 'STD']].sort_values(\"GIH WR\")"
   ]
  },
  {
   "cell_type": "code",
   "execution_count": null,
   "id": "bddea8d6",
   "metadata": {},
   "outputs": [],
   "source": []
  },
  {
   "cell_type": "markdown",
   "id": "e45f96eb",
   "metadata": {},
   "source": [
    "# Deck Comparisons"
   ]
  },
  {
   "cell_type": "code",
   "execution_count": null,
   "id": "ab0380e0",
   "metadata": {
    "scrolled": true
   },
   "outputs": [],
   "source": [
    "from IPython.core.display import display, HTML\n",
    "import sys\n",
    "sys.path.append('..')\n",
    "display(HTML(\"<style>.container { width:95% !important; }</style>\"))\n",
    "print(sys.version)"
   ]
  },
  {
   "cell_type": "code",
   "execution_count": null,
   "id": "f94f23ff",
   "metadata": {},
   "outputs": [],
   "source": [
    "from core.game_metadata.game_objects.Card import CardManager\n",
    "CardManager.load_cache_from_file()"
   ]
  },
  {
   "cell_type": "code",
   "execution_count": null,
   "id": "44348ae6",
   "metadata": {},
   "outputs": [],
   "source": [
    "from core.game_metadata import Deck, LimitedDeck, ConstructedDeck\n",
    "from core.data_requesting.Request17Lands import Request17Lands\n",
    "from core.wubrg.sorting import WUBRG_COLOR_INDEXES\n",
    "from collections import OrderedDict\n",
    "from core.game_metadata.utils.consts import RARITY_INDEXES\n",
    "import re"
   ]
  },
  {
   "cell_type": "code",
   "execution_count": null,
   "id": "0934269e",
   "metadata": {},
   "outputs": [],
   "source": [
    "def compare_decks(d1, d2):\n",
    "    def sort_key(x): return (x.CMC, WUBRG_COLOR_INDEXES[x.CAST_IDENTITY], x.NAME)\n",
    "    \n",
    "    diff = (d1 - d2)[0]\n",
    "    over = (d1 | d2)[0]\n",
    "    diff_1 = {k: diff[k] for k in diff if diff[k] > 0}\n",
    "    diff_2 = {k: -diff[k] for k in diff if diff[k] < 0}\n",
    "    \n",
    "    over = {key:over[key] for key in sorted(over.keys(), key=sort_key)}\n",
    "    diff_1 = {key:diff_1[key] for key in sorted(diff_1.keys(), key=sort_key)}\n",
    "    diff_2 = {key:diff_2[key] for key in sorted(diff_2.keys(), key=sort_key)}\n",
    "    return diff_1, over, diff_2\n",
    "\n",
    "def format_diffs(diff_1, over, diff_2):\n",
    "    diff_1_str = [f\"{v:2} {k.NAME:30}\" for k, v in diff_1.items()]\n",
    "    over_str = [f\"{v:2} {k.NAME:30}\" for k, v in over.items()]\n",
    "    diff_2_str = [f\"{v:2} {k.NAME:30}\" for k, v in diff_2.items()]\n",
    "    \n",
    "    x = max(len(diff_1_str), len(over_str), len(diff_2_str))\n",
    "\n",
    "    def safe_val(l, i):\n",
    "        try:\n",
    "            return l[i]\n",
    "        except IndexError:\n",
    "            return ' ' * 33\n",
    "\n",
    "    ret = '         Deck 1                           Shared                           Deck 2                  ' + '\\n'\n",
    "    for i in range(0, x):\n",
    "        ret += safe_val(diff_1_str, i) + safe_val(over_str, i) + safe_val(diff_2_str, i) + '\\n'\n",
    "    return ret\n",
    "\n",
    "def print_deck_comparison(d1, d2):\n",
    "    diff_1, over, diff_2 = compare_decks(d1, d2)\n",
    "    diff_str = format_diffs(diff_1, over, diff_2)\n",
    "    print(diff_str)"
   ]
  },
  {
   "cell_type": "code",
   "execution_count": null,
   "id": "3f642289",
   "metadata": {
    "scrolled": true
   },
   "outputs": [],
   "source": [
    "thiers = \"\"\"Deck\n",
    "1 Drowned Catacomb (XLN) 253\n",
    "1 Shipwreck Marsh (MID) 267\n",
    "1 Deathcap Glade (VOW) 261\n",
    "1 Woodland Cemetery (DOM) 248\n",
    "1 Dreamroot Cascade (VOW) 262\n",
    "1 Hinterland Harbor (DOM) 240\n",
    "1 Indatha Triome (IKO) 248\n",
    "1 Zagoth Triome (IKO) 259\n",
    "1 Fabled Passage (ELD) 244\n",
    "5 Forest (MH2) 489\n",
    "3 Island (BRO) 270\n",
    "1 Essence Scatter (M19) 54\n",
    "1 Heartless Act (IKO) 91\n",
    "1 Courier's Briefcase (SNC) 142\n",
    "1 Gala Greeters (SNC) 148\n",
    "1 Inscription of Abundance (ZNR) 186\n",
    "1 Paradise Druid (WAR) 171\n",
    "1 Ranger Class (AFR) 202\n",
    "1 Scavenging Ooze (M21) 204\n",
    "1 Coldsteel Heart (CSP) 136\n",
    "1 Aether Channeler (DMU) 42\n",
    "1 Chatterfang, Squirrel General (MH2) 151\n",
    "1 Chitterspitter (MH2) 153\n",
    "1 Rishkar, Peema Renegade (JMP) 425\n",
    "1 Tireless Tracker (SOI) 233\n",
    "1 Ulvenwald Oddity (VOW) 225\n",
    "1 Ertai Resurrected (DMU) 199\n",
    "1 Binding the Old Gods (KHM) 206\n",
    "1 Verdurous Gearhulk (KLR) 185\n",
    "1 Enter the God-Eternals (WAR) 196\n",
    "1 Shark Typhoon (IKO) 67\n",
    "1 Titan of Industry (SNC) 159\n",
    "1 Koma, Cosmos Serpent (KHM) 221\n",
    "1 Cityscape Leveler (BRO) 233\n",
    "\"\"\""
   ]
  },
  {
   "cell_type": "code",
   "execution_count": null,
   "id": "5cd1d8eb",
   "metadata": {},
   "outputs": [],
   "source": [
    "mine = \"\"\"Deck\n",
    "1 Drowned Catacomb (XLN) 253\n",
    "1 Shipwreck Marsh (MID) 267\n",
    "1 Deathcap Glade (VOW) 261\n",
    "1 Woodland Cemetery (DOM) 248\n",
    "1 Dreamroot Cascade (VOW) 262\n",
    "1 Hinterland Harbor (DOM) 240\n",
    "1 Ketria Triome (IKO) 250\n",
    "1 Indatha Triome (IKO) 248\n",
    "1 Zagoth Triome (IKO) 259\n",
    "1 Fabled Passage (ELD) 244\n",
    "3 Forest (ONE) 276\n",
    "3 Island (ONE) 273\n",
    "1 Fading Hope (MID) 51\n",
    "1 Hard Evidence (MH2) 46\n",
    "1 Essence Scatter (M19) 54\n",
    "1 Negate (RIX) 44\n",
    "1 Heartless Act (IKO) 91\n",
    "1 Ranger Class (AFR) 202\n",
    "1 Courier's Briefcase (SNC) 142\n",
    "1 Paradise Druid (WAR) 171\n",
    "1 Inscription of Abundance (ZNR) 186\n",
    "1 Gala Greeters (SNC) 148\n",
    "1 Coldsteel Heart (CSP) 136\n",
    "1 Aether Channeler (DMU) 42\n",
    "1 Midnight Clock (ELD) 54\n",
    "1 Chatterfang, Squirrel General (MH2) 151\n",
    "1 Chitterspitter (MH2) 153\n",
    "1 Tireless Tracker (SOI) 233\n",
    "1 Whirler Rogue (ORI) 83\n",
    "1 Binding the Old Gods (KHM) 206\n",
    "1 Ertai Resurrected (DMU) 199\n",
    "1 Shark Typhoon (IKO) 67\n",
    "1 Junk Winder (MH2) 48\n",
    "1 Titan of Industry (SNC) 159\n",
    "1 Koma, Cosmos Serpent (KHM) 221\n",
    "1 Cityscape Leveler (BRO) 233\"\"\""
   ]
  },
  {
   "cell_type": "code",
   "execution_count": null,
   "id": "0f6f7050",
   "metadata": {},
   "outputs": [],
   "source": [
    "# TODO: Load deck from SealedDeck.tech\n",
    "# Consider Card ordering.\n",
    "MY_DECK = Deck.from_string(mine, \"Mine\")\n",
    "THEIR_DECK = Deck.from_string(thiers, \"Thiers\")\n",
    "print_deck_comparison(MY_DECK, THEIR_DECK)"
   ]
  },
  {
   "cell_type": "code",
   "execution_count": null,
   "id": "8929b960",
   "metadata": {},
   "outputs": [],
   "source": [
    "card_pool = \"\"\"1 Deserted Beach (MID) 260\n",
    "1 Glacial Fortress (XLN) 255\n",
    "1 Drowned Catacomb (XLN) 253\n",
    "1 Shipwreck Marsh (MID) 267\n",
    "1 Dragonskull Summit (XLN) 252\n",
    "1 Haunted Ridge (MID) 263\n",
    "1 Rockfall Vale (MID) 266\n",
    "1 Rootbound Crag (XLN) 256\n",
    "1 Overgrown Farmland (MID) 265\n",
    "1 Sunpetal Grove (XLN) 257\n",
    "1 Isolated Chapel (DOM) 241\n",
    "1 Shattered Sanctum (VOW) 264\n",
    "1 Stormcarved Coast (VOW) 265\n",
    "1 Sulfur Falls (DOM) 247\n",
    "1 Deathcap Glade (VOW) 261\n",
    "1 Woodland Cemetery (DOM) 248\n",
    "1 Clifftop Retreat (DOM) 239\n",
    "1 Sundown Pass (VOW) 266\n",
    "1 Dreamroot Cascade (VOW) 262\n",
    "1 Hinterland Harbor (DOM) 240\n",
    "1 Savai Triome (IKO) 253\n",
    "1 Ketria Triome (IKO) 250\n",
    "1 Indatha Triome (IKO) 248\n",
    "1 Raugrin Triome (IKO) 251\n",
    "1 Zagoth Triome (IKO) 259\n",
    "1 Fabled Passage (ELD) 244\n",
    "1 Defiant Strike (WAR) 9\n",
    "1 Esper Sentinel (MH2) 12\n",
    "1 Favored Hoplite (THS) 13\n",
    "1 Gods Willing (M20) 19\n",
    "1 Homestead Courage (MID) 24\n",
    "1 Fading Hope (MID) 51\n",
    "1 Hard Evidence (MH2) 46\n",
    "1 Slip Out the Back (SNC) 62\n",
    "1 Cryptbreaker (EMN) 86\n",
    "1 Stitcher's Supplier (M19) 121\n",
    "1 Reckless Rage (RIX) 110\n",
    "1 Ascendant Packleader (VOW) 186\n",
    "1 Feat of Resistance (M21) 19\n",
    "1 Illuminator Virtuoso (SNC) 17\n",
    "1 Valorous Stance (VOW) 42\n",
    "1 Ensoul Artifact (M15) 54\n",
    "1 Essence Scatter (M19) 54\n",
    "1 Negate (RIX) 44\n",
    "1 Rise and Shine (MH2) 58\n",
    "1 Stormchaser Drake (VOW) 82\n",
    "1 Dreadhorde Invasion (WAR) 86\n",
    "1 Heartless Act (IKO) 91\n",
    "1 Mire Triton (THB) 105\n",
    "1 Skyclave Shade (ZNR) 125\n",
    "1 Cathartic Pyre (MID) 133\n",
    "1 Dreadhorde Arcanist (WAR) 125\n",
    "1 Obliterating Bolt (BRO) 145\n",
    "1 Temur Battle Rage (FRF) 116\n",
    "1 Courier's Briefcase (SNC) 142\n",
    "1 Gala Greeters (SNC) 148\n",
    "1 Inscription of Abundance (ZNR) 186\n",
    "1 Paradise Druid (WAR) 171\n",
    "1 Ranger Class (AFR) 202\n",
    "1 Scavenging Ooze (M21) 204\n",
    "1 Battlewise Hoplite (THS) 189\n",
    "1 Bloodtithe Harvester (VOW) 232\n",
    "1 Black Market Tycoon (SNC) 167\n",
    "1 Conclave Mentor (M21) 216\n",
    "1 Dromoka's Command (DTK) 221\n",
    "1 Despark (WAR) 190\n",
    "1 Humiliate (STX) 193\n",
    "1 Priest of Fell Rites (MH2) 208\n",
    "1 Expressive Iteration (STX) 186\n",
    "1 Sprite Dragon (IKO) 211\n",
    "1 Winding Constrictor (KLR) 216\n",
    "1 Rip Apart (STX) 225\n",
    "1 Tenth District Legionnaire (WAR) 222\n",
    "1 Combine Chrysalis (MH2) 191\n",
    "1 Coldsteel Heart (CSP) 136\n",
    "1 Elite Spellbinder (STX) 17\n",
    "1 Aether Channeler (DMU) 42\n",
    "1 Midnight Clock (ELD) 54\n",
    "1 Drana, Liberator of Malakir (JMP) 225\n",
    "1 Murderous Rider (ELD) 97\n",
    "1 Breya's Apprentice (MH2) 117\n",
    "1 Flames of the Firebrand (JMP) 317\n",
    "1 Krenko, Tin Street Kingpin (WAR) 137\n",
    "1 Seasoned Pyromancer (MH1) 145\n",
    "1 Chatterfang, Squirrel General (MH2) 151\n",
    "1 Chitterspitter (MH2) 153\n",
    "1 Rishkar, Peema Renegade (JMP) 425\n",
    "1 Tireless Tracker (SOI) 233\n",
    "1 Deputy of Detention (RNA) 165\n",
    "1 Electrolyze (STA) 60\n",
    "1 Feather, the Redeemed (WAR) 197\n",
    "1 Nettlecyst (MH2) 231\n",
    "1 Basri's Lieutenant (M21) 9\n",
    "1 Cast Out (AKR) 9\n",
    "1 Late to Dinner (MH2) 19\n",
    "1 Memory Deluge (MID) 62\n",
    "1 Whirler Rogue (ORI) 83\n",
    "1 Blood for Bones (M20) 89\n",
    "1 Big Score (SNC) 102\n",
    "1 Jaya, Fiery Negotiator (DMU) 133\n",
    "1 The Elder Dragon War (DMU) 121\n",
    "1 Ulvenwald Oddity (VOW) 225\n",
    "1 Vivien, Arkbow Ranger (M20) 199\n",
    "1 Ertai Resurrected (DMU) 199\n",
    "1 Binding the Old Gods (KHM) 206\n",
    "1 Solemn Simulacrum (M21) 239\n",
    "1 Angel of Sanctions (AKR) 1\n",
    "1 Archfiend of Ifnir (AKR) 91\n",
    "1 Liliana's Mastery (AKR) 113\n",
    "1 The Cruelty of Gix (DMU) 87\n",
    "1 Ox of Agonas (THB) 147\n",
    "1 Verdurous Gearhulk (KLR) 185\n",
    "1 Enter the God-Eternals (WAR) 196\n",
    "1 Escape to the Wilds (ELD) 189\n",
    "1 Wavesifter (MH2) 217\n",
    "1 Sanctuary Warden (SNC) 30\n",
    "1 Shark Typhoon (IKO) 67\n",
    "1 Taste of Death (ELD) 320\n",
    "1 Olivia, Crimson Bride (VOW) 245\n",
    "1 Junk Winder (MH2) 48\n",
    "1 Drakuseth, Maw of Flames (M20) 136\n",
    "1 Titan of Industry (SNC) 159\n",
    "1 Koma, Cosmos Serpent (KHM) 221\n",
    "1 Platinum Angel (M10) 218\n",
    "1 Cityscape Leveler (BRO) 233\n",
    "1 Dark Salvation (J21) 308\n",
    "\"\"\"\n",
    "CARD_POOL = Deck.from_string(card_pool, \"Pool\")\n",
    "CARD_POOL.maindeck"
   ]
  },
  {
   "cell_type": "code",
   "execution_count": null,
   "id": "093a3532",
   "metadata": {},
   "outputs": [],
   "source": [
    "trick_list = list()\n",
    "for x in CARD_POOL.maindeck:\n",
    "    if (\"target\" in x.ORACLE or \"creature\" in x.ORACLE or \"prevent\" in x.ORACLE) and (\"Instant\" in x.TYPES or \"Flash\" in x.ORACLE):\n",
    "        trick_list.append(x)\n",
    "\n",
    "def sort_key(x): return (WUBRG_COLOR_INDEXES[x.CAST_IDENTITY], x.CMC, RARITY_INDEXES[x.RARITY], x.NAME)\n",
    "trick_list = sorted(trick_list, key=sort_key)   \n",
    "\n",
    "for x in trick_list:\n",
    "    print(f'\"{x.NAME}\",\"{x.MANA_COST}\",\"{x.TYPE_LINE}\",\"{x.RARITY}\",\"{x.URL}\"')"
   ]
  },
  {
   "cell_type": "code",
   "execution_count": null,
   "id": "e0dd44a3",
   "metadata": {},
   "outputs": [],
   "source": [
    "land_list = list()\n",
    "for x in CARD_POOL.maindeck:\n",
    "    if \"Land\" in x.TYPES:\n",
    "        land_list.append(x)\n",
    "land_list"
   ]
  },
  {
   "cell_type": "code",
   "execution_count": null,
   "id": "d57b12ee",
   "metadata": {
    "scrolled": false
   },
   "outputs": [],
   "source": [
    "def sort_key(x): return (x.CMC, WUBRG_COLOR_INDEXES[x.CAST_IDENTITY], RARITY_INDEXES[x.RARITY], x.NAME)\n",
    "cards = sorted(MY_DECK.maindeck, key=sort_key)\n",
    "\n",
    "for x in MY_DECK.maindeck:\n",
    "    if \"target\" in x.ORACLE:\n",
    "        print(f'\"{x.NAME}\",\"{x.MANA_COST}\",\"{x.TYPE_LINE}\",\"{x.RARITY}\",\"{x.URL}\"')"
   ]
  },
  {
   "cell_type": "code",
   "execution_count": null,
   "id": "ba535171",
   "metadata": {},
   "outputs": [],
   "source": []
  },
  {
   "cell_type": "code",
   "execution_count": null,
   "id": "0f2a9550",
   "metadata": {},
   "outputs": [],
   "source": [
    "deck = LimitedDeck.from_id(\"b20a97b818f3418b94a8f4e7584398a8\")"
   ]
  },
  {
   "cell_type": "code",
   "execution_count": null,
   "id": "612a4210",
   "metadata": {},
   "outputs": [],
   "source": [
    "deck.draft"
   ]
  },
  {
   "cell_type": "markdown",
   "id": "fb45052a",
   "metadata": {},
   "source": [
    "# 17 Lands Requester Testing"
   ]
  },
  {
   "cell_type": "code",
   "execution_count": null,
   "id": "200f6371",
   "metadata": {},
   "outputs": [],
   "source": [
    "import sys\n",
    "sys.path.append('..')\n",
    "from core.utilities.notebook_setups.notebook_display import *\n",
    "set_up(log_lvl=LogLvl.DEBUG)\n",
    "from core.data_requesting import Request17Lands\n",
    "requester = Request17Lands(2, 5, 0.5)"
   ]
  },
  {
   "cell_type": "code",
   "execution_count": null,
   "id": "2d5a82e2",
   "metadata": {},
   "outputs": [],
   "source": [
    "card_evals = requester.get_card_evaluations('ONE')\n",
    "card_evals"
   ]
  },
  {
   "cell_type": "code",
   "execution_count": null,
   "id": "5695c2b6",
   "metadata": {},
   "outputs": [],
   "source": [
    "print(f\"Length 'cards': {len(card_evals['cards'])}\")\n",
    "print(f\"Length 'dates': {len(card_evals['dates'])}\")\n",
    "print(f\"Length 'data': {len(card_evals['data'])}\")\n",
    "print(f\"Length 'sub_data': {len(card_evals['data'][0])}\")\n",
    "len(card_evals['cards']) / 265"
   ]
  },
  {
   "cell_type": "code",
   "execution_count": null,
   "id": "6deedf65",
   "metadata": {},
   "outputs": [],
   "source": [
    "for day in card_evals['data']"
   ]
  },
  {
   "cell_type": "code",
   "execution_count": null,
   "id": "f19a21f3",
   "metadata": {},
   "outputs": [],
   "source": [
    "set(card_evals['cards'][0:30])"
   ]
  },
  {
   "cell_type": "code",
   "execution_count": null,
   "id": "a68a2e3a",
   "metadata": {},
   "outputs": [],
   "source": [
    "for x in range(0, len(card_evals['cards']), 30):\n",
    "    print(card_evals['cards'][x])"
   ]
  },
  {
   "cell_type": "code",
   "execution_count": null,
   "id": "acbe8983",
   "metadata": {},
   "outputs": [],
   "source": [
    "from core.game_metadata import SetMetadata, FormatMetadata, Card\n",
    "data = SetMetadata.get_metadata('NEO')\n",
    "data"
   ]
  },
  {
   "cell_type": "code",
   "execution_count": null,
   "id": "69e7d8ac",
   "metadata": {},
   "outputs": [],
   "source": [
    "data.CARD_LIST"
   ]
  },
  {
   "cell_type": "code",
   "execution_count": null,
   "id": "1cf1e3b4",
   "metadata": {},
   "outputs": [],
   "source": [
    "data = pd.read_csv(r'C:\\Users\\Zachary\\Downloads\\game_data_public.ONE.PremierDraft\\game_data_public.ONE.PremierDraft.csv')"
   ]
  },
  {
   "cell_type": "code",
   "execution_count": null,
   "id": "a525f06d",
   "metadata": {},
   "outputs": [],
   "source": [
    "data"
   ]
  },
  {
   "cell_type": "code",
   "execution_count": null,
   "id": "96ceecfb",
   "metadata": {},
   "outputs": [],
   "source": [
    "data.head()"
   ]
  },
  {
   "cell_type": "code",
   "execution_count": null,
   "id": "067ef01f",
   "metadata": {},
   "outputs": [],
   "source": [
    "data.columns"
   ]
  },
  {
   "cell_type": "code",
   "execution_count": null,
   "id": "cf0100a3",
   "metadata": {
    "scrolled": false
   },
   "outputs": [],
   "source": [
    "for x in data.columns:\n",
    "    skip = False\n",
    "    skip_list = ['opening_hand_', 'drawn_', 'tutored_', 'deck_', 'sideboard_']\n",
    "    for y in skip_list:\n",
    "        if x.startswith(y):\n",
    "            skip = True\n",
    "            break\n",
    "            \n",
    "    if skip:\n",
    "        continue\n",
    "    print(x)"
   ]
  },
  {
   "cell_type": "code",
   "execution_count": null,
   "id": "b1794232",
   "metadata": {},
   "outputs": [],
   "source": [
    "data[['draft_id', 'match_number', 'num_mulligans', 'won', 'user_n_games_bucket', 'user_game_win_rate_bucket']][data['num_mulligans'] >= 1]"
   ]
  },
  {
   "cell_type": "markdown",
   "id": "9f71053f",
   "metadata": {},
   "source": [
    "# Alchemy Scratch Work"
   ]
  },
  {
   "cell_type": "code",
   "execution_count": null,
   "id": "909bcecf",
   "metadata": {},
   "outputs": [],
   "source": [
    "import sys\n",
    "sys.path.append('..')\n",
    "from core.utilities.notebook_setups.notebook_display import *\n",
    "set_up(log_lvl=LogLvl.DEBUG)\n",
    "\n",
    "from core.game_metadata import CardManager\n",
    "CardManager.load_cache_from_file()\n",
    "\n",
    "from core.data_fetching import SetManager\n",
    "\n",
    "KEY_COLS = ['# Seen', 'ALSA', '# Picked', 'ATA', 'GP WR', 'GP GW', 'OH WR', 'GD WR', 'GIH WR', 'IWD', \n",
    "            'Rarity', 'Color', 'Cast Color', 'CMC', 'Type Line', 'Tier', 'Rank']\n",
    "\n",
    "set_data = SetManager('Y23BRO', load_history=False)\n",
    "set_data.check_for_updates()"
   ]
  },
  {
   "cell_type": "code",
   "execution_count": null,
   "id": "7ed013d3",
   "metadata": {},
   "outputs": [],
   "source": [
    "alchemy_cards = [x for x in set_data.CARDS if x.IS_DIGITAL]\n",
    "alchemy_cards"
   ]
  },
  {
   "cell_type": "code",
   "execution_count": null,
   "id": "958a7267",
   "metadata": {},
   "outputs": [],
   "source": [
    "summary_data = set_data.BO1.card_frame(deck_color='', summary=True).sort_values('Percentile', ascending=False)\n",
    "summary_data[KEY_COLS]"
   ]
  },
  {
   "cell_type": "code",
   "execution_count": null,
   "id": "49f60739",
   "metadata": {},
   "outputs": [],
   "source": [
    "alchemy_data = set_data.BO1.card_frame(name=alchemy_cards, deck_color='', summary=True).sort_values('Percentile', ascending=False)\n",
    "alchemy_data[KEY_COLS]"
   ]
  },
  {
   "cell_type": "markdown",
   "id": "89d9cce9",
   "metadata": {},
   "source": [
    "# CSV Scratch"
   ]
  },
  {
   "cell_type": "code",
   "execution_count": null,
   "id": "5c4e10d5",
   "metadata": {},
   "outputs": [],
   "source": [
    "import numpy as np\n",
    "import pandas as pd\n",
    "\n",
    "scryfall = pd.read_csv(r'C:\\Users\\Zachary\\Downloads\\search.csv')\n",
    "scryfall = scryfall.drop(['multiverse_id', 'mtgo_id', 'lang', 'artist', 'usd_price', 'usd_foil_price', 'eur_price', 'tix_price', 'image_uri', 'scryfall_uri'], axis=1)\n",
    "lands_17 = pd.read_csv(r'C:\\Users\\Zachary\\Downloads\\cards.csv')"
   ]
  },
  {
   "cell_type": "code",
   "execution_count": null,
   "id": "147f9f9f",
   "metadata": {},
   "outputs": [],
   "source": [
    "scryfall"
   ]
  },
  {
   "cell_type": "code",
   "execution_count": null,
   "id": "2a16108b",
   "metadata": {},
   "outputs": [],
   "source": [
    "lands_17"
   ]
  },
  {
   "cell_type": "code",
   "execution_count": null,
   "id": "c93d4eef",
   "metadata": {},
   "outputs": [],
   "source": [
    "set(scryfall['name']) ^ set(lands_17['Card Name'])"
   ]
  },
  {
   "cell_type": "code",
   "execution_count": null,
   "id": "fffc2bfa",
   "metadata": {},
   "outputs": [],
   "source": []
  },
  {
   "cell_type": "code",
   "execution_count": null,
   "id": "3678d546",
   "metadata": {},
   "outputs": [],
   "source": []
  }
 ],
 "metadata": {
  "kernelspec": {
   "display_name": "Python 3 (ipykernel)",
   "language": "python",
   "name": "python3"
  },
  "language_info": {
   "codemirror_mode": {
    "name": "ipython",
    "version": 3
   },
   "file_extension": ".py",
   "mimetype": "text/x-python",
   "name": "python",
   "nbconvert_exporter": "python",
   "pygments_lexer": "ipython3",
   "version": "3.10.0"
  }
 },
 "nbformat": 4,
 "nbformat_minor": 5
}
