{
 "cells": [
  {
   "cell_type": "markdown",
   "id": "7ef6dfba",
   "metadata": {},
   "source": [
    "# Initialization"
   ]
  },
  {
   "cell_type": "code",
   "execution_count": null,
   "id": "e52423d9",
   "metadata": {
    "scrolled": false
   },
   "outputs": [],
   "source": [
    "import sys\n",
    "sys.path.append('..')\n",
    "from core.utilities.notebook_setups.frame_tools import *\n",
    "SET = 'WOE'\n",
    "data_manager, set_data = set_up(log_lvl=LogLvl.SPARSE, target_set=SET)"
   ]
  },
  {
   "cell_type": "code",
   "execution_count": null,
   "id": "f616a75a",
   "metadata": {},
   "outputs": [],
   "source": [
    "import core.wubrg.alias_mappings as color_alias"
   ]
  },
  {
   "cell_type": "markdown",
   "id": "69cadfaa",
   "metadata": {},
   "source": [
    "# Objects"
   ]
  },
  {
   "cell_type": "code",
   "execution_count": null,
   "id": "70a585bc",
   "metadata": {},
   "outputs": [],
   "source": [
    "import sys\n",
    "try:\n",
    "    del sys.modules[\"data_graphing\"] \n",
    "    del data_graphing\n",
    "except:\n",
    "    pass\n",
    "\n",
    "from core.data_graphing.PlotterHelper import PlotterHelper\n",
    "from core.data_graphing.utils.funcs import prettify_frame"
   ]
  },
  {
   "cell_type": "code",
   "execution_count": null,
   "id": "068085b9",
   "metadata": {},
   "outputs": [],
   "source": [
    "from core.wubrg import get_color_identity\n",
    "\n",
    "class FramedDataFuncs:\n",
    "    def __init__(self, DATA):\n",
    "        self._DATA = DATA\n",
    "        self._ARCH_FUNCS = ArchFuncs(self._DATA)\n",
    "        self._SNGL_CARD_FUNCS = SingleCardFuncs(self._DATA)\n",
    "    \n",
    "    @property\n",
    "    def SET(self):\n",
    "        \"\"\"The draft set.\"\"\"\n",
    "        return self._DATA.SET\n",
    "    \n",
    "    @property\n",
    "    def FULL_SET(self):\n",
    "        \"\"\"The full name of the draft set.\"\"\"\n",
    "        return self._DATA.FULL_SET\n",
    "    \n",
    "    @property\n",
    "    def FORMAT(self):\n",
    "        \"\"\"The format type.\"\"\"\n",
    "        return self._DATA.FORMAT\n",
    "    \n",
    "    @property\n",
    "    def SHORT_FORMAT(self):\n",
    "        \"\"\"The shorthand of the format type.\"\"\"\n",
    "        return self._DATA.FULL_FORMAT\n",
    "    \n",
    "    @property\n",
    "    def DATA(self):\n",
    "        \"\"\"The object which contains the data about the set and format.\"\"\"\n",
    "        return self._DATA\n",
    "        \n",
    "    def check_for_updates(self):\n",
    "        \"\"\"Populates and updates all data properties, filling in missing data.\"\"\"\n",
    "        self._DATA.check_for_updates()\n",
    "\n",
    "    def reload_data(self):\n",
    "        \"\"\"Populates and updates all data properties, reloading all data.\"\"\"\n",
    "        self._DATA.reload_data()  \n",
    "    \n",
    "    def deck_group_frame(self, name=None, date=None, summary=False):\n",
    "        \"\"\"Returns a subset of the 'GROUPED_ARCHETYPE' data as a DataFrame.\"\"\"\n",
    "        return self.DATA.deck_group_frame(name, date, summary)\n",
    "     \n",
    "    def deck_archetype_frame(self, deck_color=None, date=None, summary=False):\n",
    "        \"\"\"Returns a subset of the 'SINGLE_ARCHETYPE' data as a DataFrame.\"\"\"\n",
    "        return self.DATA.deck_archetype_frame(deck_color, date, summary)\n",
    "    \n",
    "    def card_frame(self, name=None, deck_color=None, date=None, summary=False):\n",
    "        \"\"\"Returns a subset of the 'CARD' data as a DataFrame.\"\"\"\n",
    "        return self.DATA.card_frame(name, deck_color, date, summary)\n",
    "    \n",
    "    def compress_date_range_data(self, start_date, end_date, card_name=None):\n",
    "        \"\"\"Summarizes card data over a provided set of time.\"\"\"\n",
    "        return self.DATA.compress_date_range_data(start_date, end_date, card_name)\n",
    "        \n",
    "    \n",
    "    #ArchFuncs\n",
    "    def get_games_played(self, deck_color):\n",
    "        return self._ARCH_FUNCS.get_games_played(deck_color)\n",
    "        \n",
    "    def get_avg_winrate(self, day=None, arch='All Decks'):\n",
    "        return self._ARCH_FUNCS.get_avg_winrate(day, arch)\n",
    "    \n",
    "    def get_archetype_frame(self, colors, roll=None):\n",
    "        return self._ARCH_FUNCS.get_archetype_frame(colors, roll)\n",
    "\n",
    "    def get_archetype_winrate_history(self, color_filter=None, roll=None, *, save=False):\n",
    "        return self._ARCH_FUNCS.get_archetype_winrate_history(color_filter, roll, save=save)\n",
    "\n",
    "    def plot_archetype_winrate_history(self, plot_config, roll=None, derivs=0):\n",
    "        return self._ARCH_FUNCS.plot_archetype_winrate_history(plot_config, roll, derivs)       \n",
    "        \n",
    "    def get_archetype_playrate_history(self, color_filter=None, color_count=0, roll=None, *, save=False):\n",
    "        return self._ARCH_FUNCS.get_archetype_playrate_history(color_filter, color_count, roll, save=save)\n",
    "\n",
    "    def plot_archetype_playrate_history(self, plot_config, color_count=0, roll=None, derivs=0):\n",
    "        return self._ARCH_FUNCS.plot_archetype_playrate_history(plot_config, color_count, roll, derivs)\n",
    "    \n",
    "    def card_relative_winrates(self, deck_colors, win_rate_col, filter_option=None):\n",
    "        return self._ARCH_FUNCS.card_relative_winrates(deck_colors, win_rate_col, filter_option)\n",
    "    \n",
    "    #SingleCardFuncs\n",
    "    def get_card_summary(self, card_name, colors='', roll=None):\n",
    "        return self._SNGL_CARD_FUNCS.get_card_summary(card_name, colors, roll)\n",
    "\n",
    "    def plot_card_summary(self, card_name, colors='', roll=None):\n",
    "        return self._SNGL_CARD_FUNCS.plot_card_summary(card_name, colors, roll)\n",
    "    \n",
    "    def get_pick_stats(self, card_name, roll=None):\n",
    "        return self._SNGL_CARD_FUNCS.get_pick_stats(card_name, roll)\n",
    "    \n",
    "    def plot_pick_stats(self, card_name, roll=None):\n",
    "        return self._SNGL_CARD_FUNCS.plot_pick_stats(card_name, roll)\n",
    "    \n",
    "    def card_archetype_performance(self, card_name, color_cols=None):\n",
    "        return self._SNGL_CARD_FUNCS.card_archetype_performance(card_name, color_cols)\n",
    "    \n",
    "    def stat_archetype_performance(self, stat_name, color_cols=None):\n",
    "        return self._SNGL_CARD_FUNCS.stat_archetype_performance(stat_name, color_cols)\n",
    "    \n",
    "    def compare_card_evaluations(self, start_date=None, end_date=None):\n",
    "        def inner_func(date):\n",
    "            df = self.card_frame(date=date, deck_color='')\n",
    "            df.index = [tup[2] for tup in df.index]\n",
    "            return df\n",
    "        \n",
    "        if start_date is None:\n",
    "            metadata = SetMetadata.get_metadata(self.SET)\n",
    "            start_date = metadata.RELEASE_DATE\n",
    "            \n",
    "        if end_date is None:\n",
    "            end_date = date.today() - timedelta(days=1)\n",
    "\n",
    "        first = inner_func(date=start_date)\n",
    "        last = inner_func(date=end_date)\n",
    "        diff = last[['ALSA', 'ATA', 'Color', 'Rarity']].copy()\n",
    "        diff['ALSA Change'] = first['ALSA'] - last['ALSA']\n",
    "        diff['ATA Change'] = first['ATA'] - last['ATA']\n",
    "        return diff[['ALSA', 'ALSA Change', 'ATA', 'ATA Change', 'Color', 'Rarity']]\n",
    "\n",
    "\n",
    "    def get_top(self, column, count=10, asc=True, card_color=None, card_rarity=None, deck_color='', play_lim=None):\n",
    "        frame = self.card_frame(deck_color=deck_color, summary=True)\n",
    "        filters = list()\n",
    "        if card_color:\n",
    "            filters.append(card_color_filter(card_color))\n",
    "        if card_rarity:\n",
    "            filters.append(rarity_filter(card_rarity))\n",
    "        frame = filter_frame(frame, column, filters)#, asc)\n",
    "\n",
    "        if play_lim is not None:\n",
    "            #TODO: Fix this. \n",
    "            if type(play_lim) is float: play_lim *= self.get_games_played(deck_color)\n",
    "            print(f'Minimum Games played to be included: {play_lim}')\n",
    "            frame = frame[frame['# GP'] >= play_lim]\n",
    "\n",
    "        return frame.head(count)"
   ]
  },
  {
   "cell_type": "code",
   "execution_count": null,
   "id": "90965f5e",
   "metadata": {},
   "outputs": [],
   "source": [
    "from core.data_graphing import ROLL, ARCHETYPES_COLOR_DICT\n",
    "from core.wubrg import COLOR_PAIRS, COLOUR_GROUPINGS, get_color_subsets\n",
    "from core.data_fetching.utils.consts import COLOR_COUNT_REVERSE_MAP, COLOR_COUNT_SHORTHAND, COLOR_COUNT_SHORTHAND_MAP\n",
    "\n",
    "class ArchFuncs:   \n",
    "    def __init__(self, DATA):\n",
    "        self._DATA = DATA\n",
    "        \n",
    "    @staticmethod\n",
    "    def _get_play_stat_frame(frame, col, roll=None, aggfunc=None):\n",
    "        if roll is None: roll = ROLL\n",
    "        if aggfunc is None: aggfunc = np.sum\n",
    "        ret = frame[[col]]\n",
    "        ret.reset_index(inplace=True, level=1)\n",
    "        ret = ret.pivot_table(values=col, index=ret.index, columns='Name', dropna=False, aggfunc=aggfunc)\n",
    "        ret = ret.rolling(window=roll, min_periods=1, center=True).mean()\n",
    "        ret.columns.names = [col]\n",
    "        return ret\n",
    "\n",
    "    def _get_all_stat(self, stat, roll=None, aggfunc=None):\n",
    "        archetypes = self._get_play_stat_frame(self._DATA.deck_archetype_frame(), stat, roll, aggfunc)\n",
    "        archetypes = archetypes[[color for color in COLOR_COMBINATIONS if color in archetypes.columns]]\n",
    "\n",
    "        groups = self._get_play_stat_frame(self._DATA.deck_group_frame(), stat, roll, aggfunc)\n",
    "        groups.rename(columns=COLOR_COUNT_SHORTHAND_MAP, inplace=True)\n",
    "        groups = groups[COLOR_COUNT_SHORTHAND]\n",
    "\n",
    "        return pd.concat([groups, archetypes], axis=1)\n",
    "\n",
    "\n",
    "    def get_winrates(self, roll=None):\n",
    "        wins = self._get_all_stat('Wins', roll, np.sum)\n",
    "        games = self._get_all_stat('Games', roll, np.sum)\n",
    "        frame = (wins / games) * 100\n",
    "        frame.columns.names = ['Avg. Win %']\n",
    "        return frame\n",
    "\n",
    "\n",
    "    def get_playrates(self, num_colors=0, roll=None):\n",
    "        #TODO: Remove num_colors, and handle bubbling chnages from that.\n",
    "        games = self._get_all_stat('Games', roll, np.sum)\n",
    "        \n",
    "        if num_colors == 0:\n",
    "            frame = games.div(games['ALL'], axis='rows') * 100\n",
    "            frame.columns.names = ['% of Decks']\n",
    "            return frame\n",
    "\n",
    "        true_name = COLOR_COUNT_REVERSE_MAP[num_colors].title()\n",
    "        summ_id = COLOR_COUNT_SHORTHAND_MAP[true_name]\n",
    "\n",
    "        frame = games.div(games[summ_id], axis='rows') * 100\n",
    "        frame.columns.names = [f'% of {num_colors}C Decks']\n",
    "        return frame\n",
    "   \n",
    "    def get_archetype_winrate_history(self, color_filter=None, roll=None, *, save=False):\n",
    "        if roll is None: roll = ROLL\n",
    "            \n",
    "        frame = self.get_winrates(roll)\n",
    "       \n",
    "        if isinstance(color_filter, str):\n",
    "            # TODO: Make this more flexible.\n",
    "            #col_filt = ['ALL', f'{len(color_filter)}C'] + [col for col in COLOR_PAIRS if color_filter in col]  \n",
    "            col_filt = ['ALL', '2C'] + [col for col in COLOR_PAIRS if color_filter in col]  \n",
    "            frame = frame[col_filt]\n",
    "        elif isinstance(color_filter, list):\n",
    "            frame = frame[color_filter]\n",
    "            \n",
    "        if save:\n",
    "            PlotterHelper(self._DATA).frame_to_png(frame, \"archetype_winrate_table.png\")\n",
    "        \n",
    "        return frame        \n",
    "        \n",
    "    #TODO: Implement a more generic version of this that takes in a list of deck colours to include as output. \n",
    "    def get_archetype_playrate_history(self, color_filter=None, color_count=0, roll=None, *, save=False):\n",
    "        if roll is None: roll = ROLL\n",
    "            \n",
    "        frame = self.get_playrates(color_count, roll)\n",
    "\n",
    "        if isinstance(color_filter, str):\n",
    "            col_filt = [col for col in COLOR_PAIRS if color_filter in col]\n",
    "            frame = frame[col_filt]\n",
    "        if isinstance(color_filter, list):\n",
    "            frame = frame[color_filter]\n",
    "            \n",
    "        if save:\n",
    "            PlotterHelper(self._DATA).frame_to_png(frame, \"archetype_playrate_table.png\")\n",
    "\n",
    "        return frame\n",
    "    \n",
    "    def plot_archetype_winrate_history(self, plot_config, roll=None, derivs=0, save=False):\n",
    "        if roll is None: roll = ROLL\n",
    "        color_filter = plot_config.color_list\n",
    "\n",
    "        data = self.get_archetype_winrate_history(color_filter, roll)\n",
    "        for _ in range(0, derivs):\n",
    "            data = data.diff()\n",
    "        data.index = [idx[5:] for idx in data.index]\n",
    "        colors = str(color_filter)  #TODO: Make this cleverer at showing filter.\n",
    "\n",
    "        plot_help = PlotterHelper(self._DATA, plot_config)\n",
    "        fig, ax = plot_help.new_single_plot('Archetype Winrates', width=16, height=8)\n",
    "        plot_help.accredit(y=0.035, x=0.51)\n",
    "        plot_help.desc_note(colors=colors, roll=roll, y=0.935, x=0.51)\n",
    "        \n",
    "        plot_help.set_labels(x_label=\"Date\", y_label=\"Win Rate\")\n",
    "        plot_help.set_data(data, color_filter)\n",
    "        \n",
    "        if save:\n",
    "            plot_help.save_fig(f\"{plot_config.file_name_prefix}_win_rates_{roll}day_avg.png\", \"Metagame\")\n",
    "\n",
    "    def plot_archetype_playrate_history(self, plot_config, color_count=0, roll=None, derivs=0, save=False):\n",
    "        if roll is None: roll = ROLL\n",
    "        color_filter = plot_config.color_list\n",
    "\n",
    "        data = self.get_archetype_playrate_history(color_filter, color_count, roll)\n",
    "        for _ in range(0, derivs):\n",
    "            data = data.diff()\n",
    "        data.index = [idx[5:] for idx in data.index]\n",
    "        \n",
    "        \n",
    "        plot_help = PlotterHelper(self._DATA, plot_config)\n",
    "        fig, ax = plot_help.new_single_plot('Archetype Playrates', width=16, height=8)\n",
    "        plot_help.accredit(y=0.035, x=0.51)\n",
    "        plot_help.desc_note(colors=color_filter, roll=roll, y=0.935, x=0.51)\n",
    "        \n",
    "        plot_help.set_labels(x_label=\"Date\", y_label=\"Percent of Metagame\")\n",
    "        plot_help.set_data(data, color_filter)\n",
    "        \n",
    "        if save:\n",
    "            plot_help.save_fig(f\"{plot_config.file_name_prefix}_play_rates_{roll}day_avg.png\", \"Metagame\")\n",
    "            \n",
    "    \n",
    "    def card_relative_winrates(self, deck_colors=None, win_rate_col='GIH WR', filter_option=None):\n",
    "        deck_colors = get_color_identity(deck_colors)\n",
    "        \n",
    "        # Get the relevant list of cards, and then trim it down to the relevant colours.\n",
    "        sub_frame = self._DATA.card_frame(deck_color=deck_colors)\n",
    "        sub_frame = set_data.BO1.DATA.CARD_HISTORY_FRAME.loc[slice(None), get_color_slice(deck_colors), get_name_slice(None)]\n",
    "        sub_frame = sub_frame.reset_index(level=1)\n",
    "        if deck_colors:\n",
    "            sub_frame = sub_frame[sub_frame['Cast Color'].isin(get_color_subsets(deck_colors))]\n",
    "\n",
    "        # Get the winrates for the cards and average winrate of the archetype, then re-center the card winrates with it. \n",
    "        win_frame = self._get_play_stat_frame(sub_frame, win_rate_col, roll=1, aggfunc=np.mean)\n",
    "        avg_frame = self.get_archetype_winrate_history(deck_colors)\n",
    "        target_avg = deck_colors if deck_colors else 'ALL'\n",
    "        ret_frame = win_frame.sub(avg_frame[target_avg], axis='rows').T\n",
    "\n",
    "        # Get the games played from the subset of cards and use it to re-weight the win rates per day, to calculate an accurate average.\n",
    "        games_frame = self._get_play_stat_frame(sub_frame, '# GP', roll=1, aggfunc=np.mean).T\n",
    "        ret_frame[f'AVG'] = (ret_frame * games_frame).sum(axis=1) / games_frame.sum(axis=1)\n",
    "        ret_frame['# GP'] = games_frame.sum(axis=1)\n",
    "\n",
    "        # Sort by most winning first.\n",
    "        ret_frame = ret_frame.sort_values(f'AVG', ascending=False).T\n",
    "        return ret_frame[::-1]"
   ]
  },
  {
   "cell_type": "code",
   "execution_count": null,
   "id": "0743e0e1",
   "metadata": {},
   "outputs": [],
   "source": [
    "from core.data_graphing import ROLL, STATS_COLOR_DICT\n",
    "from core.wubrg import COLOR_COMBINATIONS, COLOR_PAIRS\n",
    "from core.data_fetching.utils.consts import STAT_COL_NAMES\n",
    "\n",
    "class SingleCardFuncs:   \n",
    "    def __init__(self, DATA):\n",
    "        self._DATA = DATA\n",
    "        self._COLOR_IDX = 0\n",
    "        \n",
    "    def _shorten_data(self, card_name, roll, cols, colors=''):\n",
    "        frame = self._DATA.card_frame(name=card_name, deck_color=colors)[cols]\n",
    "        frame.index = [tup[0][5:] for tup in frame.index]\n",
    "        rolling = frame.rolling(window=roll, min_periods=1, center=True).mean()\n",
    "        return rolling\n",
    "\n",
    "    def plot_card_summary(self, card_name, colors='', roll=None, color_dict=None):\n",
    "        if roll is None: roll = ROLL\n",
    "        if color_dict is None: color_dict = STATS_COLOR_DICT\n",
    "        rolling = self._shorten_data(card_name, roll, ['GIH WR', 'GND WR', 'ATA', 'ALSA', '# GP', '# GIH', '# Picked', '# Seen'], colors=colors)\n",
    "        if rolling.empty:\n",
    "            print(f\"\"\"Could not find data for \"{card_name}\". Please make sure it is spelled correctly, or you are accessing the right set.\"\"\")\n",
    "            return False\n",
    "        \n",
    "        plot_help = PlotterHelper(self._DATA, color_dict=color_dict)\n",
    "        fig, ax = plot_help.new_quad_plot(card_name)\n",
    "        plot_help.accredit(y=0.075)\n",
    "        plot_help.desc_note(colors=colors, roll=roll)\n",
    "                \n",
    "        plot_help.set_labels(y_label=\"Win Percent\", g_x=0, g_y=0)\n",
    "        plot_help.set_data(rolling, ['GIH WR', 'GND WR'], g_x=0, g_y=0)\n",
    "        \n",
    "        plot_help.set_labels(y_label=\"Pick Number\", g_x=0, g_y=1)\n",
    "        plot_help.set_data(rolling, ['ALSA', 'ATA'], inv_y=True, g_x=0, g_y=1)\n",
    "        \n",
    "        plot_help.set_labels(x_label=\"Date\", y_label=\"# of Games\", g_x=1, g_y=0)\n",
    "        plot_help.set_data(rolling, ['# GP', '# GIH'], g_x=1, g_y=0)\n",
    "\n",
    "        plot_help.set_labels(x_label=\"Date\", y_label=\"# of Cards\", g_x=1, g_y=1)\n",
    "        plot_help.set_data(rolling, ['# Seen', '# Picked'], g_x=1, g_y=1)\n",
    "        \n",
    "        if colors:\n",
    "            plot_help.save_fig(f\"pcs_{card_name}_{colors}.png\", \"Summary\")\n",
    "        else:\n",
    "            plot_help.save_fig(f\"pcs_{card_name}.png\", \"Summary\")\n",
    "        \n",
    "        return True\n",
    "    \n",
    "    \n",
    "    def plot_pick_stats(self, card_name, roll=None, color_dict=None):\n",
    "        if roll is None: roll = ROLL        \n",
    "        if color_dict is None: color_dict = STATS_COLOR_DICT\n",
    "        taken_data = self._shorten_data(card_name, roll, ['ALSA', 'ATA'])\n",
    "        if taken_data.empty:\n",
    "            print(f\"\"\"Could not find data for \"{card_name}\". Please make sure it is spelled correctly, or you are accessing the right set.\"\"\")\n",
    "            return\n",
    "        \n",
    "        plot_help = PlotterHelper(self._DATA, color_dict=color_dict)\n",
    "        fig, ax = plot_help.new_single_plot(card_name)\n",
    "        plot_help.accredit()\n",
    "        plot_help.desc_note(roll=roll, y=0.96)\n",
    "        \n",
    "        plot_help.set_labels(x_label=\"Date\", y_label=\"Pick Number\")\n",
    "        plot_help.set_data(taken_data, ['ALSA', 'ATA'], inv_y=True)\n",
    "        \n",
    "        plot_help.save_fig(f\"pps_{card_name}.png\", \"Pick Stats\")\n",
    "\n",
    "\n",
    "    def card_archetype_performance(self, card_name, color_cols=None):\n",
    "        frame = self._DATA.card_frame(card_name, summary=True).T\n",
    "        frame.loc[STAT_COL_NAMES].T\n",
    "        if color_cols is not None:\n",
    "            ret = ret[color_cols]\n",
    "        return frame\n",
    "    \n",
    "    \n",
    "    def stat_archetype_performance(self, stat_name, color_cols=None):\n",
    "        series = self._DATA.card_frame(summary=True)[stat_name]\n",
    "        frame = series.reset_index(level=0)\n",
    "        ret = pd.pivot_table(frame, index='Name', columns='Deck Colors')\n",
    "        ret.columns = ret.columns.droplevel(0)\n",
    "        if color_cols is not None:\n",
    "            ret = ret[color_cols]\n",
    "        return ret"
   ]
  },
  {
   "cell_type": "markdown",
   "id": "c1baebf2",
   "metadata": {},
   "source": [
    "# Data Overview"
   ]
  },
  {
   "cell_type": "code",
   "execution_count": null,
   "id": "accd9aa6",
   "metadata": {
    "scrolled": true
   },
   "outputs": [],
   "source": [
    "examiner = FramedDataFuncs(set_data.BO1)\n",
    "frame = examiner.card_frame(deck_color='', summary=True)\n",
    "pd.set_option('display.max_rows', len(frame))\n",
    "pd.set_option('display.max_columns', len(frame.columns))\n",
    "frame.sort_values('GIH WR', ascending=False)"
   ]
  },
  {
   "cell_type": "code",
   "execution_count": null,
   "id": "8e0c2468",
   "metadata": {},
   "outputs": [],
   "source": [
    "set_data.BO1.card_frame(deck_color='UR', summary=True)"
   ]
  },
  {
   "cell_type": "code",
   "execution_count": null,
   "id": "f5fc69e1",
   "metadata": {},
   "outputs": [],
   "source": [
    "def get_top_performers(card_color=None, common_cnt=10, uncommon_cnt=5, deck_color='', play_lim=None):\n",
    "    play_lim = play_lim or round(examiner.card_frame(deck_color=deck_color, summary=True)['# GP'].max() * 0.005)\n",
    "    commons = examiner.get_top('GIH WR', count=common_cnt, card_color=card_color, card_rarity='C', deck_color=deck_color, play_lim=play_lim)\n",
    "    uncommons = examiner.get_top('GIH WR', count=uncommon_cnt, card_color=card_color, card_rarity='U', deck_color=deck_color, play_lim=play_lim)\n",
    "    top_cards = pd.concat([commons, uncommons])\n",
    "    top_cards = top_cards.drop(['Type Line', 'Supertypes', 'Types', 'Subtypes', 'Power', 'Toughness'], axis=1)\n",
    "    return top_cards.sort_values('GIH WR', ascending=False)"
   ]
  },
  {
   "cell_type": "code",
   "execution_count": null,
   "id": "905de143",
   "metadata": {
    "scrolled": false
   },
   "outputs": [],
   "source": [
    "get_top_performers(None, 25, 10, '', None)"
   ]
  },
  {
   "cell_type": "code",
   "execution_count": null,
   "id": "fcc5b7ab",
   "metadata": {
    "scrolled": false
   },
   "outputs": [],
   "source": [
    "get_top_performers('W')"
   ]
  },
  {
   "cell_type": "code",
   "execution_count": null,
   "id": "8b27e39a",
   "metadata": {},
   "outputs": [],
   "source": [
    "get_top_performers('U')"
   ]
  },
  {
   "cell_type": "code",
   "execution_count": null,
   "id": "58371b52",
   "metadata": {},
   "outputs": [],
   "source": [
    "get_top_performers('B')"
   ]
  },
  {
   "cell_type": "code",
   "execution_count": null,
   "id": "69266b6c",
   "metadata": {},
   "outputs": [],
   "source": [
    "get_top_performers('R')"
   ]
  },
  {
   "cell_type": "code",
   "execution_count": null,
   "id": "a6081715",
   "metadata": {
    "scrolled": false
   },
   "outputs": [],
   "source": [
    "get_top_performers('G')"
   ]
  },
  {
   "cell_type": "code",
   "execution_count": null,
   "id": "035a30de",
   "metadata": {},
   "outputs": [],
   "source": [
    "get_top_performers('G', deck_color='GW')"
   ]
  },
  {
   "cell_type": "code",
   "execution_count": null,
   "id": "d3f60f0b",
   "metadata": {},
   "outputs": [],
   "source": [
    "raise Exception('Stopping Auto-Run!')"
   ]
  },
  {
   "cell_type": "code",
   "execution_count": null,
   "id": "6338bbed",
   "metadata": {},
   "outputs": [],
   "source": [
    "card_names = [\"Archive Dragon\", \"Beluna's Gatekeeper\", \"Hearth Elemental\", \"Stormkeld Vanguard\"]\n",
    "frame = set_data.BO1.card_frame(deck_color='', summary=True)\n",
    "frame = frame.droplevel('Deck Colors')\n",
    "frame.loc[card_names]"
   ]
  },
  {
   "cell_type": "markdown",
   "id": "1aac4f7a",
   "metadata": {},
   "source": [
    "## Archetype Winrate History"
   ]
  },
  {
   "cell_type": "code",
   "execution_count": null,
   "id": "b5d67aa5",
   "metadata": {},
   "outputs": [],
   "source": [
    "from core.data_graphing.utils.color.plotting_config import DefaultPlotConfigs\n",
    "roll = 3"
   ]
  },
  {
   "cell_type": "code",
   "execution_count": null,
   "id": "4fffa630",
   "metadata": {
    "scrolled": true
   },
   "outputs": [],
   "source": [
    "ALLIED = list(color_alias.ALLIED_GUILDS.values())\n",
    "ENEMY = list(color_alias.ENEMY_GUILDS.values())\n",
    "WEDGES = list(color_alias.WEDGES.values())\n",
    "SHARDS = list(color_alias.SHARDS.values())\n",
    "TYPICAL_DECKS = ['ALL', '2C', '3C'] + ALLIED + ENEMY + WEDGES + SHARDS\n",
    "prettify_frame(examiner.get_archetype_winrate_history(TYPICAL_DECKS, save=False))"
   ]
  },
  {
   "cell_type": "code",
   "execution_count": null,
   "id": "2faa896b",
   "metadata": {},
   "outputs": [],
   "source": [
    "examiner.plot_archetype_winrate_history(DefaultPlotConfigs.ALLIED, roll=roll)\n",
    "examiner.plot_archetype_winrate_history(DefaultPlotConfigs.ENEMY, roll=roll)"
   ]
  },
  {
   "cell_type": "code",
   "execution_count": null,
   "id": "d03552f0",
   "metadata": {
    "scrolled": false
   },
   "outputs": [],
   "source": [
    "examiner.plot_archetype_winrate_history(DefaultPlotConfigs.WEDGE, roll=roll)\n",
    "examiner.plot_archetype_winrate_history(DefaultPlotConfigs.SHARD, roll=roll)"
   ]
  },
  {
   "cell_type": "code",
   "execution_count": null,
   "id": "9acf6475",
   "metadata": {},
   "outputs": [],
   "source": [
    "examiner.plot_archetype_winrate_history(DefaultPlotConfigs.TWO_COLOR, roll=roll)"
   ]
  },
  {
   "cell_type": "markdown",
   "id": "39a9167e",
   "metadata": {},
   "source": [
    "## Archetype Playrate History"
   ]
  },
  {
   "cell_type": "code",
   "execution_count": null,
   "id": "0f985749",
   "metadata": {},
   "outputs": [],
   "source": [
    "examiner.plot_archetype_playrate_history(DefaultPlotConfigs.ALLIED, roll=roll)\n",
    "examiner.plot_archetype_playrate_history(DefaultPlotConfigs.ENEMY, roll=roll)"
   ]
  },
  {
   "cell_type": "code",
   "execution_count": null,
   "id": "6a7e812b",
   "metadata": {
    "scrolled": false
   },
   "outputs": [],
   "source": [
    "examiner.plot_archetype_playrate_history(DefaultPlotConfigs.WEDGE, roll=roll)\n",
    "examiner.plot_archetype_playrate_history(DefaultPlotConfigs.SHARD, roll=roll)"
   ]
  },
  {
   "cell_type": "code",
   "execution_count": null,
   "id": "bfeaf9d8",
   "metadata": {},
   "outputs": [],
   "source": [
    "examiner.plot_archetype_playrate_history(DefaultPlotConfigs.TWO_COLOR, roll=roll)"
   ]
  },
  {
   "cell_type": "markdown",
   "id": "ada2de23",
   "metadata": {},
   "source": [
    "## Card Pick Order Changes"
   ]
  },
  {
   "cell_type": "code",
   "execution_count": null,
   "id": "325b9cfe",
   "metadata": {
    "scrolled": true
   },
   "outputs": [],
   "source": [
    "#TODO: Merge all of this functionality into one structure.\n",
    "helper = PlotterHelper(examiner.DATA)\n",
    "diff = examiner.compare_card_evaluations()\n",
    "commons = diff[diff['Rarity'] == 'C']\n",
    "uncommons = diff[diff['Rarity'] == 'U']\n",
    "SRT_TRG = 'ALSA Change'\n",
    "diff"
   ]
  },
  {
   "cell_type": "code",
   "execution_count": null,
   "id": "0799ff3f",
   "metadata": {},
   "outputs": [],
   "source": [
    "frame = commons.sort_values(SRT_TRG, ascending=False).head(20)\n",
    "helper.frame_to_png(frame, f\"{SRT_TRG} - ContestedCommonsCCE.png\")\n",
    "frame"
   ]
  },
  {
   "cell_type": "code",
   "execution_count": null,
   "id": "76e4bf7a",
   "metadata": {},
   "outputs": [],
   "source": [
    "frame = commons.sort_values(SRT_TRG, ascending=True).head(20)\n",
    "helper.frame_to_png(frame, f\"{SRT_TRG} - UncontestedCommonsCCE.png\")\n",
    "frame"
   ]
  },
  {
   "cell_type": "code",
   "execution_count": null,
   "id": "c25ca9f0",
   "metadata": {},
   "outputs": [],
   "source": [
    "frame = uncommons.sort_values(SRT_TRG, ascending=False).head(10)\n",
    "helper.frame_to_png(frame, f\"{SRT_TRG} - ContestedUncommonsCCE.png\")\n",
    "frame"
   ]
  },
  {
   "cell_type": "code",
   "execution_count": null,
   "id": "b5e3ef2d",
   "metadata": {
    "scrolled": false
   },
   "outputs": [],
   "source": [
    "frame = uncommons.sort_values(SRT_TRG, ascending=True).head(10)\n",
    "helper.frame_to_png(frame, f\"{SRT_TRG} - UncontestedUncommonsCCE.png\")\n",
    "frame"
   ]
  },
  {
   "cell_type": "code",
   "execution_count": null,
   "id": "b163e0ac",
   "metadata": {},
   "outputs": [],
   "source": [
    "sub_frame = examiner.card_frame(deck_color='', summary=True).sort_values('GIH WR', ascending=False)\n",
    "sub_frame = sub_frame[sub_frame['Rarity'] == 'C'].head(15)\n",
    "sub_frame.index = [tup[1] for tup in sub_frame.index]\n",
    "frame = sub_frame[['ALSA', 'ATA', 'GIH WR', 'OH WR', 'Color', 'Rarity']].copy()\n",
    "helper.frame_to_png(frame, f\"{SRT_TRG} - BaselineCCE.png\")\n",
    "frame"
   ]
  },
  {
   "cell_type": "code",
   "execution_count": null,
   "id": "8e2329f4",
   "metadata": {},
   "outputs": [],
   "source": [
    "sub_frame = examiner.card_frame(deck_color='', summary=True).sort_values('GIH WR', ascending=False)\n",
    "sub_frame = sub_frame[sub_frame['Rarity'] == 'U'].head(15)\n",
    "sub_frame.index = [tup[1] for tup in sub_frame.index]\n",
    "frame = sub_frame[['ALSA', 'ATA', 'GIH WR', 'OH WR', 'Color', 'Rarity']].copy()\n",
    "helper.frame_to_png(frame, f\"{SRT_TRG} - BaselineCCE.png\")\n",
    "frame"
   ]
  },
  {
   "cell_type": "markdown",
   "id": "2fe221df",
   "metadata": {},
   "source": [
    "# Examine Data"
   ]
  },
  {
   "cell_type": "code",
   "execution_count": null,
   "id": "a5fb1508",
   "metadata": {},
   "outputs": [],
   "source": [
    "examiner.stat_archetype_performance('GIH WR')"
   ]
  },
  {
   "cell_type": "code",
   "execution_count": null,
   "id": "486637f9",
   "metadata": {},
   "outputs": [],
   "source": [
    "examiner.stat_archetype_performance('GIH WR', color_cols=['WU', 'WG', 'UB', 'BR', 'RG'])"
   ]
  },
  {
   "cell_type": "code",
   "execution_count": null,
   "id": "3084d29a",
   "metadata": {},
   "outputs": [],
   "source": [
    "examiner = FramedDataFuncs(set_data.BO1)\n",
    "rel_wins_frame = examiner.card_relative_winrates('WR', 'GIH WR')\n",
    "rel_wins_frame"
   ]
  },
  {
   "cell_type": "code",
   "execution_count": null,
   "id": "3e5ae060",
   "metadata": {},
   "outputs": [],
   "source": [
    "examiner.card_archetype_performance(\"Obyra's Attendants\")"
   ]
  },
  {
   "cell_type": "code",
   "execution_count": null,
   "id": "57e4bd37",
   "metadata": {
    "scrolled": false
   },
   "outputs": [],
   "source": [
    "games = rel_wins_frame.loc['# GP']\n",
    "def format_rel_wins(v):\n",
    "    if v == '---':\n",
    "        return '---'\n",
    "    elif v > 0:\n",
    "        return f\"+{round(v, 2)}%\"\n",
    "    else:\n",
    "        return f\"-{round(v, 2)}%\"\n",
    "rel_wins_frame = examiner.card_relative_winrates('WR', 'GIH WR')\n",
    "rel_wins_frame.fillna('---', inplace=True)\n",
    "prettify_frame(rel_wins_frame.style.format(format_rel_wins))"
   ]
  },
  {
   "cell_type": "code",
   "execution_count": null,
   "id": "17dc4806",
   "metadata": {},
   "outputs": [],
   "source": []
  }
 ],
 "metadata": {
  "kernelspec": {
   "display_name": "Python 3 (ipykernel)",
   "language": "python",
   "name": "python3"
  },
  "language_info": {
   "codemirror_mode": {
    "name": "ipython",
    "version": 3
   },
   "file_extension": ".py",
   "mimetype": "text/x-python",
   "name": "python",
   "nbconvert_exporter": "python",
   "pygments_lexer": "ipython3",
   "version": "3.11.3"
  }
 },
 "nbformat": 4,
 "nbformat_minor": 5
}
