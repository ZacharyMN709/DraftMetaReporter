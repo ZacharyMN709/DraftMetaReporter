{
 "cells": [
  {
   "cell_type": "markdown",
   "id": "7ef6dfba",
   "metadata": {},
   "source": [
    "# Initialization"
   ]
  },
  {
   "cell_type": "markdown",
   "id": "7e66fa52",
   "metadata": {},
   "source": [
    "Add the parent directory to the path, to emulate running the notebook from the top-level folder. This helps to keep imports understandable."
   ]
  },
  {
   "cell_type": "code",
   "execution_count": null,
   "id": "5bc17f1f",
   "metadata": {},
   "outputs": [],
   "source": [
    "import sys\n",
    "sys.path.append('..')"
   ]
  },
  {
   "cell_type": "markdown",
   "id": "7adf00e6",
   "metadata": {},
   "source": [
    "Import the code which help structure the notebook and allow for easier data analysis, along with some default values to use for functions."
   ]
  },
  {
   "cell_type": "code",
   "execution_count": null,
   "id": "e52423d9",
   "metadata": {
    "scrolled": false
   },
   "outputs": [],
   "source": [
    "from core.utilities.notebook_setups.frame_tools import *\n",
    "from core.utilities import logging\n",
    "from core.data_graphing import *\n",
    "\n",
    "SET = 'MKM'\n",
    "ROLL = 3\n",
    "DERIVATIONS = 0\n",
    "SRT_TRG = 'ALSA Change'\n",
    "SAVE = False"
   ]
  },
  {
   "cell_type": "markdown",
   "id": "e7367f49",
   "metadata": {},
   "source": [
    "Load the data for the set (or automatically fetch it if needed)."
   ]
  },
  {
   "cell_type": "code",
   "execution_count": null,
   "id": "70a585bc",
   "metadata": {},
   "outputs": [],
   "source": [
    "data_manager, set_data = set_up(log_lvl=LogLvl.SPARSE, target_set=SET)\n",
    "examiner = DataFrameFuncs(set_data.BO1)\n",
    "frame = examiner.card_frame(deck_color='', summary=True)"
   ]
  },
  {
   "cell_type": "markdown",
   "id": "c1baebf2",
   "metadata": {},
   "source": [
    "# Data Overview"
   ]
  },
  {
   "cell_type": "markdown",
   "id": "5c161956",
   "metadata": {},
   "source": [
    "## Top Performing Cards"
   ]
  },
  {
   "cell_type": "markdown",
   "id": "3cafb545",
   "metadata": {},
   "source": [
    "### All Cards"
   ]
  },
  {
   "cell_type": "code",
   "execution_count": null,
   "id": "905de143",
   "metadata": {
    "scrolled": false
   },
   "outputs": [],
   "source": [
    "examiner.get_top_performers(None, 25, 10, '')"
   ]
  },
  {
   "cell_type": "markdown",
   "id": "0b9b38cc",
   "metadata": {},
   "source": [
    "### Colour-Pairs"
   ]
  },
  {
   "cell_type": "code",
   "execution_count": null,
   "id": "4d2fd4e8",
   "metadata": {
    "scrolled": false
   },
   "outputs": [],
   "source": [
    "examiner.get_top_performers(['WU', 'WB', 'WR', 'WG', 'UB', 'UR', 'UG', 'BR', 'BG', 'RG'])"
   ]
  },
  {
   "cell_type": "markdown",
   "id": "8229b7b9",
   "metadata": {},
   "source": [
    "### By Colour"
   ]
  },
  {
   "cell_type": "code",
   "execution_count": null,
   "id": "fcc5b7ab",
   "metadata": {
    "scrolled": false
   },
   "outputs": [],
   "source": [
    "examiner.get_top_performers('W')"
   ]
  },
  {
   "cell_type": "code",
   "execution_count": null,
   "id": "8b27e39a",
   "metadata": {},
   "outputs": [],
   "source": [
    "examiner.get_top_performers('U')"
   ]
  },
  {
   "cell_type": "code",
   "execution_count": null,
   "id": "58371b52",
   "metadata": {},
   "outputs": [],
   "source": [
    "examiner.get_top_performers('B')"
   ]
  },
  {
   "cell_type": "code",
   "execution_count": null,
   "id": "69266b6c",
   "metadata": {},
   "outputs": [],
   "source": [
    "examiner.get_top_performers('R')"
   ]
  },
  {
   "cell_type": "code",
   "execution_count": null,
   "id": "a6081715",
   "metadata": {
    "scrolled": false
   },
   "outputs": [],
   "source": [
    "examiner.get_top_performers('G')"
   ]
  },
  {
   "cell_type": "markdown",
   "id": "1aac4f7a",
   "metadata": {},
   "source": [
    "## Archetype Playrate & Winrate History"
   ]
  },
  {
   "cell_type": "markdown",
   "id": "cb3282ea",
   "metadata": {},
   "source": [
    "### Overview"
   ]
  },
  {
   "cell_type": "code",
   "execution_count": null,
   "id": "9acf6475",
   "metadata": {},
   "outputs": [],
   "source": [
    "examiner.plot_archetype_winrate_history(DefaultPlotConfigs.TWO_COLOR, roll=ROLL)\n",
    "examiner.plot_archetype_playrate_history(DefaultPlotConfigs.TWO_COLOR, roll=ROLL)"
   ]
  },
  {
   "cell_type": "code",
   "execution_count": null,
   "id": "2faa896b",
   "metadata": {},
   "outputs": [],
   "source": [
    "examiner.plot_archetype_winrate_history(DefaultPlotConfigs.ALLIED, roll=ROLL)\n",
    "examiner.plot_archetype_playrate_history(DefaultPlotConfigs.ALLIED, roll=ROLL)"
   ]
  },
  {
   "cell_type": "code",
   "execution_count": null,
   "id": "0f985749",
   "metadata": {},
   "outputs": [],
   "source": [
    "examiner.plot_archetype_winrate_history(DefaultPlotConfigs.ENEMY, roll=ROLL)\n",
    "examiner.plot_archetype_playrate_history(DefaultPlotConfigs.ENEMY, roll=ROLL)"
   ]
  },
  {
   "cell_type": "markdown",
   "id": "cb69247d",
   "metadata": {},
   "source": [
    "### By Colour"
   ]
  },
  {
   "cell_type": "code",
   "execution_count": null,
   "id": "5a33cef0",
   "metadata": {},
   "outputs": [],
   "source": [
    "examiner.plot_archetype_winrate_history(DefaultPlotConfigs.WHITE, roll=ROLL)\n",
    "examiner.plot_archetype_playrate_history(DefaultPlotConfigs.WHITE, roll=ROLL)"
   ]
  },
  {
   "cell_type": "code",
   "execution_count": null,
   "id": "a2527a0c",
   "metadata": {},
   "outputs": [],
   "source": [
    "examiner.plot_archetype_winrate_history(DefaultPlotConfigs.BLUE, roll=ROLL)\n",
    "examiner.plot_archetype_playrate_history(DefaultPlotConfigs.BLUE, roll=ROLL)"
   ]
  },
  {
   "cell_type": "code",
   "execution_count": null,
   "id": "ae96346f",
   "metadata": {},
   "outputs": [],
   "source": [
    "examiner.plot_archetype_winrate_history(DefaultPlotConfigs.BLACK, roll=ROLL)\n",
    "examiner.plot_archetype_playrate_history(DefaultPlotConfigs.BLACK, roll=ROLL)"
   ]
  },
  {
   "cell_type": "code",
   "execution_count": null,
   "id": "04831caf",
   "metadata": {},
   "outputs": [],
   "source": [
    "examiner.plot_archetype_winrate_history(DefaultPlotConfigs.RED, roll=ROLL)\n",
    "examiner.plot_archetype_playrate_history(DefaultPlotConfigs.RED, roll=ROLL)"
   ]
  },
  {
   "cell_type": "code",
   "execution_count": null,
   "id": "0bdfeab2",
   "metadata": {},
   "outputs": [],
   "source": [
    "examiner.plot_archetype_winrate_history(DefaultPlotConfigs.GREEN, roll=ROLL)\n",
    "examiner.plot_archetype_playrate_history(DefaultPlotConfigs.GREEN, roll=ROLL)"
   ]
  },
  {
   "cell_type": "markdown",
   "id": "ada2de23",
   "metadata": {},
   "source": [
    "## Card Pick Order Changes"
   ]
  },
  {
   "cell_type": "code",
   "execution_count": null,
   "id": "aab549a7",
   "metadata": {
    "scrolled": false
   },
   "outputs": [],
   "source": [
    "analyzer = PickOrderAnalyzer(examiner.DATA, SRT_TRG)\n",
    "styled_frames = analyzer.gen_card_evaluation_summary()"
   ]
  },
  {
   "cell_type": "markdown",
   "id": "585c4953",
   "metadata": {},
   "source": [
    "### Commons"
   ]
  },
  {
   "cell_type": "code",
   "execution_count": null,
   "id": "8aa7e3d7",
   "metadata": {},
   "outputs": [],
   "source": [
    "styled_frames[\"ContestedCommons\"]"
   ]
  },
  {
   "cell_type": "code",
   "execution_count": null,
   "id": "3c32b977",
   "metadata": {},
   "outputs": [],
   "source": [
    "styled_frames[\"UncontestedCommons\"]"
   ]
  },
  {
   "cell_type": "markdown",
   "id": "0a832b06",
   "metadata": {},
   "source": [
    "### Uncommons"
   ]
  },
  {
   "cell_type": "code",
   "execution_count": null,
   "id": "08ccd306",
   "metadata": {},
   "outputs": [],
   "source": [
    "styled_frames[\"ContestedUncommons\"]"
   ]
  },
  {
   "cell_type": "code",
   "execution_count": null,
   "id": "9db0e4d1",
   "metadata": {},
   "outputs": [],
   "source": [
    "styled_frames[\"UncontestedUncommons\"]"
   ]
  },
  {
   "cell_type": "markdown",
   "id": "cde774c3",
   "metadata": {},
   "source": [
    "### Top Performers"
   ]
  },
  {
   "cell_type": "code",
   "execution_count": null,
   "id": "9bc08110",
   "metadata": {},
   "outputs": [],
   "source": [
    "styled_frames[\"TopPerformingCommons\"]"
   ]
  },
  {
   "cell_type": "code",
   "execution_count": null,
   "id": "374eb79e",
   "metadata": {},
   "outputs": [],
   "source": [
    "styled_frames[\"TopPerformingUncommons\"]"
   ]
  },
  {
   "cell_type": "markdown",
   "id": "0f3096a0",
   "metadata": {},
   "source": [
    "### Key Wheelable Cards"
   ]
  },
  {
   "cell_type": "code",
   "execution_count": null,
   "id": "3f4d849c",
   "metadata": {},
   "outputs": [],
   "source": [
    "wheelable_cards = analyzer.get_wheelable_summary(save=SAVE)\n",
    "wheelable_cards['']"
   ]
  },
  {
   "cell_type": "code",
   "execution_count": null,
   "id": "d3f60f0b",
   "metadata": {},
   "outputs": [],
   "source": [
    "raise Exception('Stopping Auto-Run!')"
   ]
  },
  {
   "cell_type": "markdown",
   "id": "3389faf9",
   "metadata": {},
   "source": [
    "# Color Performance Analysis"
   ]
  },
  {
   "cell_type": "markdown",
   "id": "d5f65b75",
   "metadata": {},
   "source": [
    "## ???"
   ]
  },
  {
   "cell_type": "markdown",
   "id": "0c6f3b6a",
   "metadata": {},
   "source": [
    "Need to rework this section to provide a clear overview of what makes each colour (or colour-pair) tick."
   ]
  },
  {
   "cell_type": "code",
   "execution_count": null,
   "id": "ac58e8e2",
   "metadata": {},
   "outputs": [],
   "source": [
    "analyzer = PickOrderAnalyzer(examiner.DATA, SRT_TRG)\n",
    "wheelable_cards = analyzer.get_wheelable_summary(save=SAVE)\n",
    "wheelable_iterator = iter(wheelable_cards.values())"
   ]
  },
  {
   "cell_type": "code",
   "execution_count": null,
   "id": "60988776",
   "metadata": {},
   "outputs": [],
   "source": [
    "next(wheelable_iterator)"
   ]
  },
  {
   "cell_type": "code",
   "execution_count": null,
   "id": "035a30de",
   "metadata": {},
   "outputs": [],
   "source": [
    "examiner.get_top_performers('', deck_color='GW')"
   ]
  },
  {
   "cell_type": "code",
   "execution_count": null,
   "id": "5397da5b",
   "metadata": {},
   "outputs": [],
   "source": [
    "plot_config = DefaultPlotConfigs.RED\n",
    "examiner.plot_archetype_winrate_history(plot_config, roll=ROLL, derivs=DERIVATIONS)\n",
    "examiner.plot_archetype_playrate_history(plot_config, roll=ROLL, derivs=DERIVATIONS)"
   ]
  },
  {
   "cell_type": "code",
   "execution_count": null,
   "id": "12a11512",
   "metadata": {},
   "outputs": [],
   "source": [
    "raise Exception('Stopping Auto-Run!')"
   ]
  },
  {
   "cell_type": "markdown",
   "id": "2fe221df",
   "metadata": {},
   "source": [
    "# Examine Data"
   ]
  },
  {
   "cell_type": "markdown",
   "id": "d9efd249",
   "metadata": {},
   "source": [
    "NOTE: Unsure if these should remain here, or be moved to some more specific notebook."
   ]
  },
  {
   "cell_type": "code",
   "execution_count": null,
   "id": "486637f9",
   "metadata": {},
   "outputs": [],
   "source": [
    "prettify_frame(examiner.stat_archetype_performance('GIH WR'))"
   ]
  },
  {
   "cell_type": "code",
   "execution_count": null,
   "id": "57e4bd37",
   "metadata": {
    "scrolled": false
   },
   "outputs": [],
   "source": [
    "prettify_frame(examiner.card_relative_winrates('WR', 'GIH WR'))"
   ]
  },
  {
   "cell_type": "code",
   "execution_count": null,
   "id": "3e5ae060",
   "metadata": {
    "scrolled": true
   },
   "outputs": [],
   "source": [
    "prettify_frame(examiner.card_archetype_performance(\"Novice Inspector\"))"
   ]
  },
  {
   "cell_type": "code",
   "execution_count": null,
   "id": "b6b96775",
   "metadata": {},
   "outputs": [],
   "source": [
    "raise Exception('Stopping Auto-Run!')"
   ]
  },
  {
   "cell_type": "code",
   "execution_count": null,
   "id": "08d876b7",
   "metadata": {},
   "outputs": [],
   "source": []
  }
 ],
 "metadata": {
  "kernelspec": {
   "display_name": "Python 3 (ipykernel)",
   "language": "python",
   "name": "python3"
  },
  "language_info": {
   "codemirror_mode": {
    "name": "ipython",
    "version": 3
   },
   "file_extension": ".py",
   "mimetype": "text/x-python",
   "name": "python",
   "nbconvert_exporter": "python",
   "pygments_lexer": "ipython3",
   "version": "3.11.3"
  }
 },
 "nbformat": 4,
 "nbformat_minor": 5
}
