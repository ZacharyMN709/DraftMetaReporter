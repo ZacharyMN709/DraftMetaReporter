{
 "cells": [
  {
   "cell_type": "markdown",
   "id": "7ef6dfba",
   "metadata": {},
   "source": [
    "# Initialization"
   ]
  },
  {
   "cell_type": "code",
   "execution_count": null,
   "id": "e52423d9",
   "metadata": {
    "scrolled": false
   },
   "outputs": [],
   "source": [
    "import sys\n",
    "sys.path.append('..')\n",
    "from core.utilities.notebook_setups.frame_tools import *\n",
    "SET = 'MKM'\n",
    "data_manager, set_data = set_up(log_lvl=LogLvl.SPARSE, target_set=SET)"
   ]
  },
  {
   "cell_type": "markdown",
   "id": "69cadfaa",
   "metadata": {},
   "source": [
    "# Objects"
   ]
  },
  {
   "cell_type": "code",
   "execution_count": null,
   "id": "70a585bc",
   "metadata": {},
   "outputs": [],
   "source": [
    "from core.data_graphing import *\n",
    "\n",
    "ROLL = 3\n",
    "DERIVATIONS = 0\n",
    "SRT_TRG = 'ALSA Change'\n",
    "SAVE = False\n",
    "\n",
    "examiner = DataFrameFuncs(set_data.BO1)\n",
    "frame = examiner.card_frame(deck_color='', summary=True)\n",
    "\n",
    "pd.set_option('display.max_rows', len(frame))\n",
    "pd.set_option('display.max_columns', len(frame.columns))"
   ]
  },
  {
   "cell_type": "markdown",
   "id": "c1baebf2",
   "metadata": {},
   "source": [
    "# Data Overview"
   ]
  },
  {
   "cell_type": "markdown",
   "id": "6747d627",
   "metadata": {},
   "source": [
    "## Top Performing Cards"
   ]
  },
  {
   "cell_type": "markdown",
   "id": "de0fcf7f",
   "metadata": {},
   "source": [
    "### All Cards"
   ]
  },
  {
   "cell_type": "code",
   "execution_count": null,
   "id": "905de143",
   "metadata": {
    "scrolled": false
   },
   "outputs": [],
   "source": [
    "examiner.get_top_performers(None, 25, 10, '')"
   ]
  },
  {
   "cell_type": "markdown",
   "id": "45406fbc",
   "metadata": {},
   "source": [
    "### White"
   ]
  },
  {
   "cell_type": "code",
   "execution_count": null,
   "id": "fcc5b7ab",
   "metadata": {
    "scrolled": false
   },
   "outputs": [],
   "source": [
    "examiner.get_top_performers('W')"
   ]
  },
  {
   "cell_type": "markdown",
   "id": "c0f5ccab",
   "metadata": {},
   "source": [
    "### Blue"
   ]
  },
  {
   "cell_type": "code",
   "execution_count": null,
   "id": "8b27e39a",
   "metadata": {},
   "outputs": [],
   "source": [
    "examiner.get_top_performers('U')"
   ]
  },
  {
   "cell_type": "markdown",
   "id": "0632e9d4",
   "metadata": {},
   "source": [
    "### Black"
   ]
  },
  {
   "cell_type": "code",
   "execution_count": null,
   "id": "58371b52",
   "metadata": {},
   "outputs": [],
   "source": [
    "examiner.get_top_performers('B')"
   ]
  },
  {
   "cell_type": "markdown",
   "id": "6f511eff",
   "metadata": {},
   "source": [
    "### Red"
   ]
  },
  {
   "cell_type": "code",
   "execution_count": null,
   "id": "69266b6c",
   "metadata": {},
   "outputs": [],
   "source": [
    "examiner.get_top_performers('R')"
   ]
  },
  {
   "cell_type": "markdown",
   "id": "b634bae9",
   "metadata": {},
   "source": [
    "### Green"
   ]
  },
  {
   "cell_type": "code",
   "execution_count": null,
   "id": "a6081715",
   "metadata": {
    "scrolled": false
   },
   "outputs": [],
   "source": [
    "examiner.get_top_performers('G')"
   ]
  },
  {
   "cell_type": "markdown",
   "id": "00e98a6b",
   "metadata": {},
   "source": [
    "### Two-Colour"
   ]
  },
  {
   "cell_type": "code",
   "execution_count": null,
   "id": "4dce6775",
   "metadata": {
    "scrolled": false
   },
   "outputs": [],
   "source": [
    "examiner.get_top_performers(['WU', 'WB', 'WR', 'WG', 'UB', 'UR', 'UG', 'BR', 'BG', 'RG'])"
   ]
  },
  {
   "cell_type": "markdown",
   "id": "1aac4f7a",
   "metadata": {},
   "source": [
    "## Archetype Playrate & Winrate History"
   ]
  },
  {
   "cell_type": "code",
   "execution_count": null,
   "id": "9acf6475",
   "metadata": {},
   "outputs": [],
   "source": [
    "examiner.plot_archetype_winrate_history(DefaultPlotConfigs.TWO_COLOR, roll=ROLL)\n",
    "examiner.plot_archetype_playrate_history(DefaultPlotConfigs.TWO_COLOR, roll=ROLL)"
   ]
  },
  {
   "cell_type": "code",
   "execution_count": null,
   "id": "2faa896b",
   "metadata": {},
   "outputs": [],
   "source": [
    "examiner.plot_archetype_winrate_history(DefaultPlotConfigs.ALLIED, roll=ROLL)\n",
    "examiner.plot_archetype_playrate_history(DefaultPlotConfigs.ALLIED, roll=ROLL)"
   ]
  },
  {
   "cell_type": "code",
   "execution_count": null,
   "id": "0f985749",
   "metadata": {},
   "outputs": [],
   "source": [
    "examiner.plot_archetype_winrate_history(DefaultPlotConfigs.ENEMY, roll=ROLL)\n",
    "examiner.plot_archetype_playrate_history(DefaultPlotConfigs.ENEMY, roll=ROLL)"
   ]
  },
  {
   "cell_type": "markdown",
   "id": "ada2de23",
   "metadata": {},
   "source": [
    "## Card Pick Order Changes"
   ]
  },
  {
   "cell_type": "code",
   "execution_count": null,
   "id": "aab549a7",
   "metadata": {
    "scrolled": false
   },
   "outputs": [],
   "source": [
    "analyzer = PickOrderAnalyzer(examiner.DATA, SRT_TRG)\n",
    "styled_frames = analyzer.gen_card_evaluation_summary()"
   ]
  },
  {
   "cell_type": "code",
   "execution_count": null,
   "id": "8aa7e3d7",
   "metadata": {},
   "outputs": [],
   "source": [
    "styled_frames[\"ContestedCommons\"]"
   ]
  },
  {
   "cell_type": "code",
   "execution_count": null,
   "id": "3c32b977",
   "metadata": {},
   "outputs": [],
   "source": [
    "styled_frames[\"UncontestedCommons\"]"
   ]
  },
  {
   "cell_type": "code",
   "execution_count": null,
   "id": "9bc08110",
   "metadata": {},
   "outputs": [],
   "source": [
    "styled_frames[\"TopPerformingCommons\"]"
   ]
  },
  {
   "cell_type": "code",
   "execution_count": null,
   "id": "08ccd306",
   "metadata": {},
   "outputs": [],
   "source": [
    "styled_frames[\"ContestedUncommons\"]"
   ]
  },
  {
   "cell_type": "code",
   "execution_count": null,
   "id": "9db0e4d1",
   "metadata": {},
   "outputs": [],
   "source": [
    "styled_frames[\"UncontestedUncommons\"]"
   ]
  },
  {
   "cell_type": "code",
   "execution_count": null,
   "id": "374eb79e",
   "metadata": {},
   "outputs": [],
   "source": [
    "styled_frames[\"TopPerformingUncommons\"]"
   ]
  },
  {
   "cell_type": "code",
   "execution_count": null,
   "id": "05c66947",
   "metadata": {},
   "outputs": [],
   "source": [
    "wheelable_cards = analyzer.get_wheelable_summary(save=SAVE)\n",
    "wheelable_cards['']"
   ]
  },
  {
   "cell_type": "code",
   "execution_count": null,
   "id": "d3f60f0b",
   "metadata": {},
   "outputs": [],
   "source": [
    "raise Exception('Stopping Auto-Run!')"
   ]
  },
  {
   "cell_type": "markdown",
   "id": "549df9a8",
   "metadata": {},
   "source": [
    "# Color Performance Analysis"
   ]
  },
  {
   "cell_type": "markdown",
   "id": "a00be1d7",
   "metadata": {},
   "source": [
    "## ???"
   ]
  },
  {
   "cell_type": "code",
   "execution_count": null,
   "id": "e67576ea",
   "metadata": {},
   "outputs": [],
   "source": [
    "analyzer = PickOrderAnalyzer(examiner.DATA, SRT_TRG)\n",
    "wheelable_cards = analyzer.get_wheelable_summary(save=SAVE)\n",
    "wheelable_iterator = iter(wheelable_cards.values())"
   ]
  },
  {
   "cell_type": "code",
   "execution_count": null,
   "id": "60988776",
   "metadata": {},
   "outputs": [],
   "source": [
    "next(wheelable_iterator)"
   ]
  },
  {
   "cell_type": "code",
   "execution_count": null,
   "id": "035a30de",
   "metadata": {},
   "outputs": [],
   "source": [
    "examiner.get_top_performers('', deck_color='GW')"
   ]
  },
  {
   "cell_type": "code",
   "execution_count": null,
   "id": "5397da5b",
   "metadata": {},
   "outputs": [],
   "source": [
    "plot_config = DefaultPlotConfigs.RED\n",
    "examiner.plot_archetype_winrate_history(plot_config, roll=ROLL, derivs=DERIVATIONS)\n",
    "examiner.plot_archetype_playrate_history(plot_config, roll=ROLL, derivs=DERIVATIONS)"
   ]
  },
  {
   "cell_type": "code",
   "execution_count": null,
   "id": "569a6a02",
   "metadata": {},
   "outputs": [],
   "source": [
    "raise Exception('Stopping Auto-Run!')"
   ]
  },
  {
   "cell_type": "markdown",
   "id": "2fe221df",
   "metadata": {},
   "source": [
    "# Examine Data"
   ]
  },
  {
   "cell_type": "code",
   "execution_count": null,
   "id": "5337b66d",
   "metadata": {},
   "outputs": [],
   "source": [
    "examiner = DataFrameFuncs(set_data.BO1)"
   ]
  },
  {
   "cell_type": "code",
   "execution_count": null,
   "id": "486637f9",
   "metadata": {},
   "outputs": [],
   "source": [
    "prettify_frame(examiner.stat_archetype_performance('GIH WR'))"
   ]
  },
  {
   "cell_type": "code",
   "execution_count": null,
   "id": "57e4bd37",
   "metadata": {
    "scrolled": false
   },
   "outputs": [],
   "source": [
    "prettify_frame(examiner.card_relative_winrates('WR', 'GIH WR'))"
   ]
  },
  {
   "cell_type": "code",
   "execution_count": null,
   "id": "3e5ae060",
   "metadata": {
    "scrolled": true
   },
   "outputs": [],
   "source": [
    "prettify_frame(examiner.card_archetype_performance(\"Novice Inspector\"))"
   ]
  },
  {
   "cell_type": "code",
   "execution_count": null,
   "id": "c46ba77e",
   "metadata": {},
   "outputs": [],
   "source": [
    "raise Exception('Stopping Auto-Run!')"
   ]
  },
  {
   "cell_type": "code",
   "execution_count": null,
   "id": "89fbbe30",
   "metadata": {},
   "outputs": [],
   "source": []
  }
 ],
 "metadata": {
  "kernelspec": {
   "display_name": "Python 3 (ipykernel)",
   "language": "python",
   "name": "python3"
  },
  "language_info": {
   "codemirror_mode": {
    "name": "ipython",
    "version": 3
   },
   "file_extension": ".py",
   "mimetype": "text/x-python",
   "name": "python",
   "nbconvert_exporter": "python",
   "pygments_lexer": "ipython3",
   "version": "3.11.3"
  }
 },
 "nbformat": 4,
 "nbformat_minor": 5
}
