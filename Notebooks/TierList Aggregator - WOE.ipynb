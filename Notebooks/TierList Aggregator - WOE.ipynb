{
 "cells": [
  {
   "cell_type": "markdown",
   "id": "7ef6dfba",
   "metadata": {},
   "source": [
    "# Initialization"
   ]
  },
  {
   "cell_type": "code",
   "execution_count": null,
   "id": "57a84e9a",
   "metadata": {
    "scrolled": false
   },
   "outputs": [],
   "source": [
    "import sys\n",
    "sys.path.append('..')\n",
    "from core.utilities.notebook_setups.frame_tools import *\n",
    "SET = 'WOE'\n",
    "data_manager, set_data = set_up(log_lvl=LogLvl.SPARSE, target_set=SET)"
   ]
  },
  {
   "cell_type": "code",
   "execution_count": null,
   "id": "aced9dbe",
   "metadata": {},
   "outputs": [],
   "source": [
    "date_str = \"230904\"\n",
    "\n",
    "contributors = [\n",
    "    'Alex',\n",
    "    'Marc',\n",
    "    \"Klarm\",\n",
    "    \"GlossU\",\n",
    "    \"UnblinkingBleb\",\n",
    "    \"CardboardNomad\",\n",
    "    \"CryoGyro\"\n",
    "]\n",
    "\n",
    "agg = TierAggregator(SET)\n",
    "tiers = [TierList.load(f\"{SET}-{user}-{date_str}.tier\") for user in contributors]\n",
    "for tier in tiers:\n",
    "    agg.add_tier(tier)"
   ]
  },
  {
   "cell_type": "markdown",
   "id": "d01c86ad",
   "metadata": {},
   "source": [
    "## Tier List Analysis"
   ]
  },
  {
   "cell_type": "markdown",
   "id": "e8909e24",
   "metadata": {},
   "source": [
    "### 'Controversial' Cards"
   ]
  },
  {
   "cell_type": "markdown",
   "id": "1b72feeb",
   "metadata": {},
   "source": [
    "Here, we separate the cards by rarity, and order them by the sum of the difference between each rating and the mean. This is saved in the `dist` column, and the higher the `dist` the less people agree on the rating of a card. If the `dist` is zero, everyone has given the card the same grade. The value of `dist` can either mean that some people disagree and most agree, or everyone disagrees to varying degrees.\n",
    "\n",
    "To me, anyting with a `dist` less than or equal to 0.6 is pretty agreed upon, and anything higher than 1.0 is fairly contentious."
   ]
  },
  {
   "cell_type": "code",
   "execution_count": null,
   "id": "8776707f",
   "metadata": {
    "scrolled": true
   },
   "outputs": [],
   "source": [
    "agg.suborder_by_rarity('dist', style=True)"
   ]
  },
  {
   "cell_type": "markdown",
   "id": "80cdd091",
   "metadata": {},
   "source": [
    "### Top Cards"
   ]
  },
  {
   "cell_type": "markdown",
   "id": "5f297df0",
   "metadata": {},
   "source": [
    "This is the short-list of top commons and uncommons, ordered by colour, based on average rating of contributors."
   ]
  },
  {
   "cell_type": "code",
   "execution_count": null,
   "id": "08733b8c",
   "metadata": {
    "scrolled": true
   },
   "outputs": [],
   "source": [
    "agg.top_picks('mean', style=True)"
   ]
  },
  {
   "cell_type": "markdown",
   "id": "e34d5c25",
   "metadata": {},
   "source": [
    "This is the entire list of cards, ordered by rarity, then by average rating amongst contributers."
   ]
  },
  {
   "cell_type": "code",
   "execution_count": null,
   "id": "7bcb64a2",
   "metadata": {
    "scrolled": false
   },
   "outputs": [],
   "source": [
    "agg.suborder_by_rarity('mean', style=True)"
   ]
  },
  {
   "cell_type": "markdown",
   "id": "fc13a19f",
   "metadata": {},
   "source": [
    "### Color Ratings"
   ]
  },
  {
   "cell_type": "markdown",
   "id": "d7ee2e2d",
   "metadata": {},
   "source": [
    "This is a little rougher, and more difficult to parse, but this is the avreage grade for each contirbutor given to cards of 'x' rarity and 'y' colour. it should serve as a rough estimation of how strong each person thinks a given colour is, though doesn't necessarily translate well to colour combinations."
   ]
  },
  {
   "cell_type": "code",
   "execution_count": null,
   "id": "b0ef1bb0",
   "metadata": {},
   "outputs": [],
   "source": [
    "agg.avg_frame"
   ]
  },
  {
   "cell_type": "markdown",
   "id": "72bbb875",
   "metadata": {},
   "source": [
    "Code use to generate this can be found here: https://github.com/ZacharyMN709/DraftMetaReporter"
   ]
  }
 ],
 "metadata": {
  "kernelspec": {
   "display_name": "Python 3 (ipykernel)",
   "language": "python",
   "name": "python3"
  },
  "language_info": {
   "codemirror_mode": {
    "name": "ipython",
    "version": 3
   },
   "file_extension": ".py",
   "mimetype": "text/x-python",
   "name": "python",
   "nbconvert_exporter": "python",
   "pygments_lexer": "ipython3",
   "version": "3.11.3"
  }
 },
 "nbformat": 4,
 "nbformat_minor": 5
}
