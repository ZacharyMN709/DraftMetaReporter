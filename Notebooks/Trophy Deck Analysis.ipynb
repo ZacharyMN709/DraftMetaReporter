{
 "cells": [
  {
   "cell_type": "code",
   "execution_count": null,
   "id": "fb819eba",
   "metadata": {},
   "outputs": [],
   "source": [
    "import sys\n",
    "sys.path.append('..')\n",
    "from core.utilities.notebook_setups.frame_tools import *\n",
    "SET = 'MKM'\n",
    "FORMAT = 'PremierDraft'\n",
    "\n",
    "import core.data_requesting as req\n",
    "import core.game_metadata as meta"
   ]
  },
  {
   "cell_type": "markdown",
   "id": "2cc987c9",
   "metadata": {},
   "source": [
    "## Recent Trophy Decks"
   ]
  },
  {
   "cell_type": "code",
   "execution_count": null,
   "id": "b37efce3",
   "metadata": {},
   "outputs": [],
   "source": [
    "from collections import defaultdict\n",
    "\n",
    "class TrophyDeckAnalyzer:\n",
    "    def __init__(self, SET):\n",
    "        self.SET = SET\n",
    "        fetcher = req.Request17Lands()\n",
    "        deck_stubs = fetcher.get_trophy_deck_metadata(self.SET)\n",
    "        self.trophy_stubs = [meta.TrophyStub(x) for x in deck_stubs]\n",
    "        self.trophy_decks = dict() # TODO: Get the decks, though possibly via some sort of lazy-load.\n",
    "        self.period_start = self.trophy_stubs[-1].time\n",
    "        self.period_end = self.trophy_stubs[0].time\n",
    "    \n",
    "    def filter_stubs(self, deck_color=None, ranks=None):\n",
    "        ranks = ranks or ['Mythic', 'Diamond']\n",
    "        stubs = [x for x in self.trophy_stubs if x.rank in ranks]\n",
    "        \n",
    "        if deck_color is not None:\n",
    "            stubs = [x for x in stubs if x.colors.startswith(deck_color)]\n",
    "        return stubs\n",
    "    \n",
    "    def get_color_spread(self, stubs=None):\n",
    "        # TODO: Implement some sort of ordering.\n",
    "        stubs = stubs or self.trophy_stubs\n",
    "        color_spread = defaultdict(int)\n",
    "        for x in stubs:\n",
    "            color_spread[x.colors] += 1\n",
    "        return dict(color_spread)\n",
    "    \n",
    "    def print_deck_links(self, deck_color=None, ranks=None):\n",
    "        stubs = self.filter_stubs(deck_color, ranks)\n",
    "        for deck in stubs:\n",
    "            print(f\"{deck.rank:10} {deck.colors:5}: {deck.deck_link}\")"
   ]
  },
  {
   "cell_type": "code",
   "execution_count": null,
   "id": "f05a4f50",
   "metadata": {},
   "outputs": [],
   "source": [
    "analyzer = TrophyDeckAnalyzer(SET)\n",
    "print(f\"Fetched stubs from {analyzer.period_start} to {analyzer.period_end}\")"
   ]
  },
  {
   "cell_type": "code",
   "execution_count": null,
   "id": "2b194b26",
   "metadata": {
    "scrolled": true
   },
   "outputs": [],
   "source": [
    "analyzer.get_color_spread()"
   ]
  },
  {
   "cell_type": "code",
   "execution_count": null,
   "id": "6103291c",
   "metadata": {},
   "outputs": [],
   "source": [
    "analyzer.filter_stubs('UG')"
   ]
  },
  {
   "cell_type": "code",
   "execution_count": null,
   "id": "1db0dea7",
   "metadata": {},
   "outputs": [],
   "source": [
    "analyzer.print_deck_links('UG')"
   ]
  },
  {
   "cell_type": "markdown",
   "id": "ea2d2dfc",
   "metadata": {},
   "source": [
    "## User Game Logs"
   ]
  },
  {
   "cell_type": "markdown",
   "id": "fd7f3b61",
   "metadata": {},
   "source": [
    "`NOTE:` This currently returns a login page, which is not the data that's expected. Unsure how to manage credentials."
   ]
  },
  {
   "cell_type": "code",
   "execution_count": null,
   "id": "044d612c",
   "metadata": {},
   "outputs": [],
   "source": [
    "START = '2019-01-01'\n",
    "END = '2022-10-16'"
   ]
  },
  {
   "cell_type": "code",
   "execution_count": null,
   "id": "e62b3df0",
   "metadata": {},
   "outputs": [],
   "source": [
    "fetcher = req.Requester()"
   ]
  },
  {
   "cell_type": "code",
   "execution_count": null,
   "id": "5233d2ba",
   "metadata": {},
   "outputs": [],
   "source": [
    "user_record_url = f'https://www.17lands.com/user/data?start_date={START}&end_date={END}'\n",
    "user_record_url"
   ]
  },
  {
   "cell_type": "code",
   "execution_count": null,
   "id": "09bbc0d7",
   "metadata": {},
   "outputs": [],
   "source": [
    "user_record = fetcher.request(user_record_url)\n",
    "user_record"
   ]
  },
  {
   "cell_type": "code",
   "execution_count": null,
   "id": "c3cbd3b0",
   "metadata": {},
   "outputs": [],
   "source": [
    "user_record.content"
   ]
  }
 ],
 "metadata": {
  "kernelspec": {
   "display_name": "Python 3 (ipykernel)",
   "language": "python",
   "name": "python3"
  },
  "language_info": {
   "codemirror_mode": {
    "name": "ipython",
    "version": 3
   },
   "file_extension": ".py",
   "mimetype": "text/x-python",
   "name": "python",
   "nbconvert_exporter": "python",
   "pygments_lexer": "ipython3",
   "version": "3.11.3"
  }
 },
 "nbformat": 4,
 "nbformat_minor": 5
}
