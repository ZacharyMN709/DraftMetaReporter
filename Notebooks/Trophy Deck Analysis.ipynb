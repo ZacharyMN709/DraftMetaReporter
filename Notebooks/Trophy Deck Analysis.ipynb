{
 "cells": [
  {
   "cell_type": "code",
   "execution_count": null,
   "id": "57fe63a1",
   "metadata": {
    "scrolled": true
   },
   "outputs": [],
   "source": [
    "import sys\n",
    "sys.path.append('..')\n",
    "from utilities.notebook_auto_setup import notebook_set_up, load_set_data\n",
    "notebook_set_up('BRO')\n",
    "data_manager, set_data = load_set_data()"
   ]
  },
  {
   "cell_type": "markdown",
   "id": "835c57d9",
   "metadata": {},
   "source": [
    "# Testing"
   ]
  },
  {
   "cell_type": "code",
   "execution_count": null,
   "id": "dde3b0b6",
   "metadata": {},
   "outputs": [],
   "source": [
    "from Utilities import Fetcher\n",
    "FORMAT = 'PremierDraft'\n",
    "SET = 'DMU'\n",
    "START = '2019-01-01'\n",
    "END = '2022-10-16'\n",
    "fetcher = Fetcher()"
   ]
  },
  {
   "cell_type": "markdown",
   "id": "2cc987c9",
   "metadata": {},
   "source": [
    "## Recent Trophy Decks"
   ]
  },
  {
   "cell_type": "code",
   "execution_count": null,
   "id": "89f2134f",
   "metadata": {},
   "outputs": [],
   "source": [
    "trophy_deck_url = f'https://www.17lands.com/data/trophies?expansion={SET}&format={FORMAT}'\n",
    "trophy_decks = fetcher.fetch(trophy_deck_url)\n",
    "trophy_decks"
   ]
  },
  {
   "cell_type": "markdown",
   "id": "be2d70d4",
   "metadata": {},
   "source": [
    "## Deck Construction"
   ]
  },
  {
   "cell_type": "code",
   "execution_count": null,
   "id": "e0deef49",
   "metadata": {},
   "outputs": [],
   "source": [
    "trophy_deck = trophy_decks[0]\n",
    "aggregate_id = trophy_deck['aggregate_id']\n",
    "idx = trophy_deck['deck_index']\n",
    "deck_url = f'https://www.17lands.com/data/deck?draft_id={aggregate_id}&deck_index={idx}'\n",
    "deck_details = fetcher.fetch(deck_url)\n",
    "deck_details"
   ]
  },
  {
   "cell_type": "markdown",
   "id": "5b5e8026",
   "metadata": {},
   "source": [
    "## Deck Pool"
   ]
  },
  {
   "cell_type": "code",
   "execution_count": null,
   "id": "6b90ca11",
   "metadata": {},
   "outputs": [],
   "source": [
    "trophy_deck = trophy_decks[0]\n",
    "aggregate_id = trophy_deck['aggregate_id']\n",
    "idx = trophy_deck['deck_index']\n",
    "deck_url = f'https://www.17lands.com/data/pool?draft_id={aggregate_id}&deck_index={idx}'\n",
    "deck_details = fetcher.fetch(deck_url)\n",
    "deck_details"
   ]
  },
  {
   "cell_type": "markdown",
   "id": "e60611ba",
   "metadata": {},
   "source": [
    "## Draft Log"
   ]
  },
  {
   "cell_type": "markdown",
   "id": "0282c48b",
   "metadata": {},
   "source": [
    "`NOTE:` This requires an update to the Fetcher class, as the response doesn't come back immediately parseable as a json."
   ]
  },
  {
   "cell_type": "code",
   "execution_count": null,
   "id": "c039e38a",
   "metadata": {},
   "outputs": [],
   "source": [
    "trophy_deck = trophy_decks[0]\n",
    "aggregate_id = trophy_deck['aggregate_id']\n",
    "draft_url = f'https://www.17lands.com/data/draft/stream?draft_id={aggregate_id}'"
   ]
  },
  {
   "cell_type": "code",
   "execution_count": null,
   "id": "465647f9",
   "metadata": {},
   "outputs": [],
   "source": [
    "draft_details = fetcher.fetch(draft_url)\n",
    "draft_details"
   ]
  },
  {
   "cell_type": "code",
   "execution_count": null,
   "id": "9c56286d",
   "metadata": {},
   "outputs": [],
   "source": [
    "import requests\n",
    "response = requests.get(draft_url)\n",
    "response"
   ]
  },
  {
   "cell_type": "code",
   "execution_count": null,
   "id": "8357f696",
   "metadata": {},
   "outputs": [],
   "source": [
    "import json\n",
    "data = response.content.decode()\n",
    "data_dict = json.loads(f\"{data[6:]}\")\n",
    "data_dict"
   ]
  },
  {
   "cell_type": "code",
   "execution_count": null,
   "id": "e7614da9",
   "metadata": {},
   "outputs": [],
   "source": [
    "payload = data_dict['payload']\n",
    "payload.keys()"
   ]
  },
  {
   "cell_type": "code",
   "execution_count": null,
   "id": "a7e6cca3",
   "metadata": {},
   "outputs": [],
   "source": [
    "payload['picks'][20]"
   ]
  },
  {
   "cell_type": "code",
   "execution_count": null,
   "id": "b3903a69",
   "metadata": {},
   "outputs": [],
   "source": [
    "d = {\n",
    "    'type': 'complete',\n",
    "    'payload': {\n",
    "        'expansion': 'SET',\n",
    "        'picks': [\n",
    "            {\n",
    "                'pack_number': 0,\n",
    "                'pick_number': 0,\n",
    "                'available': [\n",
    "                    {'image_url': 'https://cards.scryfall.io/border_crop/front/8/b/8b650ab6-9c22-424f-99e5-8ef5235a18a3.jpg?1661336520',\n",
    "                     'url_back': '',\n",
    "                     'name': 'Silver Scrutiny'} ...\n",
    "                  ],\n",
    "                 'known_missing': [],\n",
    "                 'pick': {'image_url': 'https://cards.scryfall.io/border_crop/front/8/b/8b650ab6-9c22-424f-99e5-8ef5235a18a3.jpg?1661336520',\n",
    "                  'url_back': '',\n",
    "                  'name': 'Silver Scrutiny'},\n",
    "                 'colors': None,\n",
    "                 'pool': [],\n",
    "                 'possible_maindeck': [],\n",
    "                 'probable_sideboard': []\n",
    "            }\n",
    "        ],\n",
    "        'card_performance_data': {\n",
    "            'Card Name': {\n",
    "                'total_times_seen': 0,\n",
    "                'avg_seen_position': 0,\n",
    "                'total_times_picked': 0,\n",
    "                'avg_pick_position': 0}\n",
    "        }\n",
    "    }\n",
    "}\n",
    "\n",
    "d = {\n",
    "    'expansion': 'SET',\n",
    "    'picks': [\n",
    "        {\n",
    "            'pack_number': 0,\n",
    "            'pick_number': 0,\n",
    "            'available': ['Silver Scrutiny', ...],\n",
    "            'known_missing': [],\n",
    "            'pick': 'Silver Scrutiny'\n",
    "        }\n",
    "    ]\n",
    "}"
   ]
  },
  {
   "cell_type": "markdown",
   "id": "ea2d2dfc",
   "metadata": {},
   "source": [
    "## User Game Logs"
   ]
  },
  {
   "cell_type": "markdown",
   "id": "fd7f3b61",
   "metadata": {},
   "source": [
    "`NOTE:` This currently returns a login page, which is not the data that's expected. Unsure how to manage credentials."
   ]
  },
  {
   "cell_type": "code",
   "execution_count": null,
   "id": "09bbc0d7",
   "metadata": {},
   "outputs": [],
   "source": [
    "user_record_url = f'https://www.17lands.com/user/data?start_date={START}&end_date={END}'\n",
    "user_record = fetcher.fetch(user_record_url)\n",
    "user_record"
   ]
  },
  {
   "cell_type": "code",
   "execution_count": null,
   "id": "468e5770",
   "metadata": {},
   "outputs": [],
   "source": [
    "import requests\n",
    "user_record_url = f'https://www.17lands.com/user/data?start_date={START}&end_date={END}'\n",
    "response = requests.get(user_record_url)\n",
    "response"
   ]
  },
  {
   "cell_type": "code",
   "execution_count": null,
   "id": "29be6047",
   "metadata": {},
   "outputs": [],
   "source": [
    "data = response.content.decode()\n",
    "data"
   ]
  }
 ],
 "metadata": {
  "kernelspec": {
   "display_name": "Python 3 (ipykernel)",
   "language": "python",
   "name": "python3"
  },
  "language_info": {
   "codemirror_mode": {
    "name": "ipython",
    "version": 3
   },
   "file_extension": ".py",
   "mimetype": "text/x-python",
   "name": "python",
   "nbconvert_exporter": "python",
   "pygments_lexer": "ipython3",
   "version": "3.9.7"
  }
 },
 "nbformat": 4,
 "nbformat_minor": 5
}
