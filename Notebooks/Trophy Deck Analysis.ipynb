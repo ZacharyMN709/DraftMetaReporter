{
 "cells": [
  {
   "cell_type": "code",
   "execution_count": null,
   "id": "fb819eba",
   "metadata": {},
   "outputs": [],
   "source": [
    "import sys\n",
    "sys.path.append('..')\n",
    "from core.utilities.notebook_setups.frame_tools import *\n",
    "SET = 'WOE'\n",
    "FORMAT = 'PremierDraft'\n",
    "\n",
    "import core.data_requesting as req\n",
    "import core.game_metadata as meta"
   ]
  },
  {
   "cell_type": "markdown",
   "id": "2cc987c9",
   "metadata": {},
   "source": [
    "## Recent Trophy Decks"
   ]
  },
  {
   "cell_type": "code",
   "execution_count": null,
   "id": "a2f3106a",
   "metadata": {},
   "outputs": [],
   "source": [
    "def get_stubs():\n",
    "    fetcher = req.Request17Lands()\n",
    "    trophy_decks = fetcher.get_trophy_deck_metadata(SET)\n",
    "    deck_stubs = [meta.TrophyStub(x) for x in trophy_decks]\n",
    "    return deck_stubs"
   ]
  },
  {
   "cell_type": "code",
   "execution_count": null,
   "id": "5c03e491",
   "metadata": {},
   "outputs": [],
   "source": [
    "def get_color_count(stubs):\n",
    "    color_count = dict()\n",
    "    for x in stubs:\n",
    "        if x.colors not in color_count:\n",
    "            color_count[x.colors] = 0\n",
    "\n",
    "        color_count[x.colors] += 1\n",
    "    return color_count"
   ]
  },
  {
   "cell_type": "code",
   "execution_count": null,
   "id": "7d922481",
   "metadata": {},
   "outputs": [],
   "source": [
    "def get_deck_links(stubs, base_colors):\n",
    "    target_deck_stubs = [x for x in stubs if x.colors.startswith(base_colors)]\n",
    "    for deck in target_deck_stubs:\n",
    "        print(f\"{deck.colors:5}:\", end=\" \")\n",
    "        print(deck.deck_link)"
   ]
  },
  {
   "cell_type": "code",
   "execution_count": null,
   "id": "f07fef99",
   "metadata": {},
   "outputs": [],
   "source": [
    "deck_stubs = get_stubs()\n",
    "print(f\"Fetched stubs from {deck_stubs[-1].time} to {deck_stubs[0].time}\")\n",
    "high_rank_stubs = [x for x in deck_stubs if x.rank in ['Mythic', 'Diamond']]\n",
    "color_count = get_color_count(high_rank_stubs)\n",
    "color_count"
   ]
  },
  {
   "cell_type": "code",
   "execution_count": null,
   "id": "9213dfd9",
   "metadata": {},
   "outputs": [],
   "source": [
    "TO_GET = 'WU'\n",
    "get_deck_links(high_rank_stubs, TO_GET)"
   ]
  },
  {
   "cell_type": "markdown",
   "id": "ea2d2dfc",
   "metadata": {},
   "source": [
    "## User Game Logs"
   ]
  },
  {
   "cell_type": "markdown",
   "id": "fd7f3b61",
   "metadata": {},
   "source": [
    "`NOTE:` This currently returns a login page, which is not the data that's expected. Unsure how to manage credentials."
   ]
  },
  {
   "cell_type": "code",
   "execution_count": null,
   "id": "044d612c",
   "metadata": {},
   "outputs": [],
   "source": [
    "START = '2019-01-01'\n",
    "END = '2022-10-16'"
   ]
  },
  {
   "cell_type": "code",
   "execution_count": null,
   "id": "e62b3df0",
   "metadata": {},
   "outputs": [],
   "source": [
    "fetcher = req.Requester()"
   ]
  },
  {
   "cell_type": "code",
   "execution_count": null,
   "id": "5233d2ba",
   "metadata": {},
   "outputs": [],
   "source": [
    "user_record_url = f'https://www.17lands.com/user/data?start_date={START}&end_date={END}'\n",
    "user_record_url"
   ]
  },
  {
   "cell_type": "code",
   "execution_count": null,
   "id": "09bbc0d7",
   "metadata": {},
   "outputs": [],
   "source": [
    "user_record = fetcher.request(user_record_url)\n",
    "user_record"
   ]
  },
  {
   "cell_type": "code",
   "execution_count": null,
   "id": "c3cbd3b0",
   "metadata": {},
   "outputs": [],
   "source": [
    "user_record.content"
   ]
  }
 ],
 "metadata": {
  "kernelspec": {
   "display_name": "Python 3 (ipykernel)",
   "language": "python",
   "name": "python3"
  },
  "language_info": {
   "codemirror_mode": {
    "name": "ipython",
    "version": 3
   },
   "file_extension": ".py",
   "mimetype": "text/x-python",
   "name": "python",
   "nbconvert_exporter": "python",
   "pygments_lexer": "ipython3",
   "version": "3.11.3"
  }
 },
 "nbformat": 4,
 "nbformat_minor": 5
}
